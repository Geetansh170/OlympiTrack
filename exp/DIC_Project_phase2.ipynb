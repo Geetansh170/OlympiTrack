{
 "cells": [
  {
   "cell_type": "markdown",
   "metadata": {
    "id": "fwnrhSRM211S"
   },
   "source": [
    "# Download and Import Dependencies\n",
    "Joint task"
   ]
  },
  {
   "cell_type": "code",
   "execution_count": null,
   "metadata": {
    "colab": {
     "base_uri": "https://localhost:8080/"
    },
    "id": "GiiErtQ3vX-V",
    "outputId": "55c6e779-57a7-45de-a53e-c8b22d081de8"
   },
   "outputs": [],
   "source": [
    "!pip install pandasql"
   ]
  },
  {
   "cell_type": "code",
   "execution_count": 1,
   "metadata": {
    "id": "NZvxb02nsbkD"
   },
   "outputs": [],
   "source": [
    "import pandas as pd\n",
    "import numpy as np\n",
    "import matplotlib.pyplot as plt\n",
    "import seaborn as sns\n",
    "from pandasql import sqldf"
   ]
  },
  {
   "cell_type": "markdown",
   "metadata": {
    "id": "IlEXETzLVAc_"
   },
   "source": [
    "# Data Retrieval\n",
    "Joint task\n"
   ]
  },
  {
   "cell_type": "code",
   "execution_count": null,
   "metadata": {
    "colab": {
     "base_uri": "https://localhost:8080/"
    },
    "id": "cz-sHos_VAdN",
    "outputId": "c76a7af9-8950-4040-b55f-b24e349b58eb"
   },
   "outputs": [],
   "source": [
    "# from google.colab import drive\n",
    "# drive.mount('/drive')\n",
    "# %cd ..\n",
    "# %cd /drive/MyDrive/DIC_PROJECT\n",
    "# !ls\n",
    "\n",
    "# comment this if you working locally. Assuming all the csv files are here locally where this ipynb file is located.\n",
    "# csv files won't be committed and won't be seen in the changes as .csv files are in ignored."
   ]
  },
  {
   "cell_type": "code",
   "execution_count": 2,
   "metadata": {
    "id": "to9m0u03VAdN"
   },
   "outputs": [],
   "source": [
    "Athlete_Events_Details = pd.read_csv('Olympic_Athlete_Event_Details.csv')\n",
    "Event_Results = pd.read_csv('Olympic_Event_Results.csv')\n",
    "Athlete_Biography = pd.read_csv('Olympic_Athlete_Biography.csv')\n",
    "Medal_Tally = pd.read_csv('Olympic_Medal_Tally_History.csv')\n",
    "Games_Summary = pd.read_csv('Olympic_Games_Summary.csv')\n",
    "Population_Total = pd.read_csv('population_total_long.csv')\n",
    "Country_Profile = pd.read_csv('Olympic_Country_Profiles.csv')"
   ]
  },
  {
   "cell_type": "code",
   "execution_count": 4,
   "metadata": {
    "colab": {
     "base_uri": "https://localhost:8080/"
    },
    "id": "hFdXvckGVAdO",
    "outputId": "bdd37009-83fc-4a67-c891-d57926ddadda"
   },
   "outputs": [
    {
     "name": "stdout",
     "output_type": "stream",
     "text": [
      "['edition', 'edition_id', 'country_noc', 'sport', 'event', 'result_id', 'athlete', 'athlete_id', 'pos', 'medal', 'isTeamSport']\n",
      "['result_id', 'event_title', 'edition', 'edition_id', 'sport', 'sport_url', 'result_date', 'result_location', 'result_participants', 'result_format', 'result_detail', 'result_description']\n",
      "['athlete_id', 'name', 'sex', 'born', 'height', 'weight', 'country', 'country_noc', 'description', 'special_notes']\n",
      "['edition', 'edition_id', 'year', 'country', 'country_noc', 'gold', 'silver', 'bronze', 'total']\n",
      "['edition', 'edition_id', 'edition_url', 'year', 'city', 'country_flag_url', 'country_noc', 'start_date', 'end_date', 'competition_date', 'isHeld']\n",
      "['Country Name', 'Year', 'Count']\n"
     ]
    }
   ],
   "source": [
    "print('Athlete_Events_Details', Athlete_Events_Details.columns.tolist())\n",
    "print('Event_Results', Event_Results.columns.tolist())\n",
    "print('Athlete_Biography', Athlete_Biography.columns.tolist())\n",
    "print('Medal_Tally', Medal_Tally.columns.tolist())\n",
    "print('Games_Summary', Games_Summary.columns.tolist())\n",
    "print('Population_Total', Population_Total.columns.tolist())"
   ]
  },
  {
   "cell_type": "markdown",
   "metadata": {
    "id": "risHmFC58SZE"
   },
   "source": [
    "# Event Results Cleaning\n",
    "Cleaned by Geetansh\n"
   ]
  },
  {
   "cell_type": "code",
   "execution_count": null,
   "metadata": {
    "colab": {
     "base_uri": "https://localhost:8080/"
    },
    "id": "KMd8NmlD8Y2r",
    "outputId": "0ab00348-5959-4ce5-8f13-332c4440de4f"
   },
   "outputs": [],
   "source": [
    "print(Event_Results.shape)\n",
    "print(Event_Results.describe())\n",
    "# print(Event_Results.head(10))"
   ]
  },
  {
   "cell_type": "markdown",
   "metadata": {
    "id": "gCtNuNLC_iEk"
   },
   "source": [
    "1. Removing duplicates if any."
   ]
  },
  {
   "cell_type": "code",
   "execution_count": null,
   "metadata": {
    "id": "9VFSV9-g8-kg"
   },
   "outputs": [],
   "source": [
    "Event_Results.drop_duplicates(inplace=True)"
   ]
  },
  {
   "cell_type": "markdown",
   "metadata": {
    "id": "vZYO96GB_lCo"
   },
   "source": [
    "2. Removing unwanted columns.\n"
   ]
  },
  {
   "cell_type": "code",
   "execution_count": null,
   "metadata": {
    "id": "Jjl6SIsb_-go"
   },
   "outputs": [],
   "source": [
    "Event_Results.drop(['sport_url','result_date','result_location','result_format','result_detail','result_description'], axis=1, inplace=True)"
   ]
  },
  {
   "cell_type": "code",
   "execution_count": null,
   "metadata": {
    "colab": {
     "base_uri": "https://localhost:8080/"
    },
    "id": "PGQi9imEAgZ5",
    "outputId": "231d70dc-b301-4e96-bcef-1af18e2e2317"
   },
   "outputs": [],
   "source": [
    "print(Event_Results.shape)"
   ]
  },
  {
   "cell_type": "markdown",
   "metadata": {
    "id": "qMo-y6xtBFmF"
   },
   "source": [
    "3. Will convert all text fields to lower for consistency\n"
   ]
  },
  {
   "cell_type": "code",
   "execution_count": null,
   "metadata": {
    "id": "IrvbPWjZBK2w"
   },
   "outputs": [],
   "source": [
    "Event_Results['event_title'] = Event_Results['event_title'].str.strip().str.lower()\n",
    "Event_Results['edition'] = Event_Results['edition'].str.strip().str.lower()\n",
    "Event_Results['sport'] = Event_Results['sport'].str.strip().str.lower()\n",
    "Event_Results['result_participants'] = Event_Results['result_participants'].str.strip().str.lower()"
   ]
  },
  {
   "cell_type": "code",
   "execution_count": null,
   "metadata": {
    "colab": {
     "base_uri": "https://localhost:8080/"
    },
    "id": "qjTZj_DLCT3t",
    "outputId": "9a43bd0e-2e54-4126-9bfe-113846781668"
   },
   "outputs": [],
   "source": [
    "print(Event_Results['result_participants'].head(10))"
   ]
  },
  {
   "cell_type": "markdown",
   "metadata": {
    "id": "ma6hVpJ7DrOG"
   },
   "source": [
    "4. Creating new columns with total participants and total participating countries for each event"
   ]
  },
  {
   "cell_type": "code",
   "execution_count": null,
   "metadata": {
    "colab": {
     "base_uri": "https://localhost:8080/"
    },
    "id": "zqK33aezDH90",
    "outputId": "134d490c-d492-4093-d6ba-49421fe2b552"
   },
   "outputs": [],
   "source": [
    "Event_Results[['participants', 'participant_countries']] = Event_Results['result_participants'].str.extract(r'(\\d+)\\sfrom\\s(\\d+)')\n",
    "\n",
    "Event_Results['participants'] = Event_Results['participants'].astype(int)\n",
    "Event_Results['participant_countries'] = Event_Results['participant_countries'].astype(int)\n",
    "\n",
    "Event_Results.drop('result_participants', axis=1, inplace=True)\n",
    "\n",
    "print(Event_Results)"
   ]
  },
  {
   "cell_type": "code",
   "execution_count": null,
   "metadata": {
    "colab": {
     "base_uri": "https://localhost:8080/"
    },
    "id": "A9miI6NyDQLM",
    "outputId": "f5abb4d2-329d-486e-d469-812f00cb8467"
   },
   "outputs": [],
   "source": [
    "print(Event_Results['participants'].head(10))\n",
    "print(Event_Results['participant_countries'].head(10))"
   ]
  },
  {
   "cell_type": "code",
   "execution_count": null,
   "metadata": {
    "colab": {
     "base_uri": "https://localhost:8080/"
    },
    "id": "oiyLUWlODplH",
    "outputId": "37323a50-c093-4152-c6c9-faca250785e8"
   },
   "outputs": [],
   "source": [
    "print(Event_Results['event_title'].head(10))"
   ]
  },
  {
   "cell_type": "markdown",
   "metadata": {
    "id": "JH8ZKVxyKZFG"
   },
   "source": [
    "5. Separating male and female events by adding a column for each men and women"
   ]
  },
  {
   "cell_type": "code",
   "execution_count": null,
   "metadata": {
    "colab": {
     "base_uri": "https://localhost:8080/"
    },
    "id": "HVCeivSAJv-g",
    "outputId": "b2de1a23-fb3d-494d-9ad5-cbcfce40bcd9"
   },
   "outputs": [],
   "source": [
    "Event_Results['men'] = Event_Results['event_title'].str.contains(r'\\bmen\\b', case=False).astype(int)\n",
    "Event_Results['women'] = Event_Results['event_title'].str.contains('women', case=False).astype(int)\n",
    "\n",
    "print(Event_Results)"
   ]
  },
  {
   "cell_type": "markdown",
   "metadata": {
    "id": "RKKcS3ujMNdS"
   },
   "source": [
    "6. Extract year and olympic type from the data"
   ]
  },
  {
   "cell_type": "code",
   "execution_count": null,
   "metadata": {
    "colab": {
     "base_uri": "https://localhost:8080/"
    },
    "id": "faPL07PgL_Cj",
    "outputId": "c8ab6b54-eb99-411b-a6a1-de1e8f531154"
   },
   "outputs": [],
   "source": [
    "Event_Results[['year', 'olympic_type']] = Event_Results['edition'].str.extract(r'(\\d{4})\\s+(summer|winter)\\s+olympics')\n",
    "\n",
    "print(Event_Results['year'].head())\n",
    "print(Event_Results['olympic_type'].head())"
   ]
  },
  {
   "cell_type": "code",
   "execution_count": null,
   "metadata": {
    "colab": {
     "base_uri": "https://localhost:8080/"
    },
    "id": "Ui3LfgD-Vd_I",
    "outputId": "2a226d69-fa85-4a64-c846-dfab73707389"
   },
   "outputs": [],
   "source": [
    "print(Event_Results.shape)"
   ]
  },
  {
   "cell_type": "markdown",
   "metadata": {
    "id": "yAWy4EqoNd2o"
   },
   "source": [
    "7. Drop rows where essential columns are null"
   ]
  },
  {
   "cell_type": "code",
   "execution_count": null,
   "metadata": {
    "id": "tgjxIkqKVmku"
   },
   "outputs": [],
   "source": [
    "Event_Results.dropna(subset=['event_title', 'sport', 'participants', 'participant_countries', 'men', 'women','year','olympic_type'], inplace=True)"
   ]
  },
  {
   "cell_type": "code",
   "execution_count": null,
   "metadata": {
    "colab": {
     "base_uri": "https://localhost:8080/"
    },
    "id": "__t-2dtVye9P",
    "outputId": "83531660-8220-458e-dadb-70f62abe8b44"
   },
   "outputs": [],
   "source": [
    "print(Event_Results)"
   ]
  },
  {
   "cell_type": "markdown",
   "metadata": {
    "id": "wF7gaXnWzdDQ"
   },
   "source": [
    "8. One hot encode olympic type"
   ]
  },
  {
   "cell_type": "code",
   "execution_count": null,
   "metadata": {
    "colab": {
     "base_uri": "https://localhost:8080/"
    },
    "id": "mZxIyiW6zhWM",
    "outputId": "7c7c489e-a079-444d-e7f4-399358821756"
   },
   "outputs": [],
   "source": [
    "olympic_dummies = pd.get_dummies(Event_Results['olympic_type'])\n",
    "\n",
    "olympic_dummies = olympic_dummies.astype(int)\n",
    "\n",
    "Event_Results = pd.concat([Event_Results, olympic_dummies], axis=1)\n",
    "\n",
    "print(Event_Results)"
   ]
  },
  {
   "cell_type": "code",
   "execution_count": null,
   "metadata": {
    "colab": {
     "base_uri": "https://localhost:8080/"
    },
    "id": "4xjldI1P0GKG",
    "outputId": "940f01b5-2d28-4f1d-d201-5210407b39d6"
   },
   "outputs": [],
   "source": [
    "print(Event_Results.shape)\n",
    "print(Event_Results.describe())\n",
    "print(Event_Results.head(10))"
   ]
  },
  {
   "cell_type": "markdown",
   "metadata": {
    "id": "N17nxuTX6BNB"
   },
   "source": [
    "# Population Total Cleaning\n",
    "Cleaned by Geetansh"
   ]
  },
  {
   "cell_type": "code",
   "execution_count": null,
   "metadata": {
    "colab": {
     "base_uri": "https://localhost:8080/"
    },
    "id": "CN-D1UAF6Ii5",
    "outputId": "dbd4f7f9-9e6d-4eb7-fd53-299e8155f31f"
   },
   "outputs": [],
   "source": [
    "print(Population_Total.shape)\n",
    "print(Population_Total.describe())\n",
    "print(Population_Total.head(10))"
   ]
  },
  {
   "cell_type": "markdown",
   "metadata": {
    "id": "92UppOiZ8rO-"
   },
   "source": [
    "1. Text columns to lower text"
   ]
  },
  {
   "cell_type": "code",
   "execution_count": null,
   "metadata": {
    "id": "kXP5Xt358Vxu"
   },
   "outputs": [],
   "source": [
    "Population_Total['Country Name'] = Population_Total['Country Name'].str.strip().str.lower()"
   ]
  },
  {
   "cell_type": "code",
   "execution_count": null,
   "metadata": {
    "colab": {
     "base_uri": "https://localhost:8080/"
    },
    "id": "Fcy-acGPJEk1",
    "outputId": "0f793654-749e-4c36-f9d2-e14ac8d21a5d"
   },
   "outputs": [],
   "source": [
    "print(Population_Total.head(10))"
   ]
  },
  {
   "cell_type": "markdown",
   "metadata": {
    "id": "RjHZkc9j8u_y"
   },
   "source": [
    "2. Normalize Population Count"
   ]
  },
  {
   "cell_type": "code",
   "execution_count": null,
   "metadata": {
    "id": "f062UrULAzus"
   },
   "outputs": [],
   "source": [
    "# from sklearn.preprocessing import MinMaxScaler\n",
    "# scaler = MinMaxScaler()\n",
    "\n",
    "# Population_Total[['Count']] = scaler.fit_transform(Population_Total[['Count']])\n",
    "\n",
    "# print(Population_Total)"
   ]
  },
  {
   "cell_type": "markdown",
   "metadata": {
    "id": "aqEydJDGBU2D"
   },
   "source": [
    "3. Drop rows if essential columns are null"
   ]
  },
  {
   "cell_type": "code",
   "execution_count": null,
   "metadata": {
    "id": "uzgoIEupBNQr"
   },
   "outputs": [],
   "source": [
    "Population_Total.dropna(subset=['Country Name', 'Year', 'Count'], inplace=True)"
   ]
  },
  {
   "cell_type": "code",
   "execution_count": null,
   "metadata": {
    "id": "djvDWnuPDC4E"
   },
   "outputs": [],
   "source": [
    "Population_Total['Year'] = Population_Total['Year'].replace(2017, 2020)"
   ]
  },
  {
   "cell_type": "code",
   "execution_count": null,
   "metadata": {
    "colab": {
     "base_uri": "https://localhost:8080/"
    },
    "id": "cyr083mxBhre",
    "outputId": "9dcb9fb0-23b3-4b3e-9af3-2fd2c896fe59"
   },
   "outputs": [],
   "source": [
    "print(Population_Total.shape)\n",
    "print(Population_Total.describe())\n",
    "print(Population_Total)"
   ]
  },
  {
   "cell_type": "markdown",
   "metadata": {
    "id": "wlypwUaxD2QE"
   },
   "source": [
    "# Athlete_Biography Cleaning\n",
    "Cleaned Sataakshi"
   ]
  },
  {
   "cell_type": "code",
   "execution_count": null,
   "metadata": {
    "colab": {
     "base_uri": "https://localhost:8080/"
    },
    "id": "rsOVHIUhD9px",
    "outputId": "20e6846a-8b60-4ea9-f653-8cc5402b62c4"
   },
   "outputs": [],
   "source": [
    "print(Athlete_Biography.shape)\n",
    "print(Athlete_Biography.describe())\n",
    "print(Athlete_Biography.head(10))"
   ]
  },
  {
   "cell_type": "markdown",
   "metadata": {
    "id": "bxhemySVDIjk"
   },
   "source": [
    "1. Dropping duplicates"
   ]
  },
  {
   "cell_type": "code",
   "execution_count": null,
   "metadata": {
    "id": "4Arorwo6EICB"
   },
   "outputs": [],
   "source": [
    "Athlete_Biography.drop_duplicates(inplace=True)"
   ]
  },
  {
   "cell_type": "markdown",
   "metadata": {
    "id": "B9e2Olz5DKJM"
   },
   "source": [
    "2. Dropping non required columns"
   ]
  },
  {
   "cell_type": "code",
   "execution_count": null,
   "metadata": {
    "id": "wMjFzNS-EQxn"
   },
   "outputs": [],
   "source": [
    "Athlete_Biography.drop(['description','special_notes'], axis=1, inplace=True)"
   ]
  },
  {
   "cell_type": "markdown",
   "metadata": {
    "id": "h39lHJGNDPYa"
   },
   "source": [
    "3. Converting strings to lower"
   ]
  },
  {
   "cell_type": "code",
   "execution_count": null,
   "metadata": {
    "id": "iYzbdiM7EXKX"
   },
   "outputs": [],
   "source": [
    "Athlete_Biography['country'] = Athlete_Biography['country'].str.strip().str.lower()\n",
    "Athlete_Biography['sex'] = Athlete_Biography['sex'].str.strip().str.lower()\n",
    "Athlete_Biography['name'] = Athlete_Biography['name'].str.strip().str.lower()\n",
    "Athlete_Biography['born'] = Athlete_Biography['born'].str.strip().str.lower()"
   ]
  },
  {
   "cell_type": "code",
   "execution_count": null,
   "metadata": {
    "colab": {
     "base_uri": "https://localhost:8080/"
    },
    "id": "KxMQdCEhUmSh",
    "outputId": "fcfd65c8-af5a-40e9-8150-cd4e4b6b72e1"
   },
   "outputs": [],
   "source": [
    "print(Athlete_Biography.head(10))"
   ]
  },
  {
   "cell_type": "markdown",
   "metadata": {
    "id": "KlAAlFQ88VsB"
   },
   "source": [
    "# Data Cleaning: Athlete_Events\n",
    "Cleaned by Sataakshi"
   ]
  },
  {
   "cell_type": "code",
   "execution_count": null,
   "metadata": {
    "colab": {
     "base_uri": "https://localhost:8080/",
     "height": 0
    },
    "id": "aI6mx2AB4jpv",
    "outputId": "56f99dd7-e85d-458d-8ef1-a92716765198"
   },
   "outputs": [],
   "source": [
    "Athlete_Events_Details.head(10)"
   ]
  },
  {
   "cell_type": "code",
   "execution_count": null,
   "metadata": {
    "colab": {
     "base_uri": "https://localhost:8080/"
    },
    "id": "eZ58zoXv5XI_",
    "outputId": "20b50ad6-6ac2-4203-9692-6ffeb70b84d7"
   },
   "outputs": [],
   "source": [
    "print(Athlete_Events_Details.isnull().sum())"
   ]
  },
  {
   "cell_type": "code",
   "execution_count": null,
   "metadata": {
    "id": "qz9GvwF37tzF"
   },
   "outputs": [],
   "source": [
    "Athlete_Events_Details = Athlete_Events_Details.drop_duplicates()"
   ]
  },
  {
   "cell_type": "code",
   "execution_count": null,
   "metadata": {
    "id": "xwpgL0oy8kLw"
   },
   "outputs": [],
   "source": [
    "Athlete_Events_Details = Athlete_Events_Details.drop(columns=['result_id', 'athlete', 'pos'])"
   ]
  },
  {
   "cell_type": "code",
   "execution_count": null,
   "metadata": {
    "colab": {
     "base_uri": "https://localhost:8080/"
    },
    "id": "9BKFm-2W8htU",
    "outputId": "6e3ada9a-ce0d-482a-e52c-90cae384dfbb"
   },
   "outputs": [],
   "source": [
    "Athlete_Events_Details['medal'].fillna('no medal', inplace=True)"
   ]
  },
  {
   "cell_type": "code",
   "execution_count": null,
   "metadata": {
    "id": "LNQSbu9cBmW1"
   },
   "outputs": [],
   "source": [
    "Athlete_Events_Details['country_noc'] = Athlete_Events_Details['country_noc'].str.strip().str.lower()\n",
    "Athlete_Events_Details['sport'] = Athlete_Events_Details['sport'].str.strip().str.lower()\n",
    "Athlete_Events_Details['event'] = Athlete_Events_Details['event'].str.strip().str.lower()\n",
    "Athlete_Events_Details['edition'] = Athlete_Events_Details['edition'].str.strip().str.lower()"
   ]
  },
  {
   "cell_type": "code",
   "execution_count": null,
   "metadata": {
    "colab": {
     "base_uri": "https://localhost:8080/",
     "height": 0
    },
    "id": "sZj29hYEBxsj",
    "outputId": "2ff79df5-26f4-4ddf-ddf5-bb4f0aecaa6f"
   },
   "outputs": [],
   "source": [
    "Athlete_Events_Details.head(10)"
   ]
  },
  {
   "cell_type": "code",
   "execution_count": null,
   "metadata": {
    "id": "9X0fqW8qCiD0"
   },
   "outputs": [],
   "source": [
    "Athlete_Events_Details['edition'] = Athlete_Events_Details['edition'].astype('category')\n",
    "Athlete_Events_Details['isTeamSport'] = Athlete_Events_Details['isTeamSport'].astype(bool)"
   ]
  },
  {
   "cell_type": "code",
   "execution_count": null,
   "metadata": {
    "colab": {
     "base_uri": "https://localhost:8080/",
     "height": 0
    },
    "id": "lAFwObjjCjbE",
    "outputId": "9a63dd03-e49b-4339-d9d4-337d50051f09"
   },
   "outputs": [],
   "source": [
    "Athlete_Events_Details.head(10)"
   ]
  },
  {
   "cell_type": "code",
   "execution_count": null,
   "metadata": {
    "colab": {
     "base_uri": "https://localhost:8080/"
    },
    "id": "KWjvVO6GD1xG",
    "outputId": "de977560-8bcc-4d08-bd01-86afcbfa3b2f"
   },
   "outputs": [],
   "source": [
    "Athlete_Events_Details[['year', 'olympic_type']] = Athlete_Events_Details['edition'].str.extract(r'(\\d{4})\\s+(summer|winter)\\s+olympics')\n",
    "\n",
    "print(Athlete_Events_Details['year'].head())\n",
    "print(Athlete_Events_Details['olympic_type'].head())"
   ]
  },
  {
   "cell_type": "code",
   "execution_count": null,
   "metadata": {
    "colab": {
     "base_uri": "https://localhost:8080/",
     "height": 0
    },
    "id": "xnp8-PNuNkec",
    "outputId": "338f194d-6735-44c5-de30-046635dcff5d"
   },
   "outputs": [],
   "source": [
    "Athlete_Events_Details['men'] = Athlete_Events_Details['event'].str.contains(r'\\bmen\\b', case=False).astype(int)\n",
    "Athlete_Events_Details['women'] = Athlete_Events_Details['event'].str.contains('women', case=False).astype(int)\n",
    "\n",
    "Athlete_Events_Details.head(10)"
   ]
  },
  {
   "cell_type": "code",
   "execution_count": null,
   "metadata": {
    "colab": {
     "base_uri": "https://localhost:8080/",
     "height": 0
    },
    "id": "r8vRGesrFgKb",
    "outputId": "c29e46a8-2bea-45c1-e723-2e61f0a36f14"
   },
   "outputs": [],
   "source": [
    "Athlete_Events_Details.head(10)"
   ]
  },
  {
   "cell_type": "markdown",
   "metadata": {
    "id": "-L8xfK1yD_4l"
   },
   "source": [
    "# Country_Profile Cleaning\n",
    "Cleaned by Geetansh"
   ]
  },
  {
   "cell_type": "markdown",
   "metadata": {
    "id": "1A_Bx8dzC_XV"
   },
   "source": [
    "Just doing to lower for all string datatype column."
   ]
  },
  {
   "cell_type": "code",
   "execution_count": null,
   "metadata": {
    "id": "u6I8AgTIEE1m"
   },
   "outputs": [],
   "source": [
    "Country_Profile['noc'] = Country_Profile['noc'].str.strip().str.lower()\n",
    "Country_Profile['country'] = Country_Profile['country'].str.strip().str.lower()"
   ]
  },
  {
   "cell_type": "code",
   "execution_count": null,
   "metadata": {
    "colab": {
     "base_uri": "https://localhost:8080/"
    },
    "id": "R5JbdmbaEwcW",
    "outputId": "59cc2b0f-bdf5-4103-e870-0db65c88b98e"
   },
   "outputs": [],
   "source": [
    "print(Country_Profile.head(10))"
   ]
  },
  {
   "cell_type": "markdown",
   "metadata": {
    "id": "wrMh27Pcu2Xu"
   },
   "source": [
    "# Exploratory Data Analysis (Geetansh 1)\n",
    "> Percentage Women participation per country in Olympics\n"
   ]
  },
  {
   "cell_type": "markdown",
   "metadata": {
    "id": "sU_MVNub9nRT"
   },
   "source": [
    "We'll first merge the data for country profile and athlete event details in order to get full country name. Then we'll drop unwanted columns from the merged data."
   ]
  },
  {
   "cell_type": "code",
   "execution_count": null,
   "metadata": {
    "colab": {
     "base_uri": "https://localhost:8080/"
    },
    "id": "NqmWXY9au-cW",
    "outputId": "d02ab486-ea54-40a3-d686-e96114aee325"
   },
   "outputs": [],
   "source": [
    "print(Athlete_Events_Details.shape)\n",
    "Athlete_Events_Details_Mod = Athlete_Events_Details.merge(Country_Profile, left_on='country_noc', right_on='noc', how='left')\n",
    "Athlete_Events_Details_Mod.drop('noc', axis=1, inplace=True)\n",
    "Athlete_Events_Details_Mod.drop('country_noc', axis=1, inplace=True)\n",
    "print(Athlete_Events_Details_Mod.shape)\n",
    "print(Athlete_Events_Details_Mod.head(10))"
   ]
  },
  {
   "cell_type": "markdown",
   "metadata": {
    "id": "LX1ZmLkP-_VI"
   },
   "source": [
    "Now, we'll sum the number of male and female athletes."
   ]
  },
  {
   "cell_type": "code",
   "execution_count": null,
   "metadata": {
    "colab": {
     "base_uri": "https://localhost:8080/"
    },
    "id": "l3ii-MNiAX_O",
    "outputId": "46ad6424-7138-46cd-a406-e55fda30d09a"
   },
   "outputs": [],
   "source": [
    "athlete_counts = Athlete_Events_Details_Mod.groupby(['country', 'year'])[['men', 'women']].sum().reset_index()\n",
    "athlete_counts = athlete_counts.rename(columns={'country': 'Country Name'})\n",
    "\n",
    "print(athlete_counts)"
   ]
  },
  {
   "cell_type": "markdown",
   "metadata": {
    "id": "nfUEPJwT_Fqk"
   },
   "source": [
    "Percentage Women = Percentage women from overall population of the country. For this we'll merge our data with the total population dataset.\n",
    "Percentage Women Better = Percentage women from total participants of the country.\n",
    "Finally, we have country wise percentages."
   ]
  },
  {
   "cell_type": "code",
   "execution_count": null,
   "metadata": {
    "colab": {
     "base_uri": "https://localhost:8080/"
    },
    "id": "6X8W0YqbKWJU",
    "outputId": "24762ffd-05fa-463d-9c9c-95d90e72f2bf"
   },
   "outputs": [],
   "source": [
    "Population_Total['Year'] = Population_Total['Year'].astype(int)\n",
    "athlete_counts['year'] = athlete_counts['year'].astype(int)\n",
    "merged_data = pd.merge(athlete_counts, Population_Total, left_on=['Country Name', 'year'],right_on=['Country Name', 'Year'], how='left')\n",
    "\n",
    "# print(merged_data)\n",
    "merged_data['percentage_women'] = (merged_data['women'] / merged_data['Count']) * 100\n",
    "\n",
    "merged_data['total'] = merged_data['men'] + merged_data['women']\n",
    "merged_data['percentage_women_better'] = (merged_data['women'] / merged_data['total']) * 100\n",
    "\n",
    "print(merged_data[['Country Name', 'year', 'percentage_women','percentage_women_better']].head(20))\n",
    "\n",
    "merged_data.to_csv('country_women_participation_percentage.csv', index=False)"
   ]
  },
  {
   "cell_type": "markdown",
   "metadata": {
    "id": "5xYEazwK_pZ_"
   },
   "source": [
    "Normalizing percentage data as it was very small."
   ]
  },
  {
   "cell_type": "code",
   "execution_count": null,
   "metadata": {
    "colab": {
     "base_uri": "https://localhost:8080/"
    },
    "id": "AyO6kBmzVzU8",
    "outputId": "1632e091-364b-45ed-99d3-ce8793568ea4"
   },
   "outputs": [],
   "source": [
    "merged_data = merged_data.dropna(subset=['percentage_women'])\n",
    "\n",
    "min_val = merged_data['percentage_women'].min()\n",
    "max_val = merged_data['percentage_women'].max()\n",
    "merged_data['normalized_percentage_women'] = (merged_data['percentage_women'] - min_val) / (max_val - min_val)\n",
    "\n",
    "print(merged_data)"
   ]
  },
  {
   "cell_type": "markdown",
   "metadata": {
    "id": "aafagLMn_4Ek"
   },
   "source": [
    "We'll find out countrues with least percentage of women pariticipation.\n",
    "Then we'll plot the trend of this data.\n"
   ]
  },
  {
   "cell_type": "code",
   "execution_count": null,
   "metadata": {
    "colab": {
     "base_uri": "https://localhost:8080/",
     "height": 0
    },
    "id": "yAIO9MezWiEI",
    "outputId": "3361a6d0-534b-45d9-8862-a16ff62ef32f"
   },
   "outputs": [],
   "source": [
    "total_percentage_by_country = merged_data.groupby('Country Name')['percentage_women'].sum().reset_index()\n",
    "\n",
    "least_countries = total_percentage_by_country.nsmallest(5, 'percentage_women')['Country Name']\n",
    "\n",
    "df_least = merged_data[merged_data['Country Name'].isin(least_countries)]\n",
    "\n",
    "\n",
    "plt.figure(figsize=(12, 6))\n",
    "sns.lineplot(data=df_least, x='year', y='percentage_women', hue='Country Name', marker='o')\n",
    "plt.title('Trends of Women Participation in Countries with Least Total Percentage')\n",
    "plt.xlabel('Year')\n",
    "plt.ylabel('Percentage of Women Participation')\n",
    "plt.xticks(df_least['year'].unique())\n",
    "plt.grid(True)\n",
    "plt.xticks(rotation=90)\n",
    "plt.legend(title='Country Name')\n",
    "plt.show()"
   ]
  },
  {
   "cell_type": "markdown",
   "metadata": {
    "id": "z-GiSz0HAEyw"
   },
   "source": [
    "As we can see the trend increases after 1976 but is not rising countinously."
   ]
  },
  {
   "cell_type": "markdown",
   "metadata": {
    "id": "a46vXlWXANRY"
   },
   "source": [
    "Now, we'll plot better percentage, which is out of total participants."
   ]
  },
  {
   "cell_type": "code",
   "execution_count": null,
   "metadata": {
    "colab": {
     "base_uri": "https://localhost:8080/",
     "height": 0
    },
    "id": "iuaCFyrOYlHS",
    "outputId": "14ba827b-2525-4d70-fe80-ee4ab49324b0"
   },
   "outputs": [],
   "source": [
    "total_percentage_by_country = merged_data.groupby('Country Name')['percentage_women'].sum().reset_index()\n",
    "\n",
    "least_countries = total_percentage_by_country.nsmallest(5, 'percentage_women')['Country Name']\n",
    "\n",
    "df_least = merged_data[merged_data['Country Name'].isin(least_countries)]\n",
    "\n",
    "\n",
    "plt.figure(figsize=(12, 6))\n",
    "sns.lineplot(data=df_least, x='year', y='percentage_women_better', hue='Country Name', marker='o')\n",
    "plt.title('Trends of Women Participation in Countries with Least Total Percentage')\n",
    "plt.xlabel('Year')\n",
    "plt.ylabel('Percentage of Women Participation')\n",
    "plt.xticks(df_least['year'].unique())\n",
    "plt.grid(True)\n",
    "plt.xticks(rotation=90)\n",
    "plt.legend(title='Country Name')\n",
    "plt.show()"
   ]
  },
  {
   "cell_type": "markdown",
   "metadata": {
    "id": "e5rdubCeAWmd"
   },
   "source": [
    "Now, we'll take some of the most successful sports countries in the world and try to plot both the percentages for these countries."
   ]
  },
  {
   "cell_type": "code",
   "execution_count": null,
   "metadata": {
    "colab": {
     "base_uri": "https://localhost:8080/",
     "height": 0
    },
    "id": "iGQ5b6DuZVT0",
    "outputId": "fb710581-3a19-4873-d380-1e7b24d31bde"
   },
   "outputs": [],
   "source": [
    "selected_countries = ['united states', 'italy', 'germany', 'china', 'japan']\n",
    "df_selected = merged_data[merged_data['Country Name'].isin(selected_countries)]\n",
    "# df_selected = df_se.groupby('Country Name')['percentage_women'].sum().reset_index()\n",
    "\n",
    "plt.figure(figsize=(12, 6))\n",
    "sns.lineplot(data=df_selected, x='year', y='percentage_women', hue='Country Name', marker='o')\n",
    "plt.title('Trends of Women Participation in Selected Countries')\n",
    "plt.xlabel('Year')\n",
    "plt.ylabel('Percentage of Women Participation')\n",
    "plt.xticks(df_selected['year'].unique(), rotation=90)\n",
    "plt.grid(True)\n",
    "plt.yticks([])\n",
    "plt.legend(title='Country Name')\n",
    "plt.show()"
   ]
  },
  {
   "cell_type": "markdown",
   "metadata": {
    "id": "ifhX8sStWb9j"
   },
   "source": [
    "We see better participation based on total population\n"
   ]
  },
  {
   "cell_type": "markdown",
   "metadata": {
    "id": "3OI4LHTYA15K"
   },
   "source": [
    "Plot better percentage for women in the countries discussed above. We see a rising trend in these countries."
   ]
  },
  {
   "cell_type": "code",
   "execution_count": null,
   "metadata": {
    "colab": {
     "base_uri": "https://localhost:8080/",
     "height": 0
    },
    "id": "tYf7sILJX8Ia",
    "outputId": "1fb58fcf-a9f6-479c-c907-23d819abf6f7"
   },
   "outputs": [],
   "source": [
    "selected_countries = ['united states', 'italy', 'germany', 'china', 'japan']\n",
    "df_selected = merged_data[merged_data['Country Name'].isin(selected_countries)]\n",
    "\n",
    "plt.figure(figsize=(12, 6))\n",
    "sns.lineplot(data=df_selected, x='year', y='percentage_women_better', hue='Country Name', marker='o')\n",
    "plt.title('Trends of Women Participation in Selected Countries')\n",
    "plt.xlabel('Year')\n",
    "plt.ylabel('Percentage of Women Participation')\n",
    "plt.xticks(df_selected['year'].unique(), rotation=90)\n",
    "plt.grid(True)\n",
    "plt.legend(title='Country Name')\n",
    "plt.show()"
   ]
  },
  {
   "cell_type": "markdown",
   "metadata": {
    "id": "hgXU8-4RBB2t"
   },
   "source": [
    "Conclusion :- The progressive countries are doing much better in terms of women participation and are improving too. The countries with low percentage should focus on empowering more women to play sports and this is a crucial piece of information for these countries to analyze."
   ]
  },
  {
   "cell_type": "markdown",
   "metadata": {
    "id": "LtuwrryjZuF-"
   },
   "source": [
    "# Exploratory Data Analysis (Geetansh 2)\n",
    "> Identifying declining and on the rise sports\n"
   ]
  },
  {
   "cell_type": "code",
   "execution_count": null,
   "metadata": {
    "id": "ICnZSwuLZysQ"
   },
   "outputs": [],
   "source": [
    "import pandas as pd\n",
    "import numpy as np\n",
    "from scipy.stats import linregress\n",
    "import matplotlib.pyplot as plt"
   ]
  },
  {
   "cell_type": "markdown",
   "metadata": {
    "id": "ZXLqmpA0BtcS"
   },
   "source": [
    "We'll focus on the summer olympics only for this particular EDA. Doing some more basic cleaning on the summer data."
   ]
  },
  {
   "cell_type": "code",
   "execution_count": null,
   "metadata": {
    "colab": {
     "base_uri": "https://localhost:8080/"
    },
    "id": "MxvfsloKcMUl",
    "outputId": "606932b9-0c22-45d5-c586-dde1496883bc"
   },
   "outputs": [],
   "source": [
    "summer_data = Event_Results[Event_Results['summer'] == 1]\n",
    "\n",
    "summer_data['year'] = pd.to_numeric(summer_data['year'], errors='coerce')\n",
    "summer_data['participants'] = pd.to_numeric(summer_data['participants'], errors='coerce')\n",
    "\n",
    "summer_data.dropna(subset=['year', 'participants'], inplace=True)\n",
    "sport_year_participants = summer_data.groupby(['sport', 'year'])['participants'].sum().reset_index()"
   ]
  },
  {
   "cell_type": "markdown",
   "metadata": {
    "id": "DEPpxHS8B4hr"
   },
   "source": [
    "Here we are trying to identifying the sports with declining trends by calculating the slope of their trends. We are using participants as the metric here to identify trend and estimate popularity."
   ]
  },
  {
   "cell_type": "code",
   "execution_count": null,
   "metadata": {
    "id": "esQjAm-rehWJ"
   },
   "outputs": [],
   "source": [
    "trend_data = []\n",
    "for sport, group in sport_year_participants.groupby('sport'):\n",
    "    if len(group) < 2:\n",
    "        continue\n",
    "    slope, intercept, r_value, p_value, std_err = linregress(group['year'], group['participants'])\n",
    "    trend_data.append({'sport': sport, 'slope': slope, 'p_value': p_value, 'group': group})\n",
    "\n",
    "trend_df = pd.DataFrame(trend_data)"
   ]
  },
  {
   "cell_type": "code",
   "execution_count": null,
   "metadata": {
    "id": "dIBczSY-emvT"
   },
   "outputs": [],
   "source": [
    "declining_sports = trend_df[trend_df['slope'] < 0].sort_values('slope').head(10)"
   ]
  },
  {
   "cell_type": "code",
   "execution_count": null,
   "metadata": {
    "colab": {
     "base_uri": "https://localhost:8080/"
    },
    "id": "C6BE37edeqr7",
    "outputId": "119d98b0-01be-40b1-a08e-e393be64e35c"
   },
   "outputs": [],
   "source": [
    "print(\"\\nTop 5 Sports with Declining Trends:\")\n",
    "print(declining_sports[['sport', 'slope']])"
   ]
  },
  {
   "cell_type": "markdown",
   "metadata": {
    "id": "0lJBT7VKCHmF"
   },
   "source": [
    "Plotting the top declining sports in the olympics."
   ]
  },
  {
   "cell_type": "code",
   "execution_count": null,
   "metadata": {
    "colab": {
     "base_uri": "https://localhost:8080/",
     "height": 718
    },
    "id": "Do6FsuOfesWz",
    "outputId": "c7c5a445-7929-4eae-9b7b-bd5e1f891d70"
   },
   "outputs": [],
   "source": [
    "plt.figure(figsize=(12, 8))\n",
    "for _, row in declining_sports.iterrows():\n",
    "    sport_data = row['group']\n",
    "    plt.plot(sport_data['year'], sport_data['participants'], marker='o', label=row['sport'])\n",
    "\n",
    "plt.title('Top Declining Sports Participation Over the Years')\n",
    "plt.xlabel('Year')\n",
    "plt.ylabel('Number of Participants')\n",
    "plt.legend()\n",
    "plt.grid()\n",
    "plt.show()"
   ]
  },
  {
   "cell_type": "markdown",
   "metadata": {
    "id": "wczsZtNsCSIO"
   },
   "source": [
    "Conclusion :- We see in the past the declining sports got extinct from the Olympics altogether. Now in the recent past we see some sports who's popularity is also declining. This is a major warning for the Olympic committee and for the world. We need to focus on spreading these declining sports so that they stay relevant."
   ]
  },
  {
   "cell_type": "markdown",
   "metadata": {
    "id": "bwIHGiNKLvXv"
   },
   "source": [
    "Doing the same for increasing sports."
   ]
  },
  {
   "cell_type": "code",
   "execution_count": null,
   "metadata": {
    "id": "iWjvaxypLg0b"
   },
   "outputs": [],
   "source": [
    "increasing_sports = trend_df[trend_df['slope'] > 0].sort_values('slope').head(10)"
   ]
  },
  {
   "cell_type": "code",
   "execution_count": null,
   "metadata": {
    "colab": {
     "base_uri": "https://localhost:8080/"
    },
    "id": "LnKDUjtwLkI_",
    "outputId": "ab585e5f-f297-446d-e58a-988ae19ca478"
   },
   "outputs": [],
   "source": [
    "print(\"\\nTop 10 Sports with Increasing Trends:\")\n",
    "print(declining_sports[['sport', 'slope']])"
   ]
  },
  {
   "cell_type": "code",
   "execution_count": null,
   "metadata": {
    "colab": {
     "base_uri": "https://localhost:8080/",
     "height": 718
    },
    "id": "Jk8tkJNiLoQt",
    "outputId": "a35b3ef7-b0de-493b-c0d1-263b0ce2585b"
   },
   "outputs": [],
   "source": [
    "plt.figure(figsize=(12, 8))\n",
    "for _, row in increasing_sports.iterrows():\n",
    "    sport_data = row['group']\n",
    "    plt.plot(sport_data['year'], sport_data['participants'], marker='o', label=row['sport'])\n",
    "\n",
    "plt.title('Top Increasing Sports Participation Over the Years')\n",
    "plt.xlabel('Year')\n",
    "plt.ylabel('Number of Participants')\n",
    "plt.legend()\n",
    "plt.grid()\n",
    "plt.show()"
   ]
  },
  {
   "cell_type": "markdown",
   "metadata": {
    "id": "dD7BAUPRLx_b"
   },
   "source": [
    "Conclusion :- We have these sports which are on the rise. This data is very useful for marketing and branding companies. There can be more money in these sports."
   ]
  },
  {
   "cell_type": "markdown",
   "metadata": {
    "id": "nSUhMxCVKkhY"
   },
   "source": [
    "# Exploratory Data Analysis (Sataakshi 2)\n",
    "\n",
    "> Country-wise Comparison of Team vs. Individual Sport Medals Over the Years"
   ]
  },
  {
   "cell_type": "code",
   "execution_count": null,
   "metadata": {
    "colab": {
     "base_uri": "https://localhost:8080/"
    },
    "id": "YT4bzZwVf9D9",
    "outputId": "a344a71e-2850-429e-fe0e-b89c54205cf5"
   },
   "outputs": [],
   "source": [
    "!pip install pandasql\n"
   ]
  },
  {
   "cell_type": "code",
   "execution_count": null,
   "metadata": {
    "id": "onSX9r2oK8Ek"
   },
   "outputs": [],
   "source": [
    "import pandasql as ps"
   ]
  },
  {
   "cell_type": "markdown",
   "metadata": {
    "id": "Lg9dqNZJKjVC"
   },
   "source": [
    "The SQL query extracts the year-wise medal count data for the USA from the Athlete_Events_Details table. It focuses on both individual and team sports, counting only the events where athletes won medals. Here’s what the query does step by step:\n",
    "\n",
    "Columns Selected:\n",
    "\n",
    "year: The specific year of the Olympic Games.\n",
    "country_noc: The country code, filtered for the USA ('usa').\n",
    "isTeamSport: Indicates whether the event was a team sport or an individual sport.\n",
    "\n",
    "medal_count: The count of medals won by USA athletes in that year, for both team and individual sports.\n",
    "Filtering:Excludes rows where the athlete did not win a medal (medal != 'no medal').Ensures that the year column is not null.\n",
    "\n",
    "Grouping: Groups the results by year, country_noc, and isTeamSport, to get the total medal count for each year based on whether it was a team or individual sport.\n",
    "\n",
    "Ordering:The results are ordered by year, country_noc, and isTeamSport to present the data in chronological order, further split into team and individual sport categories.\n",
    "\n",
    "The queries below generates a summary of the various countries medal wins, categorized by year and sport type, allowing analysis of trends in team vs. individual performance over time."
   ]
  },
  {
   "cell_type": "code",
   "execution_count": null,
   "metadata": {
    "colab": {
     "base_uri": "https://localhost:8080/"
    },
    "id": "SgNZ2h0KLARx",
    "outputId": "978f9d90-b615-421b-994a-40ef50ae9dad"
   },
   "outputs": [],
   "source": [
    "query_usa = \"\"\"\n",
    "    SELECT\n",
    "    year,\n",
    "    country_noc,\n",
    "    isTeamSport,\n",
    "    COUNT(medal) AS medal_count\n",
    "    FROM Athlete_Events_Details\n",
    "    WHERE medal != 'no medal'\n",
    "    AND year IS NOT NULL\n",
    "    AND country_noc IN ('usa')\n",
    "    GROUP BY year, country_noc, isTeamSport\n",
    "    ORDER BY year, country_noc, isTeamSport;\n",
    "    \"\"\"\n",
    "\n",
    "medals_yearwise_data_usa = ps.sqldf(query_usa, locals())\n",
    "\n",
    "print(medals_yearwise_data_usa)\n"
   ]
  },
  {
   "cell_type": "code",
   "execution_count": null,
   "metadata": {
    "colab": {
     "base_uri": "https://localhost:8080/"
    },
    "id": "mXBwWrkSV9F3",
    "outputId": "8ef149f5-2703-427a-8ff1-40dfa4d4a229"
   },
   "outputs": [],
   "source": [
    "query_ger = \"\"\"\n",
    "    SELECT\n",
    "    year,\n",
    "    country_noc,\n",
    "    isTeamSport,\n",
    "    COUNT(medal) AS medal_count\n",
    "    FROM Athlete_Events_Details\n",
    "    WHERE medal != 'no medal'\n",
    "    AND year IS NOT NULL\n",
    "    AND country_noc IN ('ger')\n",
    "    GROUP BY year, country_noc, isTeamSport\n",
    "    ORDER BY year, country_noc, isTeamSport;\n",
    "    \"\"\"\n",
    "\n",
    "medals_yearwise_data_ger = ps.sqldf(query_ger, locals())\n",
    "\n",
    "print(medals_yearwise_data_ger)\n"
   ]
  },
  {
   "cell_type": "code",
   "execution_count": null,
   "metadata": {
    "colab": {
     "base_uri": "https://localhost:8080/"
    },
    "id": "P-HaX8ikWPUO",
    "outputId": "8b790137-004a-42ca-c30c-a52c0a699ae0"
   },
   "outputs": [],
   "source": [
    "query_ita = \"\"\"\n",
    "    SELECT\n",
    "    year,\n",
    "    country_noc,\n",
    "    isTeamSport,\n",
    "    COUNT(medal) AS medal_count\n",
    "    FROM Athlete_Events_Details\n",
    "    WHERE medal != 'no medal'\n",
    "    AND year IS NOT NULL\n",
    "    AND country_noc IN ('ita')\n",
    "    GROUP BY year, country_noc, isTeamSport\n",
    "    ORDER BY year, country_noc, isTeamSport;\n",
    "    \"\"\"\n",
    "\n",
    "medals_yearwise_data_ita = ps.sqldf(query_ita, locals())\n",
    "\n",
    "print(medals_yearwise_data_ita)\n"
   ]
  },
  {
   "cell_type": "code",
   "execution_count": null,
   "metadata": {
    "colab": {
     "base_uri": "https://localhost:8080/"
    },
    "id": "4vsRcM-5WZ_t",
    "outputId": "12af7ba9-d367-4dc4-e771-605784c0bc7f"
   },
   "outputs": [],
   "source": [
    "query_aus = \"\"\"\n",
    "    SELECT\n",
    "    year,\n",
    "    country_noc,\n",
    "    isTeamSport,\n",
    "    COUNT(medal) AS medal_count\n",
    "    FROM Athlete_Events_Details\n",
    "    WHERE medal != 'no medal'\n",
    "    AND year IS NOT NULL\n",
    "    AND country_noc IN ('aus')\n",
    "    GROUP BY year, country_noc, isTeamSport\n",
    "    ORDER BY year, country_noc, isTeamSport;\n",
    "    \"\"\"\n",
    "\n",
    "medals_yearwise_data_aus = ps.sqldf(query_aus, locals())\n",
    "\n",
    "print(medals_yearwise_data_aus)\n"
   ]
  },
  {
   "cell_type": "code",
   "execution_count": null,
   "metadata": {
    "colab": {
     "base_uri": "https://localhost:8080/"
    },
    "id": "jLNcko_TXNY5",
    "outputId": "5164c637-37e9-4a95-94d5-5dcb82984c41"
   },
   "outputs": [],
   "source": [
    "query_ind = \"\"\"\n",
    "    SELECT\n",
    "    year,\n",
    "    country_noc,\n",
    "    isTeamSport,\n",
    "    COUNT(medal) AS medal_count\n",
    "    FROM Athlete_Events_Details\n",
    "    WHERE medal != 'no medal'\n",
    "    AND year IS NOT NULL\n",
    "    AND country_noc IN ('ind')\n",
    "    GROUP BY year, country_noc, isTeamSport\n",
    "    ORDER BY year, country_noc, isTeamSport;\n",
    "    \"\"\"\n",
    "\n",
    "medals_yearwise_data_ind = ps.sqldf(query_ind, locals())\n",
    "\n",
    "print(medals_yearwise_data_ind)\n"
   ]
  },
  {
   "cell_type": "code",
   "execution_count": null,
   "metadata": {
    "colab": {
     "base_uri": "https://localhost:8080/",
     "height": 0
    },
    "id": "2jIATricS6a9",
    "outputId": "355c5143-708c-42e0-d728-4cdf4b4d55e2"
   },
   "outputs": [],
   "source": [
    "import seaborn as sns\n",
    "import matplotlib.pyplot as plt\n",
    "\n",
    "colours = {True: 'red', False: 'blue'}\n",
    "\n",
    "plt.figure(figsize=(14, 8))\n",
    "sns.lineplot(\n",
    "    data=medals_yearwise_data_usa,\n",
    "    x='year',\n",
    "    y='medal_count',\n",
    "    hue='isTeamSport',\n",
    "    palette=colours,\n",
    "    markers=True,\n",
    "    dashes=False\n",
    ")\n",
    "\n",
    "plt.title('Year-wise Team vs Individual Sport Medals: USA', fontsize=16)\n",
    "plt.xlabel('Year', fontsize=14)\n",
    "plt.ylabel('Number of Medals', fontsize=14)\n",
    "plt.legend(title='Country (Team vs Individual)', loc='upper left', bbox_to_anchor=(1, 1))\n",
    "plt.xticks(rotation=45)\n",
    "\n",
    "plt.tight_layout()\n",
    "plt.show()\n"
   ]
  },
  {
   "cell_type": "markdown",
   "metadata": {
    "id": "k7-lHK0WLBpv"
   },
   "source": [
    "**Interpretation**: The USA has consistently excelled in team sports, with the medal count for team events always surpassing that of individual sports. At no point in time have individual athletes outperformed the team in terms of total medals. This trend is clearly reflected in the graph, where team sports (in red) consistently show a higher medal count compared to individual sports (in blue) across all years."
   ]
  },
  {
   "cell_type": "code",
   "execution_count": null,
   "metadata": {
    "colab": {
     "base_uri": "https://localhost:8080/",
     "height": 0
    },
    "id": "9ZyP93uCWHV_",
    "outputId": "e501b1f8-0c06-48dc-f912-f64c4a17c713"
   },
   "outputs": [],
   "source": [
    "import seaborn as sns\n",
    "import matplotlib.pyplot as plt\n",
    "\n",
    "colours = {True: 'red', False: 'blue'}\n",
    "\n",
    "plt.figure(figsize=(14, 8))\n",
    "sns.lineplot(\n",
    "    data=medals_yearwise_data_ger,\n",
    "    x='year',\n",
    "    y='medal_count',\n",
    "    hue='isTeamSport',\n",
    "    palette=colours,\n",
    "    markers=True,\n",
    "    dashes=False\n",
    ")\n",
    "\n",
    "plt.title('Year-wise Team vs Individual Sport Medals: GER', fontsize=16)\n",
    "plt.xlabel('Year', fontsize=14)\n",
    "plt.ylabel('Number of Medals', fontsize=14)\n",
    "plt.legend(title='Country (Team vs Individual)', loc='upper left', bbox_to_anchor=(1, 1))\n",
    "plt.xticks(rotation=45)\n",
    "\n",
    "plt.tight_layout()\n",
    "plt.show()\n"
   ]
  },
  {
   "cell_type": "markdown",
   "metadata": {
    "id": "CgC16VRDLt8E"
   },
   "source": [
    "\n",
    "**Interpretation**: Germany has consistently excelled in team sports, with the medal count for team events always surpassing that of individual sports. There has always been a significant gap between the two, indicating that individual athletes have never outperformed the team in terms of total medals. This trend is clearly illustrated in the graph, where team sports (in red) consistently show a higher medal count compared to individual sports (in blue) across all years."
   ]
  },
  {
   "cell_type": "code",
   "execution_count": null,
   "metadata": {
    "colab": {
     "base_uri": "https://localhost:8080/",
     "height": 0
    },
    "id": "Ri63rhFFWrRZ",
    "outputId": "cee4d35a-448a-4d77-966f-02e9657a8e52"
   },
   "outputs": [],
   "source": [
    "import seaborn as sns\n",
    "import matplotlib.pyplot as plt\n",
    "\n",
    "colours = {True: 'red', False: 'blue'}\n",
    "\n",
    "plt.figure(figsize=(14, 8))\n",
    "sns.lineplot(\n",
    "    data=medals_yearwise_data_ita,\n",
    "    x='year',\n",
    "    y='medal_count',\n",
    "    hue='isTeamSport',\n",
    "    palette=colours,\n",
    "    markers=True,\n",
    "    dashes=False\n",
    ")\n",
    "\n",
    "plt.title('Year-wise Team vs Individual Sport Medals: ITA', fontsize=16)\n",
    "plt.xlabel('Year', fontsize=14)\n",
    "plt.ylabel('Number of Medals', fontsize=14)\n",
    "plt.legend(title='Country (Team vs Individual)', loc='upper left', bbox_to_anchor=(1, 1))\n",
    "plt.xticks(rotation=45)\n",
    "\n",
    "plt.tight_layout()\n",
    "plt.show()\n"
   ]
  },
  {
   "cell_type": "code",
   "execution_count": null,
   "metadata": {
    "colab": {
     "base_uri": "https://localhost:8080/",
     "height": 0
    },
    "id": "rIaFMS1NWutL",
    "outputId": "e1c3a9e9-e1ee-4a27-8fdc-19e5c683e4c6"
   },
   "outputs": [],
   "source": [
    "import seaborn as sns\n",
    "import matplotlib.pyplot as plt\n",
    "\n",
    "colours = {True: 'red', False: 'blue'}\n",
    "\n",
    "plt.figure(figsize=(14, 8))\n",
    "sns.lineplot(\n",
    "    data=medals_yearwise_data_aus,\n",
    "    x='year',\n",
    "    y='medal_count',\n",
    "    hue='isTeamSport',\n",
    "    palette=colours,\n",
    "    markers=True,\n",
    "    dashes=False\n",
    ")\n",
    "\n",
    "plt.title('Year-wise Team vs Individual Sport Medals: AUS', fontsize=16)\n",
    "plt.xlabel('Year', fontsize=14)\n",
    "plt.ylabel('Number of Medals', fontsize=14)\n",
    "plt.legend(title='Country (Team vs Individual)', loc='upper left', bbox_to_anchor=(1, 1))\n",
    "plt.xticks(rotation=45)\n",
    "\n",
    "plt.tight_layout()\n",
    "plt.show()\n"
   ]
  },
  {
   "cell_type": "markdown",
   "metadata": {
    "id": "povMl73-MCH0"
   },
   "source": [
    "\n",
    "**Interpretation**: Except a few years Australia has also always been ahead in team sports. Given the potential, Australia can dedicate their energy towards also increasing the individual medal count"
   ]
  },
  {
   "cell_type": "code",
   "execution_count": null,
   "metadata": {
    "colab": {
     "base_uri": "https://localhost:8080/",
     "height": 0
    },
    "id": "_kae09KVXWsf",
    "outputId": "7314f70a-2c24-426d-caea-9448ee85fe64"
   },
   "outputs": [],
   "source": [
    "import seaborn as sns\n",
    "import matplotlib.pyplot as plt\n",
    "\n",
    "colours = {True: 'red', False: 'blue'}\n",
    "\n",
    "plt.figure(figsize=(14, 8))\n",
    "sns.lineplot(\n",
    "    data=medals_yearwise_data_ind,\n",
    "    x='year',\n",
    "    y='medal_count',\n",
    "    hue='isTeamSport',\n",
    "    palette=colours,\n",
    "    markers=True,\n",
    "    dashes=False\n",
    ")\n",
    "\n",
    "plt.title('Year-wise Team vs Individual Sport Medals: IND', fontsize=16)\n",
    "plt.xlabel('Year', fontsize=14)\n",
    "plt.ylabel('Number of Medals', fontsize=14)\n",
    "plt.legend(title='Country (Team vs Individual)', loc='upper left', bbox_to_anchor=(1, 1))\n",
    "plt.xticks(rotation=45)\n",
    "\n",
    "plt.tight_layout()\n",
    "plt.show()\n"
   ]
  },
  {
   "cell_type": "markdown",
   "metadata": {
    "id": "ZCWAcgISMUpA"
   },
   "source": [
    "\n",
    "**Interpretation**: For India there is a significant gap in the team sports and individual spots performance. This graph can motivate the country to reduce this gap and prepare for the forthecoming olympics."
   ]
  },
  {
   "cell_type": "markdown",
   "metadata": {
    "id": "392jhzlkPeLH"
   },
   "source": [
    "# Exploratory Data Analysis (Sataakshi 1)\n",
    "\n",
    "> Sport-wise Trend of Women’s Participation Over the Years"
   ]
  },
  {
   "cell_type": "markdown",
   "metadata": {
    "id": "RJN6ewhPMvE0"
   },
   "source": [
    "In this analysis, we examine the participation of women in various sports across different Olympic years using the Athlete_Events_Details dataset. The SQL query retrieves the count of female athletes participating in each sport for every Olympic year, focusing on events where women were represented.\n"
   ]
  },
  {
   "cell_type": "code",
   "execution_count": null,
   "metadata": {
    "colab": {
     "base_uri": "https://localhost:8080/"
    },
    "id": "SOIUil5aPd2B",
    "outputId": "5cceaae2-feb9-43b4-a687-02d383c4e903"
   },
   "outputs": [],
   "source": [
    "query = \"\"\"\n",
    "    SELECT\n",
    "    sport,\n",
    "    year,\n",
    "    COUNT(athlete_id) AS women_participation_count\n",
    "FROM Athlete_Events_Details\n",
    "WHERE\n",
    "    women = 1\n",
    "    AND year IS NOT NULL\n",
    "GROUP BY sport, year\n",
    "ORDER BY year ASC, women_participation_count ;\n",
    "    \"\"\"\n",
    "\n",
    "women_participation = ps.sqldf(query, locals())\n",
    "\n",
    "print(women_participation)"
   ]
  },
  {
   "cell_type": "markdown",
   "metadata": {
    "id": "qImRfTgBMzKA"
   },
   "source": [
    "The data is filtered to include only instances where women participated, ensuring accurate counts for each sport. The results are grouped by sport and year, providing a clear overview of trends in women’s participation over time.\n",
    "\n",
    "For each selected sport, a line plot visualizes the year-wise participation count of female athletes, allowing for a comparison of trends and growth in women's representation across different sports. This analysis helps to highlight advancements in gender equality in sports and can identify specific sports where women’s participation has significantly increased or decreased over the years."
   ]
  },
  {
   "cell_type": "markdown",
   "metadata": {
    "id": "P50KzGDxM11N"
   },
   "source": [
    "The following visualization focuses on women's participation in wrestling, showcasing how participation has evolved through the years."
   ]
  },
  {
   "cell_type": "code",
   "execution_count": null,
   "metadata": {
    "colab": {
     "base_uri": "https://localhost:8080/",
     "height": 0
    },
    "id": "vd78Mu9CYI8i",
    "outputId": "5cd1c64a-9195-4051-edcd-2a85ca0902e1"
   },
   "outputs": [],
   "source": [
    "selected_sport = 'wrestling'\n",
    "filtered_sport_data = women_participation[women_participation['sport'] == selected_sport]\n",
    "\n",
    "plt.figure(figsize=(5, 4))\n",
    "sns.lineplot(\n",
    "    data=filtered_sport_data,\n",
    "    x='year',\n",
    "    y='women_participation_count',\n",
    "    marker='o',\n",
    "    dashes=False\n",
    ")\n",
    "\n",
    "plt.title(f'Year-wise Women Participation in {selected_sport}', fontsize=16)\n",
    "plt.xlabel('Year', fontsize=14)\n",
    "plt.ylabel('Women Participation Count', fontsize=14)\n",
    "plt.xticks(rotation=45)\n",
    "\n",
    "plt.tight_layout()\n",
    "plt.show()\n"
   ]
  },
  {
   "cell_type": "markdown",
   "metadata": {
    "id": "VfYvrUc9M7j5"
   },
   "source": [
    "The following visualization focuses on women's participation in alpine skiing, showcasing how participation has evolved through the years."
   ]
  },
  {
   "cell_type": "code",
   "execution_count": null,
   "metadata": {
    "colab": {
     "base_uri": "https://localhost:8080/",
     "height": 0
    },
    "id": "Py358MVRYUGU",
    "outputId": "d254df5f-076f-41b9-f3cc-aad2e7246097"
   },
   "outputs": [],
   "source": [
    "selected_sport = 'alpine skiing'\n",
    "filtered_sport_data = women_participation[women_participation['sport'] == selected_sport]\n",
    "\n",
    "plt.figure(figsize=(10, 6))\n",
    "sns.lineplot(\n",
    "    data=filtered_sport_data,\n",
    "    x='year',\n",
    "    y='women_participation_count',\n",
    "    marker='o',\n",
    "    dashes=False\n",
    ")\n",
    "\n",
    "plt.title(f'Year-wise Women Participation in {selected_sport}', fontsize=16)\n",
    "plt.xlabel('Year', fontsize=14)\n",
    "plt.ylabel('Women Participation Count', fontsize=14)\n",
    "plt.xticks(rotation=45)\n",
    "\n",
    "plt.tight_layout()\n",
    "plt.show()\n"
   ]
  },
  {
   "cell_type": "markdown",
   "metadata": {
    "id": "3lPPCwFTM_oi"
   },
   "source": [
    "The following visualization focuses on women's participation in badminton, showcasing how participation has evolved through the years."
   ]
  },
  {
   "cell_type": "code",
   "execution_count": null,
   "metadata": {
    "colab": {
     "base_uri": "https://localhost:8080/",
     "height": 0
    },
    "id": "0kBlhcYeY2Gm",
    "outputId": "f03d5a2f-fe59-4d23-da78-933c8f7aa714"
   },
   "outputs": [],
   "source": [
    "\n",
    "selected_sport = 'badminton'\n",
    "filtered_sport_data = women_participation[women_participation['sport'] == selected_sport]\n",
    "\n",
    "plt.figure(figsize=(10, 6))\n",
    "sns.lineplot(\n",
    "    data=filtered_sport_data,\n",
    "    x='year',\n",
    "    y='women_participation_count',\n",
    "    marker='o',\n",
    "    dashes=False\n",
    ")\n",
    "\n",
    "plt.title(f'Year-wise Women Participation in {selected_sport}', fontsize=16)\n",
    "plt.xlabel('Year', fontsize=14)\n",
    "plt.ylabel('Women Participation Count', fontsize=14)\n",
    "plt.xticks(rotation=45)\n",
    "\n",
    "plt.tight_layout()\n",
    "plt.show()\n"
   ]
  },
  {
   "cell_type": "markdown",
   "metadata": {
    "id": "9Jvo76HUNCsy"
   },
   "source": [
    "The following visualization focuses on women's participation in athletics, showcasing how participation has evolved through the years."
   ]
  },
  {
   "cell_type": "code",
   "execution_count": null,
   "metadata": {
    "colab": {
     "base_uri": "https://localhost:8080/",
     "height": 0
    },
    "id": "3Ph-8r5OYuVD",
    "outputId": "7187abd6-b40a-4842-9ae3-b04ebf54aeef"
   },
   "outputs": [],
   "source": [
    "selected_sport = 'athletics'\n",
    "filtered_sport_data = women_participation[women_participation['sport'] == selected_sport]\n",
    "\n",
    "plt.figure(figsize=(10, 6))\n",
    "sns.lineplot(\n",
    "    data=filtered_sport_data,\n",
    "    x='year',\n",
    "    y='women_participation_count',\n",
    "    marker='o',\n",
    "    dashes=False\n",
    ")\n",
    "\n",
    "plt.title(f'Year-wise Women Participation in {selected_sport}', fontsize=16)\n",
    "plt.xlabel('Year', fontsize=14)\n",
    "plt.ylabel('Women Participation Count', fontsize=14)\n",
    "plt.xticks(rotation=45)\n",
    "\n",
    "plt.tight_layout()\n",
    "plt.show()\n"
   ]
  },
  {
   "cell_type": "markdown",
   "metadata": {
    "id": "7xY-g6KqU2JG"
   },
   "source": [
    "# Exploratory Data Analysis (Rudraksh 1)\n",
    "\n",
    "> Table Tennis and Tennis are similar yet different sports. The players we have seen in both games seem to have different builds. The hypothesis is that we can build a model using Height, Weight, and athlete’s country to predict which sport they belong to."
   ]
  },
  {
   "cell_type": "code",
   "execution_count": 89,
   "metadata": {},
   "outputs": [],
   "source": [
    "Athletes_Data = Athlete_Events_Details.copy()\n",
    "Athletes_Data = Athletes_Data[Athletes_Data['olympic_type'] == 'summer']\n",
    "Athletes_Data = pd.merge(Athletes_Data, Athlete_Biography, on='athlete_id', how='left')\n",
    "Athletes_Data['sex'] = Athletes_Data.apply(lambda row: 'M' if row['men'] == 1 else 'F', axis=1)\n",
    "Athletes_Data['birth_year'] = Athletes_Data['born'].str.extract(r'(\\d{4})')\n",
    "Athletes_Data['birth_year'] = pd.to_numeric(Athletes_Data['birth_year'], errors='coerce')\n",
    "Athletes_Data['year'] = pd.to_numeric(Athletes_Data['year'], errors='coerce')\n",
    "Athletes_Data['age'] = Athletes_Data['year'] - Athletes_Data['birth_year']\n",
    "\n",
    "Athletes_Data = Athletes_Data[['age', 'country', 'year', 'sex', 'sport', 'height', 'weight', 'medal', 'isTeamSport']]\n",
    "\n",
    "Athletes_Data['height'] = pd.to_numeric(Athletes_Data['height'], errors='coerce')\n",
    "Athletes_Data['weight'] = pd.to_numeric(Athletes_Data['weight'], errors='coerce')\n",
    "\n",
    "Athletes_Data = Athletes_Data.dropna(subset=['height', 'weight', 'medal', 'age', 'country'])\n",
    "\n",
    "Athletes_Data_Male = Athletes_Data[Athletes_Data['sex'] == 'M']\n",
    "Athletes_Data_Female = Athletes_Data[Athletes_Data['sex'] == 'F']\n",
    "\n",
    "sports = ['tennis', 'table tennis']\n",
    "Athletes_Data_Male_Popular = Athletes_Data_Male[Athletes_Data_Male['sport'].isin(sports)]\n",
    "Athletes_Data_Female_Popular = Athletes_Data_Female[Athletes_Data_Female['sport'].isin(sports)]"
   ]
  },
  {
   "cell_type": "code",
   "execution_count": 90,
   "metadata": {},
   "outputs": [
    {
     "data": {
      "image/png": "[encoded data removed]",
      "text/plain": [
       "<Figure size 1000x600 with 1 Axes>"
      ]
     },
     "metadata": {},
     "output_type": "display_data"
    }
   ],
   "source": [
    "plt.figure(figsize=(10, 6))\n",
    "for sport in sports:\n",
    "    sport_data = Athletes_Data_Male_Popular[Athletes_Data_Male_Popular['sport'] == sport]\n",
    "    plt.scatter(sport_data['height'], sport_data['weight'], label=sport, alpha=0.7)\n",
    "\n",
    "# Add labels, title, and legend\n",
    "plt.xlabel('Height')\n",
    "plt.ylabel('Weight')\n",
    "plt.title('Height vs. Weight for Tennis and Table Tennis Athletes')\n",
    "plt.legend(title='Sport')\n",
    "plt.grid(alpha=0.3)\n",
    "\n",
    "# Show the plot\n",
    "plt.show()"
   ]
  },
  {
   "cell_type": "markdown",
   "metadata": {
    "id": "nQ42B1HfU2JG"
   },
   "source": [
    "# Exploratory Data Analysis (Rudraksh 2)\n",
    "\n",
    "> n athletics, height, weight, age, and country are major\n",
    "indicators for success in the Olympics. We have made several\n",
    "machine-learning models, which can help in predicting the\n",
    "chances of getting a medal in Athletics."
   ]
  },
  {
   "cell_type": "markdown",
   "metadata": {
    "id": "_PgtHtYjU2JG"
   },
   "source": []
  },
  {
   "cell_type": "code",
   "execution_count": 91,
   "metadata": {
    "id": "euIWhclkrga3"
   },
   "outputs": [
    {
     "name": "stderr",
     "output_type": "stream",
     "text": [
      "/var/folders/4s/nf4ptsw94lq60sq55ldm8pr00000gn/T/ipykernel_78321/2218917410.py:2: SettingWithCopyWarning: \n",
      "A value is trying to be set on a copy of a slice from a DataFrame.\n",
      "Try using .loc[row_indexer,col_indexer] = value instead\n",
      "\n",
      "See the caveats in the documentation: https://pandas.pydata.org/pandas-docs/stable/user_guide/indexing.html#returning-a-view-versus-a-copy\n",
      "  athletics_data['has_medal'] = athletics_data['medal'].apply(lambda x: 1 if x != 'no medal' else 0)\n"
     ]
    }
   ],
   "source": [
    "athletics_data = Athletes_Data[Athletes_Data['sport'] == 'athletics']\n",
    "athletics_data['has_medal'] = athletics_data['medal'].apply(lambda x: 1 if x != 'no medal' else 0)"
   ]
  },
  {
   "cell_type": "code",
   "execution_count": 95,
   "metadata": {},
   "outputs": [
    {
     "data": {
      "image/png": "[encoded data removed]",
      "text/plain": [
       "<Figure size 1200x800 with 1 Axes>"
      ]
     },
     "metadata": {},
     "output_type": "display_data"
    }
   ],
   "source": [
    "plt.figure(figsize=(12, 8))\n",
    "\n",
    "medal_data = athletics_data[athletics_data['has_medal'] == 1]\n",
    "no_medal_data = athletics_data[athletics_data['has_medal'] == 0]\n",
    "\n",
    "plt.scatter(medal_data['height'], medal_data['weight'], color='gold', label='Has Medal', alpha=0.7)\n",
    "\n",
    "plt.scatter(no_medal_data['height'], no_medal_data['weight'], color='silver', label='No Medal', alpha=0.7)\n",
    "\n",
    "plt.xlabel('Height')\n",
    "plt.ylabel('Weight')\n",
    "plt.title('Height vs. Weight: Medalists vs. Non-Medalists')\n",
    "plt.legend(title='Medal Status')\n",
    "plt.grid(alpha=0.3)\n",
    "\n",
    "# Show the plot\n",
    "plt.show()\n"
   ]
  },
  {
   "cell_type": "markdown",
   "metadata": {
    "id": "cc6nnVYlR8fw"
   },
   "source": [
    "# ML Models (Geetansh 1)\n",
    "> Percentage Women participation per country in Olympics"
   ]
  },
  {
   "cell_type": "code",
   "execution_count": null,
   "metadata": {
    "id": "2CdaNzQE8wh1"
   },
   "outputs": [],
   "source": [
    "import pandas as pd\n",
    "import numpy as np\n",
    "from sklearn.model_selection import train_test_split\n",
    "from sklearn.preprocessing import StandardScaler\n",
    "from sklearn.metrics import r2_score, mean_absolute_error\n",
    "import matplotlib.pyplot as plt\n",
    "import tensorflow as tf\n",
    "from tensorflow import keras\n",
    "from tensorflow.keras import layers"
   ]
  },
  {
   "cell_type": "markdown",
   "metadata": {
    "id": "GWdbGk3zuhP_"
   },
   "source": [
    "Pre processing dataset."
   ]
  },
  {
   "cell_type": "code",
   "execution_count": null,
   "metadata": {
    "id": "H8aOM7P7ulRa"
   },
   "outputs": [],
   "source": [
    "merged_data = merged_data.dropna(subset=['percentage_women_better'])\n",
    "average_participation = merged_data.groupby('Country Name')['percentage_women_better'].mean().reset_index()\n",
    "\n",
    "top_countries = average_participation.sort_values(by='percentage_women_better', ascending=False).head(20)\n",
    "df_filtered = merged_data[merged_data['Country Name'].isin(top_countries['Country Name'])]\n",
    "\n",
    "df_filtered = df_filtered[df_filtered['year'] >= 1960]\n",
    "train_data = df_filtered[df_filtered['year'] <= 2000]\n",
    "test_data = df_filtered[df_filtered['year'] > 2000]\n",
    "\n",
    "X_train = train_data[['year']]\n",
    "y_train = train_data['percentage_women_better']\n",
    "X_test = test_data[['year']]\n",
    "y_test = test_data['percentage_women_better']\n",
    "\n",
    "scaler = StandardScaler()\n",
    "X_train_scaled = scaler.fit_transform(X_train)\n",
    "X_test_scaled = scaler.transform(X_test)"
   ]
  },
  {
   "cell_type": "markdown",
   "metadata": {
    "id": "KKiO7PDxumHR"
   },
   "source": [
    "Creating DNN and fitting the input in model"
   ]
  },
  {
   "cell_type": "code",
   "execution_count": null,
   "metadata": {
    "colab": {
     "base_uri": "https://localhost:8080/"
    },
    "id": "PXbNYsk2umpl",
    "outputId": "0ba986d9-0695-4552-a1b0-36e29f6d31f9"
   },
   "outputs": [],
   "source": [
    "\n",
    "def create_dnn_model():\n",
    "    model = keras.Sequential()\n",
    "    model.add(layers.InputLayer(input_shape=(X_train_scaled.shape[1],)))\n",
    "    model.add(layers.Dense(64, activation='relu'))\n",
    "    model.add(layers.Dense(32, activation='relu'))\n",
    "    model.add(layers.Dense(16, activation='relu'))\n",
    "    model.add(layers.Dense(1))\n",
    "    model.compile(optimizer='adam', loss='mean_squared_error', metrics=['mae'])\n",
    "    return model\n",
    "\n",
    "dnn_model = create_dnn_model()\n",
    "dnn_model.fit(X_train_scaled, y_train, epochs=150, batch_size=4, verbose=1)"
   ]
  },
  {
   "cell_type": "markdown",
   "metadata": {
    "id": "3AtjPn1qu11g"
   },
   "source": [
    "Predictions and evaluation metrics"
   ]
  },
  {
   "cell_type": "code",
   "execution_count": null,
   "metadata": {
    "colab": {
     "base_uri": "https://localhost:8080/"
    },
    "id": "v_8ao_qmu1YM",
    "outputId": "5393eb71-5247-4fc4-da66-ae081bf64b34"
   },
   "outputs": [],
   "source": [
    "\n",
    "y_pred = dnn_model.predict(X_test_scaled)\n",
    "\n",
    "r2 = r2_score(y_test, y_pred)\n",
    "mae = mean_absolute_error(y_test, y_pred)\n",
    "\n",
    "future_years = np.array([2024, 2028, 2032, 2036, 2040]).reshape(-1, 1)\n",
    "future_years_scaled = scaler.transform(future_years)\n",
    "future_pred = dnn_model.predict(future_years_scaled)"
   ]
  },
  {
   "cell_type": "markdown",
   "metadata": {
    "id": "8r43UHDou9o4"
   },
   "source": [
    "Plotting"
   ]
  },
  {
   "cell_type": "code",
   "execution_count": null,
   "metadata": {
    "colab": {
     "base_uri": "https://localhost:8080/",
     "height": 618
    },
    "id": "ppyr-z4yu_wV",
    "outputId": "d763eb49-c6eb-4756-e0d0-e612b7fb9c61"
   },
   "outputs": [],
   "source": [
    "plt.figure(figsize=(10, 6))\n",
    "plt.scatter(train_data['year'], y_train, color='blue', label='Train Data')\n",
    "plt.scatter(test_data['year'], y_test, color='green', label='Actual Test Data')\n",
    "plt.scatter(test_data['year'], y_pred, color='red', label='Predicted Test Data')\n",
    "plt.plot(future_years, future_pred, 'o--', label='Future Predictions')\n",
    "plt.xlabel('Year')\n",
    "plt.ylabel('Percentage of Women Participation')\n",
    "plt.title('DNN Predictions for Women Participation (Top 50 Countries)')\n",
    "plt.legend()\n",
    "plt.grid(True)\n",
    "plt.show()\n",
    "\n",
    "abs_r2 = abs(r2)\n",
    "print(f\"Absolute R² Score: {abs_r2:.3f}\")\n",
    "print(f\"Mean Absolute Error: {mae:.3f}\")\n",
    "print(f\"Future Predictions (2024-2040): {future_pred.flatten()}\")"
   ]
  },
  {
   "cell_type": "markdown",
   "metadata": {
    "id": "Gp4M9xNzvCeU"
   },
   "source": [
    "Now, we'll do the same thing we have done above for specific countries."
   ]
  },
  {
   "cell_type": "code",
   "execution_count": null,
   "metadata": {
    "colab": {
     "base_uri": "https://localhost:8080/",
     "height": 1000
    },
    "id": "5FtAzoSCwYhY",
    "outputId": "8cb0b952-5845-43ef-ff12-1a06f2ca60f8"
   },
   "outputs": [],
   "source": [
    "target_countries = [ 'Netherlands', 'Peru', 'Canada', 'Singapore', 'Romania','malta','angola']\n",
    "\n",
    "fig, axes = plt.subplots(len(target_countries), 1, figsize=(10, 4 * len(target_countries)), sharex=True)\n",
    "fig.suptitle('DNN Predictions for Women Participation by Country')\n",
    "\n",
    "for i, country in enumerate(target_countries):\n",
    "    country_data = df_filtered[df_filtered['Country Name'].str.lower() == country.lower()]\n",
    "\n",
    "    country_train_data = country_data[country_data['year'] <= 2000]\n",
    "    country_test_data = country_data[country_data['year'] > 2000]\n",
    "\n",
    "    X_train_country = country_train_data[['year']]\n",
    "    y_train_country = country_train_data['percentage_women_better']\n",
    "    X_test_country = country_test_data[['year']]\n",
    "    y_test_country = country_test_data['percentage_women_better']\n",
    "    X_train_country_scaled = scaler.transform(X_train_country)\n",
    "    X_test_country_scaled = scaler.transform(X_test_country)\n",
    "\n",
    "    y_pred_country = dnn_model.predict(X_test_country_scaled)\n",
    "\n",
    "\n",
    "\n",
    "    future_pred_country = dnn_model.predict(future_years_scaled)\n",
    "\n",
    "\n",
    "\n",
    "    ax = axes[i]\n",
    "    ax.scatter(country_train_data['year'], y_train_country, color='blue', label='Train Data')\n",
    "    ax.scatter(country_test_data['year'], y_test_country, color='green', label='Actual Test Data')\n",
    "    ax.scatter(country_test_data['year'], y_pred_country, color='red', label='Predicted Test Data')\n",
    "    ax.plot(future_years, future_pred_country, 'o--', label='Future Predictions')\n",
    "\n",
    "    ax.set_title(f\"{country}\")\n",
    "    ax.set_xlabel('Year')\n",
    "    ax.set_ylabel('Percentage of Women Participation')\n",
    "    ax.legend()\n",
    "    ax.grid(True)\n",
    "\n",
    "plt.tight_layout(rect=[0, 0, 1, 0.97])\n",
    "plt.show()"
   ]
  },
  {
   "cell_type": "markdown",
   "metadata": {
    "id": "fiackltSw6dp"
   },
   "source": [
    "# ML Models (Geetansh 2)\n",
    "> Identifying declining and on the rise sports"
   ]
  },
  {
   "cell_type": "code",
   "execution_count": null,
   "metadata": {
    "id": "c9b-nuYtw0tv"
   },
   "outputs": [],
   "source": [
    "from scipy.stats import linregress\n",
    "from sklearn.cluster import KMeans\n",
    "from sklearn.preprocessing import StandardScaler\n",
    "from sklearn.metrics import silhouette_score, davies_bouldin_score\n",
    "import seaborn as sns\n",
    "import matplotlib.pyplot as plt"
   ]
  },
  {
   "cell_type": "markdown",
   "metadata": {
    "id": "OJyGaTeRtjo5"
   },
   "source": [
    "Doing pre processing for dataset"
   ]
  },
  {
   "cell_type": "code",
   "execution_count": null,
   "metadata": {
    "id": "MIkbCoZMthOd"
   },
   "outputs": [],
   "source": [
    "Event_Results['year'] = pd.to_numeric(Event_Results['year'], errors='coerce')\n",
    "Event_Results['participants'] = pd.to_numeric(Event_Results['participants'], errors='coerce')\n",
    "\n",
    "Event_Results = Event_Results.dropna(subset=['year', 'participants'])"
   ]
  },
  {
   "cell_type": "markdown",
   "metadata": {
    "id": "i1I71ax6trj1"
   },
   "source": [
    "Now, we'll try to calculate the slope."
   ]
  },
  {
   "cell_type": "code",
   "execution_count": null,
   "metadata": {
    "colab": {
     "base_uri": "https://localhost:8080/"
    },
    "id": "m_yQws2Vtq3a",
    "outputId": "80b47a6f-36ab-488d-c5be-adb7610d7ff7"
   },
   "outputs": [],
   "source": [
    "sports_multiple_years = Event_Results.groupby('sport').filter(lambda x: x['year'].nunique() > 1)\n",
    "\n",
    "sports_trend = sports_multiple_years.groupby('sport').apply(lambda df: linregress(df['year'], df['participants']).slope).reset_index()\n",
    "sports_trend.columns = ['sport', 'slope']\n",
    "\n",
    "sport_stats = sports_multiple_years.groupby('sport')['participants'].agg(['mean', 'std']).reset_index()\n",
    "sports_trend = sports_trend.merge(sport_stats, on='sport')\n"
   ]
  },
  {
   "cell_type": "markdown",
   "metadata": {
    "id": "GzRFwcybty15"
   },
   "source": [
    "Formalizing input, hyperparameters, applying Kmeans and putting in labels."
   ]
  },
  {
   "cell_type": "code",
   "execution_count": null,
   "metadata": {
    "id": "7F31u_GgtucR"
   },
   "outputs": [],
   "source": [
    "X = sports_trend[['slope', 'mean']]\n",
    "\n",
    "scaler = StandardScaler()\n",
    "X_scaled = scaler.fit_transform(X)\n",
    "\n",
    "kmeans = KMeans(n_clusters=2, random_state=42)\n",
    "sports_trend['cluster'] = kmeans.fit_predict(X_scaled)\n",
    "\n",
    "cluster_labels = {0: \"rising\", 1: \"declining\"} if sports_trend.groupby('cluster')['slope'].mean()[0] > 0 else {0: \"declining\", 1: \"rising\"}\n",
    "sports_trend['trend_label'] = sports_trend['cluster'].map(cluster_labels)"
   ]
  },
  {
   "cell_type": "markdown",
   "metadata": {
    "id": "tAlfMdtquBFQ"
   },
   "source": [
    "Calculating Evaluation metrics."
   ]
  },
  {
   "cell_type": "code",
   "execution_count": null,
   "metadata": {
    "id": "cNma-q3Wt9sx"
   },
   "outputs": [],
   "source": [
    "silhouette_avg = silhouette_score(X_scaled, sports_trend['cluster'])\n",
    "davies_bouldin = davies_bouldin_score(X_scaled, sports_trend['cluster'])\n",
    "inertia = kmeans.inertia_"
   ]
  },
  {
   "cell_type": "markdown",
   "metadata": {
    "id": "4LL-qELhuFuU"
   },
   "source": [
    "Plotting the final output and printing metrics."
   ]
  },
  {
   "cell_type": "code",
   "execution_count": null,
   "metadata": {
    "colab": {
     "base_uri": "https://localhost:8080/",
     "height": 868
    },
    "id": "pf5_34_ouJ_W",
    "outputId": "49c35960-6217-4e32-b660-7efe1816f13b"
   },
   "outputs": [],
   "source": [
    "plt.figure(figsize=(10, 6))\n",
    "sns.scatterplot(data=sports_trend, x='slope', y='mean', hue='trend_label', style='trend_label', palette='viridis', s=100)\n",
    "plt.title(\"Clustering of Sports by Rising and Declining Trends\")\n",
    "plt.xlabel(\"Trend Slope\")\n",
    "plt.ylabel(\"Average Participation\")\n",
    "plt.grid(True)\n",
    "plt.legend(title='Trend')\n",
    "plt.show()\n",
    "\n",
    "sports_trend[['sport', 'slope', 'mean', 'std', 'trend_label']]\n",
    "print(sports_trend)\n",
    "\n",
    "print(f\"Silhouette Score: {silhouette_avg}\")\n",
    "print(f\"Davies-Bouldin Index: {davies_bouldin}\")\n",
    "print(f\"Inertia: {inertia}\")"
   ]
  },
  {
   "cell_type": "markdown",
   "metadata": {
    "id": "zmZMqHHH8qzu"
   },
   "source": [
    "# ML Model (Sataakshi 1)\n",
    "\n",
    "> Sport-wise Trend of Women’s Participation Over the Years"
   ]
  },
  {
   "cell_type": "code",
   "execution_count": null,
   "metadata": {
    "id": "Dk413f4MSMZV"
   },
   "outputs": [],
   "source": [
    "query = \"\"\"\n",
    "    SELECT\n",
    "        sport,\n",
    "        year,\n",
    "        COUNT(athlete_id) AS women_participation_count\n",
    "    FROM Athlete_Events_Details\n",
    "    WHERE\n",
    "        women = 1\n",
    "        AND year IS NOT NULL\n",
    "    GROUP BY sport, year\n",
    "    ORDER BY sport, year ASC;\n",
    "\"\"\"\n",
    "\n",
    "women_participation = ps.sqldf(query, locals())\n",
    "\n",
    "print(women_participation.head())\n",
    "plt.figure(figsize=(12, 8))\n",
    "\n",
    "sns.lineplot(data=women_participation, x='year', y='women_participation_count', hue='sport', marker='o', dashes=False)\n",
    "\n",
    "plt.title('Year-wise Women Participation in All Sports', fontsize=16)\n",
    "plt.xlabel('Year', fontsize=14)\n",
    "plt.ylabel('Women Participation Count', fontsize=14)\n",
    "plt.xticks(rotation=45)\n",
    "plt.legend(title='Sport', bbox_to_anchor=(1.05, 1), loc='upper left')\n",
    "\n",
    "plt.tight_layout()\n",
    "plt.show()\n"
   ]
  },
  {
   "cell_type": "code",
   "execution_count": null,
   "metadata": {
    "id": "OvU1O_XgyqNL"
   },
   "outputs": [],
   "source": [
    "query = \"\"\"\n",
    "    SELECT\n",
    "        sport,\n",
    "        COUNT(DISTINCT year) AS years_practiced\n",
    "    FROM Athlete_Events_Details\n",
    "    WHERE\n",
    "        women = 1\n",
    "        AND year IS NOT NULL\n",
    "    GROUP BY sport\n",
    "    ORDER BY years_practiced DESC\n",
    "    LIMIT 5;  -- Or adjust to any number\n",
    "\"\"\"\n",
    "\n",
    "topSports = ps.sqldf(query, locals())\n",
    "\n",
    "print(topSports)\n"
   ]
  },
  {
   "cell_type": "markdown",
   "metadata": {
    "id": "2Yfm7IrXfFqS"
   },
   "source": [
    "We have taken a list of sports which had maximum data over the course of olympic history.\n",
    "Such sports include swimming, diving, fencing, athletics. These four sports are known to be some of the oldest sports in the olympic history.\n",
    "\n",
    "Next, we are going to iterate over every sport and filter the required data. Using the KNN model we will split the data and use the Knn regression to calculate the preedicted value."
   ]
  },
  {
   "cell_type": "code",
   "execution_count": null,
   "metadata": {
    "id": "qend4Xyo0QVT"
   },
   "outputs": [],
   "source": [
    "from sklearn.model_selection import train_test_split\n",
    "from sklearn.neighbors import KNeighborsRegressor\n",
    "from sklearn.preprocessing import StandardScaler\n",
    "from sklearn.metrics import mean_squared_error, r2_score\n",
    "import matplotlib.pyplot as plt\n",
    "import seaborn as sns\n",
    "import numpy as np\n",
    "\n",
    "# List of sports\n",
    "sports = [ 'swimming', 'diving', 'fencing', 'athletics']\n",
    "\n",
    "rmseVal = {}\n",
    "r2Val = {}\n",
    "\n",
    "# Loop over each sport to train and evaluate the k-NN model.\n",
    "for idx, sport in enumerate(sports):\n",
    "\n",
    "    # Filter data for the current sport.\n",
    "    participationData = women_participation[women_participation['sport'] == sport]\n",
    "\n",
    "    X = participationData[['year']]\n",
    "    y = participationData['women_participation_count']\n",
    "\n",
    "    XTrain, XTest, yTrain, yTest = train_test_split(X, y, test_size=0.3, random_state=42)\n",
    "\n",
    "    scaler = StandardScaler()\n",
    "    XTrainScaled = scaler.fit_transform(XTrain)\n",
    "    XTestScaled = scaler.transform(XTest)\n",
    "\n",
    "    knnReg = KNeighborsRegressor(min(5, len(XTrain)))\n",
    "    knnReg.fit(XTrainScaled, yTrain)\n",
    "\n",
    "    yPredKnn = knnReg.predict(XTestScaled)\n",
    "\n",
    "    # Calculate RMSE and R² score\n",
    "    rmseKnn = np.sqrt(mean_squared_error(yTest, yPredKnn))\n",
    "    r2Knn = r2_score(yTest, yPredKnn)\n",
    "\n",
    "    rmseVal[sport] = rmseKnn\n",
    "    r2Val[sport] = r2Knn\n",
    "\n",
    "    print(f\"{sport.capitalize()} Results\")\n",
    "    print(f'R² score: {r2Knn:.2f}')\n",
    "    print(f'Root Mean Square Error: {rmseKnn:.2f}')\n",
    "\n",
    "    sortedVal = np.argsort(X_test.values.flatten())\n",
    "    XTestSorted = X_test.values.flatten()[sortedVal]\n",
    "    yTestSorted = y_test.values.flatten()[sortedVal]\n",
    "    yPredKnnSorted = yPredKnn[sortedVal]\n",
    "\n",
    "    plt.figure(figsize=(8, 5))\n",
    "\n",
    "    # Plot actual vs predicted values for the current sport\n",
    "    plt.plot(XTestSorted, yTestSorted, color='blue', label=f'Actual {sport.capitalize()}')\n",
    "    plt.plot(XTestSorted, yPredKnnSorted, color='red', linestyle='dashed', label=f'Predicted {sport.capitalize()}')\n",
    "\n",
    "    plt.title(f\"k-NN Regression - Women Participation in {sport.capitalize()}\", fontsize=14)\n",
    "    plt.xlabel(\"Year\")\n",
    "    plt.ylabel(\"Women's Participation Count\")\n",
    "    plt.legend(loc='upper left', fontsize=10)\n",
    "    plt.xticks(rotation=45)\n",
    "    plt.tight_layout()\n",
    "    plt.show()\n",
    "\n",
    "print(\"\\nOverall Results:\")\n",
    "for sport in sports:\n",
    "    if sport in rmseVal:\n",
    "        print(f\"{sport.capitalize()} -> RMSE: {rmseVal[sport]:.2f}, R²: {r2Val[sport]:.2f}\")\n"
   ]
  },
  {
   "cell_type": "markdown",
   "metadata": {
    "id": "qHO3jssNd7fe"
   },
   "source": [
    "The output indicates the performance of the k-NN regression model for predicting women's participation in four sports:\n",
    "\n",
    "Results per Sport:\n",
    "\n",
    "Swimming:-\n",
    "\n",
    "R²: 0.73 - The model explains 73% of the variance in swimming participation.\n",
    "\n",
    "RMSE: 125.06 - The model's predictions are off by an average of 125.06 units.\n",
    "\n",
    "Diving:-\n",
    "\n",
    "R²: 0.77 - The model explains 77% of the variance in diving participation.\n",
    "\n",
    "RMSE: 10.88 - The predictions are off by an average of 10.88 units.\n",
    "\n",
    "Fencing:-\n",
    "\n",
    "R²: 0.59 - The model explains 59% of the variance in fencing participation.\n",
    "\n",
    "RMSE: 32.65 - The predictions are off by an average of 32.65 units.\n",
    "\n",
    "Athletics:-\n",
    "\n",
    "R²: 0.89 - The model explains 89% of the variance in athletics participation.\n",
    "\n",
    "RMSE: 131.02 - The predictions are off by an average of 131.02 units."
   ]
  },
  {
   "cell_type": "markdown",
   "metadata": {
    "id": "pNoal_uleKBv"
   },
   "source": [
    "Overall Summary:\n",
    "\n",
    "Swimming and Athletics show strong model performance. R² values of 0.73 and 0.89. However, Athletics has a higher RMSE, indicating larger prediction errors compared to Diving and Fencing.\n",
    "Diving has the best balance of a relatively high R² (0.77) and a low RMSE (10.88), suggesting the model makes accurate predictions for diving.\n",
    "Fencing has the lowest R² (0.59) and a moderate RMSE (32.65), indicating room for improvement in the model's performance.\n",
    "The plots show how well the k-NN model captures the trend of participation for each sport over time. The dashed red line represents the predicted values, while the blue line represents the actual participation data."
   ]
  },
  {
   "cell_type": "markdown",
   "metadata": {
    "id": "h8QAOh7kxqen"
   },
   "source": [
    "# ML Model (Sataakshi 2)\n",
    "\n",
    "> Country-wise Comparison of Team vs. Individual Sport Medals Over the Years"
   ]
  },
  {
   "cell_type": "markdown",
   "metadata": {
    "id": "T7lufC9AZ9D8"
   },
   "source": [
    "\n",
    "1.   Split dataset into training 80% and testing 20%\n",
    "\n",
    "2.   Max depth set to 5 to avoid overfitting\n",
    "\n",
    "3. Using plot tree to visualize decision tree.\n",
    "\n",
    "4. R² score measures the variance in the data\n",
    "\n",
    "5. Mean Squared Error masures the average squared difference between the predicted and actual values.\n",
    "\n"
   ]
  },
  {
   "cell_type": "code",
   "execution_count": null,
   "metadata": {
    "id": "NSnj9ka8zsF2"
   },
   "outputs": [],
   "source": [
    "from sklearn.model_selection import train_test_split\n",
    "from sklearn.tree import DecisionTreeRegressor, plot_tree\n",
    "from sklearn.ensemble import RandomForestRegressor\n",
    "from sklearn.metrics import r2_score, mean_squared_error\n",
    "import matplotlib.pyplot as plt\n",
    "\n",
    "medals_yearwise_data_aus['isTeamSport'] = medals_yearwise_data_aus['isTeamSport'].apply(lambda x: 1 if x else 0)\n",
    "\n",
    "X = medals_yearwise_data_aus[['year', 'isTeamSport']]\n",
    "y = medals_yearwise_data_aus['medal_count']\n",
    "\n",
    "# Split dataset into training 80% and testing 20%\n",
    "X_train, X_test, y_train, y_test = train_test_split(X, y, test_size=0.2, random_state=42)\n",
    "\n",
    "# Max depth set to 5 to avoid overfitting\n",
    "reg_tree = DecisionTreeRegressor(max_depth=5, random_state=42)\n",
    "\n",
    "reg_tree.fit(X_train, y_train)\n",
    "\n",
    "plt.figure(figsize=(10, 8))\n",
    "\n",
    "# Using plot tree to visualize decision tree\n",
    "plot_tree(reg_tree, feature_names=['year', 'isTeamSport'], filled=True)\n",
    "plt.show()\n",
    "\n",
    "y_pred_tree = reg_tree.predict(X_test)\n",
    "print(\"Decision Tree-\")\n",
    "\n",
    "# R² score measures the variance in the data\n",
    "print(f'R² score: {r2_score(y_test, y_pred_tree)}')\n",
    "print(f'Mean Squared Error: {mean_squared_error(y_test, y_pred_tree)}')\n",
    "print(\"-------------\")\n",
    "\n",
    "reg_random_forest = RandomForestRegressor(n_estimators=100, random_state=42)\n",
    "\n",
    "reg_random_forest.fit(X_train, y_train)\n",
    "\n",
    "y_pred_rf = reg_random_forest.predict(X_test)\n",
    "print(\"Random Forest Results- \")\n",
    "\n",
    "# Mean Squared Error masures the average squared difference between the predicted and actual values.\n",
    "print(f'R² score: {r2_score(y_test, y_pred_rf)}')\n",
    "print(f'Mean Squared Error: {mean_squared_error(y_test, y_pred_rf)}')\n",
    "\n"
   ]
  },
  {
   "cell_type": "markdown",
   "metadata": {
    "id": "x0jViHENambs"
   },
   "source": [
    "The output shows the performance of two regression models—Decision Tree and Random Forest—in predicting Australia's medal counts.\n",
    "\n",
    "Decision Tree:\n",
    "\n",
    "R² score: 0.36, indicating that the model explains about 36% of the variance in the data.\n",
    "\n",
    "Mean Squared Error (MSE): 834.71, which represents the average squared difference between actual and predicted medal counts.\n",
    "\n",
    "Random Forest:\n",
    "\n",
    "R² score: 0.51, meaning it explains 51% of the variance, making it a better model compared to the Decision Tree.\n",
    "\n",
    "MSE: 641.43, which is lower than the Decision Tree, indicating better prediction accuracy.\n",
    "\n",
    "Overall, the Random Forest performs better than the Decision Tree, offering higher accuracy and better variance explanation."
   ]
  },
  {
   "cell_type": "code",
   "execution_count": null,
   "metadata": {
    "id": "uJbC81bI2bnj"
   },
   "outputs": [],
   "source": [
    "from sklearn.model_selection import train_test_split\n",
    "from sklearn.tree import DecisionTreeRegressor, plot_tree\n",
    "from sklearn.ensemble import RandomForestRegressor\n",
    "from sklearn.metrics import r2_score, mean_squared_error\n",
    "import matplotlib.pyplot as plt\n",
    "\n",
    "medals_yearwise_data_ind['isTeamSport'] = medals_yearwise_data_ind['isTeamSport'].apply(lambda x: 1 if x else 0)\n",
    "\n",
    "X = medals_yearwise_data_ind[['year', 'isTeamSport']]\n",
    "y = medals_yearwise_data_ind['medal_count']\n",
    "\n",
    "# Split dataset into training 80% and testing 20%\n",
    "X_train, X_test, y_train, y_test = train_test_split(X, y, test_size=0.2, random_state=42)\n",
    "\n",
    "# Max depth set to 5 to avoid overfitting\n",
    "reg_tree = DecisionTreeRegressor(max_depth=5, random_state=42)\n",
    "\n",
    "reg_tree.fit(X_train, y_train)\n",
    "\n",
    "plt.figure(figsize=(10, 8))\n",
    "\n",
    "# Using plot tree to visualize decision tree\n",
    "plot_tree(reg_tree, feature_names=['year', 'isTeamSport'], filled=True)\n",
    "plt.show()\n",
    "\n",
    "y_pred_tree = reg_tree.predict(X_test)\n",
    "print(\"Decision Tree-\")\n",
    "\n",
    "# R² score measures the variance in the data\n",
    "print(f'R² score: {r2_score(y_test, y_pred_tree)}')\n",
    "print(f'Mean Squared Error: {mean_squared_error(y_test, y_pred_tree)}')\n",
    "print(\"-------------\")\n",
    "\n",
    "reg_random_forest = RandomForestRegressor(n_estimators=100, random_state=42)\n",
    "\n",
    "reg_random_forest.fit(X_train, y_train)\n",
    "\n",
    "y_pred_rf = reg_random_forest.predict(X_test)\n",
    "print(\"Random Forest Results- \")\n",
    "\n",
    "# Mean Squared Error masures the average squared difference between the predicted and actual values.\n",
    "print(f'R² score: {r2_score(y_test, y_pred_rf)}')\n",
    "print(f'Mean Squared Error: {mean_squared_error(y_test, y_pred_rf)}')\n",
    "\n"
   ]
  },
  {
   "cell_type": "markdown",
   "metadata": {
    "id": "51Sb-eWla_pI"
   },
   "source": [
    "The output for India indicates that both models-Decision Tree and Random Forest perform well.\n",
    "\n",
    "Decision Tree:-\n",
    "\n",
    "R² score: 0.88 meaning 88% of the variance in the data is explained by the model.\n",
    "\n",
    "Mean Squared Error: 8.4 shows the average squared difference between the predicted and actual values.\n",
    "\n",
    "Random Forest:-\n",
    "\n",
    "R² score: 0.92 means that there is a slight improvement, meaning the model explains 92% of the variance.\n",
    "\n",
    "Mean Squared Error: The lower MSE value of 5.7 shows that Random Forest makes more accurate predictions than the Decision Tree in this case.\n",
    "\n",
    "In summary, both models perform well, with Random Forest slightly outperforming the Decision Tree in predictive accuracy."
   ]
  },
  {
   "cell_type": "markdown",
   "metadata": {
    "id": "6RbRWsPDzKf5"
   },
   "source": [
    "# ML Models Both (Rudraksh)"
   ]
  },
  {
   "cell_type": "code",
   "execution_count": 96,
   "metadata": {
    "colab": {
     "base_uri": "https://localhost:8080/"
    },
    "id": "DqDBn4kdAtd1",
    "outputId": "7f007230-cef6-46a8-afd4-3d17307073a0"
   },
   "outputs": [
    {
     "name": "stderr",
     "output_type": "stream",
     "text": [
      "/var/folders/4s/nf4ptsw94lq60sq55ldm8pr00000gn/T/ipykernel_78321/664141186.py:11: SettingWithCopyWarning: \n",
      "A value is trying to be set on a copy of a slice from a DataFrame.\n",
      "Try using .loc[row_indexer,col_indexer] = value instead\n",
      "\n",
      "See the caveats in the documentation: https://pandas.pydata.org/pandas-docs/stable/user_guide/indexing.html#returning-a-view-versus-a-copy\n",
      "  X['country'] = country_encoder.fit_transform(X['country'])\n"
     ]
    }
   ],
   "source": [
    "# Problem 1\n",
    "# Table Tennis and Tennis are similar yet different sports. The players I have seen in both games seem to have different builds. The hypothesis is that we can build a model using Height, Weight, and athlete’s country to predict which sport they belong to.\n",
    "\n",
    "from sklearn.model_selection import train_test_split\n",
    "from sklearn.preprocessing import LabelEncoder\n",
    "\n",
    "X = Athletes_Data_Male_Popular[['height', 'weight', 'country']]\n",
    "y = Athletes_Data_Male_Popular['sport']\n",
    "\n",
    "country_encoder = LabelEncoder()\n",
    "X['country'] = country_encoder.fit_transform(X['country'])\n",
    "\n",
    "sport_encoder = LabelEncoder()\n",
    "y = sport_encoder.fit_transform(y)\n",
    "\n",
    "X_train, X_test, y_train, y_test = train_test_split(X, y, test_size=0.2, random_state=42)"
   ]
  },
  {
   "cell_type": "code",
   "execution_count": 97,
   "metadata": {
    "colab": {
     "base_uri": "https://localhost:8080/"
    },
    "id": "BILhV2j0GG1_",
    "outputId": "082e812f-72d7-405e-e5ee-319d42f61fd0"
   },
   "outputs": [
    {
     "name": "stdout",
     "output_type": "stream",
     "text": [
      "Requirement already satisfied: xgboost in /opt/homebrew/lib/python3.11/site-packages (2.1.3)\n",
      "Requirement already satisfied: numpy in /opt/homebrew/lib/python3.11/site-packages (from xgboost) (1.26.2)\n",
      "Requirement already satisfied: scipy in /opt/homebrew/lib/python3.11/site-packages (from xgboost) (1.14.1)\n",
      "--------------------Logistic Regression results------------------------------\n",
      "              precision    recall  f1-score   support\n",
      "\n",
      "table tennis       0.73      0.64      0.68       208\n",
      "      tennis       0.69      0.77      0.72       214\n",
      "\n",
      "    accuracy                           0.70       422\n",
      "   macro avg       0.71      0.70      0.70       422\n",
      "weighted avg       0.71      0.70      0.70       422\n",
      "\n",
      "Accuracy: 0.7037914691943128\n",
      "Confusion Matrix: [[133  75]\n",
      " [ 50 164]]\n",
      "F1 Score: 0.7024954115881611\n",
      "--------------------KNN results------------------------------\n",
      "              precision    recall  f1-score   support\n",
      "\n",
      "table tennis       0.83      0.85      0.84       208\n",
      "      tennis       0.85      0.84      0.84       214\n",
      "\n",
      "    accuracy                           0.84       422\n",
      "   macro avg       0.84      0.84      0.84       422\n",
      "weighted avg       0.84      0.84      0.84       422\n",
      "\n",
      "Accuracy: 0.8436018957345972\n",
      "Confusion Matrix: [[177  31]\n",
      " [ 35 179]]\n",
      "F1 Score: 0.8436089217051392\n",
      "--------------------SVM results----------------------------------------\n",
      "              precision    recall  f1-score   support\n",
      "\n",
      "table tennis       0.74      0.63      0.68       208\n",
      "      tennis       0.69      0.79      0.73       214\n",
      "\n",
      "    accuracy                           0.71       422\n",
      "   macro avg       0.71      0.71      0.71       422\n",
      "weighted avg       0.71      0.71      0.71       422\n",
      "\n",
      "Accuracy: 0.7085308056872038\n",
      "Confusion Matrix: [[131  77]\n",
      " [ 46 168]]\n",
      "F1 Score: 0.7066389732684686\n",
      "--------------------Random Forest results------------------------------\n",
      "              precision    recall  f1-score   support\n",
      "\n",
      "table tennis       0.95      0.96      0.95       208\n",
      "      tennis       0.96      0.95      0.95       214\n",
      "\n",
      "    accuracy                           0.95       422\n",
      "   macro avg       0.95      0.95      0.95       422\n",
      "weighted avg       0.95      0.95      0.95       422\n",
      "\n",
      "Accuracy: 0.95260663507109\n",
      "Confusion Matrix: [[199   9]\n",
      " [ 11 203]]\n",
      "F1 Score: 0.9526087642965514\n",
      "--------------------Gradient Boost results-----------------------------\n",
      "              precision    recall  f1-score   support\n",
      "\n",
      "table tennis       0.83      0.79      0.81       208\n",
      "      tennis       0.81      0.85      0.83       214\n",
      "\n",
      "    accuracy                           0.82       422\n",
      "   macro avg       0.82      0.82      0.82       422\n",
      "weighted avg       0.82      0.82      0.82       422\n",
      "\n",
      "Accuracy: 0.8199052132701422\n",
      "Confusion Matrix: [[165  43]\n",
      " [ 33 181]]\n",
      "F1 Score: 0.819743173738253\n",
      "--------------------XGBoost results------------------------------\n",
      "              precision    recall  f1-score   support\n",
      "\n",
      "table tennis       0.94      0.91      0.93       208\n",
      "      tennis       0.91      0.95      0.93       214\n",
      "\n",
      "    accuracy                           0.93       422\n",
      "   macro avg       0.93      0.93      0.93       422\n",
      "weighted avg       0.93      0.93      0.93       422\n",
      "\n",
      "Accuracy: 0.9289099526066351\n",
      "Confusion Matrix: [[189  19]\n",
      " [ 11 203]]\n",
      "F1 Score: 0.9288651936273444\n"
     ]
    }
   ],
   "source": [
    "\n",
    "from sklearn.svm import SVC\n",
    "from sklearn.ensemble import GradientBoostingClassifier, RandomForestClassifier\n",
    "from sklearn.linear_model import LogisticRegression\n",
    "from sklearn.neighbors import KNeighborsClassifier\n",
    "from sklearn.metrics import confusion_matrix, f1_score, classification_report, accuracy_score\n",
    "\n",
    "!pip install xgboost\n",
    "from xgboost import XGBClassifier\n",
    "\n",
    "print(\"--------------------Logistic Regression results------------------------------\")\n",
    "\n",
    "lr_model = LogisticRegression(random_state=42)\n",
    "lr_model.fit(X_train, y_train)\n",
    "y_pred_lr = lr_model.predict(X_test)\n",
    "print(classification_report(y_test, y_pred_lr, target_names=sport_encoder.classes_))\n",
    "print(f\"Accuracy: {accuracy_score(y_test, y_pred_lr)}\")\n",
    "print(f\"Confusion Matrix: {confusion_matrix(y_test, y_pred_lr)}\")\n",
    "print(f\"F1 Score: {f1_score(y_test, y_pred_lr, average='weighted')}\")\n",
    "\n",
    "print(\"--------------------KNN results------------------------------\")\n",
    "knn_model = KNeighborsClassifier()\n",
    "knn_model.fit(X_train, y_train)\n",
    "y_pred_knn = knn_model.predict(X_test)\n",
    "print(classification_report(y_test, y_pred_knn, target_names=sport_encoder.classes_))\n",
    "print(f\"Accuracy: {accuracy_score(y_test, y_pred_knn)}\")\n",
    "print(f\"Confusion Matrix: {confusion_matrix(y_test, y_pred_knn)}\")\n",
    "print(f\"F1 Score: {f1_score(y_test, y_pred_knn, average='weighted')}\")\n",
    "\n",
    "print(\"--------------------SVM results----------------------------------------\")\n",
    "svm_model = SVC(random_state=42)\n",
    "svm_model.fit(X_train, y_train)\n",
    "y_pred_svm = svm_model.predict(X_test)\n",
    "print(classification_report(y_test, y_pred_svm, target_names=sport_encoder.classes_))\n",
    "print(f\"Accuracy: {accuracy_score(y_test, y_pred_svm)}\")\n",
    "print(f\"Confusion Matrix: {confusion_matrix(y_test, y_pred_svm)}\")\n",
    "print(f\"F1 Score: {f1_score(y_test, y_pred_svm, average='weighted')}\")\n",
    "\n",
    "print(\"--------------------Random Forest results------------------------------\")\n",
    "rf_model = RandomForestClassifier(random_state=42)\n",
    "rf_model.fit(X_train, y_train)\n",
    "y_pred_rf = rf_model.predict(X_test)\n",
    "print(classification_report(y_test, y_pred_rf, target_names=sport_encoder.classes_))\n",
    "print(f\"Accuracy: {accuracy_score(y_test, y_pred_rf)}\")\n",
    "print(f\"Confusion Matrix: {confusion_matrix(y_test, y_pred_rf)}\")\n",
    "print(f\"F1 Score: {f1_score(y_test, y_pred_rf, average='weighted')}\")\n",
    "\n",
    "print(\"--------------------Gradient Boost results-----------------------------\")\n",
    "gb_model = GradientBoostingClassifier(random_state=42)\n",
    "gb_model.fit(X_train, y_train)\n",
    "y_pred_gb = gb_model.predict(X_test)\n",
    "print(classification_report(y_test, y_pred_gb, target_names=sport_encoder.classes_))\n",
    "print(f\"Accuracy: {accuracy_score(y_test, y_pred_gb)}\")\n",
    "print(f\"Confusion Matrix: {confusion_matrix(y_test, y_pred_gb)}\")\n",
    "print(f\"F1 Score: {f1_score(y_test, y_pred_gb, average='weighted')}\")\n",
    "\n",
    "print(\"--------------------XGBoost results------------------------------\")\n",
    "xgb_model = XGBClassifier(random_state=42)\n",
    "xgb_model.fit(X_train, y_train)\n",
    "y_pred_xgb = xgb_model.predict(X_test)\n",
    "print(classification_report(y_test, y_pred_xgb, target_names=sport_encoder.classes_))\n",
    "print(f\"Accuracy: {accuracy_score(y_test, y_pred_xgb)}\")\n",
    "print(f\"Confusion Matrix: {confusion_matrix(y_test, y_pred_xgb)}\")\n",
    "print(f\"F1 Score: {f1_score(y_test, y_pred_xgb, average='weighted')}\")"
   ]
  },
  {
   "cell_type": "code",
   "execution_count": 98,
   "metadata": {
    "colab": {
     "base_uri": "https://localhost:8080/"
    },
    "id": "tmzCH0TJRYMV",
    "outputId": "2dccb5f2-69d8-4891-c616-6a85ab482ceb"
   },
   "outputs": [
    {
     "name": "stderr",
     "output_type": "stream",
     "text": [
      "/var/folders/4s/nf4ptsw94lq60sq55ldm8pr00000gn/T/ipykernel_78321/2636862229.py:8: SettingWithCopyWarning: \n",
      "A value is trying to be set on a copy of a slice from a DataFrame.\n",
      "Try using .loc[row_indexer,col_indexer] = value instead\n",
      "\n",
      "See the caveats in the documentation: https://pandas.pydata.org/pandas-docs/stable/user_guide/indexing.html#returning-a-view-versus-a-copy\n",
      "  X['country'] = country_encoder.fit_transform(X['country'])\n"
     ]
    }
   ],
   "source": [
    "from sklearn.model_selection import train_test_split\n",
    "from sklearn.preprocessing import LabelEncoder\n",
    "\n",
    "X = Athletes_Data_Female_Popular[['height', 'weight', 'country']]\n",
    "y = Athletes_Data_Female_Popular['sport']\n",
    "\n",
    "country_encoder = LabelEncoder()\n",
    "X['country'] = country_encoder.fit_transform(X['country'])\n",
    "\n",
    "sport_encoder = LabelEncoder()\n",
    "y = sport_encoder.fit_transform(y)\n",
    "\n",
    "X_train, X_test, y_train, y_test = train_test_split(X, y, test_size=0.2, random_state=42)"
   ]
  },
  {
   "cell_type": "code",
   "execution_count": 99,
   "metadata": {
    "colab": {
     "base_uri": "https://localhost:8080/"
    },
    "id": "R_12tqsLWGGk",
    "outputId": "e8a0858f-d9ee-4485-977e-bea93a755ca9"
   },
   "outputs": [
    {
     "name": "stdout",
     "output_type": "stream",
     "text": [
      "Requirement already satisfied: xgboost in /opt/homebrew/lib/python3.11/site-packages (2.1.3)\n",
      "Requirement already satisfied: numpy in /opt/homebrew/lib/python3.11/site-packages (from xgboost) (1.26.2)\n",
      "Requirement already satisfied: scipy in /opt/homebrew/lib/python3.11/site-packages (from xgboost) (1.14.1)\n",
      "--------------------Logistic Regression results------------------------------\n",
      "              precision    recall  f1-score   support\n",
      "\n",
      "table tennis       0.69      0.68      0.69       190\n",
      "      tennis       0.73      0.74      0.73       223\n",
      "\n",
      "    accuracy                           0.71       413\n",
      "   macro avg       0.71      0.71      0.71       413\n",
      "weighted avg       0.71      0.71      0.71       413\n",
      "\n",
      "Accuracy: 0.711864406779661\n",
      "Confusion Matrix: [[130  60]\n",
      " [ 59 164]]\n",
      "F1 Score: 0.7118065799885086\n",
      "--------------------KNN results------------------------------\n",
      "              precision    recall  f1-score   support\n",
      "\n",
      "table tennis       0.81      0.78      0.79       190\n",
      "      tennis       0.82      0.84      0.83       223\n",
      "\n",
      "    accuracy                           0.81       413\n",
      "   macro avg       0.81      0.81      0.81       413\n",
      "weighted avg       0.81      0.81      0.81       413\n",
      "\n",
      "Accuracy: 0.8135593220338984\n",
      "Confusion Matrix: [[149  41]\n",
      " [ 36 187]]\n",
      "F1 Score: 0.8133498690919112\n",
      "--------------------SVM results----------------------------------------\n",
      "              precision    recall  f1-score   support\n",
      "\n",
      "table tennis       0.72      0.70      0.71       190\n",
      "      tennis       0.75      0.77      0.76       223\n",
      "\n",
      "    accuracy                           0.74       413\n",
      "   macro avg       0.73      0.73      0.73       413\n",
      "weighted avg       0.74      0.74      0.74       413\n",
      "\n",
      "Accuracy: 0.7360774818401937\n",
      "Confusion Matrix: [[133  57]\n",
      " [ 52 171]]\n",
      "F1 Score: 0.7357809835197185\n",
      "--------------------Random Forest results------------------------------\n",
      "              precision    recall  f1-score   support\n",
      "\n",
      "table tennis       0.92      0.88      0.90       190\n",
      "      tennis       0.90      0.94      0.92       223\n",
      "\n",
      "    accuracy                           0.91       413\n",
      "   macro avg       0.91      0.91      0.91       413\n",
      "weighted avg       0.91      0.91      0.91       413\n",
      "\n",
      "Accuracy: 0.9128329297820823\n",
      "Confusion Matrix: [[168  22]\n",
      " [ 14 209]]\n",
      "F1 Score: 0.9126636412652459\n",
      "--------------------Gradient Boost results-----------------------------\n",
      "              precision    recall  f1-score   support\n",
      "\n",
      "table tennis       0.80      0.75      0.78       190\n",
      "      tennis       0.80      0.84      0.82       223\n",
      "\n",
      "    accuracy                           0.80       413\n",
      "   macro avg       0.80      0.80      0.80       413\n",
      "weighted avg       0.80      0.80      0.80       413\n",
      "\n",
      "Accuracy: 0.801452784503632\n",
      "Confusion Matrix: [[143  47]\n",
      " [ 35 188]]\n",
      "F1 Score: 0.8008166568671214\n",
      "--------------------XGBoost results------------------------------\n",
      "              precision    recall  f1-score   support\n",
      "\n",
      "table tennis       0.88      0.84      0.86       190\n",
      "      tennis       0.87      0.90      0.89       223\n",
      "\n",
      "    accuracy                           0.87       413\n",
      "   macro avg       0.87      0.87      0.87       413\n",
      "weighted avg       0.87      0.87      0.87       413\n",
      "\n",
      "Accuracy: 0.87409200968523\n",
      "Confusion Matrix: [[160  30]\n",
      " [ 22 201]]\n",
      "F1 Score: 0.8738474818275774\n"
     ]
    }
   ],
   "source": [
    "from sklearn.svm import SVC\n",
    "from sklearn.ensemble import GradientBoostingClassifier, RandomForestClassifier\n",
    "from sklearn.linear_model import LogisticRegression\n",
    "from sklearn.neighbors import KNeighborsClassifier\n",
    "from sklearn.metrics import confusion_matrix, f1_score, classification_report, accuracy_score\n",
    "\n",
    "!pip install xgboost\n",
    "from xgboost import XGBClassifier\n",
    "\n",
    "print(\"--------------------Logistic Regression results------------------------------\")\n",
    "\n",
    "lr_model = LogisticRegression(random_state=42)\n",
    "lr_model.fit(X_train, y_train)\n",
    "y_pred_lr = lr_model.predict(X_test)\n",
    "print(classification_report(y_test, y_pred_lr, target_names=sport_encoder.classes_))\n",
    "print(f\"Accuracy: {accuracy_score(y_test, y_pred_lr)}\")\n",
    "print(f\"Confusion Matrix: {confusion_matrix(y_test, y_pred_lr)}\")\n",
    "print(f\"F1 Score: {f1_score(y_test, y_pred_lr, average='weighted')}\")\n",
    "\n",
    "print(\"--------------------KNN results------------------------------\")\n",
    "knn_model = KNeighborsClassifier()\n",
    "knn_model.fit(X_train, y_train)\n",
    "y_pred_knn = knn_model.predict(X_test)\n",
    "print(classification_report(y_test, y_pred_knn, target_names=sport_encoder.classes_))\n",
    "print(f\"Accuracy: {accuracy_score(y_test, y_pred_knn)}\")\n",
    "print(f\"Confusion Matrix: {confusion_matrix(y_test, y_pred_knn)}\")\n",
    "print(f\"F1 Score: {f1_score(y_test, y_pred_knn, average='weighted')}\")\n",
    "\n",
    "print(\"--------------------SVM results----------------------------------------\")\n",
    "svm_model = SVC(random_state=42)\n",
    "svm_model.fit(X_train, y_train)\n",
    "y_pred_svm = svm_model.predict(X_test)\n",
    "print(classification_report(y_test, y_pred_svm, target_names=sport_encoder.classes_))\n",
    "print(f\"Accuracy: {accuracy_score(y_test, y_pred_svm)}\")\n",
    "print(f\"Confusion Matrix: {confusion_matrix(y_test, y_pred_svm)}\")\n",
    "print(f\"F1 Score: {f1_score(y_test, y_pred_svm, average='weighted')}\")\n",
    "\n",
    "print(\"--------------------Random Forest results------------------------------\")\n",
    "rf_model = RandomForestClassifier(random_state=42)\n",
    "rf_model.fit(X_train, y_train)\n",
    "y_pred_rf = rf_model.predict(X_test)\n",
    "print(classification_report(y_test, y_pred_rf, target_names=sport_encoder.classes_))\n",
    "print(f\"Accuracy: {accuracy_score(y_test, y_pred_rf)}\")\n",
    "print(f\"Confusion Matrix: {confusion_matrix(y_test, y_pred_rf)}\")\n",
    "print(f\"F1 Score: {f1_score(y_test, y_pred_rf, average='weighted')}\")\n",
    "\n",
    "print(\"--------------------Gradient Boost results-----------------------------\")\n",
    "gb_model = GradientBoostingClassifier(random_state=42)\n",
    "gb_model.fit(X_train, y_train)\n",
    "y_pred_gb = gb_model.predict(X_test)\n",
    "print(classification_report(y_test, y_pred_gb, target_names=sport_encoder.classes_))\n",
    "print(f\"Accuracy: {accuracy_score(y_test, y_pred_gb)}\")\n",
    "print(f\"Confusion Matrix: {confusion_matrix(y_test, y_pred_gb)}\")\n",
    "print(f\"F1 Score: {f1_score(y_test, y_pred_gb, average='weighted')}\")\n",
    "\n",
    "print(\"--------------------XGBoost results------------------------------\")\n",
    "xgb_model = XGBClassifier(random_state=42)\n",
    "xgb_model.fit(X_train, y_train)\n",
    "y_pred_xgb = xgb_model.predict(X_test)\n",
    "print(classification_report(y_test, y_pred_xgb, target_names=sport_encoder.classes_))\n",
    "print(f\"Accuracy: {accuracy_score(y_test, y_pred_xgb)}\")\n",
    "print(f\"Confusion Matrix: {confusion_matrix(y_test, y_pred_xgb)}\")\n",
    "print(f\"F1 Score: {f1_score(y_test, y_pred_xgb, average='weighted')}\")"
   ]
  },
  {
   "cell_type": "code",
   "execution_count": 100,
   "metadata": {
    "colab": {
     "base_uri": "https://localhost:8080/"
    },
    "id": "ax8Q950Dhmsf",
    "outputId": "06b4901e-8e5f-4c2e-d784-720915a6e13b"
   },
   "outputs": [
    {
     "name": "stderr",
     "output_type": "stream",
     "text": [
      "/var/folders/4s/nf4ptsw94lq60sq55ldm8pr00000gn/T/ipykernel_78321/3156714820.py:8: SettingWithCopyWarning: \n",
      "A value is trying to be set on a copy of a slice from a DataFrame.\n",
      "Try using .loc[row_indexer,col_indexer] = value instead\n",
      "\n",
      "See the caveats in the documentation: https://pandas.pydata.org/pandas-docs/stable/user_guide/indexing.html#returning-a-view-versus-a-copy\n",
      "  X['country'] = country_encoder.fit_transform(X['country'])\n",
      "/opt/homebrew/lib/python3.11/site-packages/sklearn/metrics/_classification.py:1531: UndefinedMetricWarning: Precision is ill-defined and being set to 0.0 in labels with no predicted samples. Use `zero_division` parameter to control this behavior.\n",
      "  _warn_prf(average, modifier, f\"{metric.capitalize()} is\", len(result))\n",
      "/opt/homebrew/lib/python3.11/site-packages/sklearn/metrics/_classification.py:1531: UndefinedMetricWarning: Precision is ill-defined and being set to 0.0 in labels with no predicted samples. Use `zero_division` parameter to control this behavior.\n",
      "  _warn_prf(average, modifier, f\"{metric.capitalize()} is\", len(result))\n",
      "/opt/homebrew/lib/python3.11/site-packages/sklearn/metrics/_classification.py:1531: UndefinedMetricWarning: Precision is ill-defined and being set to 0.0 in labels with no predicted samples. Use `zero_division` parameter to control this behavior.\n",
      "  _warn_prf(average, modifier, f\"{metric.capitalize()} is\", len(result))\n"
     ]
    },
    {
     "name": "stdout",
     "output_type": "stream",
     "text": [
      "---Logistic Regression---\n",
      "              precision    recall  f1-score   support\n",
      "\n",
      "           0       0.89      1.00      0.94      6577\n",
      "           1       0.00      0.00      0.00       834\n",
      "\n",
      "    accuracy                           0.89      7411\n",
      "   macro avg       0.44      0.50      0.47      7411\n",
      "weighted avg       0.79      0.89      0.83      7411\n",
      "\n",
      "Accuracy: 0.8874645796788557\n",
      "F1 Score: 0.8345516929579404\n",
      "---KNN---\n",
      "              precision    recall  f1-score   support\n",
      "\n",
      "           0       0.90      0.97      0.93      6577\n",
      "           1       0.39      0.13      0.20       834\n",
      "\n",
      "    accuracy                           0.88      7411\n",
      "   macro avg       0.64      0.55      0.56      7411\n",
      "weighted avg       0.84      0.88      0.85      7411\n",
      "\n",
      "Accuracy: 0.878693833490757\n",
      "F1 Score: 0.8512130568092595\n",
      "---SVM---\n",
      "              precision    recall  f1-score   support\n",
      "\n",
      "           0       0.89      1.00      0.94      6577\n",
      "           1       0.00      0.00      0.00       834\n",
      "\n",
      "    accuracy                           0.89      7411\n",
      "   macro avg       0.44      0.50      0.47      7411\n",
      "weighted avg       0.79      0.89      0.83      7411\n",
      "\n",
      "Accuracy: 0.8874645796788557\n",
      "F1 Score: 0.8345516929579404\n"
     ]
    },
    {
     "name": "stderr",
     "output_type": "stream",
     "text": [
      "/opt/homebrew/lib/python3.11/site-packages/sklearn/metrics/_classification.py:1531: UndefinedMetricWarning: Precision is ill-defined and being set to 0.0 in labels with no predicted samples. Use `zero_division` parameter to control this behavior.\n",
      "  _warn_prf(average, modifier, f\"{metric.capitalize()} is\", len(result))\n",
      "/opt/homebrew/lib/python3.11/site-packages/sklearn/metrics/_classification.py:1531: UndefinedMetricWarning: Precision is ill-defined and being set to 0.0 in labels with no predicted samples. Use `zero_division` parameter to control this behavior.\n",
      "  _warn_prf(average, modifier, f\"{metric.capitalize()} is\", len(result))\n",
      "/opt/homebrew/lib/python3.11/site-packages/sklearn/metrics/_classification.py:1531: UndefinedMetricWarning: Precision is ill-defined and being set to 0.0 in labels with no predicted samples. Use `zero_division` parameter to control this behavior.\n",
      "  _warn_prf(average, modifier, f\"{metric.capitalize()} is\", len(result))\n"
     ]
    },
    {
     "name": "stdout",
     "output_type": "stream",
     "text": [
      "---Random Forest---\n",
      "              precision    recall  f1-score   support\n",
      "\n",
      "           0       0.90      0.96      0.93      6577\n",
      "           1       0.37      0.20      0.26       834\n",
      "\n",
      "    accuracy                           0.87      7411\n",
      "   macro avg       0.64      0.58      0.60      7411\n",
      "weighted avg       0.84      0.87      0.85      7411\n",
      "\n",
      "Accuracy: 0.8719471056537579\n",
      "F1 Score: 0.8549147414440205\n",
      "---Gradient Boosting---\n",
      "              precision    recall  f1-score   support\n",
      "\n",
      "           0       0.89      1.00      0.94      6577\n",
      "           1       1.00      0.00      0.00       834\n",
      "\n",
      "    accuracy                           0.89      7411\n",
      "   macro avg       0.94      0.50      0.47      7411\n",
      "weighted avg       0.90      0.89      0.83      7411\n",
      "\n",
      "Accuracy: 0.8875995142355957\n",
      "F1 Score: 0.8348809051144537\n",
      "---XGBoost---\n",
      "              precision    recall  f1-score   support\n",
      "\n",
      "           0       0.89      0.99      0.94      6577\n",
      "           1       0.43      0.07      0.12       834\n",
      "\n",
      "    accuracy                           0.89      7411\n",
      "   macro avg       0.66      0.53      0.53      7411\n",
      "weighted avg       0.84      0.89      0.85      7411\n",
      "\n",
      "Accuracy: 0.8850357576575361\n",
      "F1 Score: 0.8467643525020329\n"
     ]
    }
   ],
   "source": [
    "#Problem 2\n",
    "# In athletics, height, weight, age, and country are major indicators of success in the Olympics. We have made models to achieve the same. (Predict the success/failure of athletics based on their height weight, and Country they belong to.)\n",
    "\n",
    "X = athletics_data[['height', 'weight', 'age', 'country']]\n",
    "y = athletics_data['has_medal']\n",
    "\n",
    "country_encoder = LabelEncoder()\n",
    "X['country'] = country_encoder.fit_transform(X['country'])\n",
    "\n",
    "X_train, X_test, y_train, y_test = train_test_split(X, y, test_size=0.2, random_state=42)\n",
    "\n",
    "models = {\n",
    "    \"Logistic Regression\": LogisticRegression(),\n",
    "    \"KNN\": KNeighborsClassifier(),\n",
    "    \"SVM\": SVC(),\n",
    "    \"Random Forest\": RandomForestClassifier(),\n",
    "    \"Gradient Boosting\": GradientBoostingClassifier(),\n",
    "    \"XGBoost\": XGBClassifier()\n",
    "}\n",
    "\n",
    "for name, model in models.items():\n",
    "    model.fit(X_train, y_train)\n",
    "    y_pred = model.predict(X_test)\n",
    "    accuracy = accuracy_score(y_test, y_pred)\n",
    "    f1 = f1_score(y_test, y_pred, average='weighted')\n",
    "    print(f\"---{name}---\")\n",
    "    print(classification_report(y_test, y_pred))\n",
    "    print(f\"Accuracy: {accuracy}\")\n",
    "    print(f\"F1 Score: {f1}\")"
   ]
  },
  {
   "cell_type": "code",
   "execution_count": null,
   "metadata": {
    "id": "yFJ8hqoEsyKc"
   },
   "outputs": [],
   "source": []
  }
 ],
 "metadata": {
  "colab": {
   "collapsed_sections": [
    "fwnrhSRM211S",
    "IlEXETzLVAc_",
    "risHmFC58SZE",
    "N17nxuTX6BNB",
    "wlypwUaxD2QE",
    "KlAAlFQ88VsB",
    "-L8xfK1yD_4l",
    "LtuwrryjZuF-",
    "nSUhMxCVKkhY",
    "392jhzlkPeLH"
   ],
   "provenance": []
  },
  "kernelspec": {
   "display_name": "Python 3",
   "name": "python3"
  },
  "language_info": {
   "codemirror_mode": {
    "name": "ipython",
    "version": 3
   },
   "file_extension": ".py",
   "mimetype": "text/x-python",
   "name": "python",
   "nbconvert_exporter": "python",
   "pygments_lexer": "ipython3",
   "version": "3.11.10"
  }
 },
 "nbformat": 4,
 "nbformat_minor": 0
}
