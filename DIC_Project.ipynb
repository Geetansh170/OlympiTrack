{
  "nbformat": 4,
  "nbformat_minor": 0,
  "metadata": {
    "colab": {
      "provenance": [],
      "collapsed_sections": [
        "fwnrhSRM211S",
        "6tMffltZtAxQ"
      ]
    },
    "kernelspec": {
      "name": "python3",
      "display_name": "Python 3"
    },
    "language_info": {
      "name": "python"
    }
  },
  "cells": [
    {
      "cell_type": "markdown",
      "source": [
        "# Download and Import Dependacies"
      ],
      "metadata": {
        "id": "fwnrhSRM211S"
      }
    },
    {
      "cell_type": "code",
      "execution_count": 4,
      "metadata": {
        "id": "NZvxb02nsbkD"
      },
      "outputs": [],
      "source": [
        "import pandas as pd"
      ]
    },
    {
      "cell_type": "markdown",
      "source": [
        "# Data Retrieval\n"
      ],
      "metadata": {
        "id": "6tMffltZtAxQ"
      }
    },
    {
      "cell_type": "code",
      "source": [
        "from google.colab import drive\n",
        "drive.mount('/drive')\n",
        "%cd ..\n",
        "%cd /drive/MyDrive/DIC_PROJECT\n",
        "!ls"
      ],
      "metadata": {
        "colab": {
          "base_uri": "https://localhost:8080/"
        },
        "id": "kMnV086KtSVC",
        "outputId": "bb4f314d-2502-4cdf-ae88-890d38b71ae2"
      },
      "execution_count": 44,
      "outputs": [
        {
          "output_type": "stream",
          "name": "stdout",
          "text": [
            "Drive already mounted at /drive; to attempt to forcibly remount, call drive.mount(\"/drive\", force_remount=True).\n",
            "/drive/My Drive\n",
            "/drive/MyDrive/DIC_PROJECT\n",
            "Olympic_Athlete_Biography.csv\t   Olympic_Event_Results.csv  Olympic_Medal_Tally_History.csv\n",
            "Olympic_Athlete_Event_Details.csv  Olympic_Games_Summary.csv  population_total_long.csv\n"
          ]
        }
      ]
    },
    {
      "cell_type": "code",
      "source": [
        "Athlete_Events = pd.read_csv('Olympic_Athlete_Event_Details.csv')\n",
        "Event_Results = pd.read_csv('Olympic_Event_Results.csv')\n",
        "Athlete_Biography = pd.read_csv('Olympic_Athlete_Biography.csv')\n",
        "Medal_Tally = pd.read_csv('Olympic_Medal_Tally_History.csv')\n",
        "Games_Summary = pd.read_csv('Olympic_Games_Summary.csv')\n",
        "Population_Total = pd.read_csv('population_total_long.csv')"
      ],
      "metadata": {
        "id": "wOBbw7DSwGWN"
      },
      "execution_count": 45,
      "outputs": []
    },
    {
      "cell_type": "code",
      "source": [
        "print(Athlete_Events.shape)\n",
        "print(Event_Results.shape)\n",
        "print(Athlete_Biography.shape)\n",
        "print(Medal_Tally.shape)\n",
        "print(Games_Summary.shape)\n",
        "print(Population_Total.shape)"
      ],
      "metadata": {
        "colab": {
          "base_uri": "https://localhost:8080/"
        },
        "id": "e6U8CCjC2x-I",
        "outputId": "1306b514-fcc1-4f66-a361-eb3a8c449f09"
      },
      "execution_count": 46,
      "outputs": [
        {
          "output_type": "stream",
          "name": "stdout",
          "text": [
            "(316834, 11)\n",
            "(7394, 12)\n",
            "(155861, 10)\n",
            "(1807, 9)\n",
            "(64, 11)\n",
            "(12595, 3)\n"
          ]
        }
      ]
    },
    {
      "cell_type": "markdown",
      "source": [
        "# Event Results cleaning\n"
      ],
      "metadata": {
        "id": "risHmFC58SZE"
      }
    },
    {
      "cell_type": "code",
      "source": [
        "print(Event_Results.shape)\n",
        "print(Event_Results.describe())\n",
        "# print(Event_Results.head(10))"
      ],
      "metadata": {
        "colab": {
          "base_uri": "https://localhost:8080/"
        },
        "id": "KMd8NmlD8Y2r",
        "outputId": "5a4108ed-5b3e-4158-83d4-2473fc08e542"
      },
      "execution_count": 47,
      "outputs": [
        {
          "output_type": "stream",
          "name": "stdout",
          "text": [
            "(7394, 12)\n",
            "          result_id   edition_id\n",
            "count  7.394000e+03  7394.000000\n",
            "mean   1.535217e+06    27.647011\n",
            "std    5.104084e+06    19.200363\n",
            "min    1.000000e+00     1.000000\n",
            "25%    3.002525e+04    13.000000\n",
            "50%    7.077100e+04    22.000000\n",
            "75%    3.310878e+05    46.000000\n",
            "max    9.001677e+07    62.000000\n"
          ]
        }
      ]
    },
    {
      "cell_type": "markdown",
      "source": [
        "1. Removing duplicates if any."
      ],
      "metadata": {
        "id": "gCtNuNLC_iEk"
      }
    },
    {
      "cell_type": "code",
      "source": [
        "Event_Results.drop_duplicates(inplace=True)"
      ],
      "metadata": {
        "id": "9VFSV9-g8-kg"
      },
      "execution_count": 48,
      "outputs": []
    },
    {
      "cell_type": "markdown",
      "source": [
        "2. Removing unwanted columns.\n"
      ],
      "metadata": {
        "id": "vZYO96GB_lCo"
      }
    },
    {
      "cell_type": "code",
      "source": [
        "Event_Results.drop(['sport_url','result_date','result_location','result_format','result_detail','result_description'], axis=1, inplace=True)\n"
      ],
      "metadata": {
        "id": "Jjl6SIsb_-go"
      },
      "execution_count": 49,
      "outputs": []
    },
    {
      "cell_type": "code",
      "source": [
        "print(Event_Results.shape)"
      ],
      "metadata": {
        "colab": {
          "base_uri": "https://localhost:8080/"
        },
        "id": "PGQi9imEAgZ5",
        "outputId": "986ed46c-6df8-461e-b1cc-0cf9587851bf"
      },
      "execution_count": 50,
      "outputs": [
        {
          "output_type": "stream",
          "name": "stdout",
          "text": [
            "(7394, 6)\n"
          ]
        }
      ]
    },
    {
      "cell_type": "markdown",
      "source": [
        "3. Will convert all text fields to lower for consistency\n"
      ],
      "metadata": {
        "id": "qMo-y6xtBFmF"
      }
    },
    {
      "cell_type": "code",
      "source": [
        "Event_Results['event_title'] = Event_Results['event_title'].str.strip().str.lower()\n",
        "Event_Results['edition'] = Event_Results['edition'].str.strip().str.lower()\n",
        "Event_Results['sport'] = Event_Results['sport'].str.strip().str.lower()\n",
        "Event_Results['result_participants'] = Event_Results['result_participants'].str.strip().str.lower()"
      ],
      "metadata": {
        "id": "IrvbPWjZBK2w"
      },
      "execution_count": 51,
      "outputs": []
    },
    {
      "cell_type": "code",
      "source": [
        "print(Event_Results['result_participants'].head(10))"
      ],
      "metadata": {
        "colab": {
          "base_uri": "https://localhost:8080/"
        },
        "id": "qjTZj_DLCT3t",
        "outputId": "703529cb-87e1-4141-830c-50957e8fb26f"
      },
      "execution_count": 52,
      "outputs": [
        {
          "output_type": "stream",
          "name": "stdout",
          "text": [
            "0    17 from 15 countries\n",
            "1    31 from 14 countries\n",
            "2    43 from 15 countries\n",
            "3    30 from 14 countries\n",
            "4    16 from 16 countries\n",
            "5     15 from 3 countries\n",
            "6    22 from 14 countries\n",
            "7      7 from 4 countries\n",
            "8    53 from 21 countries\n",
            "9      3 from 2 countries\n",
            "Name: result_participants, dtype: object\n"
          ]
        }
      ]
    },
    {
      "cell_type": "markdown",
      "source": [
        "4. Creating new columns with total participants and total participating countries for each event"
      ],
      "metadata": {
        "id": "ma6hVpJ7DrOG"
      }
    },
    {
      "cell_type": "code",
      "source": [
        "Event_Results[['participants', 'participant_countries']] = Event_Results['result_participants'].str.extract(r'(\\d+)\\sfrom\\s(\\d+)')\n",
        "\n",
        "Event_Results['participants'] = Event_Results['participants'].astype(int)\n",
        "Event_Results['participant_countries'] = Event_Results['participant_countries'].astype(int)\n",
        "\n",
        "Event_Results.drop('result_participants', axis=1, inplace=True)\n",
        "\n",
        "print(Event_Results)"
      ],
      "metadata": {
        "colab": {
          "base_uri": "https://localhost:8080/"
        },
        "id": "zqK33aezDH90",
        "outputId": "46e5d5af-d683-43b8-e878-ab22f4b7e6ee"
      },
      "execution_count": 53,
      "outputs": [
        {
          "output_type": "stream",
          "name": "stdout",
          "text": [
            "      result_id                              event_title  \\\n",
            "0         30359  super-heavyweight (>105 kilograms), men   \n",
            "1          1626                     giant slalom, women1   \n",
            "2            76                             singles, men   \n",
            "3           962                        1,500 metres, men   \n",
            "4        258824            canadian singles, slalom, men   \n",
            "...         ...                                      ...   \n",
            "7389   19001250                          basketball, men   \n",
            "7390      84835                         sabre, team, men   \n",
            "7391      72031                    foil, individual, men   \n",
            "7392     258676                  beach volleyball, women   \n",
            "7393      48121                             doubles, men   \n",
            "\n",
            "                   edition  edition_id             sport  participants  \\\n",
            "0     2004 summer olympics          26     weightlifting            17   \n",
            "1     1998 winter olympics          46      snowboarding            31   \n",
            "2     1976 winter olympics          40              luge            43   \n",
            "3     1928 winter olympics          30     speed skating            30   \n",
            "4     2008 summer olympics          53      canoe slalom            16   \n",
            "...                    ...         ...               ...           ...   \n",
            "7389  2020 summer olympics          61        basketball           143   \n",
            "7390  1936 summer olympics          11           fencing           107   \n",
            "7391  1900 summer olympics           2           fencing            53   \n",
            "7392  2008 summer olympics          53  beach volleyball            48   \n",
            "7393  2000 summer olympics          25      table tennis            72   \n",
            "\n",
            "      participant_countries  \n",
            "0                        15  \n",
            "1                        14  \n",
            "2                        15  \n",
            "3                        14  \n",
            "4                        16  \n",
            "...                     ...  \n",
            "7389                     12  \n",
            "7390                     21  \n",
            "7391                      9  \n",
            "7392                     17  \n",
            "7393                     29  \n",
            "\n",
            "[7394 rows x 7 columns]\n"
          ]
        }
      ]
    },
    {
      "cell_type": "code",
      "source": [
        "print(Event_Results['participants'].head(10))\n",
        "print(Event_Results['participant_countries'].head(10))"
      ],
      "metadata": {
        "colab": {
          "base_uri": "https://localhost:8080/"
        },
        "id": "A9miI6NyDQLM",
        "outputId": "bc8a94fb-579e-4953-a771-06fb02c189bd"
      },
      "execution_count": 54,
      "outputs": [
        {
          "output_type": "stream",
          "name": "stdout",
          "text": [
            "0    17\n",
            "1    31\n",
            "2    43\n",
            "3    30\n",
            "4    16\n",
            "5    15\n",
            "6    22\n",
            "7     7\n",
            "8    53\n",
            "9     3\n",
            "Name: participants, dtype: int64\n",
            "0    15\n",
            "1    14\n",
            "2    15\n",
            "3    14\n",
            "4    16\n",
            "5     3\n",
            "6    14\n",
            "7     4\n",
            "8    21\n",
            "9     2\n",
            "Name: participant_countries, dtype: int64\n"
          ]
        }
      ]
    },
    {
      "cell_type": "code",
      "source": [
        "print(Event_Results['event_title'].head(10))"
      ],
      "metadata": {
        "id": "oiyLUWlODplH",
        "colab": {
          "base_uri": "https://localhost:8080/"
        },
        "outputId": "0faadb14-c4b0-4fbe-d628-8acfb63618bc"
      },
      "execution_count": 55,
      "outputs": [
        {
          "output_type": "stream",
          "name": "stdout",
          "text": [
            "0         super-heavyweight (>105 kilograms), men\n",
            "1                            giant slalom, women1\n",
            "2                                    singles, men\n",
            "3                               1,500 metres, men\n",
            "4                   canadian singles, slalom, men\n",
            "5               singles, handicap (class ii), men\n",
            "6                                   shot put, men\n",
            "7                    800 metres wheelchair, women\n",
            "8    30 kilometres (mass start, classical), women\n",
            "9                  kayak singles, 800 metres, men\n",
            "Name: event_title, dtype: object\n"
          ]
        }
      ]
    },
    {
      "cell_type": "markdown",
      "source": [
        "5. Separating male and female events by adding a column for each men and women"
      ],
      "metadata": {
        "id": "JH8ZKVxyKZFG"
      }
    },
    {
      "cell_type": "code",
      "source": [
        "Event_Results['men'] = Event_Results['event_title'].str.contains(r'\\bmen\\b', case=False).astype(int)\n",
        "Event_Results['women'] = Event_Results['event_title'].str.contains('women', case=False).astype(int)\n",
        "\n",
        "print(Event_Results)"
      ],
      "metadata": {
        "colab": {
          "base_uri": "https://localhost:8080/"
        },
        "id": "HVCeivSAJv-g",
        "outputId": "21e3e027-26db-4a78-c8e1-52529932e814"
      },
      "execution_count": 56,
      "outputs": [
        {
          "output_type": "stream",
          "name": "stdout",
          "text": [
            "      result_id                              event_title  \\\n",
            "0         30359  super-heavyweight (>105 kilograms), men   \n",
            "1          1626                     giant slalom, women1   \n",
            "2            76                             singles, men   \n",
            "3           962                        1,500 metres, men   \n",
            "4        258824            canadian singles, slalom, men   \n",
            "...         ...                                      ...   \n",
            "7389   19001250                          basketball, men   \n",
            "7390      84835                         sabre, team, men   \n",
            "7391      72031                    foil, individual, men   \n",
            "7392     258676                  beach volleyball, women   \n",
            "7393      48121                             doubles, men   \n",
            "\n",
            "                   edition  edition_id             sport  participants  \\\n",
            "0     2004 summer olympics          26     weightlifting            17   \n",
            "1     1998 winter olympics          46      snowboarding            31   \n",
            "2     1976 winter olympics          40              luge            43   \n",
            "3     1928 winter olympics          30     speed skating            30   \n",
            "4     2008 summer olympics          53      canoe slalom            16   \n",
            "...                    ...         ...               ...           ...   \n",
            "7389  2020 summer olympics          61        basketball           143   \n",
            "7390  1936 summer olympics          11           fencing           107   \n",
            "7391  1900 summer olympics           2           fencing            53   \n",
            "7392  2008 summer olympics          53  beach volleyball            48   \n",
            "7393  2000 summer olympics          25      table tennis            72   \n",
            "\n",
            "      participant_countries  men  women  \n",
            "0                        15    1      0  \n",
            "1                        14    0      1  \n",
            "2                        15    1      0  \n",
            "3                        14    1      0  \n",
            "4                        16    1      0  \n",
            "...                     ...  ...    ...  \n",
            "7389                     12    1      0  \n",
            "7390                     21    1      0  \n",
            "7391                      9    1      0  \n",
            "7392                     17    0      1  \n",
            "7393                     29    1      0  \n",
            "\n",
            "[7394 rows x 9 columns]\n"
          ]
        }
      ]
    },
    {
      "cell_type": "markdown",
      "source": [
        "6. Extract year and olympic type from the data"
      ],
      "metadata": {
        "id": "RKKcS3ujMNdS"
      }
    },
    {
      "cell_type": "code",
      "source": [
        "Event_Results[['year', 'olympic_type']] = Event_Results['edition'].str.extract(r'(\\d{4})\\s+(summer|winter)\\s+olympics')\n",
        "\n",
        "print(Event_Results['year'].head())\n",
        "print(Event_Results['olympic_type'].head())"
      ],
      "metadata": {
        "colab": {
          "base_uri": "https://localhost:8080/"
        },
        "id": "faPL07PgL_Cj",
        "outputId": "4ad6e63f-53a9-4c2a-ff30-32c9b8df55d4"
      },
      "execution_count": 57,
      "outputs": [
        {
          "output_type": "stream",
          "name": "stdout",
          "text": [
            "0    2004\n",
            "1    1998\n",
            "2    1976\n",
            "3    1928\n",
            "4    2008\n",
            "Name: year, dtype: object\n",
            "0    summer\n",
            "1    winter\n",
            "2    winter\n",
            "3    winter\n",
            "4    summer\n",
            "Name: olympic_type, dtype: object\n"
          ]
        }
      ]
    },
    {
      "cell_type": "code",
      "source": [
        "print(Event_Results.shape)"
      ],
      "metadata": {
        "colab": {
          "base_uri": "https://localhost:8080/"
        },
        "id": "Ui3LfgD-Vd_I",
        "outputId": "0b5b5cc7-2919-4741-a49e-6528ed84d894"
      },
      "execution_count": 58,
      "outputs": [
        {
          "output_type": "stream",
          "name": "stdout",
          "text": [
            "(7394, 11)\n"
          ]
        }
      ]
    },
    {
      "cell_type": "markdown",
      "source": [
        "7. Drop rows where essential columns are null"
      ],
      "metadata": {
        "id": "yAWy4EqoNd2o"
      }
    },
    {
      "cell_type": "code",
      "source": [
        "Event_Results.dropna(subset=['event_title', 'sport', 'participants', 'participant_countries', 'men', 'women','year','olympic_type'], inplace=True)"
      ],
      "metadata": {
        "id": "tgjxIkqKVmku"
      },
      "execution_count": 59,
      "outputs": []
    },
    {
      "cell_type": "code",
      "source": [
        "print(Event_Results)"
      ],
      "metadata": {
        "colab": {
          "base_uri": "https://localhost:8080/"
        },
        "id": "__t-2dtVye9P",
        "outputId": "1a793401-9067-4ceb-d37a-88be8b1342b2"
      },
      "execution_count": 60,
      "outputs": [
        {
          "output_type": "stream",
          "name": "stdout",
          "text": [
            "      result_id                              event_title  \\\n",
            "0         30359  super-heavyweight (>105 kilograms), men   \n",
            "1          1626                     giant slalom, women1   \n",
            "2            76                             singles, men   \n",
            "3           962                        1,500 metres, men   \n",
            "4        258824            canadian singles, slalom, men   \n",
            "...         ...                                      ...   \n",
            "7389   19001250                          basketball, men   \n",
            "7390      84835                         sabre, team, men   \n",
            "7391      72031                    foil, individual, men   \n",
            "7392     258676                  beach volleyball, women   \n",
            "7393      48121                             doubles, men   \n",
            "\n",
            "                   edition  edition_id             sport  participants  \\\n",
            "0     2004 summer olympics          26     weightlifting            17   \n",
            "1     1998 winter olympics          46      snowboarding            31   \n",
            "2     1976 winter olympics          40              luge            43   \n",
            "3     1928 winter olympics          30     speed skating            30   \n",
            "4     2008 summer olympics          53      canoe slalom            16   \n",
            "...                    ...         ...               ...           ...   \n",
            "7389  2020 summer olympics          61        basketball           143   \n",
            "7390  1936 summer olympics          11           fencing           107   \n",
            "7391  1900 summer olympics           2           fencing            53   \n",
            "7392  2008 summer olympics          53  beach volleyball            48   \n",
            "7393  2000 summer olympics          25      table tennis            72   \n",
            "\n",
            "      participant_countries  men  women  year olympic_type  \n",
            "0                        15    1      0  2004       summer  \n",
            "1                        14    0      1  1998       winter  \n",
            "2                        15    1      0  1976       winter  \n",
            "3                        14    1      0  1928       winter  \n",
            "4                        16    1      0  2008       summer  \n",
            "...                     ...  ...    ...   ...          ...  \n",
            "7389                     12    1      0  2020       summer  \n",
            "7390                     21    1      0  1936       summer  \n",
            "7391                      9    1      0  1900       summer  \n",
            "7392                     17    0      1  2008       summer  \n",
            "7393                     29    1      0  2000       summer  \n",
            "\n",
            "[7375 rows x 11 columns]\n"
          ]
        }
      ]
    },
    {
      "cell_type": "markdown",
      "source": [
        "One hot encode olympic type"
      ],
      "metadata": {
        "id": "wF7gaXnWzdDQ"
      }
    },
    {
      "cell_type": "code",
      "source": [
        "# One-hot encode the 'olympic_type' column without a prefix\n",
        "olympic_dummies = pd.get_dummies(Event_Results['olympic_type'])\n",
        "\n",
        "# Convert the dummy columns from boolean to integer (0/1)\n",
        "olympic_dummies = olympic_dummies.astype(int)\n",
        "\n",
        "# Concatenate the one-hot encoded columns back to the original DataFrame\n",
        "Event_Results = pd.concat([Event_Results, olympic_dummies], axis=1)\n",
        "\n",
        "print(Event_Results)"
      ],
      "metadata": {
        "colab": {
          "base_uri": "https://localhost:8080/"
        },
        "id": "mZxIyiW6zhWM",
        "outputId": "59113007-42af-47f0-b03b-0a0dac3c93ac"
      },
      "execution_count": 61,
      "outputs": [
        {
          "output_type": "stream",
          "name": "stdout",
          "text": [
            "      result_id                              event_title  \\\n",
            "0         30359  super-heavyweight (>105 kilograms), men   \n",
            "1          1626                     giant slalom, women1   \n",
            "2            76                             singles, men   \n",
            "3           962                        1,500 metres, men   \n",
            "4        258824            canadian singles, slalom, men   \n",
            "...         ...                                      ...   \n",
            "7389   19001250                          basketball, men   \n",
            "7390      84835                         sabre, team, men   \n",
            "7391      72031                    foil, individual, men   \n",
            "7392     258676                  beach volleyball, women   \n",
            "7393      48121                             doubles, men   \n",
            "\n",
            "                   edition  edition_id             sport  participants  \\\n",
            "0     2004 summer olympics          26     weightlifting            17   \n",
            "1     1998 winter olympics          46      snowboarding            31   \n",
            "2     1976 winter olympics          40              luge            43   \n",
            "3     1928 winter olympics          30     speed skating            30   \n",
            "4     2008 summer olympics          53      canoe slalom            16   \n",
            "...                    ...         ...               ...           ...   \n",
            "7389  2020 summer olympics          61        basketball           143   \n",
            "7390  1936 summer olympics          11           fencing           107   \n",
            "7391  1900 summer olympics           2           fencing            53   \n",
            "7392  2008 summer olympics          53  beach volleyball            48   \n",
            "7393  2000 summer olympics          25      table tennis            72   \n",
            "\n",
            "      participant_countries  men  women  year olympic_type  summer  winter  \n",
            "0                        15    1      0  2004       summer       1       0  \n",
            "1                        14    0      1  1998       winter       0       1  \n",
            "2                        15    1      0  1976       winter       0       1  \n",
            "3                        14    1      0  1928       winter       0       1  \n",
            "4                        16    1      0  2008       summer       1       0  \n",
            "...                     ...  ...    ...   ...          ...     ...     ...  \n",
            "7389                     12    1      0  2020       summer       1       0  \n",
            "7390                     21    1      0  1936       summer       1       0  \n",
            "7391                      9    1      0  1900       summer       1       0  \n",
            "7392                     17    0      1  2008       summer       1       0  \n",
            "7393                     29    1      0  2000       summer       1       0  \n",
            "\n",
            "[7375 rows x 13 columns]\n"
          ]
        }
      ]
    },
    {
      "cell_type": "code",
      "source": [
        "print(Event_Results.shape)\n",
        "print(Event_Results.describe())\n",
        "print(Event_Results.head(10))"
      ],
      "metadata": {
        "colab": {
          "base_uri": "https://localhost:8080/"
        },
        "id": "4xjldI1P0GKG",
        "outputId": "25fa2303-1f12-4f95-b475-3dd045708981"
      },
      "execution_count": 62,
      "outputs": [
        {
          "output_type": "stream",
          "name": "stdout",
          "text": [
            "(7375, 13)\n",
            "          result_id   edition_id  participants  participant_countries  \\\n",
            "count  7.375000e+03  7375.000000   7375.000000            7375.000000   \n",
            "mean   1.538923e+06    27.672136     40.640407              17.216814   \n",
            "std    5.110132e+06    19.190632     35.551653              11.030743   \n",
            "min    1.000000e+00     1.000000      1.000000               1.000000   \n",
            "25%    2.998250e+04    13.000000     19.000000              10.000000   \n",
            "50%    7.078800e+04    22.000000     32.000000              16.000000   \n",
            "75%    3.315630e+05    46.000000     51.000000              23.000000   \n",
            "max    9.001677e+07    62.000000    312.000000              90.000000   \n",
            "\n",
            "               men        women       summer       winter  \n",
            "count  7375.000000  7375.000000  7375.000000  7375.000000  \n",
            "mean      0.635661     0.273220     0.833627     0.166373  \n",
            "std       0.481277     0.445643     0.372440     0.372440  \n",
            "min       0.000000     0.000000     0.000000     0.000000  \n",
            "25%       0.000000     0.000000     1.000000     0.000000  \n",
            "50%       1.000000     0.000000     1.000000     0.000000  \n",
            "75%       1.000000     1.000000     1.000000     0.000000  \n",
            "max       1.000000     1.000000     1.000000     1.000000  \n",
            "   result_id                                   event_title  \\\n",
            "0      30359       super-heavyweight (>105 kilograms), men   \n",
            "1       1626                          giant slalom, women1   \n",
            "2         76                                  singles, men   \n",
            "3        962                             1,500 metres, men   \n",
            "4     258824                 canadian singles, slalom, men   \n",
            "5     925522             singles, handicap (class ii), men   \n",
            "6      58336                                 shot put, men   \n",
            "7     901207                  800 metres wheelchair, women   \n",
            "8     923582  30 kilometres (mass start, classical), women   \n",
            "9     900038                kayak singles, 800 metres, men   \n",
            "\n",
            "                edition  edition_id                 sport  participants  \\\n",
            "0  2004 summer olympics          26         weightlifting            17   \n",
            "1  1998 winter olympics          46          snowboarding            31   \n",
            "2  1976 winter olympics          40                  luge            43   \n",
            "3  1928 winter olympics          30         speed skating            30   \n",
            "4  2008 summer olympics          53          canoe slalom            16   \n",
            "5  1900 summer olympics           2                tennis            15   \n",
            "6  1936 summer olympics          11             athletics            22   \n",
            "7  2004 summer olympics          26             athletics             7   \n",
            "8  2010 winter olympics          57  cross country skiing            53   \n",
            "9  1924 summer olympics           8          canoe sprint             3   \n",
            "\n",
            "   participant_countries  men  women  year olympic_type  summer  winter  \n",
            "0                     15    1      0  2004       summer       1       0  \n",
            "1                     14    0      1  1998       winter       0       1  \n",
            "2                     15    1      0  1976       winter       0       1  \n",
            "3                     14    1      0  1928       winter       0       1  \n",
            "4                     16    1      0  2008       summer       1       0  \n",
            "5                      3    1      0  1900       summer       1       0  \n",
            "6                     14    1      0  1936       summer       1       0  \n",
            "7                      4    0      1  2004       summer       1       0  \n",
            "8                     21    0      1  2010       winter       0       1  \n",
            "9                      2    1      0  1924       summer       1       0  \n"
          ]
        }
      ]
    }
  ]
}