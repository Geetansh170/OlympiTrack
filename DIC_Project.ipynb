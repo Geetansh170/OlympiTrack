{
  "nbformat": 4,
  "nbformat_minor": 0,
  "metadata": {
    "colab": {
      "provenance": [],
      "collapsed_sections": [
        "fwnrhSRM211S",
        "6tMffltZtAxQ"
      ]
    },
    "kernelspec": {
      "name": "python3",
      "display_name": "Python 3"
    },
    "language_info": {
      "name": "python"
    }
  },
  "cells": [
    {
      "cell_type": "markdown",
      "source": [
        "# Download and Import Dependacies"
      ],
      "metadata": {
        "id": "fwnrhSRM211S"
      }
    },
    {
      "cell_type": "code",
      "execution_count": 123,
      "metadata": {
        "id": "NZvxb02nsbkD"
      },
      "outputs": [],
      "source": [
        "import pandas as pd"
      ]
    },
    {
      "cell_type": "markdown",
      "source": [
        "# Data Retrieval\n"
      ],
      "metadata": {
        "id": "IlEXETzLVAc_"
      }
    },
    {
      "cell_type": "code",
      "source": [
        "from google.colab import drive\n",
        "drive.mount('/drive')\n",
        "%cd ..\n",
        "%cd /drive/MyDrive/DIC_PROJECT\n",
        "!ls"
      ],
      "metadata": {
        "colab": {
          "base_uri": "https://localhost:8080/"
        },
        "outputId": "1332fa8b-7d0e-466e-eb0d-c9a2c2f84fa1",
        "id": "cz-sHos_VAdN"
      },
      "execution_count": 124,
      "outputs": [
        {
          "output_type": "stream",
          "name": "stdout",
          "text": [
            "Drive already mounted at /drive; to attempt to forcibly remount, call drive.mount(\"/drive\", force_remount=True).\n",
            "/drive/My Drive\n",
            "/drive/MyDrive/DIC_PROJECT\n",
            "Olympic_Athlete_Biography.csv\t   Olympic_Event_Results.csv  Olympic_Medal_Tally_History.csv\n",
            "Olympic_Athlete_Event_Details.csv  Olympic_Games_Summary.csv  population_total_long.csv\n"
          ]
        }
      ]
    },
    {
      "cell_type": "code",
      "source": [
        "Athlete_Events_Details = pd.read_csv('Olympic_Athlete_Event_Details.csv')\n",
        "Event_Results = pd.read_csv('Olympic_Event_Results.csv')\n",
        "Athlete_Biography = pd.read_csv('Olympic_Athlete_Biography.csv')\n",
        "Medal_Tally = pd.read_csv('Olympic_Medal_Tally_History.csv')\n",
        "Games_Summary = pd.read_csv('Olympic_Games_Summary.csv')\n",
        "Population_Total = pd.read_csv('population_total_long.csv')"
      ],
      "metadata": {
        "id": "to9m0u03VAdN"
      },
      "execution_count": 125,
      "outputs": []
    },
    {
      "cell_type": "code",
      "source": [
        "print(Athlete_Events_Details.shape)\n",
        "print(Event_Results.shape)\n",
        "print(Athlete_Biography.shape)\n",
        "print(Medal_Tally.shape)\n",
        "print(Games_Summary.shape)\n",
        "print(Population_Total.shape)"
      ],
      "metadata": {
        "colab": {
          "base_uri": "https://localhost:8080/"
        },
        "outputId": "c23a7c3a-815f-4259-d440-7f3cc836aa0a",
        "id": "hFdXvckGVAdO"
      },
      "execution_count": 126,
      "outputs": [
        {
          "output_type": "stream",
          "name": "stdout",
          "text": [
            "(316834, 11)\n",
            "(7394, 12)\n",
            "(155861, 10)\n",
            "(1807, 9)\n",
            "(64, 11)\n",
            "(12595, 3)\n"
          ]
        }
      ]
    },
    {
      "cell_type": "markdown",
      "source": [
        "# Event Results Cleaning\n"
      ],
      "metadata": {
        "id": "risHmFC58SZE"
      }
    },
    {
      "cell_type": "code",
      "source": [
        "print(Event_Results.shape)\n",
        "print(Event_Results.describe())\n",
        "# print(Event_Results.head(10))"
      ],
      "metadata": {
        "colab": {
          "base_uri": "https://localhost:8080/"
        },
        "id": "KMd8NmlD8Y2r",
        "outputId": "6229d5d1-b911-4fc1-f156-6bea42f7745a"
      },
      "execution_count": 127,
      "outputs": [
        {
          "output_type": "stream",
          "name": "stdout",
          "text": [
            "(7394, 12)\n",
            "          result_id   edition_id\n",
            "count  7.394000e+03  7394.000000\n",
            "mean   1.535217e+06    27.647011\n",
            "std    5.104084e+06    19.200363\n",
            "min    1.000000e+00     1.000000\n",
            "25%    3.002525e+04    13.000000\n",
            "50%    7.077100e+04    22.000000\n",
            "75%    3.310878e+05    46.000000\n",
            "max    9.001677e+07    62.000000\n"
          ]
        }
      ]
    },
    {
      "cell_type": "markdown",
      "source": [
        "1. Removing duplicates if any."
      ],
      "metadata": {
        "id": "gCtNuNLC_iEk"
      }
    },
    {
      "cell_type": "code",
      "source": [
        "Event_Results.drop_duplicates(inplace=True)"
      ],
      "metadata": {
        "id": "9VFSV9-g8-kg"
      },
      "execution_count": 128,
      "outputs": []
    },
    {
      "cell_type": "markdown",
      "source": [
        "2. Removing unwanted columns.\n"
      ],
      "metadata": {
        "id": "vZYO96GB_lCo"
      }
    },
    {
      "cell_type": "code",
      "source": [
        "Event_Results.drop(['sport_url','result_date','result_location','result_format','result_detail','result_description'], axis=1, inplace=True)"
      ],
      "metadata": {
        "id": "Jjl6SIsb_-go"
      },
      "execution_count": 129,
      "outputs": []
    },
    {
      "cell_type": "code",
      "source": [
        "print(Event_Results.shape)"
      ],
      "metadata": {
        "colab": {
          "base_uri": "https://localhost:8080/"
        },
        "id": "PGQi9imEAgZ5",
        "outputId": "3665692d-23be-4bb3-de09-1ae19d77d6c5"
      },
      "execution_count": 130,
      "outputs": [
        {
          "output_type": "stream",
          "name": "stdout",
          "text": [
            "(7394, 6)\n"
          ]
        }
      ]
    },
    {
      "cell_type": "markdown",
      "source": [
        "3. Will convert all text fields to lower for consistency\n"
      ],
      "metadata": {
        "id": "qMo-y6xtBFmF"
      }
    },
    {
      "cell_type": "code",
      "source": [
        "Event_Results['event_title'] = Event_Results['event_title'].str.strip().str.lower()\n",
        "Event_Results['edition'] = Event_Results['edition'].str.strip().str.lower()\n",
        "Event_Results['sport'] = Event_Results['sport'].str.strip().str.lower()\n",
        "Event_Results['result_participants'] = Event_Results['result_participants'].str.strip().str.lower()"
      ],
      "metadata": {
        "id": "IrvbPWjZBK2w"
      },
      "execution_count": 131,
      "outputs": []
    },
    {
      "cell_type": "code",
      "source": [
        "print(Event_Results['result_participants'].head(10))"
      ],
      "metadata": {
        "colab": {
          "base_uri": "https://localhost:8080/"
        },
        "id": "qjTZj_DLCT3t",
        "outputId": "f9856915-05ac-4d5b-8309-94c5be466122"
      },
      "execution_count": 132,
      "outputs": [
        {
          "output_type": "stream",
          "name": "stdout",
          "text": [
            "0    17 from 15 countries\n",
            "1    31 from 14 countries\n",
            "2    43 from 15 countries\n",
            "3    30 from 14 countries\n",
            "4    16 from 16 countries\n",
            "5     15 from 3 countries\n",
            "6    22 from 14 countries\n",
            "7      7 from 4 countries\n",
            "8    53 from 21 countries\n",
            "9      3 from 2 countries\n",
            "Name: result_participants, dtype: object\n"
          ]
        }
      ]
    },
    {
      "cell_type": "markdown",
      "source": [
        "4. Creating new columns with total participants and total participating countries for each event"
      ],
      "metadata": {
        "id": "ma6hVpJ7DrOG"
      }
    },
    {
      "cell_type": "code",
      "source": [
        "Event_Results[['participants', 'participant_countries']] = Event_Results['result_participants'].str.extract(r'(\\d+)\\sfrom\\s(\\d+)')\n",
        "\n",
        "Event_Results['participants'] = Event_Results['participants'].astype(int)\n",
        "Event_Results['participant_countries'] = Event_Results['participant_countries'].astype(int)\n",
        "\n",
        "Event_Results.drop('result_participants', axis=1, inplace=True)\n",
        "\n",
        "print(Event_Results)"
      ],
      "metadata": {
        "colab": {
          "base_uri": "https://localhost:8080/"
        },
        "id": "zqK33aezDH90",
        "outputId": "9fb50f1f-b465-4212-c8df-52a33998d38f"
      },
      "execution_count": 133,
      "outputs": [
        {
          "output_type": "stream",
          "name": "stdout",
          "text": [
            "      result_id                              event_title  \\\n",
            "0         30359  super-heavyweight (>105 kilograms), men   \n",
            "1          1626                     giant slalom, women1   \n",
            "2            76                             singles, men   \n",
            "3           962                        1,500 metres, men   \n",
            "4        258824            canadian singles, slalom, men   \n",
            "...         ...                                      ...   \n",
            "7389   19001250                          basketball, men   \n",
            "7390      84835                         sabre, team, men   \n",
            "7391      72031                    foil, individual, men   \n",
            "7392     258676                  beach volleyball, women   \n",
            "7393      48121                             doubles, men   \n",
            "\n",
            "                   edition  edition_id             sport  participants  \\\n",
            "0     2004 summer olympics          26     weightlifting            17   \n",
            "1     1998 winter olympics          46      snowboarding            31   \n",
            "2     1976 winter olympics          40              luge            43   \n",
            "3     1928 winter olympics          30     speed skating            30   \n",
            "4     2008 summer olympics          53      canoe slalom            16   \n",
            "...                    ...         ...               ...           ...   \n",
            "7389  2020 summer olympics          61        basketball           143   \n",
            "7390  1936 summer olympics          11           fencing           107   \n",
            "7391  1900 summer olympics           2           fencing            53   \n",
            "7392  2008 summer olympics          53  beach volleyball            48   \n",
            "7393  2000 summer olympics          25      table tennis            72   \n",
            "\n",
            "      participant_countries  \n",
            "0                        15  \n",
            "1                        14  \n",
            "2                        15  \n",
            "3                        14  \n",
            "4                        16  \n",
            "...                     ...  \n",
            "7389                     12  \n",
            "7390                     21  \n",
            "7391                      9  \n",
            "7392                     17  \n",
            "7393                     29  \n",
            "\n",
            "[7394 rows x 7 columns]\n"
          ]
        }
      ]
    },
    {
      "cell_type": "code",
      "source": [
        "print(Event_Results['participants'].head(10))\n",
        "print(Event_Results['participant_countries'].head(10))"
      ],
      "metadata": {
        "colab": {
          "base_uri": "https://localhost:8080/"
        },
        "id": "A9miI6NyDQLM",
        "outputId": "9db636ed-72b4-4f73-b4d8-9d3842b8ab2b"
      },
      "execution_count": 134,
      "outputs": [
        {
          "output_type": "stream",
          "name": "stdout",
          "text": [
            "0    17\n",
            "1    31\n",
            "2    43\n",
            "3    30\n",
            "4    16\n",
            "5    15\n",
            "6    22\n",
            "7     7\n",
            "8    53\n",
            "9     3\n",
            "Name: participants, dtype: int64\n",
            "0    15\n",
            "1    14\n",
            "2    15\n",
            "3    14\n",
            "4    16\n",
            "5     3\n",
            "6    14\n",
            "7     4\n",
            "8    21\n",
            "9     2\n",
            "Name: participant_countries, dtype: int64\n"
          ]
        }
      ]
    },
    {
      "cell_type": "code",
      "source": [
        "print(Event_Results['event_title'].head(10))"
      ],
      "metadata": {
        "id": "oiyLUWlODplH",
        "colab": {
          "base_uri": "https://localhost:8080/"
        },
        "outputId": "adfaf178-6389-4765-9f15-da80bde3c5b9"
      },
      "execution_count": 135,
      "outputs": [
        {
          "output_type": "stream",
          "name": "stdout",
          "text": [
            "0         super-heavyweight (>105 kilograms), men\n",
            "1                            giant slalom, women1\n",
            "2                                    singles, men\n",
            "3                               1,500 metres, men\n",
            "4                   canadian singles, slalom, men\n",
            "5               singles, handicap (class ii), men\n",
            "6                                   shot put, men\n",
            "7                    800 metres wheelchair, women\n",
            "8    30 kilometres (mass start, classical), women\n",
            "9                  kayak singles, 800 metres, men\n",
            "Name: event_title, dtype: object\n"
          ]
        }
      ]
    },
    {
      "cell_type": "markdown",
      "source": [
        "5. Separating male and female events by adding a column for each men and women"
      ],
      "metadata": {
        "id": "JH8ZKVxyKZFG"
      }
    },
    {
      "cell_type": "code",
      "source": [
        "Event_Results['men'] = Event_Results['event_title'].str.contains(r'\\bmen\\b', case=False).astype(int)\n",
        "Event_Results['women'] = Event_Results['event_title'].str.contains('women', case=False).astype(int)\n",
        "\n",
        "print(Event_Results)"
      ],
      "metadata": {
        "colab": {
          "base_uri": "https://localhost:8080/"
        },
        "id": "HVCeivSAJv-g",
        "outputId": "b40774ba-6323-4d92-c13c-46b42b08fa00"
      },
      "execution_count": 136,
      "outputs": [
        {
          "output_type": "stream",
          "name": "stdout",
          "text": [
            "      result_id                              event_title  \\\n",
            "0         30359  super-heavyweight (>105 kilograms), men   \n",
            "1          1626                     giant slalom, women1   \n",
            "2            76                             singles, men   \n",
            "3           962                        1,500 metres, men   \n",
            "4        258824            canadian singles, slalom, men   \n",
            "...         ...                                      ...   \n",
            "7389   19001250                          basketball, men   \n",
            "7390      84835                         sabre, team, men   \n",
            "7391      72031                    foil, individual, men   \n",
            "7392     258676                  beach volleyball, women   \n",
            "7393      48121                             doubles, men   \n",
            "\n",
            "                   edition  edition_id             sport  participants  \\\n",
            "0     2004 summer olympics          26     weightlifting            17   \n",
            "1     1998 winter olympics          46      snowboarding            31   \n",
            "2     1976 winter olympics          40              luge            43   \n",
            "3     1928 winter olympics          30     speed skating            30   \n",
            "4     2008 summer olympics          53      canoe slalom            16   \n",
            "...                    ...         ...               ...           ...   \n",
            "7389  2020 summer olympics          61        basketball           143   \n",
            "7390  1936 summer olympics          11           fencing           107   \n",
            "7391  1900 summer olympics           2           fencing            53   \n",
            "7392  2008 summer olympics          53  beach volleyball            48   \n",
            "7393  2000 summer olympics          25      table tennis            72   \n",
            "\n",
            "      participant_countries  men  women  \n",
            "0                        15    1      0  \n",
            "1                        14    0      1  \n",
            "2                        15    1      0  \n",
            "3                        14    1      0  \n",
            "4                        16    1      0  \n",
            "...                     ...  ...    ...  \n",
            "7389                     12    1      0  \n",
            "7390                     21    1      0  \n",
            "7391                      9    1      0  \n",
            "7392                     17    0      1  \n",
            "7393                     29    1      0  \n",
            "\n",
            "[7394 rows x 9 columns]\n"
          ]
        }
      ]
    },
    {
      "cell_type": "markdown",
      "source": [
        "6. Extract year and olympic type from the data"
      ],
      "metadata": {
        "id": "RKKcS3ujMNdS"
      }
    },
    {
      "cell_type": "code",
      "source": [
        "Event_Results[['year', 'olympic_type']] = Event_Results['edition'].str.extract(r'(\\d{4})\\s+(summer|winter)\\s+olympics')\n",
        "\n",
        "print(Event_Results['year'].head())\n",
        "print(Event_Results['olympic_type'].head())"
      ],
      "metadata": {
        "colab": {
          "base_uri": "https://localhost:8080/"
        },
        "id": "faPL07PgL_Cj",
        "outputId": "2718922c-fa81-4801-ace3-7b878c0746d7"
      },
      "execution_count": 137,
      "outputs": [
        {
          "output_type": "stream",
          "name": "stdout",
          "text": [
            "0    2004\n",
            "1    1998\n",
            "2    1976\n",
            "3    1928\n",
            "4    2008\n",
            "Name: year, dtype: object\n",
            "0    summer\n",
            "1    winter\n",
            "2    winter\n",
            "3    winter\n",
            "4    summer\n",
            "Name: olympic_type, dtype: object\n"
          ]
        }
      ]
    },
    {
      "cell_type": "code",
      "source": [
        "print(Event_Results.shape)"
      ],
      "metadata": {
        "colab": {
          "base_uri": "https://localhost:8080/"
        },
        "id": "Ui3LfgD-Vd_I",
        "outputId": "a499ede6-f384-42ec-9adf-f942fae31235"
      },
      "execution_count": 138,
      "outputs": [
        {
          "output_type": "stream",
          "name": "stdout",
          "text": [
            "(7394, 11)\n"
          ]
        }
      ]
    },
    {
      "cell_type": "markdown",
      "source": [
        "7. Drop rows where essential columns are null"
      ],
      "metadata": {
        "id": "yAWy4EqoNd2o"
      }
    },
    {
      "cell_type": "code",
      "source": [
        "Event_Results.dropna(subset=['event_title', 'sport', 'participants', 'participant_countries', 'men', 'women','year','olympic_type'], inplace=True)"
      ],
      "metadata": {
        "id": "tgjxIkqKVmku"
      },
      "execution_count": 139,
      "outputs": []
    },
    {
      "cell_type": "code",
      "source": [
        "print(Event_Results)"
      ],
      "metadata": {
        "colab": {
          "base_uri": "https://localhost:8080/"
        },
        "id": "__t-2dtVye9P",
        "outputId": "225002d3-6134-4b2b-c2ef-bd96bee97081"
      },
      "execution_count": 140,
      "outputs": [
        {
          "output_type": "stream",
          "name": "stdout",
          "text": [
            "      result_id                              event_title  \\\n",
            "0         30359  super-heavyweight (>105 kilograms), men   \n",
            "1          1626                     giant slalom, women1   \n",
            "2            76                             singles, men   \n",
            "3           962                        1,500 metres, men   \n",
            "4        258824            canadian singles, slalom, men   \n",
            "...         ...                                      ...   \n",
            "7389   19001250                          basketball, men   \n",
            "7390      84835                         sabre, team, men   \n",
            "7391      72031                    foil, individual, men   \n",
            "7392     258676                  beach volleyball, women   \n",
            "7393      48121                             doubles, men   \n",
            "\n",
            "                   edition  edition_id             sport  participants  \\\n",
            "0     2004 summer olympics          26     weightlifting            17   \n",
            "1     1998 winter olympics          46      snowboarding            31   \n",
            "2     1976 winter olympics          40              luge            43   \n",
            "3     1928 winter olympics          30     speed skating            30   \n",
            "4     2008 summer olympics          53      canoe slalom            16   \n",
            "...                    ...         ...               ...           ...   \n",
            "7389  2020 summer olympics          61        basketball           143   \n",
            "7390  1936 summer olympics          11           fencing           107   \n",
            "7391  1900 summer olympics           2           fencing            53   \n",
            "7392  2008 summer olympics          53  beach volleyball            48   \n",
            "7393  2000 summer olympics          25      table tennis            72   \n",
            "\n",
            "      participant_countries  men  women  year olympic_type  \n",
            "0                        15    1      0  2004       summer  \n",
            "1                        14    0      1  1998       winter  \n",
            "2                        15    1      0  1976       winter  \n",
            "3                        14    1      0  1928       winter  \n",
            "4                        16    1      0  2008       summer  \n",
            "...                     ...  ...    ...   ...          ...  \n",
            "7389                     12    1      0  2020       summer  \n",
            "7390                     21    1      0  1936       summer  \n",
            "7391                      9    1      0  1900       summer  \n",
            "7392                     17    0      1  2008       summer  \n",
            "7393                     29    1      0  2000       summer  \n",
            "\n",
            "[7375 rows x 11 columns]\n"
          ]
        }
      ]
    },
    {
      "cell_type": "markdown",
      "source": [
        "One hot encode olympic type"
      ],
      "metadata": {
        "id": "wF7gaXnWzdDQ"
      }
    },
    {
      "cell_type": "code",
      "source": [
        "# One-hot encode the 'olympic_type' column without a prefix\n",
        "olympic_dummies = pd.get_dummies(Event_Results['olympic_type'])\n",
        "\n",
        "# Convert the dummy columns from boolean to integer (0/1)\n",
        "olympic_dummies = olympic_dummies.astype(int)\n",
        "\n",
        "# Concatenate the one-hot encoded columns back to the original DataFrame\n",
        "Event_Results = pd.concat([Event_Results, olympic_dummies], axis=1)\n",
        "\n",
        "print(Event_Results)"
      ],
      "metadata": {
        "colab": {
          "base_uri": "https://localhost:8080/"
        },
        "id": "mZxIyiW6zhWM",
        "outputId": "45e79596-c814-4439-b43e-519b04c26778"
      },
      "execution_count": 141,
      "outputs": [
        {
          "output_type": "stream",
          "name": "stdout",
          "text": [
            "      result_id                              event_title  \\\n",
            "0         30359  super-heavyweight (>105 kilograms), men   \n",
            "1          1626                     giant slalom, women1   \n",
            "2            76                             singles, men   \n",
            "3           962                        1,500 metres, men   \n",
            "4        258824            canadian singles, slalom, men   \n",
            "...         ...                                      ...   \n",
            "7389   19001250                          basketball, men   \n",
            "7390      84835                         sabre, team, men   \n",
            "7391      72031                    foil, individual, men   \n",
            "7392     258676                  beach volleyball, women   \n",
            "7393      48121                             doubles, men   \n",
            "\n",
            "                   edition  edition_id             sport  participants  \\\n",
            "0     2004 summer olympics          26     weightlifting            17   \n",
            "1     1998 winter olympics          46      snowboarding            31   \n",
            "2     1976 winter olympics          40              luge            43   \n",
            "3     1928 winter olympics          30     speed skating            30   \n",
            "4     2008 summer olympics          53      canoe slalom            16   \n",
            "...                    ...         ...               ...           ...   \n",
            "7389  2020 summer olympics          61        basketball           143   \n",
            "7390  1936 summer olympics          11           fencing           107   \n",
            "7391  1900 summer olympics           2           fencing            53   \n",
            "7392  2008 summer olympics          53  beach volleyball            48   \n",
            "7393  2000 summer olympics          25      table tennis            72   \n",
            "\n",
            "      participant_countries  men  women  year olympic_type  summer  winter  \n",
            "0                        15    1      0  2004       summer       1       0  \n",
            "1                        14    0      1  1998       winter       0       1  \n",
            "2                        15    1      0  1976       winter       0       1  \n",
            "3                        14    1      0  1928       winter       0       1  \n",
            "4                        16    1      0  2008       summer       1       0  \n",
            "...                     ...  ...    ...   ...          ...     ...     ...  \n",
            "7389                     12    1      0  2020       summer       1       0  \n",
            "7390                     21    1      0  1936       summer       1       0  \n",
            "7391                      9    1      0  1900       summer       1       0  \n",
            "7392                     17    0      1  2008       summer       1       0  \n",
            "7393                     29    1      0  2000       summer       1       0  \n",
            "\n",
            "[7375 rows x 13 columns]\n"
          ]
        }
      ]
    },
    {
      "cell_type": "code",
      "source": [
        "print(Event_Results.shape)\n",
        "print(Event_Results.describe())\n",
        "print(Event_Results.head(10))"
      ],
      "metadata": {
        "colab": {
          "base_uri": "https://localhost:8080/"
        },
        "id": "4xjldI1P0GKG",
        "outputId": "b4b8da9a-8aa0-46dc-b544-ad5fbb109a50"
      },
      "execution_count": 142,
      "outputs": [
        {
          "output_type": "stream",
          "name": "stdout",
          "text": [
            "(7375, 13)\n",
            "          result_id   edition_id  participants  participant_countries  \\\n",
            "count  7.375000e+03  7375.000000   7375.000000            7375.000000   \n",
            "mean   1.538923e+06    27.672136     40.640407              17.216814   \n",
            "std    5.110132e+06    19.190632     35.551653              11.030743   \n",
            "min    1.000000e+00     1.000000      1.000000               1.000000   \n",
            "25%    2.998250e+04    13.000000     19.000000              10.000000   \n",
            "50%    7.078800e+04    22.000000     32.000000              16.000000   \n",
            "75%    3.315630e+05    46.000000     51.000000              23.000000   \n",
            "max    9.001677e+07    62.000000    312.000000              90.000000   \n",
            "\n",
            "               men        women       summer       winter  \n",
            "count  7375.000000  7375.000000  7375.000000  7375.000000  \n",
            "mean      0.635661     0.273220     0.833627     0.166373  \n",
            "std       0.481277     0.445643     0.372440     0.372440  \n",
            "min       0.000000     0.000000     0.000000     0.000000  \n",
            "25%       0.000000     0.000000     1.000000     0.000000  \n",
            "50%       1.000000     0.000000     1.000000     0.000000  \n",
            "75%       1.000000     1.000000     1.000000     0.000000  \n",
            "max       1.000000     1.000000     1.000000     1.000000  \n",
            "   result_id                                   event_title  \\\n",
            "0      30359       super-heavyweight (>105 kilograms), men   \n",
            "1       1626                          giant slalom, women1   \n",
            "2         76                                  singles, men   \n",
            "3        962                             1,500 metres, men   \n",
            "4     258824                 canadian singles, slalom, men   \n",
            "5     925522             singles, handicap (class ii), men   \n",
            "6      58336                                 shot put, men   \n",
            "7     901207                  800 metres wheelchair, women   \n",
            "8     923582  30 kilometres (mass start, classical), women   \n",
            "9     900038                kayak singles, 800 metres, men   \n",
            "\n",
            "                edition  edition_id                 sport  participants  \\\n",
            "0  2004 summer olympics          26         weightlifting            17   \n",
            "1  1998 winter olympics          46          snowboarding            31   \n",
            "2  1976 winter olympics          40                  luge            43   \n",
            "3  1928 winter olympics          30         speed skating            30   \n",
            "4  2008 summer olympics          53          canoe slalom            16   \n",
            "5  1900 summer olympics           2                tennis            15   \n",
            "6  1936 summer olympics          11             athletics            22   \n",
            "7  2004 summer olympics          26             athletics             7   \n",
            "8  2010 winter olympics          57  cross country skiing            53   \n",
            "9  1924 summer olympics           8          canoe sprint             3   \n",
            "\n",
            "   participant_countries  men  women  year olympic_type  summer  winter  \n",
            "0                     15    1      0  2004       summer       1       0  \n",
            "1                     14    0      1  1998       winter       0       1  \n",
            "2                     15    1      0  1976       winter       0       1  \n",
            "3                     14    1      0  1928       winter       0       1  \n",
            "4                     16    1      0  2008       summer       1       0  \n",
            "5                      3    1      0  1900       summer       1       0  \n",
            "6                     14    1      0  1936       summer       1       0  \n",
            "7                      4    0      1  2004       summer       1       0  \n",
            "8                     21    0      1  2010       winter       0       1  \n",
            "9                      2    1      0  1924       summer       1       0  \n"
          ]
        }
      ]
    },
    {
      "cell_type": "markdown",
      "source": [
        "# Population Total Cleaning"
      ],
      "metadata": {
        "id": "N17nxuTX6BNB"
      }
    },
    {
      "cell_type": "code",
      "source": [
        "print(Population_Total.shape)\n",
        "print(Population_Total.describe())\n",
        "print(Population_Total.head(10))"
      ],
      "metadata": {
        "colab": {
          "base_uri": "https://localhost:8080/"
        },
        "id": "CN-D1UAF6Ii5",
        "outputId": "0ab01d8d-2a80-4fab-b1df-b18ba8932301"
      },
      "execution_count": 143,
      "outputs": [
        {
          "output_type": "stream",
          "name": "stdout",
          "text": [
            "(12595, 3)\n",
            "               Year         Count\n",
            "count  12595.000000  1.259500e+04\n",
            "mean    1988.583406  2.377748e+07\n",
            "std       16.744033  1.002442e+08\n",
            "min     1960.000000  3.893000e+03\n",
            "25%     1974.000000  4.758955e+05\n",
            "50%     1989.000000  4.060260e+06\n",
            "75%     2003.000000  1.276995e+07\n",
            "max     2017.000000  1.386395e+09\n",
            "           Country Name  Year     Count\n",
            "0                 Aruba  1960     54211\n",
            "1           Afghanistan  1960   8996973\n",
            "2                Angola  1960   5454933\n",
            "3               Albania  1960   1608800\n",
            "4               Andorra  1960     13411\n",
            "5  United Arab Emirates  1960     92418\n",
            "6             Argentina  1960  20481779\n",
            "7               Armenia  1960   1874121\n",
            "8        American Samoa  1960     20123\n",
            "9   Antigua and Barbuda  1960     54131\n"
          ]
        }
      ]
    },
    {
      "cell_type": "markdown",
      "source": [
        "1. Text columns to lower text"
      ],
      "metadata": {
        "id": "92UppOiZ8rO-"
      }
    },
    {
      "cell_type": "code",
      "source": [
        "Population_Total['Country Name'] = Population_Total['Country Name'].str.strip().str.lower()"
      ],
      "metadata": {
        "id": "kXP5Xt358Vxu"
      },
      "execution_count": 144,
      "outputs": []
    },
    {
      "cell_type": "markdown",
      "source": [
        "2. Normalize Population Count"
      ],
      "metadata": {
        "id": "RjHZkc9j8u_y"
      }
    },
    {
      "cell_type": "code",
      "source": [
        "from sklearn.preprocessing import MinMaxScaler\n",
        "scaler = MinMaxScaler()\n",
        "\n",
        "Population_Total[['Count']] = scaler.fit_transform(Population_Total[['Count']])\n",
        "\n",
        "print(Population_Total)"
      ],
      "metadata": {
        "colab": {
          "base_uri": "https://localhost:8080/"
        },
        "id": "f062UrULAzus",
        "outputId": "d0aefec7-9f75-46d3-ef9b-a8fb9b9a8f5d"
      },
      "execution_count": 145,
      "outputs": [
        {
          "output_type": "stream",
          "name": "stdout",
          "text": [
            "       Country Name  Year     Count\n",
            "0             aruba  1960  0.000036\n",
            "1       afghanistan  1960  0.006487\n",
            "2            angola  1960  0.003932\n",
            "3           albania  1960  0.001158\n",
            "4           andorra  1960  0.000007\n",
            "...             ...   ...       ...\n",
            "12590        kosovo  2017  0.001318\n",
            "12591   yemen, rep.  2017  0.020074\n",
            "12592  south africa  2017  0.041111\n",
            "12593        zambia  2017  0.012154\n",
            "12594      zimbabwe  2017  0.010266\n",
            "\n",
            "[12595 rows x 3 columns]\n"
          ]
        }
      ]
    },
    {
      "cell_type": "markdown",
      "source": [
        "3. Drop rows if essential columns are null"
      ],
      "metadata": {
        "id": "aqEydJDGBU2D"
      }
    },
    {
      "cell_type": "code",
      "source": [
        "Population_Total.dropna(subset=['Country Name', 'Year', 'Count'], inplace=True)"
      ],
      "metadata": {
        "id": "uzgoIEupBNQr"
      },
      "execution_count": 146,
      "outputs": []
    },
    {
      "cell_type": "code",
      "source": [
        "Population_Total['Year'] = Population_Total['Year'].replace(2017, 2020)"
      ],
      "metadata": {
        "id": "djvDWnuPDC4E"
      },
      "execution_count": 147,
      "outputs": []
    },
    {
      "cell_type": "code",
      "source": [
        "print(Population_Total.shape)\n",
        "print(Population_Total.describe())\n",
        "print(Population_Total)"
      ],
      "metadata": {
        "colab": {
          "base_uri": "https://localhost:8080/"
        },
        "id": "cyr083mxBhre",
        "outputId": "e9da4dd9-c140-48a9-b610-a9b2490efcde"
      },
      "execution_count": 148,
      "outputs": [
        {
          "output_type": "stream",
          "name": "stdout",
          "text": [
            "(12595, 3)\n",
            "               Year         Count\n",
            "count  12595.000000  12595.000000\n",
            "mean    1988.635331      0.017148\n",
            "std       16.836480      0.072306\n",
            "min     1960.000000      0.000000\n",
            "25%     1974.000000      0.000340\n",
            "50%     1989.000000      0.002926\n",
            "75%     2003.000000      0.009208\n",
            "max     2020.000000      1.000000\n",
            "       Country Name  Year     Count\n",
            "0             aruba  1960  0.000036\n",
            "1       afghanistan  1960  0.006487\n",
            "2            angola  1960  0.003932\n",
            "3           albania  1960  0.001158\n",
            "4           andorra  1960  0.000007\n",
            "...             ...   ...       ...\n",
            "12590        kosovo  2020  0.001318\n",
            "12591   yemen, rep.  2020  0.020074\n",
            "12592  south africa  2020  0.041111\n",
            "12593        zambia  2020  0.012154\n",
            "12594      zimbabwe  2020  0.010266\n",
            "\n",
            "[12595 rows x 3 columns]\n"
          ]
        }
      ]
    },
    {
      "cell_type": "markdown",
      "source": [
        "# Athlete_Biography Cleaning"
      ],
      "metadata": {
        "id": "wlypwUaxD2QE"
      }
    },
    {
      "cell_type": "code",
      "source": [
        "print(Athlete_Biography.shape)\n",
        "print(Athlete_Biography.describe())\n",
        "print(Athlete_Biography.head(10))"
      ],
      "metadata": {
        "colab": {
          "base_uri": "https://localhost:8080/"
        },
        "id": "rsOVHIUhD9px",
        "outputId": "991d4757-7d99-4b5e-b074-1d6ff86b3985"
      },
      "execution_count": 149,
      "outputs": [
        {
          "output_type": "stream",
          "name": "stdout",
          "text": [
            "(155861, 10)\n",
            "         athlete_id         height\n",
            "count  1.558610e+05  105112.000000\n",
            "mean   1.571606e+05     176.327194\n",
            "std    3.274205e+05      10.355980\n",
            "min    1.000000e+00     127.000000\n",
            "25%    3.927100e+04     170.000000\n",
            "50%    7.852900e+04     176.000000\n",
            "75%    1.189230e+05     183.000000\n",
            "max    2.200000e+07     226.000000\n",
            "   athlete_id                name     sex              born  height weight  \\\n",
            "0       65649       Ivanka Bonova  Female      4 April 1949   166.0     55   \n",
            "1      112510   Nataliya Uryadova  Female     15 March 1977   184.0     70   \n",
            "2      114973  Essa Ismail Rashed    Male  14 December 1986   165.0     55   \n",
            "3       30359         Péter Boros    Male   12 January 1908     NaN    NaN   \n",
            "4       50557      Rudolf Piowatý    Male     28 April 1900     NaN    NaN   \n",
            "5      146111  Svetlana Kholomina  Female   9 November 1997     NaN    NaN   \n",
            "6      133041    Vincent Riendeau    Male  13 December 1996   178.0     68   \n",
            "7      110425         Tanja Morel  Female    4 October 1975   164.0     58   \n",
            "8      110705     Maksim Shabalin    Male   25 January 1982   183.0     76   \n",
            "9       54541           Gé Regter    Male      6 March 1916     NaN    NaN   \n",
            "\n",
            "               country country_noc  \\\n",
            "0             Bulgaria         BUL   \n",
            "1   Russian Federation         RUS   \n",
            "2                Qatar         QAT   \n",
            "3              Hungary         HUN   \n",
            "4       Czechoslovakia         TCH   \n",
            "5                  ROC         ROC   \n",
            "6               Canada         CAN   \n",
            "7          Switzerland         SUI   \n",
            "8   Russian Federation         RUS   \n",
            "9          Netherlands         NED   \n",
            "\n",
            "                                         description  \\\n",
            "0                 Personal Best: 400 – 53.54 (1980).   \n",
            "1                                                NaN   \n",
            "2            Personal Best: 10000 – 27:20.97 (2006).   \n",
            "3  Between 1927 and 1938, Péter Boros competed as...   \n",
            "4  Rudolf Piowaty joined the Czechoslovak militar...   \n",
            "5                                                NaN   \n",
            "6                                                NaN   \n",
            "7                                                NaN   \n",
            "8                                                NaN   \n",
            "9                                                NaN   \n",
            "\n",
            "                                       special_notes  \n",
            "0                                                NaN  \n",
            "1  Listed in Olympians Who Won a Medal at the Eur...  \n",
            "2  Listed in Olympians Who Won a Medal at the Asi...  \n",
            "3                                                NaN  \n",
            "4                                                NaN  \n",
            "5                                                NaN  \n",
            "6  Listed in Olympians Who Won a Medal at the Sum...  \n",
            "7  Listed in Olympians Who Won a Medal at the Eur...  \n",
            "8  Listed in Olympians Who Won a Medal at the Eur...  \n",
            "9                                                NaN  \n"
          ]
        }
      ]
    },
    {
      "cell_type": "code",
      "source": [
        "Athlete_Biography.drop_duplicates(inplace=True)"
      ],
      "metadata": {
        "id": "4Arorwo6EICB"
      },
      "execution_count": 150,
      "outputs": []
    },
    {
      "cell_type": "code",
      "source": [
        "Athlete_Biography.drop(['description','special_notes','athlete_id'], axis=1, inplace=True)"
      ],
      "metadata": {
        "id": "wMjFzNS-EQxn"
      },
      "execution_count": 151,
      "outputs": []
    },
    {
      "cell_type": "code",
      "source": [
        "Athlete_Biography['country'] = Athlete_Biography['country'].str.strip().str.lower()\n",
        "Athlete_Biography['sex'] = Athlete_Biography['sex'].str.strip().str.lower()\n",
        "Athlete_Biography['name'] = Athlete_Biography['name'].str.strip().str.lower()\n",
        "Athlete_Biography['born'] = Athlete_Biography['born'].str.strip().str.lower()"
      ],
      "metadata": {
        "id": "iYzbdiM7EXKX"
      },
      "execution_count": 152,
      "outputs": []
    },
    {
      "cell_type": "code",
      "source": [],
      "metadata": {
        "id": "KxMQdCEhUmSh"
      },
      "execution_count": 152,
      "outputs": []
    },
    {
      "cell_type": "markdown",
      "source": [
        "# Data Cleaning: Athlete_Events"
      ],
      "metadata": {
        "id": "KlAAlFQ88VsB"
      }
    },
    {
      "cell_type": "code",
      "source": [
        "print(Event_Results.shape)\n",
        "print(Event_Results.describe())\n",
        "# print(Event_Results.head(10))"
      ],
      "metadata": {
        "colab": {
          "base_uri": "https://localhost:8080/"
        },
        "id": "KMd8NmlD8Y2r",
        "outputId": "5a4108ed-5b3e-4158-83d4-2473fc08e542"
      },
      "execution_count": 47,
      "outputs": [
        {
          "output_type": "stream",
          "name": "stdout",
          "text": [
            "(7394, 12)\n",
            "          result_id   edition_id\n",
            "count  7.394000e+03  7394.000000\n",
            "mean   1.535217e+06    27.647011\n",
            "std    5.104084e+06    19.200363\n",
            "min    1.000000e+00     1.000000\n",
            "25%    3.002525e+04    13.000000\n",
            "50%    7.077100e+04    22.000000\n",
            "75%    3.310878e+05    46.000000\n",
            "max    9.001677e+07    62.000000\n"
          ]
        }
      ]
    },
    {
      "cell_type": "markdown",
      "source": [
        "1. Removing duplicates if any."
      ],
      "metadata": {
        "id": "gCtNuNLC_iEk"
      }
    },
    {
      "cell_type": "code",
      "source": [
        "Event_Results.drop_duplicates(inplace=True)"
      ],
      "metadata": {
        "id": "9VFSV9-g8-kg"
      },
      "execution_count": 48,
      "outputs": []
    },
    {
      "cell_type": "markdown",
      "source": [
        "2. Removing unwanted columns.\n"
      ],
      "metadata": {
        "id": "vZYO96GB_lCo"
      }
    },
    {
      "cell_type": "code",
      "source": [
        "Event_Results.drop(['sport_url','result_date','result_location','result_format','result_detail','result_description'], axis=1, inplace=True)"
      ],
      "metadata": {
        "id": "Jjl6SIsb_-go"
      },
      "execution_count": 49,
      "outputs": []
    },
    {
      "cell_type": "code",
      "source": [
        "print(Event_Results.shape)"
        "Athlete_Events_Details.head(10)"
      ],
      "metadata": {
        "colab": {
          "base_uri": "https://localhost:8080/",
          "height": 363
        },
        "id": "aI6mx2AB4jpv",
        "outputId": "78447f36-1394-4684-c962-39d7dcd3d21f"
      },
      "execution_count": 153,
      "outputs": [
        {
          "output_type": "execute_result",
          "data": {
            "text/plain": [
              "                edition  edition_id country_noc      sport              event  \\\n",
              "0  1908 Summer Olympics           5         ANZ  Athletics    100 metres, Men   \n",
              "1  1908 Summer Olympics           5         ANZ  Athletics    400 metres, Men   \n",
              "2  1908 Summer Olympics           5         ANZ  Athletics    800 metres, Men   \n",
              "3  1908 Summer Olympics           5         ANZ  Athletics    800 metres, Men   \n",
              "4  1908 Summer Olympics           5         ANZ  Athletics    800 metres, Men   \n",
              "5  1908 Summer Olympics           5         ANZ  Athletics    800 metres, Men   \n",
              "6  1908 Summer Olympics           5         ANZ  Athletics  1,500 metres, Men   \n",
              "7  1908 Summer Olympics           5         ANZ  Athletics  1,500 metres, Men   \n",
              "8  1908 Summer Olympics           5         ANZ  Athletics  1,500 metres, Men   \n",
              "9  1908 Summer Olympics           5         ANZ  Athletics  1,500 metres, Men   \n",
              "\n",
              "   result_id          athlete  athlete_id         pos medal  isTeamSport  \n",
              "0      56265  Ernest Hutcheon       64710         DNS   NaN        False  \n",
              "1      56313     Henry Murray       64756         DNS   NaN        False  \n",
              "2      56338    Harvey Sutton       64808   3 h8 r1/2   NaN        False  \n",
              "3      56338      Guy Haskins      922519         DNS   NaN        False  \n",
              "4      56338     Joseph Lynch       64735         DNS   NaN        False  \n",
              "5      56338     Henry Murray       64756         DNS   NaN        False  \n",
              "6      56349     Joseph Lynch       64735   5 h2 r1/2   NaN        False  \n",
              "7      56349    Charles Swain       79576  AC h3 r1/2   NaN        False  \n",
              "8      56349      Guy Haskins      922519         DNS   NaN        False  \n",
              "9      56349     George Blake       64619         DNS   NaN        False  "
            ],
            "text/html": [
              "\n",
              "  <div id=\"df-0a3173c2-0ea4-4f1b-8643-4d07782d72bb\" class=\"colab-df-container\">\n",
              "    <div>\n",
              "<style scoped>\n",
              "    .dataframe tbody tr th:only-of-type {\n",
              "        vertical-align: middle;\n",
              "    }\n",
              "\n",
              "    .dataframe tbody tr th {\n",
              "        vertical-align: top;\n",
              "    }\n",
              "\n",
              "    .dataframe thead th {\n",
              "        text-align: right;\n",
              "    }\n",
              "</style>\n",
              "<table border=\"1\" class=\"dataframe\">\n",
              "  <thead>\n",
              "    <tr style=\"text-align: right;\">\n",
              "      <th></th>\n",
              "      <th>edition</th>\n",
              "      <th>edition_id</th>\n",
              "      <th>country_noc</th>\n",
              "      <th>sport</th>\n",
              "      <th>event</th>\n",
              "      <th>result_id</th>\n",
              "      <th>athlete</th>\n",
              "      <th>athlete_id</th>\n",
              "      <th>pos</th>\n",
              "      <th>medal</th>\n",
              "      <th>isTeamSport</th>\n",
              "    </tr>\n",
              "  </thead>\n",
              "  <tbody>\n",
              "    <tr>\n",
              "      <th>0</th>\n",
              "      <td>1908 Summer Olympics</td>\n",
              "      <td>5</td>\n",
              "      <td>ANZ</td>\n",
              "      <td>Athletics</td>\n",
              "      <td>100 metres, Men</td>\n",
              "      <td>56265</td>\n",
              "      <td>Ernest Hutcheon</td>\n",
              "      <td>64710</td>\n",
              "      <td>DNS</td>\n",
              "      <td>NaN</td>\n",
              "      <td>False</td>\n",
              "    </tr>\n",
              "    <tr>\n",
              "      <th>1</th>\n",
              "      <td>1908 Summer Olympics</td>\n",
              "      <td>5</td>\n",
              "      <td>ANZ</td>\n",
              "      <td>Athletics</td>\n",
              "      <td>400 metres, Men</td>\n",
              "      <td>56313</td>\n",
              "      <td>Henry Murray</td>\n",
              "      <td>64756</td>\n",
              "      <td>DNS</td>\n",
              "      <td>NaN</td>\n",
              "      <td>False</td>\n",
              "    </tr>\n",
              "    <tr>\n",
              "      <th>2</th>\n",
              "      <td>1908 Summer Olympics</td>\n",
              "      <td>5</td>\n",
              "      <td>ANZ</td>\n",
              "      <td>Athletics</td>\n",
              "      <td>800 metres, Men</td>\n",
              "      <td>56338</td>\n",
              "      <td>Harvey Sutton</td>\n",
              "      <td>64808</td>\n",
              "      <td>3 h8 r1/2</td>\n",
              "      <td>NaN</td>\n",
              "      <td>False</td>\n",
              "    </tr>\n",
              "    <tr>\n",
              "      <th>3</th>\n",
              "      <td>1908 Summer Olympics</td>\n",
              "      <td>5</td>\n",
              "      <td>ANZ</td>\n",
              "      <td>Athletics</td>\n",
              "      <td>800 metres, Men</td>\n",
              "      <td>56338</td>\n",
              "      <td>Guy Haskins</td>\n",
              "      <td>922519</td>\n",
              "      <td>DNS</td>\n",
              "      <td>NaN</td>\n",
              "      <td>False</td>\n",
              "    </tr>\n",
              "    <tr>\n",
              "      <th>4</th>\n",
              "      <td>1908 Summer Olympics</td>\n",
              "      <td>5</td>\n",
              "      <td>ANZ</td>\n",
              "      <td>Athletics</td>\n",
              "      <td>800 metres, Men</td>\n",
              "      <td>56338</td>\n",
              "      <td>Joseph Lynch</td>\n",
              "      <td>64735</td>\n",
              "      <td>DNS</td>\n",
              "      <td>NaN</td>\n",
              "      <td>False</td>\n",
              "    </tr>\n",
              "    <tr>\n",
              "      <th>5</th>\n",
              "      <td>1908 Summer Olympics</td>\n",
              "      <td>5</td>\n",
              "      <td>ANZ</td>\n",
              "      <td>Athletics</td>\n",
              "      <td>800 metres, Men</td>\n",
              "      <td>56338</td>\n",
              "      <td>Henry Murray</td>\n",
              "      <td>64756</td>\n",
              "      <td>DNS</td>\n",
              "      <td>NaN</td>\n",
              "      <td>False</td>\n",
              "    </tr>\n",
              "    <tr>\n",
              "      <th>6</th>\n",
              "      <td>1908 Summer Olympics</td>\n",
              "      <td>5</td>\n",
              "      <td>ANZ</td>\n",
              "      <td>Athletics</td>\n",
              "      <td>1,500 metres, Men</td>\n",
              "      <td>56349</td>\n",
              "      <td>Joseph Lynch</td>\n",
              "      <td>64735</td>\n",
              "      <td>5 h2 r1/2</td>\n",
              "      <td>NaN</td>\n",
              "      <td>False</td>\n",
              "    </tr>\n",
              "    <tr>\n",
              "      <th>7</th>\n",
              "      <td>1908 Summer Olympics</td>\n",
              "      <td>5</td>\n",
              "      <td>ANZ</td>\n",
              "      <td>Athletics</td>\n",
              "      <td>1,500 metres, Men</td>\n",
              "      <td>56349</td>\n",
              "      <td>Charles Swain</td>\n",
              "      <td>79576</td>\n",
              "      <td>AC h3 r1/2</td>\n",
              "      <td>NaN</td>\n",
              "      <td>False</td>\n",
              "    </tr>\n",
              "    <tr>\n",
              "      <th>8</th>\n",
              "      <td>1908 Summer Olympics</td>\n",
              "      <td>5</td>\n",
              "      <td>ANZ</td>\n",
              "      <td>Athletics</td>\n",
              "      <td>1,500 metres, Men</td>\n",
              "      <td>56349</td>\n",
              "      <td>Guy Haskins</td>\n",
              "      <td>922519</td>\n",
              "      <td>DNS</td>\n",
              "      <td>NaN</td>\n",
              "      <td>False</td>\n",
              "    </tr>\n",
              "    <tr>\n",
              "      <th>9</th>\n",
              "      <td>1908 Summer Olympics</td>\n",
              "      <td>5</td>\n",
              "      <td>ANZ</td>\n",
              "      <td>Athletics</td>\n",
              "      <td>1,500 metres, Men</td>\n",
              "      <td>56349</td>\n",
              "      <td>George Blake</td>\n",
              "      <td>64619</td>\n",
              "      <td>DNS</td>\n",
              "      <td>NaN</td>\n",
              "      <td>False</td>\n",
              "    </tr>\n",
              "  </tbody>\n",
              "</table>\n",
              "</div>\n",
              "    <div class=\"colab-df-buttons\">\n",
              "\n",
              "  <div class=\"colab-df-container\">\n",
              "    <button class=\"colab-df-convert\" onclick=\"convertToInteractive('df-0a3173c2-0ea4-4f1b-8643-4d07782d72bb')\"\n",
              "            title=\"Convert this dataframe to an interactive table.\"\n",
              "            style=\"display:none;\">\n",
              "\n",
              "  <svg xmlns=\"http://www.w3.org/2000/svg\" height=\"24px\" viewBox=\"0 -960 960 960\">\n",
              "    <path d=\"M120-120v-720h720v720H120Zm60-500h600v-160H180v160Zm220 220h160v-160H400v160Zm0 220h160v-160H400v160ZM180-400h160v-160H180v160Zm440 0h160v-160H620v160ZM180-180h160v-160H180v160Zm440 0h160v-160H620v160Z\"/>\n",
              "  </svg>\n",
              "    </button>\n",
              "\n",
              "  <style>\n",
              "    .colab-df-container {\n",
              "      display:flex;\n",
              "      gap: 12px;\n",
              "    }\n",
              "\n",
              "    .colab-df-convert {\n",
              "      background-color: #E8F0FE;\n",
              "      border: none;\n",
              "      border-radius: 50%;\n",
              "      cursor: pointer;\n",
              "      display: none;\n",
              "      fill: #1967D2;\n",
              "      height: 32px;\n",
              "      padding: 0 0 0 0;\n",
              "      width: 32px;\n",
              "    }\n",
              "\n",
              "    .colab-df-convert:hover {\n",
              "      background-color: #E2EBFA;\n",
              "      box-shadow: 0px 1px 2px rgba(60, 64, 67, 0.3), 0px 1px 3px 1px rgba(60, 64, 67, 0.15);\n",
              "      fill: #174EA6;\n",
              "    }\n",
              "\n",
              "    .colab-df-buttons div {\n",
              "      margin-bottom: 4px;\n",
              "    }\n",
              "\n",
              "    [theme=dark] .colab-df-convert {\n",
              "      background-color: #3B4455;\n",
              "      fill: #D2E3FC;\n",
              "    }\n",
              "\n",
              "    [theme=dark] .colab-df-convert:hover {\n",
              "      background-color: #434B5C;\n",
              "      box-shadow: 0px 1px 3px 1px rgba(0, 0, 0, 0.15);\n",
              "      filter: drop-shadow(0px 1px 2px rgba(0, 0, 0, 0.3));\n",
              "      fill: #FFFFFF;\n",
              "    }\n",
              "  </style>\n",
              "\n",
              "    <script>\n",
              "      const buttonEl =\n",
              "        document.querySelector('#df-0a3173c2-0ea4-4f1b-8643-4d07782d72bb button.colab-df-convert');\n",
              "      buttonEl.style.display =\n",
              "        google.colab.kernel.accessAllowed ? 'block' : 'none';\n",
              "\n",
              "      async function convertToInteractive(key) {\n",
              "        const element = document.querySelector('#df-0a3173c2-0ea4-4f1b-8643-4d07782d72bb');\n",
              "        const dataTable =\n",
              "          await google.colab.kernel.invokeFunction('convertToInteractive',\n",
              "                                                    [key], {});\n",
              "        if (!dataTable) return;\n",
              "\n",
              "        const docLinkHtml = 'Like what you see? Visit the ' +\n",
              "          '<a target=\"_blank\" href=https://colab.research.google.com/notebooks/data_table.ipynb>data table notebook</a>'\n",
              "          + ' to learn more about interactive tables.';\n",
              "        element.innerHTML = '';\n",
              "        dataTable['output_type'] = 'display_data';\n",
              "        await google.colab.output.renderOutput(dataTable, element);\n",
              "        const docLink = document.createElement('div');\n",
              "        docLink.innerHTML = docLinkHtml;\n",
              "        element.appendChild(docLink);\n",
              "      }\n",
              "    </script>\n",
              "  </div>\n",
              "\n",
              "\n",
              "<div id=\"df-2566b6fd-b0f8-4957-8949-2a0fc3618bfc\">\n",
              "  <button class=\"colab-df-quickchart\" onclick=\"quickchart('df-2566b6fd-b0f8-4957-8949-2a0fc3618bfc')\"\n",
              "            title=\"Suggest charts\"\n",
              "            style=\"display:none;\">\n",
              "\n",
              "<svg xmlns=\"http://www.w3.org/2000/svg\" height=\"24px\"viewBox=\"0 0 24 24\"\n",
              "     width=\"24px\">\n",
              "    <g>\n",
              "        <path d=\"M19 3H5c-1.1 0-2 .9-2 2v14c0 1.1.9 2 2 2h14c1.1 0 2-.9 2-2V5c0-1.1-.9-2-2-2zM9 17H7v-7h2v7zm4 0h-2V7h2v10zm4 0h-2v-4h2v4z\"/>\n",
              "    </g>\n",
              "</svg>\n",
              "  </button>\n",
              "\n",
              "<style>\n",
              "  .colab-df-quickchart {\n",
              "      --bg-color: #E8F0FE;\n",
              "      --fill-color: #1967D2;\n",
              "      --hover-bg-color: #E2EBFA;\n",
              "      --hover-fill-color: #174EA6;\n",
              "      --disabled-fill-color: #AAA;\n",
              "      --disabled-bg-color: #DDD;\n",
              "  }\n",
              "\n",
              "  [theme=dark] .colab-df-quickchart {\n",
              "      --bg-color: #3B4455;\n",
              "      --fill-color: #D2E3FC;\n",
              "      --hover-bg-color: #434B5C;\n",
              "      --hover-fill-color: #FFFFFF;\n",
              "      --disabled-bg-color: #3B4455;\n",
              "      --disabled-fill-color: #666;\n",
              "  }\n",
              "\n",
              "  .colab-df-quickchart {\n",
              "    background-color: var(--bg-color);\n",
              "    border: none;\n",
              "    border-radius: 50%;\n",
              "    cursor: pointer;\n",
              "    display: none;\n",
              "    fill: var(--fill-color);\n",
              "    height: 32px;\n",
              "    padding: 0;\n",
              "    width: 32px;\n",
              "  }\n",
              "\n",
              "  .colab-df-quickchart:hover {\n",
              "    background-color: var(--hover-bg-color);\n",
              "    box-shadow: 0 1px 2px rgba(60, 64, 67, 0.3), 0 1px 3px 1px rgba(60, 64, 67, 0.15);\n",
              "    fill: var(--button-hover-fill-color);\n",
              "  }\n",
              "\n",
              "  .colab-df-quickchart-complete:disabled,\n",
              "  .colab-df-quickchart-complete:disabled:hover {\n",
              "    background-color: var(--disabled-bg-color);\n",
              "    fill: var(--disabled-fill-color);\n",
              "    box-shadow: none;\n",
              "  }\n",
              "\n",
              "  .colab-df-spinner {\n",
              "    border: 2px solid var(--fill-color);\n",
              "    border-color: transparent;\n",
              "    border-bottom-color: var(--fill-color);\n",
              "    animation:\n",
              "      spin 1s steps(1) infinite;\n",
              "  }\n",
              "\n",
              "  @keyframes spin {\n",
              "    0% {\n",
              "      border-color: transparent;\n",
              "      border-bottom-color: var(--fill-color);\n",
              "      border-left-color: var(--fill-color);\n",
              "    }\n",
              "    20% {\n",
              "      border-color: transparent;\n",
              "      border-left-color: var(--fill-color);\n",
              "      border-top-color: var(--fill-color);\n",
              "    }\n",
              "    30% {\n",
              "      border-color: transparent;\n",
              "      border-left-color: var(--fill-color);\n",
              "      border-top-color: var(--fill-color);\n",
              "      border-right-color: var(--fill-color);\n",
              "    }\n",
              "    40% {\n",
              "      border-color: transparent;\n",
              "      border-right-color: var(--fill-color);\n",
              "      border-top-color: var(--fill-color);\n",
              "    }\n",
              "    60% {\n",
              "      border-color: transparent;\n",
              "      border-right-color: var(--fill-color);\n",
              "    }\n",
              "    80% {\n",
              "      border-color: transparent;\n",
              "      border-right-color: var(--fill-color);\n",
              "      border-bottom-color: var(--fill-color);\n",
              "    }\n",
              "    90% {\n",
              "      border-color: transparent;\n",
              "      border-bottom-color: var(--fill-color);\n",
              "    }\n",
              "  }\n",
              "</style>\n",
              "\n",
              "  <script>\n",
              "    async function quickchart(key) {\n",
              "      const quickchartButtonEl =\n",
              "        document.querySelector('#' + key + ' button');\n",
              "      quickchartButtonEl.disabled = true;  // To prevent multiple clicks.\n",
              "      quickchartButtonEl.classList.add('colab-df-spinner');\n",
              "      try {\n",
              "        const charts = await google.colab.kernel.invokeFunction(\n",
              "            'suggestCharts', [key], {});\n",
              "      } catch (error) {\n",
              "        console.error('Error during call to suggestCharts:', error);\n",
              "      }\n",
              "      quickchartButtonEl.classList.remove('colab-df-spinner');\n",
              "      quickchartButtonEl.classList.add('colab-df-quickchart-complete');\n",
              "    }\n",
              "    (() => {\n",
              "      let quickchartButtonEl =\n",
              "        document.querySelector('#df-2566b6fd-b0f8-4957-8949-2a0fc3618bfc button');\n",
              "      quickchartButtonEl.style.display =\n",
              "        google.colab.kernel.accessAllowed ? 'block' : 'none';\n",
              "    })();\n",
              "  </script>\n",
              "</div>\n",
              "\n",
              "    </div>\n",
              "  </div>\n"
            ],
            "application/vnd.google.colaboratory.intrinsic+json": {
              "type": "dataframe",
              "variable_name": "Athlete_Events_Details"
            }
          },
          "metadata": {},
          "execution_count": 153
        }
      ]
    },
    {
      "cell_type": "code",
      "source": [
        "print(Athlete_Events_Details.isnull().sum())"

      ],
      "metadata": {
        "colab": {
          "base_uri": "https://localhost:8080/"
        },
        "id": "eZ58zoXv5XI_",
        "outputId": "b6ebee1b-0a12-42d7-aeb5-d127abcb2d37"
      },
      "execution_count": 154,
      "outputs": [
        {
          "output_type": "stream",
          "name": "stdout",
          "text": [
            "(7394, 6)\n"
          ]
        }
      ]
    },
    {
      "cell_type": "markdown",
      "source": [
        "3. Will convert all text fields to lower for consistency\n"
      ],
      "metadata": {
        "id": "qMo-y6xtBFmF"
      }
    },
    {
      "cell_type": "code",
      "source": [
        "Event_Results['event_title'] = Event_Results['event_title'].str.strip().str.lower()\n",
        "Event_Results['edition'] = Event_Results['edition'].str.strip().str.lower()\n",
        "Event_Results['sport'] = Event_Results['sport'].str.strip().str.lower()\n",
        "Event_Results['result_participants'] = Event_Results['result_participants'].str.strip().str.lower()"
      ],
      "metadata": {
        "id": "IrvbPWjZBK2w"
      },
      "execution_count": 51,

            "edition             0\n",
            "edition_id          0\n",
            "country_noc         0\n",
            "sport               0\n",
            "event               0\n",
            "result_id           0\n",
            "athlete             0\n",
            "athlete_id          0\n",
            "pos                 0\n",
            "medal          272147\n",
            "isTeamSport         0\n",
            "dtype: int64\n"
          ]
        }
      ]
    },
    {
      "cell_type": "code",
      "source": [
        "Athlete_Events_Details = Athlete_Events_Details.drop_duplicates()"
      ],
      "metadata": {
        "id": "qz9GvwF37tzF"
      },
      "execution_count": 155,
      "outputs": []
    },
    {
      "cell_type": "code",
      "source": [
        "print(Event_Results['result_participants'].head(10))"
      ],
      "metadata": {
        "colab": {
          "base_uri": "https://localhost:8080/"
        },
        "id": "qjTZj_DLCT3t",
        "outputId": "703529cb-87e1-4141-830c-50957e8fb26f"
      },
      "execution_count": 52,
      "outputs": [
        {
          "output_type": "stream",
          "name": "stdout",
          "text": [
            "0    17 from 15 countries\n",
            "1    31 from 14 countries\n",
            "2    43 from 15 countries\n",
            "3    30 from 14 countries\n",
            "4    16 from 16 countries\n",
            "5     15 from 3 countries\n",
            "6    22 from 14 countries\n",
            "7      7 from 4 countries\n",
            "8    53 from 21 countries\n",
            "9      3 from 2 countries\n",
            "Name: result_participants, dtype: object\n"
          ]
        }
      ]
    },
    {
      "cell_type": "markdown",
      "source": [
        "4. Creating new columns with total participants and total participating countries for each event"
      ],
      "metadata": {
        "id": "ma6hVpJ7DrOG"
      }
        "Athlete_Events_Details = Athlete_Events_Details.drop(columns=['result_id', 'athlete', 'pos'])"
      ],
      "metadata": {
        "id": "xwpgL0oy8kLw"
      },
      "execution_count": 156,
      "outputs": []
    },
    {
      "cell_type": "code",
      "source": [
        "Event_Results[['participants', 'participant_countries']] = Event_Results['result_participants'].str.extract(r'(\\d+)\\sfrom\\s(\\d+)')\n",
        "\n",
        "Event_Results['participants'] = Event_Results['participants'].astype(int)\n",
        "Event_Results['participant_countries'] = Event_Results['participant_countries'].astype(int)\n",
        "\n",
        "Event_Results.drop('result_participants', axis=1, inplace=True)\n",
        "\n",
        "print(Event_Results)"
        "Athlete_Events_Details['medal'].fillna('no medal', inplace=True)"
      ],
      "metadata": {
        "colab": {
          "base_uri": "https://localhost:8080/"
        },
        "id": "zqK33aezDH90",
        "outputId": "46e5d5af-d683-43b8-e878-ab22f4b7e6ee"
      },
      "execution_count": 53,
      "outputs": [
        {
          "output_type": "stream",
          "name": "stdout",
          "text": [
            "      result_id                              event_title  \\\n",
            "0         30359  super-heavyweight (>105 kilograms), men   \n",
            "1          1626                     giant slalom, women1   \n",
            "2            76                             singles, men   \n",
            "3           962                        1,500 metres, men   \n",
            "4        258824            canadian singles, slalom, men   \n",
            "...         ...                                      ...   \n",
            "7389   19001250                          basketball, men   \n",
            "7390      84835                         sabre, team, men   \n",
            "7391      72031                    foil, individual, men   \n",
            "7392     258676                  beach volleyball, women   \n",
            "7393      48121                             doubles, men   \n",
            "\n",
            "                   edition  edition_id             sport  participants  \\\n",
            "0     2004 summer olympics          26     weightlifting            17   \n",
            "1     1998 winter olympics          46      snowboarding            31   \n",
            "2     1976 winter olympics          40              luge            43   \n",
            "3     1928 winter olympics          30     speed skating            30   \n",
            "4     2008 summer olympics          53      canoe slalom            16   \n",
            "...                    ...         ...               ...           ...   \n",
            "7389  2020 summer olympics          61        basketball           143   \n",
            "7390  1936 summer olympics          11           fencing           107   \n",
            "7391  1900 summer olympics           2           fencing            53   \n",
            "7392  2008 summer olympics          53  beach volleyball            48   \n",
            "7393  2000 summer olympics          25      table tennis            72   \n",
            "\n",
            "      participant_countries  \n",
            "0                        15  \n",
            "1                        14  \n",
            "2                        15  \n",
            "3                        14  \n",
            "4                        16  \n",
            "...                     ...  \n",
            "7389                     12  \n",
            "7390                     21  \n",
            "7391                      9  \n",
            "7392                     17  \n",
            "7393                     29  \n",
            "\n",
            "[7394 rows x 7 columns]\n"
        "id": "9BKFm-2W8htU",
        "outputId": "ca97bb6e-c559-49ba-bff2-134c8aba2353"
      },
      "execution_count": 157,
      "outputs": [
        {
          "output_type": "stream",
          "name": "stderr",
          "text": [
            "<ipython-input-157-3bd0850ae94e>:1: FutureWarning: A value is trying to be set on a copy of a DataFrame or Series through chained assignment using an inplace method.\n",
            "The behavior will change in pandas 3.0. This inplace method will never work because the intermediate object on which we are setting values always behaves as a copy.\n",
            "\n",
            "For example, when doing 'df[col].method(value, inplace=True)', try using 'df.method({col: value}, inplace=True)' or df[col] = df[col].method(value) instead, to perform the operation inplace on the original object.\n",
            "\n",
            "\n",
            "  Athlete_Events_Details['medal'].fillna('no medal', inplace=True)\n"
          ]
        }
      ]
    },
    {
      "cell_type": "code",
      "source": [
        "print(Event_Results['participants'].head(10))\n",
        "print(Event_Results['participant_countries'].head(10))"
      ],
      "metadata": {
        "colab": {
          "base_uri": "https://localhost:8080/"
        },
        "id": "A9miI6NyDQLM",
        "outputId": "bc8a94fb-579e-4953-a771-06fb02c189bd"
      },
      "execution_count": 54,
      "outputs": [
        {
          "output_type": "stream",
          "name": "stdout",
          "text": [
            "0    17\n",
            "1    31\n",
            "2    43\n",
            "3    30\n",
            "4    16\n",
            "5    15\n",
            "6    22\n",
            "7     7\n",
            "8    53\n",
            "9     3\n",
            "Name: participants, dtype: int64\n",
            "0    15\n",
            "1    14\n",
            "2    15\n",
            "3    14\n",
            "4    16\n",
            "5     3\n",
            "6    14\n",
            "7     4\n",
            "8    21\n",
            "9     2\n",
            "Name: participant_countries, dtype: int64\n"
          ]
        }
      ]
        "Athlete_Events_Details['country_noc'] = Athlete_Events_Details['country_noc'].str.strip().str.lower()\n",
        "Athlete_Events_Details['sport'] = Athlete_Events_Details['sport'].str.strip().str.lower()\n",
        "Athlete_Events_Details['event'] = Athlete_Events_Details['event'].str.strip().str.lower()\n",
        "Athlete_Events_Details['edition'] = Athlete_Events_Details['edition'].str.strip().str.lower()"
      ],
      "metadata": {
        "id": "LNQSbu9cBmW1"
      },
      "execution_count": 158,
      "outputs": []
    },
    {
      "cell_type": "code",
      "source": [
        "print(Event_Results['event_title'].head(10))"
      ],
      "metadata": {
        "id": "oiyLUWlODplH",
        "colab": {
          "base_uri": "https://localhost:8080/"
        },
        "outputId": "0faadb14-c4b0-4fbe-d628-8acfb63618bc"
      },
      "execution_count": 55,
      "outputs": [
        {
          "output_type": "stream",
          "name": "stdout",
          "text": [
            "0         super-heavyweight (>105 kilograms), men\n",
            "1                            giant slalom, women1\n",
            "2                                    singles, men\n",
            "3                               1,500 metres, men\n",
            "4                   canadian singles, slalom, men\n",
            "5               singles, handicap (class ii), men\n",
            "6                                   shot put, men\n",
            "7                    800 metres wheelchair, women\n",
            "8    30 kilometres (mass start, classical), women\n",
            "9                  kayak singles, 800 metres, men\n",
            "Name: event_title, dtype: object\n"
          ]
        }
      ]
    },
    {
      "cell_type": "markdown",
      "source": [
        "5. Separating male and female events by adding a column for each men and women"
      ],
      "metadata": {
        "id": "JH8ZKVxyKZFG"
      }
        "Athlete_Events_Details.head(10)"
      ],
      "metadata": {
        "colab": {
          "base_uri": "https://localhost:8080/",
          "height": 363
        },
        "id": "sZj29hYEBxsj",
        "outputId": "96bd97fe-b446-41bc-fc66-a265a1a49e61"
      },
      "execution_count": 159,
      "outputs": [
        {
          "output_type": "execute_result",
          "data": {
            "text/plain": [
              "                edition  edition_id country_noc      sport              event  \\\n",
              "0  1908 summer olympics           5         anz  athletics    100 metres, men   \n",
              "1  1908 summer olympics           5         anz  athletics    400 metres, men   \n",
              "2  1908 summer olympics           5         anz  athletics    800 metres, men   \n",
              "3  1908 summer olympics           5         anz  athletics    800 metres, men   \n",
              "4  1908 summer olympics           5         anz  athletics    800 metres, men   \n",
              "5  1908 summer olympics           5         anz  athletics    800 metres, men   \n",
              "6  1908 summer olympics           5         anz  athletics  1,500 metres, men   \n",
              "7  1908 summer olympics           5         anz  athletics  1,500 metres, men   \n",
              "8  1908 summer olympics           5         anz  athletics  1,500 metres, men   \n",
              "9  1908 summer olympics           5         anz  athletics  1,500 metres, men   \n",
              "\n",
              "   athlete_id     medal  isTeamSport  \n",
              "0       64710  no medal        False  \n",
              "1       64756  no medal        False  \n",
              "2       64808  no medal        False  \n",
              "3      922519  no medal        False  \n",
              "4       64735  no medal        False  \n",
              "5       64756  no medal        False  \n",
              "6       64735  no medal        False  \n",
              "7       79576  no medal        False  \n",
              "8      922519  no medal        False  \n",
              "9       64619  no medal        False  "
            ],
            "text/html": [
              "\n",
              "  <div id=\"df-d52ab118-1aec-47ea-bc61-b3229358872e\" class=\"colab-df-container\">\n",
              "    <div>\n",
              "<style scoped>\n",
              "    .dataframe tbody tr th:only-of-type {\n",
              "        vertical-align: middle;\n",
              "    }\n",
              "\n",
              "    .dataframe tbody tr th {\n",
              "        vertical-align: top;\n",
              "    }\n",
              "\n",
              "    .dataframe thead th {\n",
              "        text-align: right;\n",
              "    }\n",
              "</style>\n",
              "<table border=\"1\" class=\"dataframe\">\n",
              "  <thead>\n",
              "    <tr style=\"text-align: right;\">\n",
              "      <th></th>\n",
              "      <th>edition</th>\n",
              "      <th>edition_id</th>\n",
              "      <th>country_noc</th>\n",
              "      <th>sport</th>\n",
              "      <th>event</th>\n",
              "      <th>athlete_id</th>\n",
              "      <th>medal</th>\n",
              "      <th>isTeamSport</th>\n",
              "    </tr>\n",
              "  </thead>\n",
              "  <tbody>\n",
              "    <tr>\n",
              "      <th>0</th>\n",
              "      <td>1908 summer olympics</td>\n",
              "      <td>5</td>\n",
              "      <td>anz</td>\n",
              "      <td>athletics</td>\n",
              "      <td>100 metres, men</td>\n",
              "      <td>64710</td>\n",
              "      <td>no medal</td>\n",
              "      <td>False</td>\n",
              "    </tr>\n",
              "    <tr>\n",
              "      <th>1</th>\n",
              "      <td>1908 summer olympics</td>\n",
              "      <td>5</td>\n",
              "      <td>anz</td>\n",
              "      <td>athletics</td>\n",
              "      <td>400 metres, men</td>\n",
              "      <td>64756</td>\n",
              "      <td>no medal</td>\n",
              "      <td>False</td>\n",
              "    </tr>\n",
              "    <tr>\n",
              "      <th>2</th>\n",
              "      <td>1908 summer olympics</td>\n",
              "      <td>5</td>\n",
              "      <td>anz</td>\n",
              "      <td>athletics</td>\n",
              "      <td>800 metres, men</td>\n",
              "      <td>64808</td>\n",
              "      <td>no medal</td>\n",
              "      <td>False</td>\n",
              "    </tr>\n",
              "    <tr>\n",
              "      <th>3</th>\n",
              "      <td>1908 summer olympics</td>\n",
              "      <td>5</td>\n",
              "      <td>anz</td>\n",
              "      <td>athletics</td>\n",
              "      <td>800 metres, men</td>\n",
              "      <td>922519</td>\n",
              "      <td>no medal</td>\n",
              "      <td>False</td>\n",
              "    </tr>\n",
              "    <tr>\n",
              "      <th>4</th>\n",
              "      <td>1908 summer olympics</td>\n",
              "      <td>5</td>\n",
              "      <td>anz</td>\n",
              "      <td>athletics</td>\n",
              "      <td>800 metres, men</td>\n",
              "      <td>64735</td>\n",
              "      <td>no medal</td>\n",
              "      <td>False</td>\n",
              "    </tr>\n",
              "    <tr>\n",
              "      <th>5</th>\n",
              "      <td>1908 summer olympics</td>\n",
              "      <td>5</td>\n",
              "      <td>anz</td>\n",
              "      <td>athletics</td>\n",
              "      <td>800 metres, men</td>\n",
              "      <td>64756</td>\n",
              "      <td>no medal</td>\n",
              "      <td>False</td>\n",
              "    </tr>\n",
              "    <tr>\n",
              "      <th>6</th>\n",
              "      <td>1908 summer olympics</td>\n",
              "      <td>5</td>\n",
              "      <td>anz</td>\n",
              "      <td>athletics</td>\n",
              "      <td>1,500 metres, men</td>\n",
              "      <td>64735</td>\n",
              "      <td>no medal</td>\n",
              "      <td>False</td>\n",
              "    </tr>\n",
              "    <tr>\n",
              "      <th>7</th>\n",
              "      <td>1908 summer olympics</td>\n",
              "      <td>5</td>\n",
              "      <td>anz</td>\n",
              "      <td>athletics</td>\n",
              "      <td>1,500 metres, men</td>\n",
              "      <td>79576</td>\n",
              "      <td>no medal</td>\n",
              "      <td>False</td>\n",
              "    </tr>\n",
              "    <tr>\n",
              "      <th>8</th>\n",
              "      <td>1908 summer olympics</td>\n",
              "      <td>5</td>\n",
              "      <td>anz</td>\n",
              "      <td>athletics</td>\n",
              "      <td>1,500 metres, men</td>\n",
              "      <td>922519</td>\n",
              "      <td>no medal</td>\n",
              "      <td>False</td>\n",
              "    </tr>\n",
              "    <tr>\n",
              "      <th>9</th>\n",
              "      <td>1908 summer olympics</td>\n",
              "      <td>5</td>\n",
              "      <td>anz</td>\n",
              "      <td>athletics</td>\n",
              "      <td>1,500 metres, men</td>\n",
              "      <td>64619</td>\n",
              "      <td>no medal</td>\n",
              "      <td>False</td>\n",
              "    </tr>\n",
              "  </tbody>\n",
              "</table>\n",
              "</div>\n",
              "    <div class=\"colab-df-buttons\">\n",
              "\n",
              "  <div class=\"colab-df-container\">\n",
              "    <button class=\"colab-df-convert\" onclick=\"convertToInteractive('df-d52ab118-1aec-47ea-bc61-b3229358872e')\"\n",
              "            title=\"Convert this dataframe to an interactive table.\"\n",
              "            style=\"display:none;\">\n",
              "\n",
              "  <svg xmlns=\"http://www.w3.org/2000/svg\" height=\"24px\" viewBox=\"0 -960 960 960\">\n",
              "    <path d=\"M120-120v-720h720v720H120Zm60-500h600v-160H180v160Zm220 220h160v-160H400v160Zm0 220h160v-160H400v160ZM180-400h160v-160H180v160Zm440 0h160v-160H620v160ZM180-180h160v-160H180v160Zm440 0h160v-160H620v160Z\"/>\n",
              "  </svg>\n",
              "    </button>\n",
              "\n",
              "  <style>\n",
              "    .colab-df-container {\n",
              "      display:flex;\n",
              "      gap: 12px;\n",
              "    }\n",
              "\n",
              "    .colab-df-convert {\n",
              "      background-color: #E8F0FE;\n",
              "      border: none;\n",
              "      border-radius: 50%;\n",
              "      cursor: pointer;\n",
              "      display: none;\n",
              "      fill: #1967D2;\n",
              "      height: 32px;\n",
              "      padding: 0 0 0 0;\n",
              "      width: 32px;\n",
              "    }\n",
              "\n",
              "    .colab-df-convert:hover {\n",
              "      background-color: #E2EBFA;\n",
              "      box-shadow: 0px 1px 2px rgba(60, 64, 67, 0.3), 0px 1px 3px 1px rgba(60, 64, 67, 0.15);\n",
              "      fill: #174EA6;\n",
              "    }\n",
              "\n",
              "    .colab-df-buttons div {\n",
              "      margin-bottom: 4px;\n",
              "    }\n",
              "\n",
              "    [theme=dark] .colab-df-convert {\n",
              "      background-color: #3B4455;\n",
              "      fill: #D2E3FC;\n",
              "    }\n",
              "\n",
              "    [theme=dark] .colab-df-convert:hover {\n",
              "      background-color: #434B5C;\n",
              "      box-shadow: 0px 1px 3px 1px rgba(0, 0, 0, 0.15);\n",
              "      filter: drop-shadow(0px 1px 2px rgba(0, 0, 0, 0.3));\n",
              "      fill: #FFFFFF;\n",
              "    }\n",
              "  </style>\n",
              "\n",
              "    <script>\n",
              "      const buttonEl =\n",
              "        document.querySelector('#df-d52ab118-1aec-47ea-bc61-b3229358872e button.colab-df-convert');\n",
              "      buttonEl.style.display =\n",
              "        google.colab.kernel.accessAllowed ? 'block' : 'none';\n",
              "\n",
              "      async function convertToInteractive(key) {\n",
              "        const element = document.querySelector('#df-d52ab118-1aec-47ea-bc61-b3229358872e');\n",
              "        const dataTable =\n",
              "          await google.colab.kernel.invokeFunction('convertToInteractive',\n",
              "                                                    [key], {});\n",
              "        if (!dataTable) return;\n",
              "\n",
              "        const docLinkHtml = 'Like what you see? Visit the ' +\n",
              "          '<a target=\"_blank\" href=https://colab.research.google.com/notebooks/data_table.ipynb>data table notebook</a>'\n",
              "          + ' to learn more about interactive tables.';\n",
              "        element.innerHTML = '';\n",
              "        dataTable['output_type'] = 'display_data';\n",
              "        await google.colab.output.renderOutput(dataTable, element);\n",
              "        const docLink = document.createElement('div');\n",
              "        docLink.innerHTML = docLinkHtml;\n",
              "        element.appendChild(docLink);\n",
              "      }\n",
              "    </script>\n",
              "  </div>\n",
              "\n",
              "\n",
              "<div id=\"df-5cd0c042-7c02-42e5-aa56-0a2dc946a543\">\n",
              "  <button class=\"colab-df-quickchart\" onclick=\"quickchart('df-5cd0c042-7c02-42e5-aa56-0a2dc946a543')\"\n",
              "            title=\"Suggest charts\"\n",
              "            style=\"display:none;\">\n",
              "\n",
              "<svg xmlns=\"http://www.w3.org/2000/svg\" height=\"24px\"viewBox=\"0 0 24 24\"\n",
              "     width=\"24px\">\n",
              "    <g>\n",
              "        <path d=\"M19 3H5c-1.1 0-2 .9-2 2v14c0 1.1.9 2 2 2h14c1.1 0 2-.9 2-2V5c0-1.1-.9-2-2-2zM9 17H7v-7h2v7zm4 0h-2V7h2v10zm4 0h-2v-4h2v4z\"/>\n",
              "    </g>\n",
              "</svg>\n",
              "  </button>\n",
              "\n",
              "<style>\n",
              "  .colab-df-quickchart {\n",
              "      --bg-color: #E8F0FE;\n",
              "      --fill-color: #1967D2;\n",
              "      --hover-bg-color: #E2EBFA;\n",
              "      --hover-fill-color: #174EA6;\n",
              "      --disabled-fill-color: #AAA;\n",
              "      --disabled-bg-color: #DDD;\n",
              "  }\n",
              "\n",
              "  [theme=dark] .colab-df-quickchart {\n",
              "      --bg-color: #3B4455;\n",
              "      --fill-color: #D2E3FC;\n",
              "      --hover-bg-color: #434B5C;\n",
              "      --hover-fill-color: #FFFFFF;\n",
              "      --disabled-bg-color: #3B4455;\n",
              "      --disabled-fill-color: #666;\n",
              "  }\n",
              "\n",
              "  .colab-df-quickchart {\n",
              "    background-color: var(--bg-color);\n",
              "    border: none;\n",
              "    border-radius: 50%;\n",
              "    cursor: pointer;\n",
              "    display: none;\n",
              "    fill: var(--fill-color);\n",
              "    height: 32px;\n",
              "    padding: 0;\n",
              "    width: 32px;\n",
              "  }\n",
              "\n",
              "  .colab-df-quickchart:hover {\n",
              "    background-color: var(--hover-bg-color);\n",
              "    box-shadow: 0 1px 2px rgba(60, 64, 67, 0.3), 0 1px 3px 1px rgba(60, 64, 67, 0.15);\n",
              "    fill: var(--button-hover-fill-color);\n",
              "  }\n",
              "\n",
              "  .colab-df-quickchart-complete:disabled,\n",
              "  .colab-df-quickchart-complete:disabled:hover {\n",
              "    background-color: var(--disabled-bg-color);\n",
              "    fill: var(--disabled-fill-color);\n",
              "    box-shadow: none;\n",
              "  }\n",
              "\n",
              "  .colab-df-spinner {\n",
              "    border: 2px solid var(--fill-color);\n",
              "    border-color: transparent;\n",
              "    border-bottom-color: var(--fill-color);\n",
              "    animation:\n",
              "      spin 1s steps(1) infinite;\n",
              "  }\n",
              "\n",
              "  @keyframes spin {\n",
              "    0% {\n",
              "      border-color: transparent;\n",
              "      border-bottom-color: var(--fill-color);\n",
              "      border-left-color: var(--fill-color);\n",
              "    }\n",
              "    20% {\n",
              "      border-color: transparent;\n",
              "      border-left-color: var(--fill-color);\n",
              "      border-top-color: var(--fill-color);\n",
              "    }\n",
              "    30% {\n",
              "      border-color: transparent;\n",
              "      border-left-color: var(--fill-color);\n",
              "      border-top-color: var(--fill-color);\n",
              "      border-right-color: var(--fill-color);\n",
              "    }\n",
              "    40% {\n",
              "      border-color: transparent;\n",
              "      border-right-color: var(--fill-color);\n",
              "      border-top-color: var(--fill-color);\n",
              "    }\n",
              "    60% {\n",
              "      border-color: transparent;\n",
              "      border-right-color: var(--fill-color);\n",
              "    }\n",
              "    80% {\n",
              "      border-color: transparent;\n",
              "      border-right-color: var(--fill-color);\n",
              "      border-bottom-color: var(--fill-color);\n",
              "    }\n",
              "    90% {\n",
              "      border-color: transparent;\n",
              "      border-bottom-color: var(--fill-color);\n",
              "    }\n",
              "  }\n",
              "</style>\n",
              "\n",
              "  <script>\n",
              "    async function quickchart(key) {\n",
              "      const quickchartButtonEl =\n",
              "        document.querySelector('#' + key + ' button');\n",
              "      quickchartButtonEl.disabled = true;  // To prevent multiple clicks.\n",
              "      quickchartButtonEl.classList.add('colab-df-spinner');\n",
              "      try {\n",
              "        const charts = await google.colab.kernel.invokeFunction(\n",
              "            'suggestCharts', [key], {});\n",
              "      } catch (error) {\n",
              "        console.error('Error during call to suggestCharts:', error);\n",
              "      }\n",
              "      quickchartButtonEl.classList.remove('colab-df-spinner');\n",
              "      quickchartButtonEl.classList.add('colab-df-quickchart-complete');\n",
              "    }\n",
              "    (() => {\n",
              "      let quickchartButtonEl =\n",
              "        document.querySelector('#df-5cd0c042-7c02-42e5-aa56-0a2dc946a543 button');\n",
              "      quickchartButtonEl.style.display =\n",
              "        google.colab.kernel.accessAllowed ? 'block' : 'none';\n",
              "    })();\n",
              "  </script>\n",
              "</div>\n",
              "\n",
              "    </div>\n",
              "  </div>\n"
            ],
            "application/vnd.google.colaboratory.intrinsic+json": {
              "type": "dataframe",
              "variable_name": "Athlete_Events_Details"
            }
          },
          "metadata": {},
          "execution_count": 159
        }
      ]
    },
    {
      "cell_type": "code",
      "source": [
        "Athlete_Events_Details['edition'] = Athlete_Events_Details['edition'].astype('category')\n",
        "Athlete_Events_Details['isTeamSport'] = Athlete_Events_Details['isTeamSport'].astype(bool)"
      ],
      "metadata": {
        "id": "9X0fqW8qCiD0"
      },
      "execution_count": 160,
      "outputs": []
    },
    {
      "cell_type": "code",
      "source": [
        "Event_Results['men'] = Event_Results['event_title'].str.contains(r'\\bmen\\b', case=False).astype(int)\n",
        "Event_Results['women'] = Event_Results['event_title'].str.contains('women', case=False).astype(int)\n",
        "\n",
        "print(Event_Results)"
      ],
      "metadata": {
        "colab": {
          "base_uri": "https://localhost:8080/"
        },
        "id": "HVCeivSAJv-g",
        "outputId": "21e3e027-26db-4a78-c8e1-52529932e814"
      },
      "execution_count": 56,
      "outputs": [
        {
          "output_type": "stream",
          "name": "stdout",
          "text": [
            "      result_id                              event_title  \\\n",
            "0         30359  super-heavyweight (>105 kilograms), men   \n",
            "1          1626                     giant slalom, women1   \n",
            "2            76                             singles, men   \n",
            "3           962                        1,500 metres, men   \n",
            "4        258824            canadian singles, slalom, men   \n",
            "...         ...                                      ...   \n",
            "7389   19001250                          basketball, men   \n",
            "7390      84835                         sabre, team, men   \n",
            "7391      72031                    foil, individual, men   \n",
            "7392     258676                  beach volleyball, women   \n",
            "7393      48121                             doubles, men   \n",
            "\n",
            "                   edition  edition_id             sport  participants  \\\n",
            "0     2004 summer olympics          26     weightlifting            17   \n",
            "1     1998 winter olympics          46      snowboarding            31   \n",
            "2     1976 winter olympics          40              luge            43   \n",
            "3     1928 winter olympics          30     speed skating            30   \n",
            "4     2008 summer olympics          53      canoe slalom            16   \n",
            "...                    ...         ...               ...           ...   \n",
            "7389  2020 summer olympics          61        basketball           143   \n",
            "7390  1936 summer olympics          11           fencing           107   \n",
            "7391  1900 summer olympics           2           fencing            53   \n",
            "7392  2008 summer olympics          53  beach volleyball            48   \n",
            "7393  2000 summer olympics          25      table tennis            72   \n",
            "\n",
            "      participant_countries  men  women  \n",
            "0                        15    1      0  \n",
            "1                        14    0      1  \n",
            "2                        15    1      0  \n",
            "3                        14    1      0  \n",
            "4                        16    1      0  \n",
            "...                     ...  ...    ...  \n",
            "7389                     12    1      0  \n",
            "7390                     21    1      0  \n",
            "7391                      9    1      0  \n",
            "7392                     17    0      1  \n",
            "7393                     29    1      0  \n",
            "\n",
            "[7394 rows x 9 columns]\n"
          ]
        }
      ]
    },
    {
      "cell_type": "markdown",
      "source": [
        "6. Extract year and olympic type from the data"
      ],
      "metadata": {
        "id": "RKKcS3ujMNdS"
      }
    },
    {
      "cell_type": "code",
      "source": [
        "Event_Results[['year', 'olympic_type']] = Event_Results['edition'].str.extract(r'(\\d{4})\\s+(summer|winter)\\s+olympics')\n",
        "\n",
        "print(Event_Results['year'].head())\n",
        "print(Event_Results['olympic_type'].head())"
        "Athlete_Events_Details.head(10)"
      ],
      "metadata": {
        "colab": {
          "base_uri": "https://localhost:8080/",
          "height": 363
        },
        "id": "lAFwObjjCjbE",
        "outputId": "7e8aea99-b715-4dea-af0c-06d8a3e4461e"
      },
      "execution_count": 161,
      "outputs": [
        {
          "output_type": "execute_result",
          "data": {
            "text/plain": [
              "                edition  edition_id country_noc      sport              event  \\\n",
              "0  1908 summer olympics           5         anz  athletics    100 metres, men   \n",
              "1  1908 summer olympics           5         anz  athletics    400 metres, men   \n",
              "2  1908 summer olympics           5         anz  athletics    800 metres, men   \n",
              "3  1908 summer olympics           5         anz  athletics    800 metres, men   \n",
              "4  1908 summer olympics           5         anz  athletics    800 metres, men   \n",
              "5  1908 summer olympics           5         anz  athletics    800 metres, men   \n",
              "6  1908 summer olympics           5         anz  athletics  1,500 metres, men   \n",
              "7  1908 summer olympics           5         anz  athletics  1,500 metres, men   \n",
              "8  1908 summer olympics           5         anz  athletics  1,500 metres, men   \n",
              "9  1908 summer olympics           5         anz  athletics  1,500 metres, men   \n",
              "\n",
              "   athlete_id     medal  isTeamSport  \n",
              "0       64710  no medal        False  \n",
              "1       64756  no medal        False  \n",
              "2       64808  no medal        False  \n",
              "3      922519  no medal        False  \n",
              "4       64735  no medal        False  \n",
              "5       64756  no medal        False  \n",
              "6       64735  no medal        False  \n",
              "7       79576  no medal        False  \n",
              "8      922519  no medal        False  \n",
              "9       64619  no medal        False  "
            ],
            "text/html": [
              "\n",
              "  <div id=\"df-3d624e76-1610-4c73-aa78-277dc681764b\" class=\"colab-df-container\">\n",
              "    <div>\n",
              "<style scoped>\n",
              "    .dataframe tbody tr th:only-of-type {\n",
              "        vertical-align: middle;\n",
              "    }\n",
              "\n",
              "    .dataframe tbody tr th {\n",
              "        vertical-align: top;\n",
              "    }\n",
              "\n",
              "    .dataframe thead th {\n",
              "        text-align: right;\n",
              "    }\n",
              "</style>\n",
              "<table border=\"1\" class=\"dataframe\">\n",
              "  <thead>\n",
              "    <tr style=\"text-align: right;\">\n",
              "      <th></th>\n",
              "      <th>edition</th>\n",
              "      <th>edition_id</th>\n",
              "      <th>country_noc</th>\n",
              "      <th>sport</th>\n",
              "      <th>event</th>\n",
              "      <th>athlete_id</th>\n",
              "      <th>medal</th>\n",
              "      <th>isTeamSport</th>\n",
              "    </tr>\n",
              "  </thead>\n",
              "  <tbody>\n",
              "    <tr>\n",
              "      <th>0</th>\n",
              "      <td>1908 summer olympics</td>\n",
              "      <td>5</td>\n",
              "      <td>anz</td>\n",
              "      <td>athletics</td>\n",
              "      <td>100 metres, men</td>\n",
              "      <td>64710</td>\n",
              "      <td>no medal</td>\n",
              "      <td>False</td>\n",
              "    </tr>\n",
              "    <tr>\n",
              "      <th>1</th>\n",
              "      <td>1908 summer olympics</td>\n",
              "      <td>5</td>\n",
              "      <td>anz</td>\n",
              "      <td>athletics</td>\n",
              "      <td>400 metres, men</td>\n",
              "      <td>64756</td>\n",
              "      <td>no medal</td>\n",
              "      <td>False</td>\n",
              "    </tr>\n",
              "    <tr>\n",
              "      <th>2</th>\n",
              "      <td>1908 summer olympics</td>\n",
              "      <td>5</td>\n",
              "      <td>anz</td>\n",
              "      <td>athletics</td>\n",
              "      <td>800 metres, men</td>\n",
              "      <td>64808</td>\n",
              "      <td>no medal</td>\n",
              "      <td>False</td>\n",
              "    </tr>\n",
              "    <tr>\n",
              "      <th>3</th>\n",
              "      <td>1908 summer olympics</td>\n",
              "      <td>5</td>\n",
              "      <td>anz</td>\n",
              "      <td>athletics</td>\n",
              "      <td>800 metres, men</td>\n",
              "      <td>922519</td>\n",
              "      <td>no medal</td>\n",
              "      <td>False</td>\n",
              "    </tr>\n",
              "    <tr>\n",
              "      <th>4</th>\n",
              "      <td>1908 summer olympics</td>\n",
              "      <td>5</td>\n",
              "      <td>anz</td>\n",
              "      <td>athletics</td>\n",
              "      <td>800 metres, men</td>\n",
              "      <td>64735</td>\n",
              "      <td>no medal</td>\n",
              "      <td>False</td>\n",
              "    </tr>\n",
              "    <tr>\n",
              "      <th>5</th>\n",
              "      <td>1908 summer olympics</td>\n",
              "      <td>5</td>\n",
              "      <td>anz</td>\n",
              "      <td>athletics</td>\n",
              "      <td>800 metres, men</td>\n",
              "      <td>64756</td>\n",
              "      <td>no medal</td>\n",
              "      <td>False</td>\n",
              "    </tr>\n",
              "    <tr>\n",
              "      <th>6</th>\n",
              "      <td>1908 summer olympics</td>\n",
              "      <td>5</td>\n",
              "      <td>anz</td>\n",
              "      <td>athletics</td>\n",
              "      <td>1,500 metres, men</td>\n",
              "      <td>64735</td>\n",
              "      <td>no medal</td>\n",
              "      <td>False</td>\n",
              "    </tr>\n",
              "    <tr>\n",
              "      <th>7</th>\n",
              "      <td>1908 summer olympics</td>\n",
              "      <td>5</td>\n",
              "      <td>anz</td>\n",
              "      <td>athletics</td>\n",
              "      <td>1,500 metres, men</td>\n",
              "      <td>79576</td>\n",
              "      <td>no medal</td>\n",
              "      <td>False</td>\n",
              "    </tr>\n",
              "    <tr>\n",
              "      <th>8</th>\n",
              "      <td>1908 summer olympics</td>\n",
              "      <td>5</td>\n",
              "      <td>anz</td>\n",
              "      <td>athletics</td>\n",
              "      <td>1,500 metres, men</td>\n",
              "      <td>922519</td>\n",
              "      <td>no medal</td>\n",
              "      <td>False</td>\n",
              "    </tr>\n",
              "    <tr>\n",
              "      <th>9</th>\n",
              "      <td>1908 summer olympics</td>\n",
              "      <td>5</td>\n",
              "      <td>anz</td>\n",
              "      <td>athletics</td>\n",
              "      <td>1,500 metres, men</td>\n",
              "      <td>64619</td>\n",
              "      <td>no medal</td>\n",
              "      <td>False</td>\n",
              "    </tr>\n",
              "  </tbody>\n",
              "</table>\n",
              "</div>\n",
              "    <div class=\"colab-df-buttons\">\n",
              "\n",
              "  <div class=\"colab-df-container\">\n",
              "    <button class=\"colab-df-convert\" onclick=\"convertToInteractive('df-3d624e76-1610-4c73-aa78-277dc681764b')\"\n",
              "            title=\"Convert this dataframe to an interactive table.\"\n",
              "            style=\"display:none;\">\n",
              "\n",
              "  <svg xmlns=\"http://www.w3.org/2000/svg\" height=\"24px\" viewBox=\"0 -960 960 960\">\n",
              "    <path d=\"M120-120v-720h720v720H120Zm60-500h600v-160H180v160Zm220 220h160v-160H400v160Zm0 220h160v-160H400v160ZM180-400h160v-160H180v160Zm440 0h160v-160H620v160ZM180-180h160v-160H180v160Zm440 0h160v-160H620v160Z\"/>\n",
              "  </svg>\n",
              "    </button>\n",
              "\n",
              "  <style>\n",
              "    .colab-df-container {\n",
              "      display:flex;\n",
              "      gap: 12px;\n",
              "    }\n",
              "\n",
              "    .colab-df-convert {\n",
              "      background-color: #E8F0FE;\n",
              "      border: none;\n",
              "      border-radius: 50%;\n",
              "      cursor: pointer;\n",
              "      display: none;\n",
              "      fill: #1967D2;\n",
              "      height: 32px;\n",
              "      padding: 0 0 0 0;\n",
              "      width: 32px;\n",
              "    }\n",
              "\n",
              "    .colab-df-convert:hover {\n",
              "      background-color: #E2EBFA;\n",
              "      box-shadow: 0px 1px 2px rgba(60, 64, 67, 0.3), 0px 1px 3px 1px rgba(60, 64, 67, 0.15);\n",
              "      fill: #174EA6;\n",
              "    }\n",
              "\n",
              "    .colab-df-buttons div {\n",
              "      margin-bottom: 4px;\n",
              "    }\n",
              "\n",
              "    [theme=dark] .colab-df-convert {\n",
              "      background-color: #3B4455;\n",
              "      fill: #D2E3FC;\n",
              "    }\n",
              "\n",
              "    [theme=dark] .colab-df-convert:hover {\n",
              "      background-color: #434B5C;\n",
              "      box-shadow: 0px 1px 3px 1px rgba(0, 0, 0, 0.15);\n",
              "      filter: drop-shadow(0px 1px 2px rgba(0, 0, 0, 0.3));\n",
              "      fill: #FFFFFF;\n",
              "    }\n",
              "  </style>\n",
              "\n",
              "    <script>\n",
              "      const buttonEl =\n",
              "        document.querySelector('#df-3d624e76-1610-4c73-aa78-277dc681764b button.colab-df-convert');\n",
              "      buttonEl.style.display =\n",
              "        google.colab.kernel.accessAllowed ? 'block' : 'none';\n",
              "\n",
              "      async function convertToInteractive(key) {\n",
              "        const element = document.querySelector('#df-3d624e76-1610-4c73-aa78-277dc681764b');\n",
              "        const dataTable =\n",
              "          await google.colab.kernel.invokeFunction('convertToInteractive',\n",
              "                                                    [key], {});\n",
              "        if (!dataTable) return;\n",
              "\n",
              "        const docLinkHtml = 'Like what you see? Visit the ' +\n",
              "          '<a target=\"_blank\" href=https://colab.research.google.com/notebooks/data_table.ipynb>data table notebook</a>'\n",
              "          + ' to learn more about interactive tables.';\n",
              "        element.innerHTML = '';\n",
              "        dataTable['output_type'] = 'display_data';\n",
              "        await google.colab.output.renderOutput(dataTable, element);\n",
              "        const docLink = document.createElement('div');\n",
              "        docLink.innerHTML = docLinkHtml;\n",
              "        element.appendChild(docLink);\n",
              "      }\n",
              "    </script>\n",
              "  </div>\n",
              "\n",
              "\n",
              "<div id=\"df-c789aa89-1165-4e7e-8505-d011c09ffbe5\">\n",
              "  <button class=\"colab-df-quickchart\" onclick=\"quickchart('df-c789aa89-1165-4e7e-8505-d011c09ffbe5')\"\n",
              "            title=\"Suggest charts\"\n",
              "            style=\"display:none;\">\n",
              "\n",
              "<svg xmlns=\"http://www.w3.org/2000/svg\" height=\"24px\"viewBox=\"0 0 24 24\"\n",
              "     width=\"24px\">\n",
              "    <g>\n",
              "        <path d=\"M19 3H5c-1.1 0-2 .9-2 2v14c0 1.1.9 2 2 2h14c1.1 0 2-.9 2-2V5c0-1.1-.9-2-2-2zM9 17H7v-7h2v7zm4 0h-2V7h2v10zm4 0h-2v-4h2v4z\"/>\n",
              "    </g>\n",
              "</svg>\n",
              "  </button>\n",
              "\n",
              "<style>\n",
              "  .colab-df-quickchart {\n",
              "      --bg-color: #E8F0FE;\n",
              "      --fill-color: #1967D2;\n",
              "      --hover-bg-color: #E2EBFA;\n",
              "      --hover-fill-color: #174EA6;\n",
              "      --disabled-fill-color: #AAA;\n",
              "      --disabled-bg-color: #DDD;\n",
              "  }\n",
              "\n",
              "  [theme=dark] .colab-df-quickchart {\n",
              "      --bg-color: #3B4455;\n",
              "      --fill-color: #D2E3FC;\n",
              "      --hover-bg-color: #434B5C;\n",
              "      --hover-fill-color: #FFFFFF;\n",
              "      --disabled-bg-color: #3B4455;\n",
              "      --disabled-fill-color: #666;\n",
              "  }\n",
              "\n",
              "  .colab-df-quickchart {\n",
              "    background-color: var(--bg-color);\n",
              "    border: none;\n",
              "    border-radius: 50%;\n",
              "    cursor: pointer;\n",
              "    display: none;\n",
              "    fill: var(--fill-color);\n",
              "    height: 32px;\n",
              "    padding: 0;\n",
              "    width: 32px;\n",
              "  }\n",
              "\n",
              "  .colab-df-quickchart:hover {\n",
              "    background-color: var(--hover-bg-color);\n",
              "    box-shadow: 0 1px 2px rgba(60, 64, 67, 0.3), 0 1px 3px 1px rgba(60, 64, 67, 0.15);\n",
              "    fill: var(--button-hover-fill-color);\n",
              "  }\n",
              "\n",
              "  .colab-df-quickchart-complete:disabled,\n",
              "  .colab-df-quickchart-complete:disabled:hover {\n",
              "    background-color: var(--disabled-bg-color);\n",
              "    fill: var(--disabled-fill-color);\n",
              "    box-shadow: none;\n",
              "  }\n",
              "\n",
              "  .colab-df-spinner {\n",
              "    border: 2px solid var(--fill-color);\n",
              "    border-color: transparent;\n",
              "    border-bottom-color: var(--fill-color);\n",
              "    animation:\n",
              "      spin 1s steps(1) infinite;\n",
              "  }\n",
              "\n",
              "  @keyframes spin {\n",
              "    0% {\n",
              "      border-color: transparent;\n",
              "      border-bottom-color: var(--fill-color);\n",
              "      border-left-color: var(--fill-color);\n",
              "    }\n",
              "    20% {\n",
              "      border-color: transparent;\n",
              "      border-left-color: var(--fill-color);\n",
              "      border-top-color: var(--fill-color);\n",
              "    }\n",
              "    30% {\n",
              "      border-color: transparent;\n",
              "      border-left-color: var(--fill-color);\n",
              "      border-top-color: var(--fill-color);\n",
              "      border-right-color: var(--fill-color);\n",
              "    }\n",
              "    40% {\n",
              "      border-color: transparent;\n",
              "      border-right-color: var(--fill-color);\n",
              "      border-top-color: var(--fill-color);\n",
              "    }\n",
              "    60% {\n",
              "      border-color: transparent;\n",
              "      border-right-color: var(--fill-color);\n",
              "    }\n",
              "    80% {\n",
              "      border-color: transparent;\n",
              "      border-right-color: var(--fill-color);\n",
              "      border-bottom-color: var(--fill-color);\n",
              "    }\n",
              "    90% {\n",
              "      border-color: transparent;\n",
              "      border-bottom-color: var(--fill-color);\n",
              "    }\n",
              "  }\n",
              "</style>\n",
              "\n",
              "  <script>\n",
              "    async function quickchart(key) {\n",
              "      const quickchartButtonEl =\n",
              "        document.querySelector('#' + key + ' button');\n",
              "      quickchartButtonEl.disabled = true;  // To prevent multiple clicks.\n",
              "      quickchartButtonEl.classList.add('colab-df-spinner');\n",
              "      try {\n",
              "        const charts = await google.colab.kernel.invokeFunction(\n",
              "            'suggestCharts', [key], {});\n",
              "      } catch (error) {\n",
              "        console.error('Error during call to suggestCharts:', error);\n",
              "      }\n",
              "      quickchartButtonEl.classList.remove('colab-df-spinner');\n",
              "      quickchartButtonEl.classList.add('colab-df-quickchart-complete');\n",
              "    }\n",
              "    (() => {\n",
              "      let quickchartButtonEl =\n",
              "        document.querySelector('#df-c789aa89-1165-4e7e-8505-d011c09ffbe5 button');\n",
              "      quickchartButtonEl.style.display =\n",
              "        google.colab.kernel.accessAllowed ? 'block' : 'none';\n",
              "    })();\n",
              "  </script>\n",
              "</div>\n",
              "\n",
              "    </div>\n",
              "  </div>\n"
            ],
            "application/vnd.google.colaboratory.intrinsic+json": {
              "type": "dataframe",
              "variable_name": "Athlete_Events_Details"
            }
          },
          "metadata": {},
          "execution_count": 161
        }
      ]
    },
    {
      "cell_type": "code",
      "source": [
        "Athlete_Events_Details[['year', 'olympic_type']] = Athlete_Events_Details['edition'].str.extract(r'(\\d{4})\\s+(summer|winter)\\s+olympics')\n",
        "\n",
        "print(Athlete_Events_Details['year'].head())\n",
        "print(Athlete_Events_Details['olympic_type'].head())"
      ],
      "metadata": {
        "colab": {
          "base_uri": "https://localhost:8080/"
        },
        "id": "faPL07PgL_Cj",
        "outputId": "4ad6e63f-53a9-4c2a-ff30-32c9b8df55d4"
      },
      "execution_count": 57,
        "id": "KWjvVO6GD1xG",
        "outputId": "81882f82-8cfa-4c9e-8839-26c8317c2c99"
      },
      "execution_count": 162,
      "outputs": [
        {
          "output_type": "stream",
          "name": "stdout",
          "text": [
            "0    2004\n",
            "1    1998\n",
            "2    1976\n",
            "3    1928\n",
            "4    2008\n",
            "Name: year, dtype: object\n",
            "0    summer\n",
            "1    winter\n",
            "2    winter\n",
            "3    winter\n",
            "0    1908\n",
            "1    1908\n",
            "2    1908\n",
            "3    1908\n",
            "4    1908\n",
            "Name: year, dtype: object\n",
            "0    summer\n",
            "1    summer\n",
            "2    summer\n",
            "3    summer\n",
            "4    summer\n",
            "Name: olympic_type, dtype: object\n"
          ]
        }
      ]
    },
    {
      "cell_type": "code",
      "source": [
        "print(Event_Results.shape)"
      ],
      "metadata": {
        "colab": {
          "base_uri": "https://localhost:8080/"
        },
        "id": "Ui3LfgD-Vd_I",
        "outputId": "0b5b5cc7-2919-4741-a49e-6528ed84d894"
      },
      "execution_count": 58,
      "outputs": [
        {
          "output_type": "stream",
          "name": "stdout",
          "text": [
            "(7394, 11)\n"
          ]
        }
      ]
    },
    {
      "cell_type": "markdown",
      "source": [
        "7. Drop rows where essential columns are null"
      ],
      "metadata": {
        "id": "yAWy4EqoNd2o"
      }
    },
    {
      "cell_type": "code",
      "source": [
        "Event_Results.dropna(subset=['event_title', 'sport', 'participants', 'participant_countries', 'men', 'women','year','olympic_type'], inplace=True)"
      ],
      "metadata": {
        "id": "tgjxIkqKVmku"
      },
      "execution_count": 59,
      "outputs": []
    },
    {
      "cell_type": "code",
      "source": [
        "print(Event_Results)"
      ],
      "metadata": {
        "colab": {
          "base_uri": "https://localhost:8080/"
        },
        "id": "__t-2dtVye9P",
        "outputId": "1a793401-9067-4ceb-d37a-88be8b1342b2"
      },
      "execution_count": 60,
      "outputs": [
        {
          "output_type": "stream",
          "name": "stdout",
          "text": [
            "      result_id                              event_title  \\\n",
            "0         30359  super-heavyweight (>105 kilograms), men   \n",
            "1          1626                     giant slalom, women1   \n",
            "2            76                             singles, men   \n",
            "3           962                        1,500 metres, men   \n",
            "4        258824            canadian singles, slalom, men   \n",
            "...         ...                                      ...   \n",
            "7389   19001250                          basketball, men   \n",
            "7390      84835                         sabre, team, men   \n",
            "7391      72031                    foil, individual, men   \n",
            "7392     258676                  beach volleyball, women   \n",
            "7393      48121                             doubles, men   \n",
            "\n",
            "                   edition  edition_id             sport  participants  \\\n",
            "0     2004 summer olympics          26     weightlifting            17   \n",
            "1     1998 winter olympics          46      snowboarding            31   \n",
            "2     1976 winter olympics          40              luge            43   \n",
            "3     1928 winter olympics          30     speed skating            30   \n",
            "4     2008 summer olympics          53      canoe slalom            16   \n",
            "...                    ...         ...               ...           ...   \n",
            "7389  2020 summer olympics          61        basketball           143   \n",
            "7390  1936 summer olympics          11           fencing           107   \n",
            "7391  1900 summer olympics           2           fencing            53   \n",
            "7392  2008 summer olympics          53  beach volleyball            48   \n",
            "7393  2000 summer olympics          25      table tennis            72   \n",
            "\n",
            "      participant_countries  men  women  year olympic_type  \n",
            "0                        15    1      0  2004       summer  \n",
            "1                        14    0      1  1998       winter  \n",
            "2                        15    1      0  1976       winter  \n",
            "3                        14    1      0  1928       winter  \n",
            "4                        16    1      0  2008       summer  \n",
            "...                     ...  ...    ...   ...          ...  \n",
            "7389                     12    1      0  2020       summer  \n",
            "7390                     21    1      0  1936       summer  \n",
            "7391                      9    1      0  1900       summer  \n",
            "7392                     17    0      1  2008       summer  \n",
            "7393                     29    1      0  2000       summer  \n",
            "\n",
            "[7375 rows x 11 columns]\n"
          ]
        }
      ]
    },
    {
      "cell_type": "markdown",
      "source": [
        "One hot encode olympic type"
      ],
      "metadata": {
        "id": "wF7gaXnWzdDQ"
      }
    },
    {
      "cell_type": "code",
      "source": [
        "# One-hot encode the 'olympic_type' column without a prefix\n",
        "olympic_dummies = pd.get_dummies(Event_Results['olympic_type'])\n",
        "\n",
        "# Convert the dummy columns from boolean to integer (0/1)\n",
        "olympic_dummies = olympic_dummies.astype(int)\n",
        "\n",
        "# Concatenate the one-hot encoded columns back to the original DataFrame\n",
        "Event_Results = pd.concat([Event_Results, olympic_dummies], axis=1)\n",
        "\n",
        "print(Event_Results)"
      ],
      "metadata": {
        "colab": {
          "base_uri": "https://localhost:8080/"
        },
        "id": "mZxIyiW6zhWM",
        "outputId": "59113007-42af-47f0-b03b-0a0dac3c93ac"
      },
      "execution_count": 61,
      "outputs": [
        {
          "output_type": "stream",
          "name": "stdout",
          "text": [
            "      result_id                              event_title  \\\n",
            "0         30359  super-heavyweight (>105 kilograms), men   \n",
            "1          1626                     giant slalom, women1   \n",
            "2            76                             singles, men   \n",
            "3           962                        1,500 metres, men   \n",
            "4        258824            canadian singles, slalom, men   \n",
            "...         ...                                      ...   \n",
            "7389   19001250                          basketball, men   \n",
            "7390      84835                         sabre, team, men   \n",
            "7391      72031                    foil, individual, men   \n",
            "7392     258676                  beach volleyball, women   \n",
            "7393      48121                             doubles, men   \n",
            "\n",
            "                   edition  edition_id             sport  participants  \\\n",
            "0     2004 summer olympics          26     weightlifting            17   \n",
            "1     1998 winter olympics          46      snowboarding            31   \n",
            "2     1976 winter olympics          40              luge            43   \n",
            "3     1928 winter olympics          30     speed skating            30   \n",
            "4     2008 summer olympics          53      canoe slalom            16   \n",
            "...                    ...         ...               ...           ...   \n",
            "7389  2020 summer olympics          61        basketball           143   \n",
            "7390  1936 summer olympics          11           fencing           107   \n",
            "7391  1900 summer olympics           2           fencing            53   \n",
            "7392  2008 summer olympics          53  beach volleyball            48   \n",
            "7393  2000 summer olympics          25      table tennis            72   \n",
            "\n",
            "      participant_countries  men  women  year olympic_type  summer  winter  \n",
            "0                        15    1      0  2004       summer       1       0  \n",
            "1                        14    0      1  1998       winter       0       1  \n",
            "2                        15    1      0  1976       winter       0       1  \n",
            "3                        14    1      0  1928       winter       0       1  \n",
            "4                        16    1      0  2008       summer       1       0  \n",
            "...                     ...  ...    ...   ...          ...     ...     ...  \n",
            "7389                     12    1      0  2020       summer       1       0  \n",
            "7390                     21    1      0  1936       summer       1       0  \n",
            "7391                      9    1      0  1900       summer       1       0  \n",
            "7392                     17    0      1  2008       summer       1       0  \n",
            "7393                     29    1      0  2000       summer       1       0  \n",
            "\n",
            "[7375 rows x 13 columns]\n"
          ]
        }
      ]
    },
    {
      "cell_type": "code",
      "source": [
        "print(Event_Results.shape)\n",
        "print(Event_Results.describe())\n",
        "print(Event_Results.head(10))"
      ],
      "metadata": {
        "colab": {
          "base_uri": "https://localhost:8080/"
        },
        "id": "4xjldI1P0GKG",
        "outputId": "25fa2303-1f12-4f95-b475-3dd045708981"
      },
      "execution_count": 62,
      "outputs": [
        {
          "output_type": "stream",
          "name": "stdout",
          "text": [
            "(7375, 13)\n",
            "          result_id   edition_id  participants  participant_countries  \\\n",
            "count  7.375000e+03  7375.000000   7375.000000            7375.000000   \n",
            "mean   1.538923e+06    27.672136     40.640407              17.216814   \n",
            "std    5.110132e+06    19.190632     35.551653              11.030743   \n",
            "min    1.000000e+00     1.000000      1.000000               1.000000   \n",
            "25%    2.998250e+04    13.000000     19.000000              10.000000   \n",
            "50%    7.078800e+04    22.000000     32.000000              16.000000   \n",
            "75%    3.315630e+05    46.000000     51.000000              23.000000   \n",
            "max    9.001677e+07    62.000000    312.000000              90.000000   \n",
            "\n",
            "               men        women       summer       winter  \n",
            "count  7375.000000  7375.000000  7375.000000  7375.000000  \n",
            "mean      0.635661     0.273220     0.833627     0.166373  \n",
            "std       0.481277     0.445643     0.372440     0.372440  \n",
            "min       0.000000     0.000000     0.000000     0.000000  \n",
            "25%       0.000000     0.000000     1.000000     0.000000  \n",
            "50%       1.000000     0.000000     1.000000     0.000000  \n",
            "75%       1.000000     1.000000     1.000000     0.000000  \n",
            "max       1.000000     1.000000     1.000000     1.000000  \n",
            "   result_id                                   event_title  \\\n",
            "0      30359       super-heavyweight (>105 kilograms), men   \n",
            "1       1626                          giant slalom, women1   \n",
            "2         76                                  singles, men   \n",
            "3        962                             1,500 metres, men   \n",
            "4     258824                 canadian singles, slalom, men   \n",
            "5     925522             singles, handicap (class ii), men   \n",
            "6      58336                                 shot put, men   \n",
            "7     901207                  800 metres wheelchair, women   \n",
            "8     923582  30 kilometres (mass start, classical), women   \n",
            "9     900038                kayak singles, 800 metres, men   \n",
            "\n",
            "                edition  edition_id                 sport  participants  \\\n",
            "0  2004 summer olympics          26         weightlifting            17   \n",
            "1  1998 winter olympics          46          snowboarding            31   \n",
            "2  1976 winter olympics          40                  luge            43   \n",
            "3  1928 winter olympics          30         speed skating            30   \n",
            "4  2008 summer olympics          53          canoe slalom            16   \n",
            "5  1900 summer olympics           2                tennis            15   \n",
            "6  1936 summer olympics          11             athletics            22   \n",
            "7  2004 summer olympics          26             athletics             7   \n",
            "8  2010 winter olympics          57  cross country skiing            53   \n",
            "9  1924 summer olympics           8          canoe sprint             3   \n",
            "\n",
            "   participant_countries  men  women  year olympic_type  summer  winter  \n",
            "0                     15    1      0  2004       summer       1       0  \n",
            "1                     14    0      1  1998       winter       0       1  \n",
            "2                     15    1      0  1976       winter       0       1  \n",
            "3                     14    1      0  1928       winter       0       1  \n",
            "4                     16    1      0  2008       summer       1       0  \n",
            "5                      3    1      0  1900       summer       1       0  \n",
            "6                     14    1      0  1936       summer       1       0  \n",
            "7                      4    0      1  2004       summer       1       0  \n",
            "8                     21    0      1  2010       winter       0       1  \n",
            "9                      2    1      0  1924       summer       1       0  \n"
          ]
        }
      ]
    },
    {
      "cell_type": "markdown",
      "source": [
        "# Population Total Cleaning"
      ],
      "metadata": {
        "id": "N17nxuTX6BNB"
      }
    },
    {
      "cell_type": "code",
      "source": [
        "print(Population_Total.shape)\n",
        "print(Population_Total.describe())\n",
        "print(Population_Total.head(10))"
      ],
      "metadata": {
        "colab": {
          "base_uri": "https://localhost:8080/"
        },
        "id": "CN-D1UAF6Ii5",
        "outputId": "a0e7e552-37d6-48bb-b90f-fdc03e0e7ad5"
      },
      "execution_count": 69,
      "outputs": [
        {
          "output_type": "stream",
          "name": "stdout",
          "text": [
            "(12595, 3)\n",
            "               Year         Count\n",
            "count  12595.000000  1.259500e+04\n",
            "mean    1988.583406  2.377748e+07\n",
            "std       16.744033  1.002442e+08\n",
            "min     1960.000000  3.893000e+03\n",
            "25%     1974.000000  4.758955e+05\n",
            "50%     1989.000000  4.060260e+06\n",
            "75%     2003.000000  1.276995e+07\n",
            "max     2017.000000  1.386395e+09\n",
            "           Country Name  Year     Count\n",
            "0                 Aruba  1960     54211\n",
            "1           Afghanistan  1960   8996973\n",
            "2                Angola  1960   5454933\n",
            "3               Albania  1960   1608800\n",
            "4               Andorra  1960     13411\n",
            "5  United Arab Emirates  1960     92418\n",
            "6             Argentina  1960  20481779\n",
            "7               Armenia  1960   1874121\n",
            "8        American Samoa  1960     20123\n",
            "9   Antigua and Barbuda  1960     54131\n"
          ]
        }
      ]
    },
    {
      "cell_type": "markdown",
      "source": [
        "1. Text columns to lower text"
      ],
      "metadata": {
        "id": "92UppOiZ8rO-"
      }
    },
    {
      "cell_type": "code",
      "source": [
        "Population_Total['Country Name'] = Population_Total['Country Name'].str.strip().str.lower()"
      ],
      "metadata": {
        "id": "kXP5Xt358Vxu"
      },
      "execution_count": 70,
      "outputs": []
    },
    {
      "cell_type": "markdown",
      "source": [
        "2. Normalize Population Count"
      ],
      "metadata": {
        "id": "RjHZkc9j8u_y"
      }
    },
    {
      "cell_type": "code",
      "source": [
        "from sklearn.preprocessing import MinMaxScaler\n",
        "scaler = MinMaxScaler()\n",
        "\n",
        "Population_Total[['Count']] = scaler.fit_transform(Population_Total[['Count']])\n",
        "\n",
        "print(Population_Total)"
      ],
      "metadata": {
        "colab": {
          "base_uri": "https://localhost:8080/"
        },
        "id": "f062UrULAzus",
        "outputId": "37cd0485-f992-40f4-bc54-d04b4c11c06c"
      },
      "execution_count": 71,
      "outputs": [
        {
          "output_type": "stream",
          "name": "stdout",
          "text": [
            "       Country Name  Year     Count\n",
            "0             aruba  1960  0.000036\n",
            "1       afghanistan  1960  0.006487\n",
            "2            angola  1960  0.003932\n",
            "3           albania  1960  0.001158\n",
            "4           andorra  1960  0.000007\n",
            "...             ...   ...       ...\n",
            "12590        kosovo  2017  0.001318\n",
            "12591   yemen, rep.  2017  0.020074\n",
            "12592  south africa  2017  0.041111\n",
            "12593        zambia  2017  0.012154\n",
            "12594      zimbabwe  2017  0.010266\n",
            "\n",
            "[12595 rows x 3 columns]\n"
          ]
        }
      ]
    },
    {
      "cell_type": "markdown",
      "source": [
        "3. Drop rows if essential columns are null"
      ],
      "metadata": {
        "id": "aqEydJDGBU2D"
      }
    },
    {
      "cell_type": "code",
      "source": [
        "Population_Total.dropna(subset=['Country Name', 'Year', 'Count'], inplace=True)"
      ],
      "metadata": {
        "id": "uzgoIEupBNQr"
      },
      "execution_count": 72,
      "outputs": []
    },
    {
      "cell_type": "code",
      "source": [
        "Population_Total['Year'] = Population_Total['Year'].replace(2017, 2020)"
      ],
      "metadata": {
        "id": "djvDWnuPDC4E"
      },
      "execution_count": 75,
      "outputs": []
    },
    {
      "cell_type": "code",
      "source": [
        "print(Population_Total.shape)\n",
        "print(Population_Total.describe())\n",
        "print(Population_Total)"
      ],
      "metadata": {
        "colab": {
          "base_uri": "https://localhost:8080/"
        },
        "id": "cyr083mxBhre",
        "outputId": "fac84218-f3dc-406d-8184-8b724af3dc24"
      },
      "execution_count": 77,
      "outputs": [
        {
          "output_type": "stream",
          "name": "stdout",
          "text": [
            "(12595, 3)\n",
            "               Year         Count\n",
            "count  12595.000000  12595.000000\n",
            "mean    1988.635331      0.017148\n",
            "std       16.836480      0.072306\n",
            "min     1960.000000      0.000000\n",
            "25%     1974.000000      0.000340\n",
            "50%     1989.000000      0.002926\n",
            "75%     2003.000000      0.009208\n",
            "max     2020.000000      1.000000\n",
            "       Country Name  Year     Count\n",
            "0             aruba  1960  0.000036\n",
            "1       afghanistan  1960  0.006487\n",
            "2            angola  1960  0.003932\n",
            "3           albania  1960  0.001158\n",
            "4           andorra  1960  0.000007\n",
            "...             ...   ...       ...\n",
            "12590        kosovo  2020  0.001318\n",
            "12591   yemen, rep.  2020  0.020074\n",
            "12592  south africa  2020  0.041111\n",
            "12593        zambia  2020  0.012154\n",
            "12594      zimbabwe  2020  0.010266\n",
            "\n",
            "[12595 rows x 3 columns]\n"
          ]
        }
      ]
    },
    {
      "cell_type": "markdown",
      "source": [
        "# Athlete_Biography Cleaning"
      ],
      "metadata": {
        "id": "wlypwUaxD2QE"
      }
    },
    {
      "cell_type": "code",
      "source": [
        "print(Athlete_Biography.shape)\n",
        "print(Athlete_Biography.describe())\n",
        "print(Athlete_Biography.head(10))"
      ],
      "metadata": {
        "colab": {
          "base_uri": "https://localhost:8080/"
        },
        "id": "rsOVHIUhD9px",
        "outputId": "29578f9b-049d-47ba-b674-ba8a59c3fd98"
      },
      "execution_count": 88,
      "outputs": [
        {
          "output_type": "stream",
          "name": "stdout",
          "text": [
            "(155861, 10)\n",
            "         athlete_id         height\n",
            "count  1.558610e+05  105112.000000\n",
            "mean   1.571606e+05     176.327194\n",
            "std    3.274205e+05      10.355980\n",
            "min    1.000000e+00     127.000000\n",
            "25%    3.927100e+04     170.000000\n",
            "50%    7.852900e+04     176.000000\n",
            "75%    1.189230e+05     183.000000\n",
            "max    2.200000e+07     226.000000\n",
            "   athlete_id                name     sex              born  height weight  \\\n",
            "0       65649       Ivanka Bonova  Female      4 April 1949   166.0     55   \n",
            "1      112510   Nataliya Uryadova  Female     15 March 1977   184.0     70   \n",
            "2      114973  Essa Ismail Rashed    Male  14 December 1986   165.0     55   \n",
            "3       30359         Péter Boros    Male   12 January 1908     NaN    NaN   \n",
            "4       50557      Rudolf Piowatý    Male     28 April 1900     NaN    NaN   \n",
            "5      146111  Svetlana Kholomina  Female   9 November 1997     NaN    NaN   \n",
            "6      133041    Vincent Riendeau    Male  13 December 1996   178.0     68   \n",
            "7      110425         Tanja Morel  Female    4 October 1975   164.0     58   \n",
            "8      110705     Maksim Shabalin    Male   25 January 1982   183.0     76   \n",
            "9       54541           Gé Regter    Male      6 March 1916     NaN    NaN   \n",
            "\n",
            "               country country_noc  \\\n",
            "0             Bulgaria         BUL   \n",
            "1   Russian Federation         RUS   \n",
            "2                Qatar         QAT   \n",
            "3              Hungary         HUN   \n",
            "4       Czechoslovakia         TCH   \n",
            "5                  ROC         ROC   \n",
            "6               Canada         CAN   \n",
            "7          Switzerland         SUI   \n",
            "8   Russian Federation         RUS   \n",
            "9          Netherlands         NED   \n",
            "\n",
            "                                         description  \\\n",
            "0                 Personal Best: 400 – 53.54 (1980).   \n",
            "1                                                NaN   \n",
            "2            Personal Best: 10000 – 27:20.97 (2006).   \n",
            "3  Between 1927 and 1938, Péter Boros competed as...   \n",
            "4  Rudolf Piowaty joined the Czechoslovak militar...   \n",
            "5                                                NaN   \n",
            "6                                                NaN   \n",
            "7                                                NaN   \n",
            "8                                                NaN   \n",
            "9                                                NaN   \n",
            "\n",
            "                                       special_notes  \n",
            "0                                                NaN  \n",
            "1  Listed in Olympians Who Won a Medal at the Eur...  \n",
            "2  Listed in Olympians Who Won a Medal at the Asi...  \n",
            "3                                                NaN  \n",
            "4                                                NaN  \n",
            "5                                                NaN  \n",
            "6  Listed in Olympians Who Won a Medal at the Sum...  \n",
            "7  Listed in Olympians Who Won a Medal at the Eur...  \n",
            "8  Listed in Olympians Who Won a Medal at the Eur...  \n",
            "9                                                NaN  \n"
          ]
        }
      ]
    },
    {
      "cell_type": "code",
      "source": [
        "Athlete_Biography.drop_duplicates(inplace=True)"
      ],
      "metadata": {
        "id": "4Arorwo6EICB"
      },
      "execution_count": 89,
      "outputs": []
    },
    {
      "cell_type": "code",
      "source": [
        "Athlete_Biography.drop(['description','special_notes','athlete_id'], axis=1, inplace=True)"
      ],
      "metadata": {
        "id": "wMjFzNS-EQxn"
      },
      "execution_count": 90,
      "outputs": []
    },
    {
      "cell_type": "code",
      "source": [
        "Athlete_Biography['country'] = Athlete_Biography['country'].str.strip().str.lower()\n",
        "Athlete_Biography['sex'] = Athlete_Biography['sex'].str.strip().str.lower()\n",
        "Athlete_Biography['name'] = Athlete_Biography['name'].str.strip().str.lower()\n",
        "Athlete_Biography['born'] = Athlete_Biography['born'].str.strip().str.lower()"
      ],
      "metadata": {
        "id": "iYzbdiM7EXKX"
      },
      "execution_count": 91,
      "outputs": []
        "Athlete_Events_Details['men'] = Athlete_Events_Details['event'].str.contains(r'\\bmen\\b', case=False).astype(int)\n",
        "Athlete_Events_Details['women'] = Athlete_Events_Details['event'].str.contains('women', case=False).astype(int)\n",
        "\n",
        "Athlete_Events_Details.head(10)"
      ],
      "metadata": {
        "colab": {
          "base_uri": "https://localhost:8080/",
          "height": 363
        },
        "id": "xnp8-PNuNkec",
        "outputId": "19012855-0649-44d6-fdec-5f22b88facd4"
      },
      "execution_count": 163,
      "outputs": [
        {
          "output_type": "execute_result",
          "data": {
            "text/plain": [
              "                edition  edition_id country_noc      sport              event  \\\n",
              "0  1908 summer olympics           5         anz  athletics    100 metres, men   \n",
              "1  1908 summer olympics           5         anz  athletics    400 metres, men   \n",
              "2  1908 summer olympics           5         anz  athletics    800 metres, men   \n",
              "3  1908 summer olympics           5         anz  athletics    800 metres, men   \n",
              "4  1908 summer olympics           5         anz  athletics    800 metres, men   \n",
              "5  1908 summer olympics           5         anz  athletics    800 metres, men   \n",
              "6  1908 summer olympics           5         anz  athletics  1,500 metres, men   \n",
              "7  1908 summer olympics           5         anz  athletics  1,500 metres, men   \n",
              "8  1908 summer olympics           5         anz  athletics  1,500 metres, men   \n",
              "9  1908 summer olympics           5         anz  athletics  1,500 metres, men   \n",
              "\n",
              "   athlete_id     medal  isTeamSport  year olympic_type  men  women  \n",
              "0       64710  no medal        False  1908       summer    1      0  \n",
              "1       64756  no medal        False  1908       summer    1      0  \n",
              "2       64808  no medal        False  1908       summer    1      0  \n",
              "3      922519  no medal        False  1908       summer    1      0  \n",
              "4       64735  no medal        False  1908       summer    1      0  \n",
              "5       64756  no medal        False  1908       summer    1      0  \n",
              "6       64735  no medal        False  1908       summer    1      0  \n",
              "7       79576  no medal        False  1908       summer    1      0  \n",
              "8      922519  no medal        False  1908       summer    1      0  \n",
              "9       64619  no medal        False  1908       summer    1      0  "
            ],
            "text/html": [
              "\n",
              "  <div id=\"df-ee79853c-de42-4b6d-9415-ebf3a3d79557\" class=\"colab-df-container\">\n",
              "    <div>\n",
              "<style scoped>\n",
              "    .dataframe tbody tr th:only-of-type {\n",
              "        vertical-align: middle;\n",
              "    }\n",
              "\n",
              "    .dataframe tbody tr th {\n",
              "        vertical-align: top;\n",
              "    }\n",
              "\n",
              "    .dataframe thead th {\n",
              "        text-align: right;\n",
              "    }\n",
              "</style>\n",
              "<table border=\"1\" class=\"dataframe\">\n",
              "  <thead>\n",
              "    <tr style=\"text-align: right;\">\n",
              "      <th></th>\n",
              "      <th>edition</th>\n",
              "      <th>edition_id</th>\n",
              "      <th>country_noc</th>\n",
              "      <th>sport</th>\n",
              "      <th>event</th>\n",
              "      <th>athlete_id</th>\n",
              "      <th>medal</th>\n",
              "      <th>isTeamSport</th>\n",
              "      <th>year</th>\n",
              "      <th>olympic_type</th>\n",
              "      <th>men</th>\n",
              "      <th>women</th>\n",
              "    </tr>\n",
              "  </thead>\n",
              "  <tbody>\n",
              "    <tr>\n",
              "      <th>0</th>\n",
              "      <td>1908 summer olympics</td>\n",
              "      <td>5</td>\n",
              "      <td>anz</td>\n",
              "      <td>athletics</td>\n",
              "      <td>100 metres, men</td>\n",
              "      <td>64710</td>\n",
              "      <td>no medal</td>\n",
              "      <td>False</td>\n",
              "      <td>1908</td>\n",
              "      <td>summer</td>\n",
              "      <td>1</td>\n",
              "      <td>0</td>\n",
              "    </tr>\n",
              "    <tr>\n",
              "      <th>1</th>\n",
              "      <td>1908 summer olympics</td>\n",
              "      <td>5</td>\n",
              "      <td>anz</td>\n",
              "      <td>athletics</td>\n",
              "      <td>400 metres, men</td>\n",
              "      <td>64756</td>\n",
              "      <td>no medal</td>\n",
              "      <td>False</td>\n",
              "      <td>1908</td>\n",
              "      <td>summer</td>\n",
              "      <td>1</td>\n",
              "      <td>0</td>\n",
              "    </tr>\n",
              "    <tr>\n",
              "      <th>2</th>\n",
              "      <td>1908 summer olympics</td>\n",
              "      <td>5</td>\n",
              "      <td>anz</td>\n",
              "      <td>athletics</td>\n",
              "      <td>800 metres, men</td>\n",
              "      <td>64808</td>\n",
              "      <td>no medal</td>\n",
              "      <td>False</td>\n",
              "      <td>1908</td>\n",
              "      <td>summer</td>\n",
              "      <td>1</td>\n",
              "      <td>0</td>\n",
              "    </tr>\n",
              "    <tr>\n",
              "      <th>3</th>\n",
              "      <td>1908 summer olympics</td>\n",
              "      <td>5</td>\n",
              "      <td>anz</td>\n",
              "      <td>athletics</td>\n",
              "      <td>800 metres, men</td>\n",
              "      <td>922519</td>\n",
              "      <td>no medal</td>\n",
              "      <td>False</td>\n",
              "      <td>1908</td>\n",
              "      <td>summer</td>\n",
              "      <td>1</td>\n",
              "      <td>0</td>\n",
              "    </tr>\n",
              "    <tr>\n",
              "      <th>4</th>\n",
              "      <td>1908 summer olympics</td>\n",
              "      <td>5</td>\n",
              "      <td>anz</td>\n",
              "      <td>athletics</td>\n",
              "      <td>800 metres, men</td>\n",
              "      <td>64735</td>\n",
              "      <td>no medal</td>\n",
              "      <td>False</td>\n",
              "      <td>1908</td>\n",
              "      <td>summer</td>\n",
              "      <td>1</td>\n",
              "      <td>0</td>\n",
              "    </tr>\n",
              "    <tr>\n",
              "      <th>5</th>\n",
              "      <td>1908 summer olympics</td>\n",
              "      <td>5</td>\n",
              "      <td>anz</td>\n",
              "      <td>athletics</td>\n",
              "      <td>800 metres, men</td>\n",
              "      <td>64756</td>\n",
              "      <td>no medal</td>\n",
              "      <td>False</td>\n",
              "      <td>1908</td>\n",
              "      <td>summer</td>\n",
              "      <td>1</td>\n",
              "      <td>0</td>\n",
              "    </tr>\n",
              "    <tr>\n",
              "      <th>6</th>\n",
              "      <td>1908 summer olympics</td>\n",
              "      <td>5</td>\n",
              "      <td>anz</td>\n",
              "      <td>athletics</td>\n",
              "      <td>1,500 metres, men</td>\n",
              "      <td>64735</td>\n",
              "      <td>no medal</td>\n",
              "      <td>False</td>\n",
              "      <td>1908</td>\n",
              "      <td>summer</td>\n",
              "      <td>1</td>\n",
              "      <td>0</td>\n",
              "    </tr>\n",
              "    <tr>\n",
              "      <th>7</th>\n",
              "      <td>1908 summer olympics</td>\n",
              "      <td>5</td>\n",
              "      <td>anz</td>\n",
              "      <td>athletics</td>\n",
              "      <td>1,500 metres, men</td>\n",
              "      <td>79576</td>\n",
              "      <td>no medal</td>\n",
              "      <td>False</td>\n",
              "      <td>1908</td>\n",
              "      <td>summer</td>\n",
              "      <td>1</td>\n",
              "      <td>0</td>\n",
              "    </tr>\n",
              "    <tr>\n",
              "      <th>8</th>\n",
              "      <td>1908 summer olympics</td>\n",
              "      <td>5</td>\n",
              "      <td>anz</td>\n",
              "      <td>athletics</td>\n",
              "      <td>1,500 metres, men</td>\n",
              "      <td>922519</td>\n",
              "      <td>no medal</td>\n",
              "      <td>False</td>\n",
              "      <td>1908</td>\n",
              "      <td>summer</td>\n",
              "      <td>1</td>\n",
              "      <td>0</td>\n",
              "    </tr>\n",
              "    <tr>\n",
              "      <th>9</th>\n",
              "      <td>1908 summer olympics</td>\n",
              "      <td>5</td>\n",
              "      <td>anz</td>\n",
              "      <td>athletics</td>\n",
              "      <td>1,500 metres, men</td>\n",
              "      <td>64619</td>\n",
              "      <td>no medal</td>\n",
              "      <td>False</td>\n",
              "      <td>1908</td>\n",
              "      <td>summer</td>\n",
              "      <td>1</td>\n",
              "      <td>0</td>\n",
              "    </tr>\n",
              "  </tbody>\n",
              "</table>\n",
              "</div>\n",
              "    <div class=\"colab-df-buttons\">\n",
              "\n",
              "  <div class=\"colab-df-container\">\n",
              "    <button class=\"colab-df-convert\" onclick=\"convertToInteractive('df-ee79853c-de42-4b6d-9415-ebf3a3d79557')\"\n",
              "            title=\"Convert this dataframe to an interactive table.\"\n",
              "            style=\"display:none;\">\n",
              "\n",
              "  <svg xmlns=\"http://www.w3.org/2000/svg\" height=\"24px\" viewBox=\"0 -960 960 960\">\n",
              "    <path d=\"M120-120v-720h720v720H120Zm60-500h600v-160H180v160Zm220 220h160v-160H400v160Zm0 220h160v-160H400v160ZM180-400h160v-160H180v160Zm440 0h160v-160H620v160ZM180-180h160v-160H180v160Zm440 0h160v-160H620v160Z\"/>\n",
              "  </svg>\n",
              "    </button>\n",
              "\n",
              "  <style>\n",
              "    .colab-df-container {\n",
              "      display:flex;\n",
              "      gap: 12px;\n",
              "    }\n",
              "\n",
              "    .colab-df-convert {\n",
              "      background-color: #E8F0FE;\n",
              "      border: none;\n",
              "      border-radius: 50%;\n",
              "      cursor: pointer;\n",
              "      display: none;\n",
              "      fill: #1967D2;\n",
              "      height: 32px;\n",
              "      padding: 0 0 0 0;\n",
              "      width: 32px;\n",
              "    }\n",
              "\n",
              "    .colab-df-convert:hover {\n",
              "      background-color: #E2EBFA;\n",
              "      box-shadow: 0px 1px 2px rgba(60, 64, 67, 0.3), 0px 1px 3px 1px rgba(60, 64, 67, 0.15);\n",
              "      fill: #174EA6;\n",
              "    }\n",
              "\n",
              "    .colab-df-buttons div {\n",
              "      margin-bottom: 4px;\n",
              "    }\n",
              "\n",
              "    [theme=dark] .colab-df-convert {\n",
              "      background-color: #3B4455;\n",
              "      fill: #D2E3FC;\n",
              "    }\n",
              "\n",
              "    [theme=dark] .colab-df-convert:hover {\n",
              "      background-color: #434B5C;\n",
              "      box-shadow: 0px 1px 3px 1px rgba(0, 0, 0, 0.15);\n",
              "      filter: drop-shadow(0px 1px 2px rgba(0, 0, 0, 0.3));\n",
              "      fill: #FFFFFF;\n",
              "    }\n",
              "  </style>\n",
              "\n",
              "    <script>\n",
              "      const buttonEl =\n",
              "        document.querySelector('#df-ee79853c-de42-4b6d-9415-ebf3a3d79557 button.colab-df-convert');\n",
              "      buttonEl.style.display =\n",
              "        google.colab.kernel.accessAllowed ? 'block' : 'none';\n",
              "\n",
              "      async function convertToInteractive(key) {\n",
              "        const element = document.querySelector('#df-ee79853c-de42-4b6d-9415-ebf3a3d79557');\n",
              "        const dataTable =\n",
              "          await google.colab.kernel.invokeFunction('convertToInteractive',\n",
              "                                                    [key], {});\n",
              "        if (!dataTable) return;\n",
              "\n",
              "        const docLinkHtml = 'Like what you see? Visit the ' +\n",
              "          '<a target=\"_blank\" href=https://colab.research.google.com/notebooks/data_table.ipynb>data table notebook</a>'\n",
              "          + ' to learn more about interactive tables.';\n",
              "        element.innerHTML = '';\n",
              "        dataTable['output_type'] = 'display_data';\n",
              "        await google.colab.output.renderOutput(dataTable, element);\n",
              "        const docLink = document.createElement('div');\n",
              "        docLink.innerHTML = docLinkHtml;\n",
              "        element.appendChild(docLink);\n",
              "      }\n",
              "    </script>\n",
              "  </div>\n",
              "\n",
              "\n",
              "<div id=\"df-23fa2b8d-cbd7-415a-94ab-60ee4cae68b9\">\n",
              "  <button class=\"colab-df-quickchart\" onclick=\"quickchart('df-23fa2b8d-cbd7-415a-94ab-60ee4cae68b9')\"\n",
              "            title=\"Suggest charts\"\n",
              "            style=\"display:none;\">\n",
              "\n",
              "<svg xmlns=\"http://www.w3.org/2000/svg\" height=\"24px\"viewBox=\"0 0 24 24\"\n",
              "     width=\"24px\">\n",
              "    <g>\n",
              "        <path d=\"M19 3H5c-1.1 0-2 .9-2 2v14c0 1.1.9 2 2 2h14c1.1 0 2-.9 2-2V5c0-1.1-.9-2-2-2zM9 17H7v-7h2v7zm4 0h-2V7h2v10zm4 0h-2v-4h2v4z\"/>\n",
              "    </g>\n",
              "</svg>\n",
              "  </button>\n",
              "\n",
              "<style>\n",
              "  .colab-df-quickchart {\n",
              "      --bg-color: #E8F0FE;\n",
              "      --fill-color: #1967D2;\n",
              "      --hover-bg-color: #E2EBFA;\n",
              "      --hover-fill-color: #174EA6;\n",
              "      --disabled-fill-color: #AAA;\n",
              "      --disabled-bg-color: #DDD;\n",
              "  }\n",
              "\n",
              "  [theme=dark] .colab-df-quickchart {\n",
              "      --bg-color: #3B4455;\n",
              "      --fill-color: #D2E3FC;\n",
              "      --hover-bg-color: #434B5C;\n",
              "      --hover-fill-color: #FFFFFF;\n",
              "      --disabled-bg-color: #3B4455;\n",
              "      --disabled-fill-color: #666;\n",
              "  }\n",
              "\n",
              "  .colab-df-quickchart {\n",
              "    background-color: var(--bg-color);\n",
              "    border: none;\n",
              "    border-radius: 50%;\n",
              "    cursor: pointer;\n",
              "    display: none;\n",
              "    fill: var(--fill-color);\n",
              "    height: 32px;\n",
              "    padding: 0;\n",
              "    width: 32px;\n",
              "  }\n",
              "\n",
              "  .colab-df-quickchart:hover {\n",
              "    background-color: var(--hover-bg-color);\n",
              "    box-shadow: 0 1px 2px rgba(60, 64, 67, 0.3), 0 1px 3px 1px rgba(60, 64, 67, 0.15);\n",
              "    fill: var(--button-hover-fill-color);\n",
              "  }\n",
              "\n",
              "  .colab-df-quickchart-complete:disabled,\n",
              "  .colab-df-quickchart-complete:disabled:hover {\n",
              "    background-color: var(--disabled-bg-color);\n",
              "    fill: var(--disabled-fill-color);\n",
              "    box-shadow: none;\n",
              "  }\n",
              "\n",
              "  .colab-df-spinner {\n",
              "    border: 2px solid var(--fill-color);\n",
              "    border-color: transparent;\n",
              "    border-bottom-color: var(--fill-color);\n",
              "    animation:\n",
              "      spin 1s steps(1) infinite;\n",
              "  }\n",
              "\n",
              "  @keyframes spin {\n",
              "    0% {\n",
              "      border-color: transparent;\n",
              "      border-bottom-color: var(--fill-color);\n",
              "      border-left-color: var(--fill-color);\n",
              "    }\n",
              "    20% {\n",
              "      border-color: transparent;\n",
              "      border-left-color: var(--fill-color);\n",
              "      border-top-color: var(--fill-color);\n",
              "    }\n",
              "    30% {\n",
              "      border-color: transparent;\n",
              "      border-left-color: var(--fill-color);\n",
              "      border-top-color: var(--fill-color);\n",
              "      border-right-color: var(--fill-color);\n",
              "    }\n",
              "    40% {\n",
              "      border-color: transparent;\n",
              "      border-right-color: var(--fill-color);\n",
              "      border-top-color: var(--fill-color);\n",
              "    }\n",
              "    60% {\n",
              "      border-color: transparent;\n",
              "      border-right-color: var(--fill-color);\n",
              "    }\n",
              "    80% {\n",
              "      border-color: transparent;\n",
              "      border-right-color: var(--fill-color);\n",
              "      border-bottom-color: var(--fill-color);\n",
              "    }\n",
              "    90% {\n",
              "      border-color: transparent;\n",
              "      border-bottom-color: var(--fill-color);\n",
              "    }\n",
              "  }\n",
              "</style>\n",
              "\n",
              "  <script>\n",
              "    async function quickchart(key) {\n",
              "      const quickchartButtonEl =\n",
              "        document.querySelector('#' + key + ' button');\n",
              "      quickchartButtonEl.disabled = true;  // To prevent multiple clicks.\n",
              "      quickchartButtonEl.classList.add('colab-df-spinner');\n",
              "      try {\n",
              "        const charts = await google.colab.kernel.invokeFunction(\n",
              "            'suggestCharts', [key], {});\n",
              "      } catch (error) {\n",
              "        console.error('Error during call to suggestCharts:', error);\n",
              "      }\n",
              "      quickchartButtonEl.classList.remove('colab-df-spinner');\n",
              "      quickchartButtonEl.classList.add('colab-df-quickchart-complete');\n",
              "    }\n",
              "    (() => {\n",
              "      let quickchartButtonEl =\n",
              "        document.querySelector('#df-23fa2b8d-cbd7-415a-94ab-60ee4cae68b9 button');\n",
              "      quickchartButtonEl.style.display =\n",
              "        google.colab.kernel.accessAllowed ? 'block' : 'none';\n",
              "    })();\n",
              "  </script>\n",
              "</div>\n",
              "\n",
              "    </div>\n",
              "  </div>\n"
            ],
            "application/vnd.google.colaboratory.intrinsic+json": {
              "type": "dataframe",
              "variable_name": "Athlete_Events_Details"
            }
          },
          "metadata": {},
          "execution_count": 163
        }
      ]
    },
    {
      "cell_type": "code",
      "source": [],
      "metadata": {
        "id": "r8vRGesrFgKb"
      },
      "execution_count": 163,
      "outputs": []
    }
  ]
}