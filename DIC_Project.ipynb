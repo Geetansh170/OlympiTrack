{
 "cells": [
  {
   "cell_type": "markdown",
   "metadata": {
    "id": "fwnrhSRM211S"
   },
   "source": [
    "# Download and Import Dependencies\n",
    "Joint task"
   ]
  },
  {
   "cell_type": "code",
   "execution_count": null,
   "metadata": {
    "colab": {
     "base_uri": "https://localhost:8080/"
    },
    "id": "GiiErtQ3vX-V",
    "outputId": "d69c1817-d39f-421a-cfa4-98b373b06043"
   },
   "outputs": [],
   "source": [
    "# pip install -r requirements.txt"
   ]
  },
  {
   "cell_type": "code",
   "execution_count": null,
   "metadata": {
    "colab": {
     "base_uri": "https://localhost:8080/"
    },
    "id": "vBa-mS0ugobW",
    "outputId": "428052ca-8118-49f5-dbae-3ff8e54aa49e"
   },
   "outputs": [],
   "source": [
    "!pip install pandasql"
   ]
  },
  {
   "cell_type": "code",
   "execution_count": null,
   "metadata": {
    "id": "NZvxb02nsbkD"
   },
   "outputs": [],
   "source": [
    "import pandas as pd\n",
    "import numpy as np\n",
    "import matplotlib.pyplot as plt\n",
    "import seaborn as sns\n",
    "from pandasql import sqldf"
   ]
  },
  {
   "cell_type": "markdown",
   "metadata": {
    "id": "IlEXETzLVAc_"
   },
   "source": [
    "# Data Retrieval\n",
    "Joint task\n"
   ]
  },
  {
   "cell_type": "code",
   "execution_count": null,
   "metadata": {
    "colab": {
     "base_uri": "https://localhost:8080/"
    },
    "id": "cz-sHos_VAdN",
    "outputId": "81be0f7b-2cd4-4656-a889-4516853da077"
   },
   "outputs": [],
   "source": [
    "from google.colab import drive\n",
    "drive.mount('/drive')\n",
    "%cd ..\n",
    "%cd /drive/MyDrive/DIC_PROJECT\n",
    "!ls\n",
    "\n",
    "# comment this if you working locally. Assuming all the csv files are here locally where this ipynb file is located.\n",
    "# csv files won't be committed and won't be seen in the changes as .csv files are in ignored."
   ]
  },
  {
   "cell_type": "code",
   "execution_count": null,
   "metadata": {
    "id": "to9m0u03VAdN"
   },
   "outputs": [],
   "source": [
    "Athlete_Events_Details = pd.read_csv('Olympic_Athlete_Event_Details.csv')\n",
    "Event_Results = pd.read_csv('Olympic_Event_Results.csv')\n",
    "Athlete_Biography = pd.read_csv('Olympic_Athlete_Biography.csv')\n",
    "Medal_Tally = pd.read_csv('Olympic_Medal_Tally_History.csv')\n",
    "Games_Summary = pd.read_csv('Olympic_Games_Summary.csv')\n",
    "Population_Total = pd.read_csv('population_total_long.csv')\n",
    "Country_Profile = pd.read_csv('Olympic_Country_Profiles.csv')"
   ]
  },
  {
   "cell_type": "code",
   "execution_count": null,
   "metadata": {
    "colab": {
     "base_uri": "https://localhost:8080/"
    },
    "id": "hFdXvckGVAdO",
    "outputId": "3aac872e-a398-455f-e89e-7410b55a761d"
   },
   "outputs": [],
   "source": [
    "print(Athlete_Events_Details.shape)\n",
    "print(Event_Results.shape)\n",
    "print(Athlete_Biography.shape)\n",
    "print(Medal_Tally.shape)\n",
    "print(Games_Summary.shape)\n",
    "print(Population_Total.shape)"
   ]
  },
  {
   "cell_type": "markdown",
   "metadata": {
    "id": "risHmFC58SZE"
   },
   "source": [
    "# Event Results Cleaning\n",
    "Cleaned by Geetansh\n"
   ]
  },
  {
   "cell_type": "code",
   "execution_count": null,
   "metadata": {
    "colab": {
     "base_uri": "https://localhost:8080/"
    },
    "id": "KMd8NmlD8Y2r",
    "outputId": "505b23ab-6b32-4d65-eccf-1469a00c0b84"
   },
   "outputs": [],
   "source": [
    "print(Event_Results.shape)\n",
    "print(Event_Results.describe())\n",
    "# print(Event_Results.head(10))"
   ]
  },
  {
   "cell_type": "markdown",
   "metadata": {
    "id": "gCtNuNLC_iEk"
   },
   "source": [
    "1. Removing duplicates if any."
   ]
  },
  {
   "cell_type": "code",
   "execution_count": null,
   "metadata": {
    "id": "9VFSV9-g8-kg"
   },
   "outputs": [],
   "source": [
    "Event_Results.drop_duplicates(inplace=True)"
   ]
  },
  {
   "cell_type": "markdown",
   "metadata": {
    "id": "vZYO96GB_lCo"
   },
   "source": [
    "2. Removing unwanted columns.\n"
   ]
  },
  {
   "cell_type": "code",
   "execution_count": null,
   "metadata": {
    "id": "Jjl6SIsb_-go"
   },
   "outputs": [],
   "source": [
    "Event_Results.drop(['sport_url','result_date','result_location','result_format','result_detail','result_description'], axis=1, inplace=True)"
   ]
  },
  {
   "cell_type": "code",
   "execution_count": null,
   "metadata": {
    "colab": {
     "base_uri": "https://localhost:8080/"
    },
    "id": "PGQi9imEAgZ5",
    "outputId": "c7a8742b-2cbd-477c-e863-ffbe3627493a"
   },
   "outputs": [],
   "source": [
    "print(Event_Results.shape)"
   ]
  },
  {
   "cell_type": "markdown",
   "metadata": {
    "id": "qMo-y6xtBFmF"
   },
   "source": [
    "3. Will convert all text fields to lower for consistency\n"
   ]
  },
  {
   "cell_type": "code",
   "execution_count": null,
   "metadata": {
    "id": "IrvbPWjZBK2w"
   },
   "outputs": [],
   "source": [
    "Event_Results['event_title'] = Event_Results['event_title'].str.strip().str.lower()\n",
    "Event_Results['edition'] = Event_Results['edition'].str.strip().str.lower()\n",
    "Event_Results['sport'] = Event_Results['sport'].str.strip().str.lower()\n",
    "Event_Results['result_participants'] = Event_Results['result_participants'].str.strip().str.lower()"
   ]
  },
  {
   "cell_type": "code",
   "execution_count": null,
   "metadata": {
    "colab": {
     "base_uri": "https://localhost:8080/"
    },
    "id": "qjTZj_DLCT3t",
    "outputId": "b1056668-2f47-4819-8c38-ace844957360"
   },
   "outputs": [],
   "source": [
    "print(Event_Results['result_participants'].head(10))"
   ]
  },
  {
   "cell_type": "markdown",
   "metadata": {
    "id": "ma6hVpJ7DrOG"
   },
   "source": [
    "4. Creating new columns with total participants and total participating countries for each event"
   ]
  },
  {
   "cell_type": "code",
   "execution_count": null,
   "metadata": {
    "colab": {
     "base_uri": "https://localhost:8080/"
    },
    "id": "zqK33aezDH90",
    "outputId": "9ece7c5d-7a4b-44a9-cac7-65fd0edd1703"
   },
   "outputs": [],
   "source": [
    "Event_Results[['participants', 'participant_countries']] = Event_Results['result_participants'].str.extract(r'(\\d+)\\sfrom\\s(\\d+)')\n",
    "\n",
    "Event_Results['participants'] = Event_Results['participants'].astype(int)\n",
    "Event_Results['participant_countries'] = Event_Results['participant_countries'].astype(int)\n",
    "\n",
    "Event_Results.drop('result_participants', axis=1, inplace=True)\n",
    "\n",
    "print(Event_Results)"
   ]
  },
  {
   "cell_type": "code",
   "execution_count": null,
   "metadata": {
    "colab": {
     "base_uri": "https://localhost:8080/"
    },
    "id": "A9miI6NyDQLM",
    "outputId": "36f21bdb-55c7-41dc-88d4-1c4a58eeec59"
   },
   "outputs": [],
   "source": [
    "print(Event_Results['participants'].head(10))\n",
    "print(Event_Results['participant_countries'].head(10))"
   ]
  },
  {
   "cell_type": "code",
   "execution_count": null,
   "metadata": {
    "colab": {
     "base_uri": "https://localhost:8080/"
    },
    "id": "oiyLUWlODplH",
    "outputId": "b93a603d-9824-4a5b-cf71-21a3e82ae2da"
   },
   "outputs": [],
   "source": [
    "print(Event_Results['event_title'].head(10))"
   ]
  },
  {
   "cell_type": "markdown",
   "metadata": {
    "id": "JH8ZKVxyKZFG"
   },
   "source": [
    "5. Separating male and female events by adding a column for each men and women"
   ]
  },
  {
   "cell_type": "code",
   "execution_count": null,
   "metadata": {
    "colab": {
     "base_uri": "https://localhost:8080/"
    },
    "id": "HVCeivSAJv-g",
    "outputId": "66053032-a45e-4d06-ddda-a8ac538a5d14"
   },
   "outputs": [],
   "source": [
    "Event_Results['men'] = Event_Results['event_title'].str.contains(r'\\bmen\\b', case=False).astype(int)\n",
    "Event_Results['women'] = Event_Results['event_title'].str.contains('women', case=False).astype(int)\n",
    "\n",
    "print(Event_Results)"
   ]
  },
  {
   "cell_type": "markdown",
   "metadata": {
    "id": "RKKcS3ujMNdS"
   },
   "source": [
    "6. Extract year and olympic type from the data"
   ]
  },
  {
   "cell_type": "code",
   "execution_count": null,
   "metadata": {
    "colab": {
     "base_uri": "https://localhost:8080/"
    },
    "id": "faPL07PgL_Cj",
    "outputId": "27004b61-8e61-4a21-cce9-c1ab9927fbd2"
   },
   "outputs": [],
   "source": [
    "Event_Results[['year', 'olympic_type']] = Event_Results['edition'].str.extract(r'(\\d{4})\\s+(summer|winter)\\s+olympics')\n",
    "\n",
    "print(Event_Results['year'].head())\n",
    "print(Event_Results['olympic_type'].head())"
   ]
  },
  {
   "cell_type": "code",
   "execution_count": null,
   "metadata": {
    "colab": {
     "base_uri": "https://localhost:8080/"
    },
    "id": "Ui3LfgD-Vd_I",
    "outputId": "c8ff79f0-e4ff-4725-b5e6-77912b8ceaaf"
   },
   "outputs": [],
   "source": [
    "print(Event_Results.shape)"
   ]
  },
  {
   "cell_type": "markdown",
   "metadata": {
    "id": "yAWy4EqoNd2o"
   },
   "source": [
    "7. Drop rows where essential columns are null"
   ]
  },
  {
   "cell_type": "code",
   "execution_count": null,
   "metadata": {
    "id": "tgjxIkqKVmku"
   },
   "outputs": [],
   "source": [
    "Event_Results.dropna(subset=['event_title', 'sport', 'participants', 'participant_countries', 'men', 'women','year','olympic_type'], inplace=True)"
   ]
  },
  {
   "cell_type": "code",
   "execution_count": null,
   "metadata": {
    "colab": {
     "base_uri": "https://localhost:8080/"
    },
    "id": "__t-2dtVye9P",
    "outputId": "e71d0f0e-0c8a-43a2-bcb8-607603257906"
   },
   "outputs": [],
   "source": [
    "print(Event_Results)"
   ]
  },
  {
   "cell_type": "markdown",
   "metadata": {
    "id": "wF7gaXnWzdDQ"
   },
   "source": [
    "8. One hot encode olympic type"
   ]
  },
  {
   "cell_type": "code",
   "execution_count": null,
   "metadata": {
    "colab": {
     "base_uri": "https://localhost:8080/"
    },
    "id": "mZxIyiW6zhWM",
    "outputId": "e4d1e2d6-9a1c-4b62-fe24-c731ba04c04f"
   },
   "outputs": [],
   "source": [
    "olympic_dummies = pd.get_dummies(Event_Results['olympic_type'])\n",
    "\n",
    "olympic_dummies = olympic_dummies.astype(int)\n",
    "\n",
    "Event_Results = pd.concat([Event_Results, olympic_dummies], axis=1)\n",
    "\n",
    "print(Event_Results)"
   ]
  },
  {
   "cell_type": "code",
   "execution_count": null,
   "metadata": {
    "colab": {
     "base_uri": "https://localhost:8080/"
    },
    "id": "4xjldI1P0GKG",
    "outputId": "c89fc98c-e49f-41b8-d460-7d5efab894c7"
   },
   "outputs": [],
   "source": [
    "print(Event_Results.shape)\n",
    "print(Event_Results.describe())\n",
    "print(Event_Results.head(10))"
   ]
  },
  {
   "cell_type": "markdown",
   "metadata": {
    "id": "N17nxuTX6BNB"
   },
   "source": [
    "# Population Total Cleaning\n",
    "Cleaned by Geetansh"
   ]
  },
  {
   "cell_type": "code",
   "execution_count": null,
   "metadata": {
    "colab": {
     "base_uri": "https://localhost:8080/"
    },
    "id": "CN-D1UAF6Ii5",
    "outputId": "19f14e28-567a-4904-a05f-db83e0f26443"
   },
   "outputs": [],
   "source": [
    "print(Population_Total.shape)\n",
    "print(Population_Total.describe())\n",
    "print(Population_Total.head(10))"
   ]
  },
  {
   "cell_type": "markdown",
   "metadata": {
    "id": "92UppOiZ8rO-"
   },
   "source": [
    "1. Text columns to lower text"
   ]
  },
  {
   "cell_type": "code",
   "execution_count": null,
   "metadata": {
    "id": "kXP5Xt358Vxu"
   },
   "outputs": [],
   "source": [
    "Population_Total['Country Name'] = Population_Total['Country Name'].str.strip().str.lower()"
   ]
  },
  {
   "cell_type": "code",
   "execution_count": null,
   "metadata": {
    "colab": {
     "base_uri": "https://localhost:8080/"
    },
    "id": "Fcy-acGPJEk1",
    "outputId": "944566ef-8b0f-4575-83c8-afc31a26fd64"
   },
   "outputs": [],
   "source": [
    "print(Population_Total.head(10))"
   ]
  },
  {
   "cell_type": "markdown",
   "metadata": {
    "id": "RjHZkc9j8u_y"
   },
   "source": [
    "2. Normalize Population Count"
   ]
  },
  {
   "cell_type": "code",
   "execution_count": null,
   "metadata": {
    "id": "f062UrULAzus"
   },
   "outputs": [],
   "source": [
    "# from sklearn.preprocessing import MinMaxScaler\n",
    "# scaler = MinMaxScaler()\n",
    "\n",
    "# Population_Total[['Count']] = scaler.fit_transform(Population_Total[['Count']])\n",
    "\n",
    "# print(Population_Total)"
   ]
  },
  {
   "cell_type": "markdown",
   "metadata": {
    "id": "aqEydJDGBU2D"
   },
   "source": [
    "3. Drop rows if essential columns are null"
   ]
  },
  {
   "cell_type": "code",
   "execution_count": null,
   "metadata": {
    "id": "uzgoIEupBNQr"
   },
   "outputs": [],
   "source": [
    "Population_Total.dropna(subset=['Country Name', 'Year', 'Count'], inplace=True)"
   ]
  },
  {
   "cell_type": "code",
   "execution_count": null,
   "metadata": {
    "id": "djvDWnuPDC4E"
   },
   "outputs": [],
   "source": [
    "Population_Total['Year'] = Population_Total['Year'].replace(2017, 2020)"
   ]
  },
  {
   "cell_type": "code",
   "execution_count": null,
   "metadata": {
    "colab": {
     "base_uri": "https://localhost:8080/"
    },
    "id": "cyr083mxBhre",
    "outputId": "b27a1fde-3c03-43d6-df18-eb2dde4243bf"
   },
   "outputs": [],
   "source": [
    "print(Population_Total.shape)\n",
    "print(Population_Total.describe())\n",
    "print(Population_Total)"
   ]
  },
  {
   "cell_type": "markdown",
   "metadata": {
    "id": "wlypwUaxD2QE"
   },
   "source": [
    "# Athlete_Biography Cleaning\n",
    "Cleaned Sataakshi"
   ]
  },
  {
   "cell_type": "code",
   "execution_count": null,
   "metadata": {
    "colab": {
     "base_uri": "https://localhost:8080/"
    },
    "id": "rsOVHIUhD9px",
    "outputId": "0d72eb80-3349-4130-db9b-51c0f068e04c"
   },
   "outputs": [],
   "source": [
    "print(Athlete_Biography.shape)\n",
    "print(Athlete_Biography.describe())\n",
    "print(Athlete_Biography.head(10))"
   ]
  },
  {
   "cell_type": "markdown",
   "metadata": {
    "id": "bxhemySVDIjk"
   },
   "source": [
    "1. Dropping duplicates"
   ]
  },
  {
   "cell_type": "code",
   "execution_count": null,
   "metadata": {
    "id": "4Arorwo6EICB"
   },
   "outputs": [],
   "source": [
    "Athlete_Biography.drop_duplicates(inplace=True)"
   ]
  },
  {
   "cell_type": "markdown",
   "metadata": {
    "id": "B9e2Olz5DKJM"
   },
   "source": [
    "2. Dropping non required columns"
   ]
  },
  {
   "cell_type": "code",
   "execution_count": null,
   "metadata": {
    "id": "wMjFzNS-EQxn"
   },
   "outputs": [],
   "source": [
    "Athlete_Biography.drop(['description','special_notes'], axis=1, inplace=True)"
   ]
  },
  {
   "cell_type": "markdown",
   "metadata": {
    "id": "h39lHJGNDPYa"
   },
   "source": [
    "3. Converting strings to lower"
   ]
  },
  {
   "cell_type": "code",
   "execution_count": null,
   "metadata": {
    "id": "iYzbdiM7EXKX"
   },
   "outputs": [],
   "source": [
    "Athlete_Biography['country'] = Athlete_Biography['country'].str.strip().str.lower()\n",
    "Athlete_Biography['sex'] = Athlete_Biography['sex'].str.strip().str.lower()\n",
    "Athlete_Biography['name'] = Athlete_Biography['name'].str.strip().str.lower()\n",
    "Athlete_Biography['born'] = Athlete_Biography['born'].str.strip().str.lower()"
   ]
  },
  {
   "cell_type": "code",
   "execution_count": null,
   "metadata": {
    "colab": {
     "base_uri": "https://localhost:8080/"
    },
    "id": "KxMQdCEhUmSh",
    "outputId": "5422544f-c02b-4215-c6ff-b89e0aab2104"
   },
   "outputs": [],
   "source": [
    "print(Athlete_Biography.head(10))"
   ]
  },
  {
   "cell_type": "markdown",
   "metadata": {
    "id": "KlAAlFQ88VsB"
   },
   "source": [
    "# Data Cleaning: Athlete_Events\n",
    "Cleaned by Sataakshi"
   ]
  },
  {
   "cell_type": "code",
   "execution_count": null,
   "metadata": {
    "colab": {
     "base_uri": "https://localhost:8080/"
    },
    "id": "aI6mx2AB4jpv",
    "outputId": "82a4e116-4e46-4ce2-8bed-0573da79a134"
   },
   "outputs": [],
   "source": [
    "Athlete_Events_Details.head(10)"
   ]
  },
  {
   "cell_type": "code",
   "execution_count": null,
   "metadata": {
    "colab": {
     "base_uri": "https://localhost:8080/"
    },
    "id": "eZ58zoXv5XI_",
    "outputId": "6dc3b980-fe90-4acf-a0d5-51ae1fcc4d39"
   },
   "outputs": [],
   "source": [
    "print(Athlete_Events_Details.isnull().sum())"
   ]
  },
  {
   "cell_type": "code",
   "execution_count": null,
   "metadata": {
    "id": "qz9GvwF37tzF"
   },
   "outputs": [],
   "source": [
    "Athlete_Events_Details = Athlete_Events_Details.drop_duplicates()"
   ]
  },
  {
   "cell_type": "code",
   "execution_count": null,
   "metadata": {
    "id": "xwpgL0oy8kLw"
   },
   "outputs": [],
   "source": [
    "Athlete_Events_Details = Athlete_Events_Details.drop(columns=['result_id', 'athlete', 'pos'])"
   ]
  },
  {
   "cell_type": "code",
   "execution_count": null,
   "metadata": {
    "colab": {
     "base_uri": "https://localhost:8080/"
    },
    "id": "9BKFm-2W8htU",
    "outputId": "26776d46-a89a-4f31-a8b3-5b8edc8051b6"
   },
   "outputs": [],
   "source": [
    "Athlete_Events_Details['medal'].fillna('no medal', inplace=True)"
   ]
  },
  {
   "cell_type": "code",
   "execution_count": null,
   "metadata": {
    "id": "LNQSbu9cBmW1"
   },
   "outputs": [],
   "source": [
    "Athlete_Events_Details['country_noc'] = Athlete_Events_Details['country_noc'].str.strip().str.lower()\n",
    "Athlete_Events_Details['sport'] = Athlete_Events_Details['sport'].str.strip().str.lower()\n",
    "Athlete_Events_Details['event'] = Athlete_Events_Details['event'].str.strip().str.lower()\n",
    "Athlete_Events_Details['edition'] = Athlete_Events_Details['edition'].str.strip().str.lower()"
   ]
  },
  {
   "cell_type": "code",
   "execution_count": null,
   "metadata": {
    "colab": {
     "base_uri": "https://localhost:8080/"
    },
    "id": "sZj29hYEBxsj",
    "outputId": "d059b3d5-41fc-4e0c-d741-2719a2b4c4df"
   },
   "outputs": [],
   "source": [
    "Athlete_Events_Details.head(10)"
   ]
  },
  {
   "cell_type": "code",
   "execution_count": null,
   "metadata": {
    "id": "9X0fqW8qCiD0"
   },
   "outputs": [],
   "source": [
    "Athlete_Events_Details['edition'] = Athlete_Events_Details['edition'].astype('category')\n",
    "Athlete_Events_Details['isTeamSport'] = Athlete_Events_Details['isTeamSport'].astype(bool)"
   ]
  },
  {
   "cell_type": "code",
   "execution_count": null,
   "metadata": {
    "colab": {
     "base_uri": "https://localhost:8080/"
    },
    "id": "lAFwObjjCjbE",
    "outputId": "32f220cc-93fe-4176-feb1-d2c0da468aed"
   },
   "outputs": [],
   "source": [
    "Athlete_Events_Details.head(10)"
   ]
  },
  {
   "cell_type": "code",
   "execution_count": null,
   "metadata": {
    "colab": {
     "base_uri": "https://localhost:8080/"
    },
    "id": "KWjvVO6GD1xG",
    "outputId": "0402ca0b-93bf-4ee4-b73c-85711a059679"
   },
   "outputs": [],
   "source": [
    "Athlete_Events_Details[['year', 'olympic_type']] = Athlete_Events_Details['edition'].str.extract(r'(\\d{4})\\s+(summer|winter)\\s+olympics')\n",
    "\n",
    "print(Athlete_Events_Details['year'].head())\n",
    "print(Athlete_Events_Details['olympic_type'].head())"
   ]
  },
  {
   "cell_type": "code",
   "execution_count": null,
   "metadata": {
    "colab": {
     "base_uri": "https://localhost:8080/"
    },
    "id": "xnp8-PNuNkec",
    "outputId": "ba2c53c0-d35f-4a2b-aa5e-cc8893156667"
   },
   "outputs": [],
   "source": [
    "Athlete_Events_Details['men'] = Athlete_Events_Details['event'].str.contains(r'\\bmen\\b', case=False).astype(int)\n",
    "Athlete_Events_Details['women'] = Athlete_Events_Details['event'].str.contains('women', case=False).astype(int)\n",
    "\n",
    "Athlete_Events_Details.head(10)"
   ]
  },
  {
   "cell_type": "code",
   "execution_count": null,
   "metadata": {
    "colab": {
     "base_uri": "https://localhost:8080/"
    },
    "id": "r8vRGesrFgKb",
    "outputId": "9e47a9d8-970e-485c-8a5c-88785a8006fb"
   },
   "outputs": [],
   "source": [
    "Athlete_Events_Details.head(10)"
   ]
  },
  {
   "cell_type": "markdown",
   "metadata": {
    "id": "-L8xfK1yD_4l"
   },
   "source": [
    "# Country_Profile Cleaning\n",
    "Cleaned by Geetansh"
   ]
  },
  {
   "cell_type": "markdown",
   "metadata": {
    "id": "1A_Bx8dzC_XV"
   },
   "source": [
    "Just doing to lower for all string datatype column."
   ]
  },
  {
   "cell_type": "code",
   "execution_count": null,
   "metadata": {
    "id": "u6I8AgTIEE1m"
   },
   "outputs": [],
   "source": [
    "Country_Profile['noc'] = Country_Profile['noc'].str.strip().str.lower()\n",
    "Country_Profile['country'] = Country_Profile['country'].str.strip().str.lower()"
   ]
  },
  {
   "cell_type": "code",
   "execution_count": null,
   "metadata": {
    "colab": {
     "base_uri": "https://localhost:8080/"
    },
    "id": "R5JbdmbaEwcW",
    "outputId": "6a21c10e-ede1-4a38-899a-ae6b5431f5ce"
   },
   "outputs": [],
   "source": [
    "print(Country_Profile.head(10))"
   ]
  },
  {
   "cell_type": "markdown",
   "metadata": {
    "id": "nSUhMxCVKkhY"
   },
   "source": [
    "# Exploratory Data Analysis (Sataakshi 2)\n",
    "\n",
    "> Country-wise Comparison of Team vs. Individual Sport Medals Over the Years"
   ]
  },
  {
   "cell_type": "code",
   "execution_count": null,
   "metadata": {
    "colab": {
     "base_uri": "https://localhost:8080/"
    },
    "id": "YT4bzZwVf9D9",
    "outputId": "36eaebbd-818b-453a-8c6b-0c429f640041"
   },
   "outputs": [],
   "source": [
    "!pip install pandasql\n"
   ]
  },
  {
   "cell_type": "code",
   "execution_count": null,
   "metadata": {
    "id": "onSX9r2oK8Ek"
   },
   "outputs": [],
   "source": [
    "import pandasql as ps"
   ]
  },
  {
   "cell_type": "markdown",
   "metadata": {
    "id": "Lg9dqNZJKjVC"
   },
   "source": [
    "The SQL query extracts the year-wise medal count data for the USA from the Athlete_Events_Details table. It focuses on both individual and team sports, counting only the events where athletes won medals. Here’s what the query does step by step:\n",
    "\n",
    "Columns Selected:\n",
    "\n",
    "year: The specific year of the Olympic Games.\n",
    "country_noc: The country code, filtered for the USA ('usa').\n",
    "isTeamSport: Indicates whether the event was a team sport or an individual sport.\n",
    "\n",
    "medal_count: The count of medals won by USA athletes in that year, for both team and individual sports.\n",
    "Filtering:Excludes rows where the athlete did not win a medal (medal != 'no medal').Ensures that the year column is not null.\n",
    "\n",
    "Grouping: Groups the results by year, country_noc, and isTeamSport, to get the total medal count for each year based on whether it was a team or individual sport.\n",
    "\n",
    "Ordering:The results are ordered by year, country_noc, and isTeamSport to present the data in chronological order, further split into team and individual sport categories.\n",
    "\n",
    "The queries below generates a summary of the various countries medal wins, categorized by year and sport type, allowing analysis of trends in team vs. individual performance over time."
   ]
  },
  {
   "cell_type": "code",
   "execution_count": null,
   "metadata": {
    "colab": {
     "base_uri": "https://localhost:8080/"
    },
    "id": "SgNZ2h0KLARx",
    "outputId": "7d947def-8159-426c-8886-9b403214dea6"
   },
   "outputs": [],
   "source": [
    "query_usa = \"\"\"\n",
    "    SELECT\n",
    "    year,\n",
    "    country_noc,\n",
    "    isTeamSport,\n",
    "    COUNT(medal) AS medal_count\n",
    "    FROM Athlete_Events_Details\n",
    "    WHERE medal != 'no medal'\n",
    "    AND year IS NOT NULL\n",
    "    AND country_noc IN ('usa')\n",
    "    GROUP BY year, country_noc, isTeamSport\n",
    "    ORDER BY year, country_noc, isTeamSport;\n",
    "    \"\"\"\n",
    "\n",
    "medals_yearwise_data_usa = ps.sqldf(query_usa, locals())\n",
    "\n",
    "print(medals_yearwise_data_usa)\n"
   ]
  },
  {
   "cell_type": "code",
   "execution_count": null,
   "metadata": {
    "colab": {
     "base_uri": "https://localhost:8080/"
    },
    "id": "mXBwWrkSV9F3",
    "outputId": "c4ac007f-78f0-49da-8e14-1d5aa0b3164a"
   },
   "outputs": [],
   "source": [
    "query_ger = \"\"\"\n",
    "    SELECT\n",
    "    year,\n",
    "    country_noc,\n",
    "    isTeamSport,\n",
    "    COUNT(medal) AS medal_count\n",
    "    FROM Athlete_Events_Details\n",
    "    WHERE medal != 'no medal'\n",
    "    AND year IS NOT NULL\n",
    "    AND country_noc IN ('ger')\n",
    "    GROUP BY year, country_noc, isTeamSport\n",
    "    ORDER BY year, country_noc, isTeamSport;\n",
    "    \"\"\"\n",
    "\n",
    "medals_yearwise_data_ger = ps.sqldf(query_ger, locals())\n",
    "\n",
    "print(medals_yearwise_data_ger)\n"
   ]
  },
  {
   "cell_type": "code",
   "execution_count": null,
   "metadata": {
    "colab": {
     "base_uri": "https://localhost:8080/"
    },
    "id": "P-HaX8ikWPUO",
    "outputId": "cbc01f38-7aa9-42a3-9205-6c8707d748b2"
   },
   "outputs": [],
   "source": [
    "query_ita = \"\"\"\n",
    "    SELECT\n",
    "    year,\n",
    "    country_noc,\n",
    "    isTeamSport,\n",
    "    COUNT(medal) AS medal_count\n",
    "    FROM Athlete_Events_Details\n",
    "    WHERE medal != 'no medal'\n",
    "    AND year IS NOT NULL\n",
    "    AND country_noc IN ('ita')\n",
    "    GROUP BY year, country_noc, isTeamSport\n",
    "    ORDER BY year, country_noc, isTeamSport;\n",
    "    \"\"\"\n",
    "\n",
    "medals_yearwise_data_ita = ps.sqldf(query_ita, locals())\n",
    "\n",
    "print(medals_yearwise_data_ita)\n"
   ]
  },
  {
   "cell_type": "code",
   "execution_count": null,
   "metadata": {
    "colab": {
     "base_uri": "https://localhost:8080/"
    },
    "id": "4vsRcM-5WZ_t",
    "outputId": "546822c5-00b6-46b3-b984-84e5064ca10c"
   },
   "outputs": [],
   "source": [
    "query_aus = \"\"\"\n",
    "    SELECT\n",
    "    year,\n",
    "    country_noc,\n",
    "    isTeamSport,\n",
    "    COUNT(medal) AS medal_count\n",
    "    FROM Athlete_Events_Details\n",
    "    WHERE medal != 'no medal'\n",
    "    AND year IS NOT NULL\n",
    "    AND country_noc IN ('aus')\n",
    "    GROUP BY year, country_noc, isTeamSport\n",
    "    ORDER BY year, country_noc, isTeamSport;\n",
    "    \"\"\"\n",
    "\n",
    "medals_yearwise_data_aus = ps.sqldf(query_aus, locals())\n",
    "\n",
    "print(medals_yearwise_data_aus)\n"
   ]
  },
  {
   "cell_type": "code",
   "execution_count": null,
   "metadata": {
    "colab": {
     "base_uri": "https://localhost:8080/"
    },
    "id": "jLNcko_TXNY5",
    "outputId": "7c2b2e66-3bfb-4d6e-a0cf-80d587d2c681"
   },
   "outputs": [],
   "source": [
    "query_ind = \"\"\"\n",
    "    SELECT\n",
    "    year,\n",
    "    country_noc,\n",
    "    isTeamSport,\n",
    "    COUNT(medal) AS medal_count\n",
    "    FROM Athlete_Events_Details\n",
    "    WHERE medal != 'no medal'\n",
    "    AND year IS NOT NULL\n",
    "    AND country_noc IN ('ind')\n",
    "    GROUP BY year, country_noc, isTeamSport\n",
    "    ORDER BY year, country_noc, isTeamSport;\n",
    "    \"\"\"\n",
    "\n",
    "medals_yearwise_data_ind = ps.sqldf(query_ind, locals())\n",
    "\n",
    "print(medals_yearwise_data_ind)\n"
   ]
  },
  {
   "cell_type": "code",
   "execution_count": null,
   "metadata": {
    "colab": {
     "base_uri": "https://localhost:8080/",
     "height": 505
    },
    "id": "2jIATricS6a9",
    "outputId": "31bee958-e7a2-4342-8145-d3b9a9bffe67"
   },
   "outputs": [],
   "source": [
    "import seaborn as sns\n",
    "import matplotlib.pyplot as plt\n",
    "\n",
    "colours = {True: 'red', False: 'blue'}\n",
    "\n",
    "plt.figure(figsize=(14, 8))\n",
    "sns.lineplot(\n",
    "    data=medals_yearwise_data_usa,\n",
    "    x='year',\n",
    "    y='medal_count',\n",
    "    hue='isTeamSport',\n",
    "    palette=colours,\n",
    "    markers=True,\n",
    "    dashes=False\n",
    ")\n",
    "\n",
    "plt.title('Year-wise Team vs Individual Sport Medals: USA', fontsize=16)\n",
    "plt.xlabel('Year', fontsize=14)\n",
    "plt.ylabel('Number of Medals', fontsize=14)\n",
    "plt.legend(title='Country (Team vs Individual)', loc='upper left', bbox_to_anchor=(1, 1))\n",
    "plt.xticks(rotation=45)\n",
    "\n",
    "plt.tight_layout()\n",
    "plt.show()\n"
   ]
  },
  {
   "cell_type": "markdown",
   "metadata": {
    "id": "k7-lHK0WLBpv"
   },
   "source": [
    "**Interpretation**: The USA has consistently excelled in team sports, with the medal count for team events always surpassing that of individual sports. At no point in time have individual athletes outperformed the team in terms of total medals. This trend is clearly reflected in the graph, where team sports (in red) consistently show a higher medal count compared to individual sports (in blue) across all years."
   ]
  },
  {
   "cell_type": "code",
   "execution_count": null,
   "metadata": {
    "colab": {
     "base_uri": "https://localhost:8080/",
     "height": 505
    },
    "id": "9ZyP93uCWHV_",
    "outputId": "4e03eecd-b818-4fdf-b9df-e171c98d74be"
   },
   "outputs": [],
   "source": [
    "import seaborn as sns\n",
    "import matplotlib.pyplot as plt\n",
    "\n",
    "colours = {True: 'red', False: 'blue'}\n",
    "\n",
    "plt.figure(figsize=(14, 8))\n",
    "sns.lineplot(\n",
    "    data=medals_yearwise_data_ger,\n",
    "    x='year',\n",
    "    y='medal_count',\n",
    "    hue='isTeamSport',\n",
    "    palette=colours,\n",
    "    markers=True,\n",
    "    dashes=False\n",
    ")\n",
    "\n",
    "plt.title('Year-wise Team vs Individual Sport Medals: GER', fontsize=16)\n",
    "plt.xlabel('Year', fontsize=14)\n",
    "plt.ylabel('Number of Medals', fontsize=14)\n",
    "plt.legend(title='Country (Team vs Individual)', loc='upper left', bbox_to_anchor=(1, 1))\n",
    "plt.xticks(rotation=45)\n",
    "\n",
    "plt.tight_layout()\n",
    "plt.show()\n"
   ]
  },
  {
   "cell_type": "markdown",
   "metadata": {
    "id": "CgC16VRDLt8E"
   },
   "source": [
    "\n",
    "**Interpretation**: Germany has consistently excelled in team sports, with the medal count for team events always surpassing that of individual sports. There has always been a significant gap between the two, indicating that individual athletes have never outperformed the team in terms of total medals. This trend is clearly illustrated in the graph, where team sports (in red) consistently show a higher medal count compared to individual sports (in blue) across all years."
   ]
  },
  {
   "cell_type": "code",
   "execution_count": null,
   "metadata": {
    "colab": {
     "base_uri": "https://localhost:8080/",
     "height": 505
    },
    "id": "Ri63rhFFWrRZ",
    "outputId": "79377bdd-7ce9-41ab-a9a4-bfb51448e0bf"
   },
   "outputs": [],
   "source": [
    "import seaborn as sns\n",
    "import matplotlib.pyplot as plt\n",
    "\n",
    "colours = {True: 'red', False: 'blue'}\n",
    "\n",
    "plt.figure(figsize=(14, 8))\n",
    "sns.lineplot(\n",
    "    data=medals_yearwise_data_ita,\n",
    "    x='year',\n",
    "    y='medal_count',\n",
    "    hue='isTeamSport',\n",
    "    palette=colours,\n",
    "    markers=True,\n",
    "    dashes=False\n",
    ")\n",
    "\n",
    "plt.title('Year-wise Team vs Individual Sport Medals: ITA', fontsize=16)\n",
    "plt.xlabel('Year', fontsize=14)\n",
    "plt.ylabel('Number of Medals', fontsize=14)\n",
    "plt.legend(title='Country (Team vs Individual)', loc='upper left', bbox_to_anchor=(1, 1))\n",
    "plt.xticks(rotation=45)\n",
    "\n",
    "plt.tight_layout()\n",
    "plt.show()\n"
   ]
  },
  {
   "cell_type": "code",
   "execution_count": null,
   "metadata": {
    "colab": {
     "base_uri": "https://localhost:8080/",
     "height": 505
    },
    "id": "rIaFMS1NWutL",
    "outputId": "176ca036-52c2-4011-8fb5-091e8beac0e1"
   },
   "outputs": [],
   "source": [
    "import seaborn as sns\n",
    "import matplotlib.pyplot as plt\n",
    "\n",
    "colours = {True: 'red', False: 'blue'}\n",
    "\n",
    "plt.figure(figsize=(14, 8))\n",
    "sns.lineplot(\n",
    "    data=medals_yearwise_data_aus,\n",
    "    x='year',\n",
    "    y='medal_count',\n",
    "    hue='isTeamSport',\n",
    "    palette=colours,\n",
    "    markers=True,\n",
    "    dashes=False\n",
    ")\n",
    "\n",
    "plt.title('Year-wise Team vs Individual Sport Medals: AUS', fontsize=16)\n",
    "plt.xlabel('Year', fontsize=14)\n",
    "plt.ylabel('Number of Medals', fontsize=14)\n",
    "plt.legend(title='Country (Team vs Individual)', loc='upper left', bbox_to_anchor=(1, 1))\n",
    "plt.xticks(rotation=45)\n",
    "\n",
    "plt.tight_layout()\n",
    "plt.show()\n"
   ]
  },
  {
   "cell_type": "markdown",
   "metadata": {
    "id": "povMl73-MCH0"
   },
   "source": [
    "\n",
    "**Interpretation**: Except a few years Australia has also always been ahead in team sports. Given the potential, Australia can dedicate their energy towards also increasing the individual medal count"
   ]
  },
  {
   "cell_type": "code",
   "execution_count": null,
   "metadata": {
    "colab": {
     "base_uri": "https://localhost:8080/",
     "height": 505
    },
    "id": "_kae09KVXWsf",
    "outputId": "9d6db38d-0f14-476b-e5dd-ecb667466307"
   },
   "outputs": [],
   "source": [
    "import seaborn as sns\n",
    "import matplotlib.pyplot as plt\n",
    "\n",
    "colours = {True: 'red', False: 'blue'}\n",
    "\n",
    "plt.figure(figsize=(14, 8))\n",
    "sns.lineplot(\n",
    "    data=medals_yearwise_data_ind,\n",
    "    x='year',\n",
    "    y='medal_count',\n",
    "    hue='isTeamSport',\n",
    "    palette=colours,\n",
    "    markers=True,\n",
    "    dashes=False\n",
    ")\n",
    "\n",
    "plt.title('Year-wise Team vs Individual Sport Medals: IND', fontsize=16)\n",
    "plt.xlabel('Year', fontsize=14)\n",
    "plt.ylabel('Number of Medals', fontsize=14)\n",
    "plt.legend(title='Country (Team vs Individual)', loc='upper left', bbox_to_anchor=(1, 1))\n",
    "plt.xticks(rotation=45)\n",
    "\n",
    "plt.tight_layout()\n",
    "plt.show()\n"
   ]
  },
  {
   "cell_type": "markdown",
   "metadata": {
    "id": "ZCWAcgISMUpA"
   },
   "source": [
    "\n",
    "**Interpretation**: For India there is a significant gap in the team sports and individual spots performance. This graph can motivate the country to reduce this gap and prepare for the forthecoming olympics."
   ]
  },
  {
   "cell_type": "markdown",
   "metadata": {
    "id": "392jhzlkPeLH"
   },
   "source": [
    "# Exploratory Data Analysis (Sataakshi 1)\n",
    "\n",
    "> Sport-wise Trend of Women’s Participation Over the Years"
   ]
  },
  {
   "cell_type": "markdown",
   "metadata": {
    "id": "RJN6ewhPMvE0"
   },
   "source": [
    "In this analysis, we examine the participation of women in various sports across different Olympic years using the Athlete_Events_Details dataset. The SQL query retrieves the count of female athletes participating in each sport for every Olympic year, focusing on events where women were represented.\n"
   ]
  },
  {
   "cell_type": "code",
   "execution_count": null,
   "metadata": {
    "colab": {
     "base_uri": "https://localhost:8080/"
    },
    "id": "SOIUil5aPd2B",
    "outputId": "778a7745-e581-4bc3-bf2d-ba8e5bc9e382"
   },
   "outputs": [],
   "source": [
    "query = \"\"\"\n",
    "    SELECT\n",
    "    sport,\n",
    "    year,\n",
    "    COUNT(athlete_id) AS women_participation_count\n",
    "FROM Athlete_Events_Details\n",
    "WHERE\n",
    "    women = 1\n",
    "    AND year IS NOT NULL\n",
    "GROUP BY sport, year\n",
    "ORDER BY year DESC, women_participation_count ;\n",
    "    \"\"\"\n",
    "\n",
    "women_participation = ps.sqldf(query, locals())\n",
    "\n",
    "print(women_participation)"
   ]
  },
  {
   "cell_type": "markdown",
   "metadata": {
    "id": "qImRfTgBMzKA"
   },
   "source": [
    "The data is filtered to include only instances where women participated, ensuring accurate counts for each sport. The results are grouped by sport and year, providing a clear overview of trends in women’s participation over time.\n",
    "\n",
    "For each selected sport, a line plot visualizes the year-wise participation count of female athletes, allowing for a comparison of trends and growth in women's representation across different sports. This analysis helps to highlight advancements in gender equality in sports and can identify specific sports where women’s participation has significantly increased or decreased over the years."
   ]
  },
  {
   "cell_type": "markdown",
   "metadata": {
    "id": "P50KzGDxM11N"
   },
   "source": [
    "The following visualization focuses on women's participation in wrestling, showcasing how participation has evolved through the years."
   ]
  },
  {
   "cell_type": "code",
   "execution_count": null,
   "metadata": {
    "colab": {
     "base_uri": "https://localhost:8080/",
     "height": 407
    },
    "id": "vd78Mu9CYI8i",
    "outputId": "9588a66a-4152-44f3-ef32-2747edcdf272"
   },
   "outputs": [],
   "source": [
    "selected_sport = 'wrestling'\n",
    "filtered_sport_data = women_participation[women_participation['sport'] == selected_sport]\n",
    "\n",
    "plt.figure(figsize=(5, 4))\n",
    "sns.lineplot(\n",
    "    data=filtered_sport_data,\n",
    "    x='year',\n",
    "    y='women_participation_count',\n",
    "    marker='o',\n",
    "    dashes=False\n",
    ")\n",
    "\n",
    "plt.title(f'Year-wise Women Participation in {selected_sport}', fontsize=16)\n",
    "plt.xlabel('Year', fontsize=14)\n",
    "plt.ylabel('Women Participation Count', fontsize=14)\n",
    "plt.xticks(rotation=45)\n",
    "\n",
    "plt.tight_layout()\n",
    "plt.show()\n"
   ]
  },
  {
   "cell_type": "markdown",
   "metadata": {
    "id": "VfYvrUc9M7j5"
   },
   "source": [
    "The following visualization focuses on women's participation in alpine skiing, showcasing how participation has evolved through the years."
   ]
  },
  {
   "cell_type": "code",
   "execution_count": null,
   "metadata": {
    "colab": {
     "base_uri": "https://localhost:8080/",
     "height": 607
    },
    "id": "Py358MVRYUGU",
    "outputId": "999c852e-c9f4-47ac-d71c-fd3c851535cb"
   },
   "outputs": [],
   "source": [
    "selected_sport = 'alpine skiing'\n",
    "filtered_sport_data = women_participation[women_participation['sport'] == selected_sport]\n",
    "\n",
    "plt.figure(figsize=(10, 6))\n",
    "sns.lineplot(\n",
    "    data=filtered_sport_data,\n",
    "    x='year',\n",
    "    y='women_participation_count',\n",
    "    marker='o',\n",
    "    dashes=False\n",
    ")\n",
    "\n",
    "plt.title(f'Year-wise Women Participation in {selected_sport}', fontsize=16)\n",
    "plt.xlabel('Year', fontsize=14)\n",
    "plt.ylabel('Women Participation Count', fontsize=14)\n",
    "plt.xticks(rotation=45)\n",
    "\n",
    "plt.tight_layout()\n",
    "plt.show()\n"
   ]
  },
  {
   "cell_type": "markdown",
   "metadata": {
    "id": "3lPPCwFTM_oi"
   },
   "source": [
    "The following visualization focuses on women's participation in badminton, showcasing how participation has evolved through the years."
   ]
  },
  {
   "cell_type": "code",
   "execution_count": null,
   "metadata": {
    "colab": {
     "base_uri": "https://localhost:8080/",
     "height": 607
    },
    "id": "0kBlhcYeY2Gm",
    "outputId": "b4507f70-f5ea-43e0-dce7-2fa99550bdc6"
   },
   "outputs": [],
   "source": [
    "\n",
    "selected_sport = 'badminton'\n",
    "filtered_sport_data = women_participation[women_participation['sport'] == selected_sport]\n",
    "\n",
    "plt.figure(figsize=(10, 6))\n",
    "sns.lineplot(\n",
    "    data=filtered_sport_data,\n",
    "    x='year',\n",
    "    y='women_participation_count',\n",
    "    marker='o',\n",
    "    dashes=False\n",
    ")\n",
    "\n",
    "plt.title(f'Year-wise Women Participation in {selected_sport}', fontsize=16)\n",
    "plt.xlabel('Year', fontsize=14)\n",
    "plt.ylabel('Women Participation Count', fontsize=14)\n",
    "plt.xticks(rotation=45)\n",
    "\n",
    "plt.tight_layout()\n",
    "plt.show()\n"
   ]
  },
  {
   "cell_type": "markdown",
   "metadata": {
    "id": "9Jvo76HUNCsy"
   },
   "source": [
    "The following visualization focuses on women's participation in athletics, showcasing how participation has evolved through the years."
   ]
  },
  {
   "cell_type": "code",
   "execution_count": null,
   "metadata": {
    "colab": {
     "base_uri": "https://localhost:8080/",
     "height": 607
    },
    "id": "3Ph-8r5OYuVD",
    "outputId": "8aa4cd0b-5031-4456-d2b5-9654ac0bd11d"
   },
   "outputs": [],
   "source": [
    "selected_sport = 'athletics'\n",
    "filtered_sport_data = women_participation[women_participation['sport'] == selected_sport]\n",
    "\n",
    "plt.figure(figsize=(10, 6))\n",
    "sns.lineplot(\n",
    "    data=filtered_sport_data,\n",
    "    x='year',\n",
    "    y='women_participation_count',\n",
    "    marker='o',\n",
    "    dashes=False\n",
    ")\n",
    "\n",
    "plt.title(f'Year-wise Women Participation in {selected_sport}', fontsize=16)\n",
    "plt.xlabel('Year', fontsize=14)\n",
    "plt.ylabel('Women Participation Count', fontsize=14)\n",
    "plt.xticks(rotation=45)\n",
    "\n",
    "plt.tight_layout()\n",
    "plt.show()\n"
   ]
  },
  {
   "cell_type": "markdown",
   "metadata": {
    "id": "h8QAOh7kxqen"
   },
   "source": [
    "# ML Model (Sataakshi 2)\n",
    "\n",
    "> Country-wise Comparison of Team vs. Individual Sport Medals Over the Years"
   ]
  },
  {
   "cell_type": "markdown",
   "metadata": {
    "id": "T7lufC9AZ9D8"
   },
   "source": [
    "\n",
    "1.   Split dataset into training 80% and testing 20%\n",
    "\n",
    "2.   Max depth set to 5 to avoid overfitting\n",
    "\n",
    "3. Using plot tree to visualize decision tree.\n",
    "\n",
    "4. R² score measures the variance in the data\n",
    "\n",
    "5. Mean Squared Error masures the average squared difference between the predicted and actual values.\n",
    "\n"
   ]
  },
  {
   "cell_type": "code",
   "execution_count": null,
   "metadata": {
    "colab": {
     "base_uri": "https://localhost:8080/",
     "height": 774
    },
    "id": "NSnj9ka8zsF2",
    "outputId": "a7012789-7b71-434e-d40a-a637409c4cdd"
   },
   "outputs": [],
   "source": [
    "from sklearn.model_selection import train_test_split\n",
    "from sklearn.tree import DecisionTreeRegressor, plot_tree\n",
    "from sklearn.ensemble import RandomForestRegressor\n",
    "from sklearn.metrics import r2_score, mean_squared_error\n",
    "import matplotlib.pyplot as plt\n",
    "\n",
    "medals_yearwise_data_aus['isTeamSport'] = medals_yearwise_data_aus['isTeamSport'].apply(lambda x: 1 if x else 0)\n",
    "\n",
    "X = medals_yearwise_data_aus[['year', 'isTeamSport']]\n",
    "y = medals_yearwise_data_aus['medal_count']\n",
    "\n",
    "# Split dataset into training 80% and testing 20%\n",
    "X_train, X_test, y_train, y_test = train_test_split(X, y, test_size=0.2, random_state=42)\n",
    "\n",
    "# Max depth set to 5 to avoid overfitting\n",
    "reg_tree = DecisionTreeRegressor(max_depth=5, random_state=42)\n",
    "\n",
    "reg_tree.fit(X_train, y_train)\n",
    "\n",
    "plt.figure(figsize=(10, 8))\n",
    "\n",
    "# Using plot tree to visualize decision tree\n",
    "plot_tree(reg_tree, feature_names=['year', 'isTeamSport'], filled=True)\n",
    "plt.show()\n",
    "\n",
    "y_pred_tree = reg_tree.predict(X_test)\n",
    "print(\"Decision Tree-\")\n",
    "\n",
    "# R² score measures the variance in the data\n",
    "print(f'R² score: {r2_score(y_test, y_pred_tree)}')\n",
    "print(f'Mean Squared Error: {mean_squared_error(y_test, y_pred_tree)}')\n",
    "print(\"-------------\")\n",
    "\n",
    "reg_random_forest = RandomForestRegressor(n_estimators=100, random_state=42)\n",
    "\n",
    "reg_random_forest.fit(X_train, y_train)\n",
    "\n",
    "y_pred_rf = reg_random_forest.predict(X_test)\n",
    "print(\"Random Forest Results- \")\n",
    "\n",
    "# Mean Squared Error masures the average squared difference between the predicted and actual values.\n",
    "print(f'R² score: {r2_score(y_test, y_pred_rf)}')\n",
    "print(f'Mean Squared Error: {mean_squared_error(y_test, y_pred_rf)}')\n",
    "\n"
   ]
  },
  {
   "cell_type": "markdown",
   "metadata": {
    "id": "x0jViHENambs"
   },
   "source": [
    "The output shows the performance of two regression models—Decision Tree and Random Forest—in predicting Australia's medal counts.\n",
    "\n",
    "Decision Tree:\n",
    "\n",
    "R² score: 0.36, indicating that the model explains about 36% of the variance in the data.\n",
    "\n",
    "Mean Squared Error (MSE): 834.71, which represents the average squared difference between actual and predicted medal counts.\n",
    "\n",
    "Random Forest:\n",
    "\n",
    "R² score: 0.51, meaning it explains 51% of the variance, making it a better model compared to the Decision Tree.\n",
    "\n",
    "MSE: 641.43, which is lower than the Decision Tree, indicating better prediction accuracy.\n",
    "\n",
    "Overall, the Random Forest performs better than the Decision Tree, offering higher accuracy and better variance explanation."
   ]
  },
  {
   "cell_type": "code",
   "execution_count": null,
   "metadata": {
    "colab": {
     "base_uri": "https://localhost:8080/",
     "height": 774
    },
    "id": "uJbC81bI2bnj",
    "outputId": "b4fd78be-5339-4c25-bc55-6752f67815a2"
   },
   "outputs": [],
   "source": [
    "from sklearn.model_selection import train_test_split\n",
    "from sklearn.tree import DecisionTreeRegressor, plot_tree\n",
    "from sklearn.ensemble import RandomForestRegressor\n",
    "from sklearn.metrics import r2_score, mean_squared_error\n",
    "import matplotlib.pyplot as plt\n",
    "\n",
    "medals_yearwise_data_ind['isTeamSport'] = medals_yearwise_data_ind['isTeamSport'].apply(lambda x: 1 if x else 0)\n",
    "\n",
    "X = medals_yearwise_data_ind[['year', 'isTeamSport']]\n",
    "y = medals_yearwise_data_ind['medal_count']\n",
    "\n",
    "# Split dataset into training 80% and testing 20%\n",
    "X_train, X_test, y_train, y_test = train_test_split(X, y, test_size=0.2, random_state=42)\n",
    "\n",
    "# Max depth set to 5 to avoid overfitting\n",
    "reg_tree = DecisionTreeRegressor(max_depth=5, random_state=42)\n",
    "\n",
    "reg_tree.fit(X_train, y_train)\n",
    "\n",
    "plt.figure(figsize=(10, 8))\n",
    "\n",
    "# Using plot tree to visualize decision tree\n",
    "plot_tree(reg_tree, feature_names=['year', 'isTeamSport'], filled=True)\n",
    "plt.show()\n",
    "\n",
    "y_pred_tree = reg_tree.predict(X_test)\n",
    "print(\"Decision Tree-\")\n",
    "\n",
    "# R² score measures the variance in the data\n",
    "print(f'R² score: {r2_score(y_test, y_pred_tree)}')\n",
    "print(f'Mean Squared Error: {mean_squared_error(y_test, y_pred_tree)}')\n",
    "print(\"-------------\")\n",
    "\n",
    "reg_random_forest = RandomForestRegressor(n_estimators=100, random_state=42)\n",
    "\n",
    "reg_random_forest.fit(X_train, y_train)\n",
    "\n",
    "y_pred_rf = reg_random_forest.predict(X_test)\n",
    "print(\"Random Forest Results- \")\n",
    "\n",
    "# Mean Squared Error masures the average squared difference between the predicted and actual values.\n",
    "print(f'R² score: {r2_score(y_test, y_pred_rf)}')\n",
    "print(f'Mean Squared Error: {mean_squared_error(y_test, y_pred_rf)}')\n",
    "\n"
   ]
  },
  {
   "cell_type": "markdown",
   "metadata": {
    "id": "51Sb-eWla_pI"
   },
   "source": [
    "The output for India indicates that both models-Decision Tree and Random Forest perform well.\n",
    "\n",
    "Decision Tree:-\n",
    "\n",
    "R² score: 0.88 meaning 88% of the variance in the data is explained by the model.\n",
    "\n",
    "Mean Squared Error: 8.4 shows the average squared difference between the predicted and actual values.\n",
    "\n",
    "Random Forest:-\n",
    "\n",
    "R² score: 0.92 means that there is a slight improvement, meaning the model explains 92% of the variance.\n",
    "\n",
    "Mean Squared Error: The lower MSE value of 5.7 shows that Random Forest makes more accurate predictions than the Decision Tree in this case.\n",
    "\n",
    "In summary, both models perform well, with Random Forest slightly outperforming the Decision Tree in predictive accuracy."
   ]
  },
  {
   "cell_type": "markdown",
   "metadata": {
    "id": "zmZMqHHH8qzu"
   },
   "source": [
    "# ML Model (Sataakshi 1)\n",
    "\n",
    "> Sport-wise Trend of Women’s Participation Over the Years"
   ]
  },
  {
   "cell_type": "code",
   "execution_count": null,
   "metadata": {
    "colab": {
     "base_uri": "https://localhost:8080/",
     "height": 1000
    },
    "id": "Dk413f4MSMZV",
    "outputId": "d29cb33c-eb72-48ab-c501-08c5dd292c28"
   },
   "outputs": [],
   "source": [
    "query = \"\"\"\n",
    "    SELECT\n",
    "        sport,\n",
    "        year,\n",
    "        COUNT(athlete_id) AS women_participation_count\n",
    "    FROM Athlete_Events_Details\n",
    "    WHERE\n",
    "        women = 1\n",
    "        AND year IS NOT NULL\n",
    "    GROUP BY sport, year\n",
    "    ORDER BY sport, year ASC;\n",
    "\"\"\"\n",
    "\n",
    "women_participation = ps.sqldf(query, locals())\n",
    "\n",
    "print(women_participation.head())\n",
    "plt.figure(figsize=(12, 8))\n",
    "\n",
    "sns.lineplot(data=women_participation, x='year', y='women_participation_count', hue='sport', marker='o', dashes=False)\n",
    "\n",
    "plt.title('Year-wise Women Participation in All Sports', fontsize=16)\n",
    "plt.xlabel('Year', fontsize=14)\n",
    "plt.ylabel('Women Participation Count', fontsize=14)\n",
    "plt.xticks(rotation=45)\n",
    "plt.legend(title='Sport', bbox_to_anchor=(1.05, 1), loc='upper left')\n",
    "\n",
    "plt.tight_layout()\n",
    "plt.show()\n"
   ]
  },
  {
   "cell_type": "code",
   "execution_count": null,
   "metadata": {
    "colab": {
     "base_uri": "https://localhost:8080/"
    },
    "id": "OvU1O_XgyqNL",
    "outputId": "97d5103c-d0a7-46ad-e539-c34ebf493990"
   },
   "outputs": [],
   "source": [
    "query = \"\"\"\n",
    "    SELECT\n",
    "        sport,\n",
    "        COUNT(DISTINCT year) AS years_practiced\n",
    "    FROM Athlete_Events_Details\n",
    "    WHERE\n",
    "        women = 1\n",
    "        AND year IS NOT NULL\n",
    "    GROUP BY sport\n",
    "    ORDER BY years_practiced DESC\n",
    "    LIMIT 5;  -- Or adjust to any number\n",
    "\"\"\"\n",
    "\n",
    "topSports = ps.sqldf(query, locals())\n",
    "\n",
    "print(topSports)\n"
   ]
  },
  {
   "cell_type": "markdown",
   "metadata": {
    "id": "2Yfm7IrXfFqS"
   },
   "source": [
    "We have taken a list of sports which had maximum data over the course of olympic history.\n",
    "Such sports include swimming, diving, fencing, athletics. These four sports are known to be some of the oldest sports in the olympic history.\n",
    "\n",
    "Next, we are going to iterate over every sport and filter the required data. Using the KNN model we will split the data and use the Knn regression to calculate the preedicted value."
   ]
  },
  {
   "cell_type": "code",
   "execution_count": null,
   "metadata": {
    "colab": {
     "base_uri": "https://localhost:8080/",
     "height": 1000
    },
    "id": "qend4Xyo0QVT",
    "outputId": "4a8f314b-8a03-437d-9b92-69a0f690e988"
   },
   "outputs": [],
   "source": [
    "from sklearn.model_selection import train_test_split\n",
    "from sklearn.neighbors import KNeighborsRegressor\n",
    "from sklearn.preprocessing import StandardScaler\n",
    "from sklearn.metrics import mean_squared_error, r2_score\n",
    "import matplotlib.pyplot as plt\n",
    "import seaborn as sns\n",
    "import numpy as np\n",
    "\n",
    "# List of sports\n",
    "sports = [ 'swimming', 'diving', 'fencing', 'athletics']\n",
    "\n",
    "rmseVal = {}\n",
    "r2Val = {}\n",
    "\n",
    "# Loop over each sport to train and evaluate the k-NN model.\n",
    "for idx, sport in enumerate(sports):\n",
    "\n",
    "    # Filter data for the current sport.\n",
    "    participationData = women_participation[women_participation['sport'] == sport]\n",
    "\n",
    "    X = participationData[['year']]\n",
    "    y = participationData['women_participation_count']\n",
    "\n",
    "    XTrain, XTest, yTrain, yTest = train_test_split(X, y, test_size=0.3, random_state=42)\n",
    "\n",
    "    scaler = StandardScaler()\n",
    "    XTrainScaled = scaler.fit_transform(XTrain)\n",
    "    XTestScaled = scaler.transform(XTest)\n",
    "\n",
    "    knnReg = KNeighborsRegressor(min(5, len(XTrain)))\n",
    "    knnReg.fit(XTrainScaled, yTrain)\n",
    "\n",
    "    yPredKnn = knnReg.predict(XTestScaled)\n",
    "\n",
    "    # Calculate RMSE and R² score\n",
    "    rmseKnn = np.sqrt(mean_squared_error(yTest, yPredKnn))\n",
    "    r2Knn = r2_score(yTest, yPredKnn)\n",
    "\n",
    "    rmseVal[sport] = rmseKnn\n",
    "    r2Val[sport] = r2Knn\n",
    "\n",
    "    print(f\"{sport.capitalize()} Results\")\n",
    "    print(f'R² score: {r2Knn:.2f}')\n",
    "    print(f'Root Mean Square Error: {rmseKnn:.2f}')\n",
    "\n",
    "    sortedVal = np.argsort(X_test.values.flatten())\n",
    "    XTestSorted = X_test.values.flatten()[sortedVal]\n",
    "    yTestSorted = y_test.values.flatten()[sortedVal]\n",
    "    yPredKnnSorted = yPredKnn[sortedVal]\n",
    "\n",
    "    plt.figure(figsize=(8, 5))\n",
    "\n",
    "    # Plot actual vs predicted values for the current sport\n",
    "    plt.plot(XTestSorted, yTestSorted, color='blue', label=f'Actual {sport.capitalize()}')\n",
    "    plt.plot(XTestSorted, yPredKnnSorted, color='red', linestyle='dashed', label=f'Predicted {sport.capitalize()}')\n",
    "\n",
    "    plt.title(f\"k-NN Regression - Women Participation in {sport.capitalize()}\", fontsize=14)\n",
    "    plt.xlabel(\"Year\")\n",
    "    plt.ylabel(\"Women's Participation Count\")\n",
    "    plt.legend(loc='upper left', fontsize=10)\n",
    "    plt.xticks(rotation=45)\n",
    "    plt.tight_layout()\n",
    "    plt.show()\n",
    "\n",
    "print(\"\\nOverall Results:\")\n",
    "for sport in sports:\n",
    "    if sport in rmseVal:\n",
    "        print(f\"{sport.capitalize()} -> RMSE: {rmseVal[sport]:.2f}, R²: {r2Val[sport]:.2f}\")\n"
   ]
  },
  {
   "cell_type": "markdown",
   "metadata": {
    "id": "qHO3jssNd7fe"
   },
   "source": [
    "The output indicates the performance of the k-NN regression model for predicting women's participation in four sports:\n",
    "\n",
    "Results per Sport:\n",
    "\n",
    "Swimming:-\n",
    "\n",
    "R²: 0.73 - The model explains 73% of the variance in swimming participation.\n",
    "\n",
    "RMSE: 125.06 - The model's predictions are off by an average of 125.06 units.\n",
    "\n",
    "Diving:-\n",
    "\n",
    "R²: 0.77 - The model explains 77% of the variance in diving participation.\n",
    "\n",
    "RMSE: 10.88 - The predictions are off by an average of 10.88 units.\n",
    "\n",
    "Fencing:-\n",
    "\n",
    "R²: 0.59 - The model explains 59% of the variance in fencing participation.\n",
    "\n",
    "RMSE: 32.65 - The predictions are off by an average of 32.65 units.\n",
    "\n",
    "Athletics:-\n",
    "\n",
    "R²: 0.89 - The model explains 89% of the variance in athletics participation.\n",
    "\n",
    "RMSE: 131.02 - The predictions are off by an average of 131.02 units."
   ]
  },
  {
   "cell_type": "markdown",
   "metadata": {
    "id": "pNoal_uleKBv"
   },
   "source": [
    "Overall Summary:\n",
    "\n",
    "Swimming and Athletics show strong model performance. R² values of 0.73 and 0.89. However, Athletics has a higher RMSE, indicating larger prediction errors compared to Diving and Fencing.\n",
    "Diving has the best balance of a relatively high R² (0.77) and a low RMSE (10.88), suggesting the model makes accurate predictions for diving.\n",
    "Fencing has the lowest R² (0.59) and a moderate RMSE (32.65), indicating room for improvement in the model's performance.\n",
    "The plots show how well the k-NN model captures the trend of participation for each sport over time. The dashed red line represents the predicted values, while the blue line represents the actual participation data."
   ]
  }
 ],
 "metadata": {
  "colab": {
   "collapsed_sections": [
    "IlEXETzLVAc_",
    "risHmFC58SZE",
    "N17nxuTX6BNB",
    "wlypwUaxD2QE",
    "KlAAlFQ88VsB",
    "-L8xfK1yD_4l",
    "wrMh27Pcu2Xu",
    "LtuwrryjZuF-",
    "nSUhMxCVKkhY",
    "7xY-g6KqU2JG",
    "nQ42B1HfU2JG",
    "h8QAOh7kxqen"
   ],
   "provenance": []
  },
  "kernelspec": {
   "display_name": "Python 3",
   "name": "python3"
  },
  "language_info": {
   "codemirror_mode": {
    "name": "ipython",
    "version": 3
   },
   "file_extension": ".py",
   "mimetype": "text/x-python",
   "name": "python",
   "nbconvert_exporter": "python",
   "pygments_lexer": "ipython3",
   "version": "3.11.8"
  }
 },
 "nbformat": 4,
 "nbformat_minor": 0
}
