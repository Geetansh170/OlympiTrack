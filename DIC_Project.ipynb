{
  "nbformat": 4,
  "nbformat_minor": 0,
  "metadata": {
    "colab": {
      "provenance": []
    },
    "kernelspec": {
      "name": "python3",
      "display_name": "Python 3"
    },
    "language_info": {
      "name": "python"
    }
  },
  "cells": [
    {
      "cell_type": "markdown",
      "source": [
        "# Download and Import Dependacies"
      ],
      "metadata": {
        "id": "fwnrhSRM211S"
      }
    },
    {
      "cell_type": "code",
      "execution_count": null,
      "metadata": {
        "id": "NZvxb02nsbkD"
      },
      "outputs": [],
      "source": [
        "import pandas as pd"
      ]
    },
    {
      "cell_type": "markdown",
      "source": [
        "# Data Retrieval\n"
      ],
      "metadata": {
        "id": "6tMffltZtAxQ"
      }
    },
    {
      "cell_type": "code",
      "source": [
        "from google.colab import drive\n",
        "drive.mount('/drive')\n",
        "%cd ..\n",
        "%cd /drive/MyDrive/DIC_PROJECT\n",
        "!ls"
      ],
      "metadata": {
        "colab": {
          "base_uri": "https://localhost:8080/"
        },
        "id": "kMnV086KtSVC",
        "outputId": "a121bab0-9e23-43c2-e9fa-82a4ed055605"
      },
      "execution_count": 10,
      "outputs": [
        {
          "output_type": "stream",
          "name": "stdout",
          "text": [
            "Drive already mounted at /drive; to attempt to forcibly remount, call drive.mount(\"/drive\", force_remount=True).\n",
            "/drive/My Drive\n",
            "/drive/MyDrive/DIC_PROJECT\n",
            "Olympic_Athlete_Biography.csv\t   Olympic_Event_Results.csv  Olympic_Medal_Tally_History.csv\n",
            "Olympic_Athlete_Event_Details.csv  Olympic_Games_Summary.csv  population_total_long.csv\n"
          ]
        }
      ]
    },
    {
      "cell_type": "code",
      "source": [
        "Athlete_Events = pd.read_csv('Olympic_Athlete_Event_Details.csv')\n",
        "Event_Results = pd.read_csv('Olympic_Event_Results.csv')\n",
        "Athlete_Biography = pd.read_csv('Olympic_Athlete_Biography.csv')\n",
        "Medal_Tally = pd.read_csv('Olympic_Medal_Tally_History.csv')\n",
        "Games_Summary = pd.read_csv('Olympic_Games_Summary.csv')\n",
        "Population_Total = pd.read_csv('population_total_long.csv')"
      ],
      "metadata": {
        "id": "wOBbw7DSwGWN"
      },
      "execution_count": 11,
      "outputs": []
    },
    {
      "cell_type": "code",
      "source": [
        "print(Athlete_Events.shape)\n",
        "print(Event_Results.shape)\n",
        "print(Athlete_Biography.shape)\n",
        "print(Medal_Tally.shape)\n",
        "print(Games_Summary.shape)\n",
        "print(Population_Total.shape)"
      ],
      "metadata": {
        "colab": {
          "base_uri": "https://localhost:8080/"
        },
        "id": "e6U8CCjC2x-I",
        "outputId": "8151b9d4-db49-4d83-92d1-3504548a1237"
      },
      "execution_count": 12,
      "outputs": [
        {
          "output_type": "stream",
          "name": "stdout",
          "text": [
            "(316834, 11)\n",
            "(7394, 12)\n",
            "(155861, 10)\n",
            "(1807, 9)\n",
            "(64, 11)\n",
            "(12595, 3)\n"
          ]
        }
      ]
    }
  ]
}