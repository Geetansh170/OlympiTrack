{
 "cells": [
  {
   "cell_type": "markdown",
   "metadata": {
    "id": "fwnrhSRM211S"
   },
   "source": [
    "# Download and Import Dependacies\n",
    "Joint task"
   ]
  },
  {
   "cell_type": "code",
   "execution_count": null,
   "metadata": {
    "colab": {
     "base_uri": "https://localhost:8080/"
    },
    "id": "GiiErtQ3vX-V",
    "outputId": "33904b66-89b4-4eea-8a46-30d689c61462"
   },
   "outputs": [],
   "source": [
    "pip install pandasql\n"
   ]
  },
  {
   "cell_type": "code",
   "execution_count": null,
   "metadata": {
    "id": "NZvxb02nsbkD"
   },
   "outputs": [],
   "source": [
    "import pandas as pd\n",
    "import numpy as np\n",
    "import matplotlib.pyplot as plt\n",
    "import seaborn as sns\n",
    "from pandasql import sqldf"
   ]
  },
  {
   "cell_type": "markdown",
   "metadata": {
    "id": "IlEXETzLVAc_"
   },
   "source": [
    "# Data Retrieval\n",
    "Joint task\n"
   ]
  },
  {
   "cell_type": "code",
   "execution_count": null,
   "metadata": {
    "colab": {
     "base_uri": "https://localhost:8080/"
    },
    "id": "cz-sHos_VAdN",
    "outputId": "dbd5e451-0802-4ebd-aa15-8d07896ed44c"
   },
   "outputs": [],
   "source": [
    "from google.colab import drive\n",
    "drive.mount('/drive')\n",
    "%cd ..\n",
    "%cd /drive/MyDrive/DIC_PROJECT\n",
    "!ls"
   ]
  },
  {
   "cell_type": "code",
   "execution_count": null,
   "metadata": {
    "id": "to9m0u03VAdN"
   },
   "outputs": [],
   "source": [
    "Athlete_Events_Details = pd.read_csv('Olympic_Athlete_Event_Details.csv')\n",
    "Event_Results = pd.read_csv('Olympic_Event_Results.csv')\n",
    "Athlete_Biography = pd.read_csv('Olympic_Athlete_Biography.csv')\n",
    "Medal_Tally = pd.read_csv('Olympic_Medal_Tally_History.csv')\n",
    "Games_Summary = pd.read_csv('Olympic_Games_Summary.csv')\n",
    "Population_Total = pd.read_csv('population_total_long.csv')\n",
    "Country_Profile = pd.read_csv('Olympic_Country_Profiles.csv')"
   ]
  },
  {
   "cell_type": "code",
   "execution_count": null,
   "metadata": {
    "colab": {
     "base_uri": "https://localhost:8080/"
    },
    "id": "hFdXvckGVAdO",
    "outputId": "5e8f68d6-0890-474e-9259-50a35620e274"
   },
   "outputs": [],
   "source": [
    "print(Athlete_Events_Details.shape)\n",
    "print(Event_Results.shape)\n",
    "print(Athlete_Biography.shape)\n",
    "print(Medal_Tally.shape)\n",
    "print(Games_Summary.shape)\n",
    "print(Population_Total.shape)"
   ]
  },
  {
   "cell_type": "markdown",
   "metadata": {
    "id": "risHmFC58SZE"
   },
   "source": [
    "# Event Results Cleaning\n",
    "Cleaned by Geetansh\n"
   ]
  },
  {
   "cell_type": "code",
   "execution_count": null,
   "metadata": {
    "colab": {
     "base_uri": "https://localhost:8080/"
    },
    "id": "KMd8NmlD8Y2r",
    "outputId": "6e8512fd-c947-4720-d85d-6307ec04a2f2"
   },
   "outputs": [],
   "source": [
    "print(Event_Results.shape)\n",
    "print(Event_Results.describe())\n",
    "# print(Event_Results.head(10))"
   ]
  },
  {
   "cell_type": "markdown",
   "metadata": {
    "id": "gCtNuNLC_iEk"
   },
   "source": [
    "1. Removing duplicates if any."
   ]
  },
  {
   "cell_type": "code",
   "execution_count": null,
   "metadata": {
    "id": "9VFSV9-g8-kg"
   },
   "outputs": [],
   "source": [
    "Event_Results.drop_duplicates(inplace=True)"
   ]
  },
  {
   "cell_type": "markdown",
   "metadata": {
    "id": "vZYO96GB_lCo"
   },
   "source": [
    "2. Removing unwanted columns.\n"
   ]
  },
  {
   "cell_type": "code",
   "execution_count": null,
   "metadata": {
    "id": "Jjl6SIsb_-go"
   },
   "outputs": [],
   "source": [
    "Event_Results.drop(['sport_url','result_date','result_location','result_format','result_detail','result_description'], axis=1, inplace=True)"
   ]
  },
  {
   "cell_type": "code",
   "execution_count": null,
   "metadata": {
    "colab": {
     "base_uri": "https://localhost:8080/"
    },
    "id": "PGQi9imEAgZ5",
    "outputId": "7a7d8f2a-c02c-48b8-b2b6-adbbb1c4d7c4"
   },
   "outputs": [],
   "source": [
    "print(Event_Results.shape)"
   ]
  },
  {
   "cell_type": "markdown",
   "metadata": {
    "id": "qMo-y6xtBFmF"
   },
   "source": [
    "3. Will convert all text fields to lower for consistency\n"
   ]
  },
  {
   "cell_type": "code",
   "execution_count": null,
   "metadata": {
    "id": "IrvbPWjZBK2w"
   },
   "outputs": [],
   "source": [
    "Event_Results['event_title'] = Event_Results['event_title'].str.strip().str.lower()\n",
    "Event_Results['edition'] = Event_Results['edition'].str.strip().str.lower()\n",
    "Event_Results['sport'] = Event_Results['sport'].str.strip().str.lower()\n",
    "Event_Results['result_participants'] = Event_Results['result_participants'].str.strip().str.lower()"
   ]
  },
  {
   "cell_type": "code",
   "execution_count": null,
   "metadata": {
    "colab": {
     "base_uri": "https://localhost:8080/"
    },
    "id": "qjTZj_DLCT3t",
    "outputId": "b9f4000b-2ec0-47ec-ffc9-081ab56446a1"
   },
   "outputs": [],
   "source": [
    "print(Event_Results['result_participants'].head(10))"
   ]
  },
  {
   "cell_type": "markdown",
   "metadata": {
    "id": "ma6hVpJ7DrOG"
   },
   "source": [
    "4. Creating new columns with total participants and total participating countries for each event"
   ]
  },
  {
   "cell_type": "code",
   "execution_count": null,
   "metadata": {
    "colab": {
     "base_uri": "https://localhost:8080/"
    },
    "id": "zqK33aezDH90",
    "outputId": "649cb29b-05da-469e-9521-f58eb35b7b6d"
   },
   "outputs": [],
   "source": [
    "Event_Results[['participants', 'participant_countries']] = Event_Results['result_participants'].str.extract(r'(\\d+)\\sfrom\\s(\\d+)')\n",
    "\n",
    "Event_Results['participants'] = Event_Results['participants'].astype(int)\n",
    "Event_Results['participant_countries'] = Event_Results['participant_countries'].astype(int)\n",
    "\n",
    "Event_Results.drop('result_participants', axis=1, inplace=True)\n",
    "\n",
    "print(Event_Results)"
   ]
  },
  {
   "cell_type": "code",
   "execution_count": null,
   "metadata": {
    "colab": {
     "base_uri": "https://localhost:8080/"
    },
    "id": "A9miI6NyDQLM",
    "outputId": "6f34bd1f-7862-4584-9548-3f4f35647bfd"
   },
   "outputs": [],
   "source": [
    "print(Event_Results['participants'].head(10))\n",
    "print(Event_Results['participant_countries'].head(10))"
   ]
  },
  {
   "cell_type": "code",
   "execution_count": null,
   "metadata": {
    "colab": {
     "base_uri": "https://localhost:8080/"
    },
    "id": "oiyLUWlODplH",
    "outputId": "1268a3e5-5976-42b9-ba44-72a687b427c3"
   },
   "outputs": [],
   "source": [
    "print(Event_Results['event_title'].head(10))"
   ]
  },
  {
   "cell_type": "markdown",
   "metadata": {
    "id": "JH8ZKVxyKZFG"
   },
   "source": [
    "5. Separating male and female events by adding a column for each men and women"
   ]
  },
  {
   "cell_type": "code",
   "execution_count": null,
   "metadata": {
    "colab": {
     "base_uri": "https://localhost:8080/"
    },
    "id": "HVCeivSAJv-g",
    "outputId": "d5a34dc5-6995-4517-e1c5-aaab0d7656a6"
   },
   "outputs": [],
   "source": [
    "Event_Results['men'] = Event_Results['event_title'].str.contains(r'\\bmen\\b', case=False).astype(int)\n",
    "Event_Results['women'] = Event_Results['event_title'].str.contains('women', case=False).astype(int)\n",
    "\n",
    "print(Event_Results)"
   ]
  },
  {
   "cell_type": "markdown",
   "metadata": {
    "id": "RKKcS3ujMNdS"
   },
   "source": [
    "6. Extract year and olympic type from the data"
   ]
  },
  {
   "cell_type": "code",
   "execution_count": null,
   "metadata": {
    "colab": {
     "base_uri": "https://localhost:8080/"
    },
    "id": "faPL07PgL_Cj",
    "outputId": "6653d847-8951-44ba-e92e-3fc3dd298421"
   },
   "outputs": [],
   "source": [
    "Event_Results[['year', 'olympic_type']] = Event_Results['edition'].str.extract(r'(\\d{4})\\s+(summer|winter)\\s+olympics')\n",
    "\n",
    "print(Event_Results['year'].head())\n",
    "print(Event_Results['olympic_type'].head())"
   ]
  },
  {
   "cell_type": "code",
   "execution_count": null,
   "metadata": {
    "colab": {
     "base_uri": "https://localhost:8080/"
    },
    "id": "Ui3LfgD-Vd_I",
    "outputId": "6786be08-b270-456c-a9ad-576034bde29e"
   },
   "outputs": [],
   "source": [
    "print(Event_Results.shape)"
   ]
  },
  {
   "cell_type": "markdown",
   "metadata": {
    "id": "yAWy4EqoNd2o"
   },
   "source": [
    "7. Drop rows where essential columns are null"
   ]
  },
  {
   "cell_type": "code",
   "execution_count": null,
   "metadata": {
    "id": "tgjxIkqKVmku"
   },
   "outputs": [],
   "source": [
    "Event_Results.dropna(subset=['event_title', 'sport', 'participants', 'participant_countries', 'men', 'women','year','olympic_type'], inplace=True)"
   ]
  },
  {
   "cell_type": "code",
   "execution_count": null,
   "metadata": {
    "colab": {
     "base_uri": "https://localhost:8080/"
    },
    "id": "__t-2dtVye9P",
    "outputId": "3a6a0fa5-9040-4d47-f7c0-83dad8034fc0"
   },
   "outputs": [],
   "source": [
    "print(Event_Results)"
   ]
  },
  {
   "cell_type": "markdown",
   "metadata": {
    "id": "wF7gaXnWzdDQ"
   },
   "source": [
    "8. One hot encode olympic type"
   ]
  },
  {
   "cell_type": "code",
   "execution_count": null,
   "metadata": {
    "colab": {
     "base_uri": "https://localhost:8080/"
    },
    "id": "mZxIyiW6zhWM",
    "outputId": "e3119b4b-6684-46e8-d938-6171eb9e2e4f"
   },
   "outputs": [],
   "source": [
    "olympic_dummies = pd.get_dummies(Event_Results['olympic_type'])\n",
    "\n",
    "olympic_dummies = olympic_dummies.astype(int)\n",
    "\n",
    "Event_Results = pd.concat([Event_Results, olympic_dummies], axis=1)\n",
    "\n",
    "print(Event_Results)"
   ]
  },
  {
   "cell_type": "code",
   "execution_count": null,
   "metadata": {
    "colab": {
     "base_uri": "https://localhost:8080/"
    },
    "id": "4xjldI1P0GKG",
    "outputId": "75182ab0-9b3f-4439-aeee-7506affbe211"
   },
   "outputs": [],
   "source": [
    "print(Event_Results.shape)\n",
    "print(Event_Results.describe())\n",
    "print(Event_Results.head(10))"
   ]
  },
  {
   "cell_type": "markdown",
   "metadata": {
    "id": "N17nxuTX6BNB"
   },
   "source": [
    "# Population Total Cleaning\n",
    "Cleaned by Geetansh"
   ]
  },
  {
   "cell_type": "code",
   "execution_count": null,
   "metadata": {
    "colab": {
     "base_uri": "https://localhost:8080/"
    },
    "id": "CN-D1UAF6Ii5",
    "outputId": "faf91c5a-0577-487a-9e30-3c8abcf86829"
   },
   "outputs": [],
   "source": [
    "print(Population_Total.shape)\n",
    "print(Population_Total.describe())\n",
    "print(Population_Total.head(10))"
   ]
  },
  {
   "cell_type": "markdown",
   "metadata": {
    "id": "92UppOiZ8rO-"
   },
   "source": [
    "1. Text columns to lower text"
   ]
  },
  {
   "cell_type": "code",
   "execution_count": null,
   "metadata": {
    "id": "kXP5Xt358Vxu"
   },
   "outputs": [],
   "source": [
    "Population_Total['Country Name'] = Population_Total['Country Name'].str.strip().str.lower()"
   ]
  },
  {
   "cell_type": "code",
   "execution_count": null,
   "metadata": {
    "colab": {
     "base_uri": "https://localhost:8080/"
    },
    "id": "Fcy-acGPJEk1",
    "outputId": "564f17b5-0758-4ffa-f1ae-7689509be199"
   },
   "outputs": [],
   "source": [
    "print(Population_Total.head(10))"
   ]
  },
  {
   "cell_type": "markdown",
   "metadata": {
    "id": "RjHZkc9j8u_y"
   },
   "source": [
    "2. Normalize Population Count"
   ]
  },
  {
   "cell_type": "code",
   "execution_count": null,
   "metadata": {
    "id": "f062UrULAzus"
   },
   "outputs": [],
   "source": [
    "# from sklearn.preprocessing import MinMaxScaler\n",
    "# scaler = MinMaxScaler()\n",
    "\n",
    "# Population_Total[['Count']] = scaler.fit_transform(Population_Total[['Count']])\n",
    "\n",
    "# print(Population_Total)"
   ]
  },
  {
   "cell_type": "markdown",
   "metadata": {
    "id": "aqEydJDGBU2D"
   },
   "source": [
    "3. Drop rows if essential columns are null"
   ]
  },
  {
   "cell_type": "code",
   "execution_count": null,
   "metadata": {
    "id": "uzgoIEupBNQr"
   },
   "outputs": [],
   "source": [
    "Population_Total.dropna(subset=['Country Name', 'Year', 'Count'], inplace=True)"
   ]
  },
  {
   "cell_type": "code",
   "execution_count": null,
   "metadata": {
    "id": "djvDWnuPDC4E"
   },
   "outputs": [],
   "source": [
    "Population_Total['Year'] = Population_Total['Year'].replace(2017, 2020)"
   ]
  },
  {
   "cell_type": "code",
   "execution_count": null,
   "metadata": {
    "colab": {
     "base_uri": "https://localhost:8080/"
    },
    "id": "cyr083mxBhre",
    "outputId": "ca3e34b8-7954-4919-f3e9-73e420264ccf"
   },
   "outputs": [],
   "source": [
    "print(Population_Total.shape)\n",
    "print(Population_Total.describe())\n",
    "print(Population_Total)"
   ]
  },
  {
   "cell_type": "markdown",
   "metadata": {
    "id": "wlypwUaxD2QE"
   },
   "source": [
    "# Athlete_Biography Cleaning\n",
    "Cleaned Sataakshi"
   ]
  },
  {
   "cell_type": "code",
   "execution_count": null,
   "metadata": {
    "colab": {
     "base_uri": "https://localhost:8080/"
    },
    "id": "rsOVHIUhD9px",
    "outputId": "f0e40c17-847e-4b9c-bb4f-fa5977efe63b"
   },
   "outputs": [],
   "source": [
    "print(Athlete_Biography.shape)\n",
    "print(Athlete_Biography.describe())\n",
    "print(Athlete_Biography.head(10))"
   ]
  },
  {
   "cell_type": "markdown",
   "metadata": {
    "id": "bxhemySVDIjk"
   },
   "source": [
    "1. Dropping duplicates"
   ]
  },
  {
   "cell_type": "code",
   "execution_count": null,
   "metadata": {
    "id": "4Arorwo6EICB"
   },
   "outputs": [],
   "source": [
    "Athlete_Biography.drop_duplicates(inplace=True)"
   ]
  },
  {
   "cell_type": "markdown",
   "metadata": {
    "id": "B9e2Olz5DKJM"
   },
   "source": [
    "2. Dropping non required columns"
   ]
  },
  {
   "cell_type": "code",
   "execution_count": null,
   "metadata": {
    "id": "wMjFzNS-EQxn"
   },
   "outputs": [],
   "source": [
    "Athlete_Biography.drop(['description','special_notes'], axis=1, inplace=True)"
   ]
  },
  {
   "cell_type": "markdown",
   "metadata": {
    "id": "h39lHJGNDPYa"
   },
   "source": [
    "3. Converting strings to lower"
   ]
  },
  {
   "cell_type": "code",
   "execution_count": null,
   "metadata": {
    "id": "iYzbdiM7EXKX"
   },
   "outputs": [],
   "source": [
    "Athlete_Biography['country'] = Athlete_Biography['country'].str.strip().str.lower()\n",
    "Athlete_Biography['sex'] = Athlete_Biography['sex'].str.strip().str.lower()\n",
    "Athlete_Biography['name'] = Athlete_Biography['name'].str.strip().str.lower()\n",
    "Athlete_Biography['born'] = Athlete_Biography['born'].str.strip().str.lower()"
   ]
  },
  {
   "cell_type": "code",
   "execution_count": null,
   "metadata": {
    "colab": {
     "base_uri": "https://localhost:8080/"
    },
    "id": "KxMQdCEhUmSh",
    "outputId": "a8e3fe37-c87e-40d8-8152-b5a70952fe79"
   },
   "outputs": [],
   "source": [
    "print(Athlete_Biography.head(10))"
   ]
  },
  {
   "cell_type": "markdown",
   "metadata": {
    "id": "KlAAlFQ88VsB"
   },
   "source": [
    "# Data Cleaning: Athlete_Events\n",
    "Cleaned by Sataakshi"
   ]
  },
  {
   "cell_type": "code",
   "execution_count": null,
   "metadata": {
    "colab": {
     "base_uri": "https://localhost:8080/",
     "height": 363
    },
    "id": "aI6mx2AB4jpv",
    "outputId": "2df93c18-1fff-49dd-f8e6-1709e3d79cb8"
   },
   "outputs": [],
   "source": [
    "Athlete_Events_Details.head(10)"
   ]
  },
  {
   "cell_type": "code",
   "execution_count": null,
   "metadata": {
    "colab": {
     "base_uri": "https://localhost:8080/"
    },
    "id": "eZ58zoXv5XI_",
    "outputId": "17d6578e-312c-405c-d69a-55d5b9cb999f"
   },
   "outputs": [],
   "source": [
    "print(Athlete_Events_Details.isnull().sum())"
   ]
  },
  {
   "cell_type": "code",
   "execution_count": null,
   "metadata": {
    "id": "qz9GvwF37tzF"
   },
   "outputs": [],
   "source": [
    "Athlete_Events_Details = Athlete_Events_Details.drop_duplicates()"
   ]
  },
  {
   "cell_type": "code",
   "execution_count": null,
   "metadata": {
    "id": "xwpgL0oy8kLw"
   },
   "outputs": [],
   "source": [
    "Athlete_Events_Details = Athlete_Events_Details.drop(columns=['result_id', 'athlete', 'pos'])"
   ]
  },
  {
   "cell_type": "code",
   "execution_count": null,
   "metadata": {
    "colab": {
     "base_uri": "https://localhost:8080/"
    },
    "id": "9BKFm-2W8htU",
    "outputId": "5b8cbaaf-85e7-47bd-89f3-2f67c2933998"
   },
   "outputs": [],
   "source": [
    "Athlete_Events_Details['medal'].fillna('no medal', inplace=True)"
   ]
  },
  {
   "cell_type": "code",
   "execution_count": null,
   "metadata": {
    "id": "LNQSbu9cBmW1"
   },
   "outputs": [],
   "source": [
    "Athlete_Events_Details['country_noc'] = Athlete_Events_Details['country_noc'].str.strip().str.lower()\n",
    "Athlete_Events_Details['sport'] = Athlete_Events_Details['sport'].str.strip().str.lower()\n",
    "Athlete_Events_Details['event'] = Athlete_Events_Details['event'].str.strip().str.lower()\n",
    "Athlete_Events_Details['edition'] = Athlete_Events_Details['edition'].str.strip().str.lower()"
   ]
  },
  {
   "cell_type": "code",
   "execution_count": null,
   "metadata": {
    "colab": {
     "base_uri": "https://localhost:8080/",
     "height": 363
    },
    "id": "sZj29hYEBxsj",
    "outputId": "c123b6e3-1264-41b2-fa2d-5119b6519830"
   },
   "outputs": [],
   "source": [
    "Athlete_Events_Details.head(10)"
   ]
  },
  {
   "cell_type": "code",
   "execution_count": null,
   "metadata": {
    "id": "9X0fqW8qCiD0"
   },
   "outputs": [],
   "source": [
    "Athlete_Events_Details['edition'] = Athlete_Events_Details['edition'].astype('category')\n",
    "Athlete_Events_Details['isTeamSport'] = Athlete_Events_Details['isTeamSport'].astype(bool)"
   ]
  },
  {
   "cell_type": "code",
   "execution_count": null,
   "metadata": {
    "colab": {
     "base_uri": "https://localhost:8080/",
     "height": 363
    },
    "id": "lAFwObjjCjbE",
    "outputId": "6b36f659-e064-4576-f476-fa2232fa4548"
   },
   "outputs": [],
   "source": [
    "Athlete_Events_Details.head(10)"
   ]
  },
  {
   "cell_type": "code",
   "execution_count": null,
   "metadata": {
    "colab": {
     "base_uri": "https://localhost:8080/"
    },
    "id": "KWjvVO6GD1xG",
    "outputId": "b44af7eb-e3be-4057-c46a-695e74d7c3b0"
   },
   "outputs": [],
   "source": [
    "Athlete_Events_Details[['year', 'olympic_type']] = Athlete_Events_Details['edition'].str.extract(r'(\\d{4})\\s+(summer|winter)\\s+olympics')\n",
    "\n",
    "print(Athlete_Events_Details['year'].head())\n",
    "print(Athlete_Events_Details['olympic_type'].head())"
   ]
  },
  {
   "cell_type": "code",
   "execution_count": null,
   "metadata": {
    "colab": {
     "base_uri": "https://localhost:8080/",
     "height": 363
    },
    "id": "xnp8-PNuNkec",
    "outputId": "caaaf929-389f-4237-e6c9-8b3aef77c281"
   },
   "outputs": [],
   "source": [
    "Athlete_Events_Details['men'] = Athlete_Events_Details['event'].str.contains(r'\\bmen\\b', case=False).astype(int)\n",
    "Athlete_Events_Details['women'] = Athlete_Events_Details['event'].str.contains('women', case=False).astype(int)\n",
    "\n",
    "Athlete_Events_Details.head(10)"
   ]
  },
  {
   "cell_type": "code",
   "execution_count": null,
   "metadata": {
    "colab": {
     "base_uri": "https://localhost:8080/",
     "height": 363
    },
    "id": "r8vRGesrFgKb",
    "outputId": "dac1303d-e72a-4917-df85-64d31f1fbc23"
   },
   "outputs": [],
   "source": [
    "Athlete_Events_Details.head(10)"
   ]
  },
  {
   "cell_type": "markdown",
   "metadata": {
    "id": "-L8xfK1yD_4l"
   },
   "source": [
    "# Country_Profile Cleaning\n",
    "Cleaned by Geetansh"
   ]
  },
  {
   "cell_type": "markdown",
   "metadata": {
    "id": "1A_Bx8dzC_XV"
   },
   "source": [
    "Just doing to lower for all string datatype column."
   ]
  },
  {
   "cell_type": "code",
   "execution_count": null,
   "metadata": {
    "id": "u6I8AgTIEE1m"
   },
   "outputs": [],
   "source": [
    "Country_Profile['noc'] = Country_Profile['noc'].str.strip().str.lower()\n",
    "Country_Profile['country'] = Country_Profile['country'].str.strip().str.lower()"
   ]
  },
  {
   "cell_type": "code",
   "execution_count": null,
   "metadata": {
    "colab": {
     "base_uri": "https://localhost:8080/"
    },
    "id": "R5JbdmbaEwcW",
    "outputId": "c4e1f367-b05e-4167-f433-e24a813f8ad5"
   },
   "outputs": [],
   "source": [
    "print(Country_Profile.head(10))"
   ]
  },
  {
   "cell_type": "markdown",
   "metadata": {
    "id": "wrMh27Pcu2Xu"
   },
   "source": [
    "# Exploratory Data Analysis (Geetansh 1)\n",
    "> Percentage Women participation per country in Olympics\n"
   ]
  },
  {
   "cell_type": "markdown",
   "metadata": {
    "id": "sU_MVNub9nRT"
   },
   "source": [
    "We'll first merge the data for country profile and athlete event details in order to get full country name. Then we'll drop unwanted columns from the merged data."
   ]
  },
  {
   "cell_type": "code",
   "execution_count": null,
   "metadata": {
    "colab": {
     "base_uri": "https://localhost:8080/"
    },
    "id": "NqmWXY9au-cW",
    "outputId": "d353d59c-75b1-40a1-dd3b-96b44136cabb"
   },
   "outputs": [],
   "source": [
    "print(Athlete_Events_Details.shape)\n",
    "Athlete_Events_Details_Mod = Athlete_Events_Details.merge(Country_Profile, left_on='country_noc', right_on='noc', how='left')\n",
    "Athlete_Events_Details_Mod.drop('noc', axis=1, inplace=True)\n",
    "Athlete_Events_Details_Mod.drop('country_noc', axis=1, inplace=True)\n",
    "print(Athlete_Events_Details_Mod.shape)\n",
    "print(Athlete_Events_Details_Mod.head(10))"
   ]
  },
  {
   "cell_type": "markdown",
   "metadata": {
    "id": "LX1ZmLkP-_VI"
   },
   "source": [
    "Now, we'll sum the number of male and female athletes."
   ]
  },
  {
   "cell_type": "code",
   "execution_count": null,
   "metadata": {
    "colab": {
     "base_uri": "https://localhost:8080/"
    },
    "id": "l3ii-MNiAX_O",
    "outputId": "2ab36db5-fcc4-4bbb-d8da-2e99b11fc823"
   },
   "outputs": [],
   "source": [
    "athlete_counts = Athlete_Events_Details_Mod.groupby(['country', 'year'])[['men', 'women']].sum().reset_index()\n",
    "athlete_counts = athlete_counts.rename(columns={'country': 'Country Name'})\n",
    "\n",
    "print(athlete_counts)"
   ]
  },
  {
   "cell_type": "markdown",
   "metadata": {
    "id": "nfUEPJwT_Fqk"
   },
   "source": [
    "Percentage Women = Percentage women from overall population of the country. For this we'll merge our data with the total population dataset.\n",
    "Percentage Women Better = Percentage women from total participants of the country.\n",
    "Finally, we have country wise percentages."
   ]
  },
  {
   "cell_type": "code",
   "execution_count": null,
   "metadata": {
    "colab": {
     "base_uri": "https://localhost:8080/"
    },
    "id": "6X8W0YqbKWJU",
    "outputId": "3ce60184-b238-4366-a47e-9e5d32857501"
   },
   "outputs": [],
   "source": [
    "Population_Total['Year'] = Population_Total['Year'].astype(int)\n",
    "athlete_counts['year'] = athlete_counts['year'].astype(int)\n",
    "merged_data = pd.merge(athlete_counts, Population_Total, left_on=['Country Name', 'year'],right_on=['Country Name', 'Year'], how='left')\n",
    "\n",
    "# print(merged_data)\n",
    "merged_data['percentage_women'] = (merged_data['women'] / merged_data['Count']) * 100\n",
    "\n",
    "merged_data['total'] = merged_data['men'] + merged_data['women']\n",
    "merged_data['percentage_women_better'] = (merged_data['women'] / merged_data['total']) * 100\n",
    "\n",
    "print(merged_data[['Country Name', 'year', 'percentage_women','percentage_women_better']].head(20))\n",
    "\n",
    "merged_data.to_csv('country_women_participation_percentage.csv', index=False)"
   ]
  },
  {
   "cell_type": "markdown",
   "metadata": {
    "id": "5xYEazwK_pZ_"
   },
   "source": [
    "Normalizing percentage data as it was very small."
   ]
  },
  {
   "cell_type": "code",
   "execution_count": null,
   "metadata": {
    "colab": {
     "base_uri": "https://localhost:8080/"
    },
    "id": "AyO6kBmzVzU8",
    "outputId": "c271d123-18f7-4e2c-e6ba-8b75594f5b4e"
   },
   "outputs": [],
   "source": [
    "merged_data = merged_data.dropna(subset=['percentage_women'])\n",
    "\n",
    "min_val = merged_data['percentage_women'].min()\n",
    "max_val = merged_data['percentage_women'].max()\n",
    "merged_data['normalized_percentage_women'] = (merged_data['percentage_women'] - min_val) / (max_val - min_val)\n",
    "\n",
    "print(merged_data)"
   ]
  },
  {
   "cell_type": "markdown",
   "metadata": {
    "id": "aafagLMn_4Ek"
   },
   "source": [
    "We'll find out countrues with least percentage of women pariticipation.\n",
    "Then we'll plot the trend of this data.\n"
   ]
  },
  {
   "cell_type": "code",
   "execution_count": null,
   "metadata": {
    "colab": {
     "base_uri": "https://localhost:8080/",
     "height": 785
    },
    "id": "yAIO9MezWiEI",
    "outputId": "f97b2069-42e8-4954-f605-592513b9959d"
   },
   "outputs": [],
   "source": [
    "total_percentage_by_country = merged_data.groupby('Country Name')['percentage_women'].sum().reset_index()\n",
    "\n",
    "least_countries = total_percentage_by_country.nsmallest(5, 'percentage_women')['Country Name']\n",
    "\n",
    "df_least = merged_data[merged_data['Country Name'].isin(least_countries)]\n",
    "\n",
    "\n",
    "plt.figure(figsize=(12, 6))\n",
    "sns.lineplot(data=df_least, x='year', y='percentage_women', hue='Country Name', marker='o')\n",
    "plt.title('Trends of Women Participation in Countries with Least Total Percentage')\n",
    "plt.xlabel('Year')\n",
    "plt.ylabel('Percentage of Women Participation')\n",
    "plt.xticks(df_least['year'].unique())\n",
    "plt.grid(True)\n",
    "plt.xticks(rotation=90)\n",
    "plt.legend(title='Country Name')\n",
    "plt.show()"
   ]
  },
  {
   "cell_type": "markdown",
   "metadata": {
    "id": "z-GiSz0HAEyw"
   },
   "source": [
    "As we can see the trend increases after 1976 but is not rising countinously."
   ]
  },
  {
   "cell_type": "markdown",
   "metadata": {
    "id": "a46vXlWXANRY"
   },
   "source": [
    "Now, we'll plot better percentage, which is out of total participants."
   ]
  },
  {
   "cell_type": "code",
   "execution_count": null,
   "metadata": {
    "colab": {
     "base_uri": "https://localhost:8080/",
     "height": 785
    },
    "id": "iuaCFyrOYlHS",
    "outputId": "90582372-af08-46e2-c92e-adf81fbc9dc3"
   },
   "outputs": [],
   "source": [
    "total_percentage_by_country = merged_data.groupby('Country Name')['percentage_women'].sum().reset_index()\n",
    "\n",
    "least_countries = total_percentage_by_country.nsmallest(5, 'percentage_women')['Country Name']\n",
    "\n",
    "df_least = merged_data[merged_data['Country Name'].isin(least_countries)]\n",
    "\n",
    "\n",
    "plt.figure(figsize=(12, 6))\n",
    "sns.lineplot(data=df_least, x='year', y='percentage_women_better', hue='Country Name', marker='o')\n",
    "plt.title('Trends of Women Participation in Countries with Least Total Percentage')\n",
    "plt.xlabel('Year')\n",
    "plt.ylabel('Percentage of Women Participation')\n",
    "plt.xticks(df_least['year'].unique())\n",
    "plt.grid(True)\n",
    "plt.xticks(rotation=90)\n",
    "plt.legend(title='Country Name')\n",
    "plt.show()"
   ]
  },
  {
   "cell_type": "markdown",
   "metadata": {
    "id": "e5rdubCeAWmd"
   },
   "source": [
    "Now, we'll take some of the most successful sports countries in the world and try to plot both the percentages for these countries."
   ]
  },
  {
   "cell_type": "code",
   "execution_count": null,
   "metadata": {
    "colab": {
     "base_uri": "https://localhost:8080/",
     "height": 749
    },
    "id": "iGQ5b6DuZVT0",
    "outputId": "9b0b8e3d-cf5a-412b-844e-43ad6ebed513"
   },
   "outputs": [],
   "source": [
    "selected_countries = ['united states', 'italy', 'germany', 'china', 'japan']\n",
    "df_selected = merged_data[merged_data['Country Name'].isin(selected_countries)]\n",
    "# df_selected = df_se.groupby('Country Name')['percentage_women'].sum().reset_index()\n",
    "\n",
    "plt.figure(figsize=(12, 6))\n",
    "sns.lineplot(data=df_selected, x='year', y='percentage_women', hue='Country Name', marker='o')\n",
    "plt.title('Trends of Women Participation in Selected Countries')\n",
    "plt.xlabel('Year')\n",
    "plt.ylabel('Percentage of Women Participation')\n",
    "plt.xticks(df_selected['year'].unique(), rotation=90)\n",
    "plt.grid(True)\n",
    "plt.yticks([])\n",
    "plt.legend(title='Country Name')\n",
    "plt.show()"
   ]
  },
  {
   "cell_type": "markdown",
   "metadata": {
    "id": "ifhX8sStWb9j"
   },
   "source": [
    "We see better participation based on total population\n"
   ]
  },
  {
   "cell_type": "markdown",
   "metadata": {
    "id": "3OI4LHTYA15K"
   },
   "source": [
    "Plot better percentage for women in the countries discussed above. We see a rising trend in these countries."
   ]
  },
  {
   "cell_type": "code",
   "execution_count": null,
   "metadata": {
    "colab": {
     "base_uri": "https://localhost:8080/",
     "height": 749
    },
    "id": "tYf7sILJX8Ia",
    "outputId": "20c2322f-8817-4859-af34-e3aa774a4951"
   },
   "outputs": [],
   "source": [
    "selected_countries = ['united states', 'italy', 'germany', 'china', 'japan']\n",
    "df_selected = merged_data[merged_data['Country Name'].isin(selected_countries)]\n",
    "\n",
    "plt.figure(figsize=(12, 6))\n",
    "sns.lineplot(data=df_selected, x='year', y='percentage_women_better', hue='Country Name', marker='o')\n",
    "plt.title('Trends of Women Participation in Selected Countries')\n",
    "plt.xlabel('Year')\n",
    "plt.ylabel('Percentage of Women Participation')\n",
    "plt.xticks(df_selected['year'].unique(), rotation=90)\n",
    "plt.grid(True)\n",
    "plt.legend(title='Country Name')\n",
    "plt.show()"
   ]
  },
  {
   "cell_type": "markdown",
   "metadata": {
    "id": "hgXU8-4RBB2t"
   },
   "source": [
    "Conclusion :- The progressive countries are doing much better in terms of women participation and are improving too. The countries with low percentage should focus on empowering more women to play sports and this is a crucial piece of information for these countries to analyze."
   ]
  },
  {
   "cell_type": "markdown",
   "metadata": {
    "id": "LtuwrryjZuF-"
   },
   "source": [
    "# Exploratory Data Analysis (Geetansh 2)\n",
    "> Identifying declining and on the rise sports\n"
   ]
  },
  {
   "cell_type": "code",
   "execution_count": null,
   "metadata": {
    "id": "ICnZSwuLZysQ"
   },
   "outputs": [],
   "source": [
    "import pandas as pd\n",
    "import numpy as np\n",
    "from scipy.stats import linregress\n",
    "import matplotlib.pyplot as plt"
   ]
  },
  {
   "cell_type": "markdown",
   "metadata": {
    "id": "ZXLqmpA0BtcS"
   },
   "source": [
    "We'll focus on the summer olympics only for this particular EDA. Doing some more basic cleaning on the summer data."
   ]
  },
  {
   "cell_type": "code",
   "execution_count": null,
   "metadata": {
    "colab": {
     "base_uri": "https://localhost:8080/"
    },
    "id": "MxvfsloKcMUl",
    "outputId": "29809b40-acbc-46d8-c463-29172c3e3b72"
   },
   "outputs": [],
   "source": [
    "summer_data = Event_Results[Event_Results['summer'] == 1]\n",
    "\n",
    "summer_data['year'] = pd.to_numeric(summer_data['year'], errors='coerce')\n",
    "summer_data['participants'] = pd.to_numeric(summer_data['participants'], errors='coerce')\n",
    "\n",
    "summer_data.dropna(subset=['year', 'participants'], inplace=True)\n",
    "sport_year_participants = summer_data.groupby(['sport', 'year'])['participants'].sum().reset_index()"
   ]
  },
  {
   "cell_type": "markdown",
   "metadata": {
    "id": "DEPpxHS8B4hr"
   },
   "source": [
    "Here we are trying to identifying the sports with declining trends by calculating the slope of their trends. We are using participants as the metric here to identify trend and estimate popularity."
   ]
  },
  {
   "cell_type": "code",
   "execution_count": null,
   "metadata": {
    "id": "esQjAm-rehWJ"
   },
   "outputs": [],
   "source": [
    "trend_data = []\n",
    "for sport, group in sport_year_participants.groupby('sport'):\n",
    "    if len(group) < 2:\n",
    "        continue\n",
    "    slope, intercept, r_value, p_value, std_err = linregress(group['year'], group['participants'])\n",
    "    trend_data.append({'sport': sport, 'slope': slope, 'p_value': p_value, 'group': group})\n",
    "\n",
    "trend_df = pd.DataFrame(trend_data)"
   ]
  },
  {
   "cell_type": "code",
   "execution_count": null,
   "metadata": {
    "id": "dIBczSY-emvT"
   },
   "outputs": [],
   "source": [
    "declining_sports = trend_df[trend_df['slope'] < 0].sort_values('slope').head(10)"
   ]
  },
  {
   "cell_type": "code",
   "execution_count": null,
   "metadata": {
    "colab": {
     "base_uri": "https://localhost:8080/"
    },
    "id": "C6BE37edeqr7",
    "outputId": "a0f2efce-e45a-4efe-aa46-d3c7c880a461"
   },
   "outputs": [],
   "source": [
    "print(\"\\nTop 5 Sports with Declining Trends:\")\n",
    "print(declining_sports[['sport', 'slope']])"
   ]
  },
  {
   "cell_type": "markdown",
   "metadata": {
    "id": "0lJBT7VKCHmF"
   },
   "source": [
    "Plotting the top declining sports in the olympics."
   ]
  },
  {
   "cell_type": "code",
   "execution_count": null,
   "metadata": {
    "colab": {
     "base_uri": "https://localhost:8080/",
     "height": 718
    },
    "id": "Do6FsuOfesWz",
    "outputId": "7e582218-7fcf-4a56-8438-54b0db58f41d"
   },
   "outputs": [],
   "source": [
    "plt.figure(figsize=(12, 8))\n",
    "for _, row in declining_sports.iterrows():\n",
    "    sport_data = row['group']\n",
    "    plt.plot(sport_data['year'], sport_data['participants'], marker='o', label=row['sport'])\n",
    "\n",
    "plt.title('Top Declining Sports Participation Over the Years')\n",
    "plt.xlabel('Year')\n",
    "plt.ylabel('Number of Participants')\n",
    "plt.legend()\n",
    "plt.grid()\n",
    "plt.show()"
   ]
  },
  {
   "cell_type": "markdown",
   "metadata": {
    "id": "wczsZtNsCSIO"
   },
   "source": [
    "Conclusion :- We see in the past the declining sports got extinct from the Olympics altogether. Now in the recent past we see some sports who's popularity is also declining. This is a major warning for the Olympic committee and for the world. We need to focus on spreading these declining sports so that they stay relevant."
   ]
  },
  {
   "cell_type": "markdown",
   "metadata": {
    "id": "bwIHGiNKLvXv"
   },
   "source": [
    "Doing the same for increasing sports."
   ]
  },
  {
   "cell_type": "code",
   "execution_count": null,
   "metadata": {
    "id": "iWjvaxypLg0b"
   },
   "outputs": [],
   "source": [
    "increasing_sports = trend_df[trend_df['slope'] > 0].sort_values('slope').head(10)"
   ]
  },
  {
   "cell_type": "code",
   "execution_count": null,
   "metadata": {
    "colab": {
     "base_uri": "https://localhost:8080/"
    },
    "id": "LnKDUjtwLkI_",
    "outputId": "1f780ba0-e515-4e3c-cbc1-e3f32d0a658f"
   },
   "outputs": [],
   "source": [
    "print(\"\\nTop 10 Sports with Increasing Trends:\")\n",
    "print(declining_sports[['sport', 'slope']])"
   ]
  },
  {
   "cell_type": "code",
   "execution_count": null,
   "metadata": {
    "colab": {
     "base_uri": "https://localhost:8080/",
     "height": 718
    },
    "id": "Jk8tkJNiLoQt",
    "outputId": "8f3fd02f-b5c5-4359-f034-99dc11917402"
   },
   "outputs": [],
   "source": [
    "plt.figure(figsize=(12, 8))\n",
    "for _, row in increasing_sports.iterrows():\n",
    "    sport_data = row['group']\n",
    "    plt.plot(sport_data['year'], sport_data['participants'], marker='o', label=row['sport'])\n",
    "\n",
    "plt.title('Top Increasing Sports Participation Over the Years')\n",
    "plt.xlabel('Year')\n",
    "plt.ylabel('Number of Participants')\n",
    "plt.legend()\n",
    "plt.grid()\n",
    "plt.show()"
   ]
  },
  {
   "cell_type": "markdown",
   "metadata": {
    "id": "dD7BAUPRLx_b"
   },
   "source": [
    "Conclusion :- We have these sports which are on the rise. This data is very useful for marketing and branding companies. There can be more money in these sports."
   ]
  },
  {
   "cell_type": "markdown",
   "metadata": {
    "id": "nSUhMxCVKkhY"
   },
   "source": [
    "# Exploratory Data Analysis (Sataakshi 2)\n",
    "\n",
    "> Country-wise Comparison of Team vs. Individual Sport Medals Over the Years"
   ]
  },
  {
   "cell_type": "code",
   "execution_count": null,
   "metadata": {
    "colab": {
     "base_uri": "https://localhost:8080/"
    },
    "id": "YT4bzZwVf9D9",
    "outputId": "0221269a-a3ca-4076-a675-7c4a78943e6b"
   },
   "outputs": [],
   "source": [
    "!pip install pandasql\n"
   ]
  },
  {
   "cell_type": "code",
   "execution_count": null,
   "metadata": {
    "id": "onSX9r2oK8Ek"
   },
   "outputs": [],
   "source": [
    "import pandasql as ps"
   ]
  },
  {
   "cell_type": "markdown",
   "metadata": {
    "id": "Lg9dqNZJKjVC"
   },
   "source": [
    "The SQL query extracts the year-wise medal count data for the USA from the Athlete_Events_Details table. It focuses on both individual and team sports, counting only the events where athletes won medals. Here’s what the query does step by step:\n",
    "\n",
    "Columns Selected:\n",
    "\n",
    "year: The specific year of the Olympic Games.\n",
    "country_noc: The country code, filtered for the USA ('usa').\n",
    "isTeamSport: Indicates whether the event was a team sport or an individual sport.\n",
    "\n",
    "medal_count: The count of medals won by USA athletes in that year, for both team and individual sports.\n",
    "Filtering:Excludes rows where the athlete did not win a medal (medal != 'no medal').Ensures that the year column is not null.\n",
    "\n",
    "Grouping: Groups the results by year, country_noc, and isTeamSport, to get the total medal count for each year based on whether it was a team or individual sport.\n",
    "\n",
    "Ordering:The results are ordered by year, country_noc, and isTeamSport to present the data in chronological order, further split into team and individual sport categories.\n",
    "\n",
    "The queries below generates a summary of the various countries medal wins, categorized by year and sport type, allowing analysis of trends in team vs. individual performance over time."
   ]
  },
  {
   "cell_type": "code",
   "execution_count": null,
   "metadata": {
    "colab": {
     "base_uri": "https://localhost:8080/"
    },
    "id": "SgNZ2h0KLARx",
    "outputId": "550bade0-1727-4fea-c306-21bb055d2a64"
   },
   "outputs": [],
   "source": [
    "query_usa = \"\"\"\n",
    "    SELECT\n",
    "    year,\n",
    "    country_noc,\n",
    "    isTeamSport,\n",
    "    COUNT(medal) AS medal_count\n",
    "    FROM Athlete_Events_Details\n",
    "    WHERE medal != 'no medal'\n",
    "    AND year IS NOT NULL\n",
    "    AND country_noc IN ('usa')\n",
    "    GROUP BY year, country_noc, isTeamSport\n",
    "    ORDER BY year, country_noc, isTeamSport;\n",
    "    \"\"\"\n",
    "\n",
    "medals_yearwise_data_usa = ps.sqldf(query_usa, locals())\n",
    "\n",
    "print(medals_yearwise_data_usa)\n"
   ]
  },
  {
   "cell_type": "code",
   "execution_count": null,
   "metadata": {
    "colab": {
     "base_uri": "https://localhost:8080/"
    },
    "id": "mXBwWrkSV9F3",
    "outputId": "a634ed93-b151-49ef-bcca-29455fe1d519"
   },
   "outputs": [],
   "source": [
    "query_ger = \"\"\"\n",
    "    SELECT\n",
    "    year,\n",
    "    country_noc,\n",
    "    isTeamSport,\n",
    "    COUNT(medal) AS medal_count\n",
    "    FROM Athlete_Events_Details\n",
    "    WHERE medal != 'no medal'\n",
    "    AND year IS NOT NULL\n",
    "    AND country_noc IN ('ger')\n",
    "    GROUP BY year, country_noc, isTeamSport\n",
    "    ORDER BY year, country_noc, isTeamSport;\n",
    "    \"\"\"\n",
    "\n",
    "medals_yearwise_data_ger = ps.sqldf(query_ger, locals())\n",
    "\n",
    "print(medals_yearwise_data_ger)\n"
   ]
  },
  {
   "cell_type": "code",
   "execution_count": null,
   "metadata": {
    "colab": {
     "base_uri": "https://localhost:8080/"
    },
    "id": "P-HaX8ikWPUO",
    "outputId": "9e5ff73d-7b36-4689-8d39-68f0b0bea7f8"
   },
   "outputs": [],
   "source": [
    "query_ita = \"\"\"\n",
    "    SELECT\n",
    "    year,\n",
    "    country_noc,\n",
    "    isTeamSport,\n",
    "    COUNT(medal) AS medal_count\n",
    "    FROM Athlete_Events_Details\n",
    "    WHERE medal != 'no medal'\n",
    "    AND year IS NOT NULL\n",
    "    AND country_noc IN ('ita')\n",
    "    GROUP BY year, country_noc, isTeamSport\n",
    "    ORDER BY year, country_noc, isTeamSport;\n",
    "    \"\"\"\n",
    "\n",
    "medals_yearwise_data_ita = ps.sqldf(query_ita, locals())\n",
    "\n",
    "print(medals_yearwise_data_ita)\n"
   ]
  },
  {
   "cell_type": "code",
   "execution_count": null,
   "metadata": {
    "colab": {
     "base_uri": "https://localhost:8080/"
    },
    "id": "4vsRcM-5WZ_t",
    "outputId": "37f791c9-7936-4573-de10-d3c004190123"
   },
   "outputs": [],
   "source": [
    "query_aus = \"\"\"\n",
    "    SELECT\n",
    "    year,\n",
    "    country_noc,\n",
    "    isTeamSport,\n",
    "    COUNT(medal) AS medal_count\n",
    "    FROM Athlete_Events_Details\n",
    "    WHERE medal != 'no medal'\n",
    "    AND year IS NOT NULL\n",
    "    AND country_noc IN ('aus')\n",
    "    GROUP BY year, country_noc, isTeamSport\n",
    "    ORDER BY year, country_noc, isTeamSport;\n",
    "    \"\"\"\n",
    "\n",
    "medals_yearwise_data_aus = ps.sqldf(query_aus, locals())\n",
    "\n",
    "print(medals_yearwise_data_aus)\n"
   ]
  },
  {
   "cell_type": "code",
   "execution_count": null,
   "metadata": {
    "colab": {
     "base_uri": "https://localhost:8080/"
    },
    "id": "jLNcko_TXNY5",
    "outputId": "c3ddb2d6-d9bb-4483-c70f-cccb1b4ea626"
   },
   "outputs": [],
   "source": [
    "query_ind = \"\"\"\n",
    "    SELECT\n",
    "    year,\n",
    "    country_noc,\n",
    "    isTeamSport,\n",
    "    COUNT(medal) AS medal_count\n",
    "    FROM Athlete_Events_Details\n",
    "    WHERE medal != 'no medal'\n",
    "    AND year IS NOT NULL\n",
    "    AND country_noc IN ('ind')\n",
    "    GROUP BY year, country_noc, isTeamSport\n",
    "    ORDER BY year, country_noc, isTeamSport;\n",
    "    \"\"\"\n",
    "\n",
    "medals_yearwise_data_ind = ps.sqldf(query_ind, locals())\n",
    "\n",
    "print(medals_yearwise_data_ind)\n"
   ]
  },
  {
   "cell_type": "code",
   "execution_count": null,
   "metadata": {
    "colab": {
     "base_uri": "https://localhost:8080/",
     "height": 0
    },
    "id": "2jIATricS6a9",
    "outputId": "3faf827a-f5e3-476b-8b70-50891274911e"
   },
   "outputs": [],
   "source": [
    "import seaborn as sns\n",
    "import matplotlib.pyplot as plt\n",
    "\n",
    "colours = {True: 'red', False: 'blue'}\n",
    "\n",
    "plt.figure(figsize=(14, 8))\n",
    "sns.lineplot(\n",
    "    data=medals_yearwise_data_usa,\n",
    "    x='year',\n",
    "    y='medal_count',\n",
    "    hue='isTeamSport',\n",
    "    palette=colours,\n",
    "    markers=True,\n",
    "    dashes=False\n",
    ")\n",
    "\n",
    "plt.title('Year-wise Team vs Individual Sport Medals: USA', fontsize=16)\n",
    "plt.xlabel('Year', fontsize=14)\n",
    "plt.ylabel('Number of Medals', fontsize=14)\n",
    "plt.legend(title='Country (Team vs Individual)', loc='upper left', bbox_to_anchor=(1, 1))\n",
    "plt.xticks(rotation=45)\n",
    "\n",
    "plt.tight_layout()\n",
    "plt.show()\n"
   ]
  },
  {
   "cell_type": "markdown",
   "metadata": {
    "id": "k7-lHK0WLBpv"
   },
   "source": [
    "**Interpretation**: The USA has consistently excelled in team sports, with the medal count for team events always surpassing that of individual sports. At no point in time have individual athletes outperformed the team in terms of total medals. This trend is clearly reflected in the graph, where team sports (in red) consistently show a higher medal count compared to individual sports (in blue) across all years."
   ]
  },
  {
   "cell_type": "code",
   "execution_count": null,
   "metadata": {
    "colab": {
     "base_uri": "https://localhost:8080/",
     "height": 0
    },
    "id": "9ZyP93uCWHV_",
    "outputId": "6a248a58-4a11-47c4-84a1-47b69713ec3d"
   },
   "outputs": [],
   "source": [
    "import seaborn as sns\n",
    "import matplotlib.pyplot as plt\n",
    "\n",
    "colours = {True: 'red', False: 'blue'}\n",
    "\n",
    "plt.figure(figsize=(14, 8))\n",
    "sns.lineplot(\n",
    "    data=medals_yearwise_data_ger,\n",
    "    x='year',\n",
    "    y='medal_count',\n",
    "    hue='isTeamSport',\n",
    "    palette=colours,\n",
    "    markers=True,\n",
    "    dashes=False\n",
    ")\n",
    "\n",
    "plt.title('Year-wise Team vs Individual Sport Medals: GER', fontsize=16)\n",
    "plt.xlabel('Year', fontsize=14)\n",
    "plt.ylabel('Number of Medals', fontsize=14)\n",
    "plt.legend(title='Country (Team vs Individual)', loc='upper left', bbox_to_anchor=(1, 1))\n",
    "plt.xticks(rotation=45)\n",
    "\n",
    "plt.tight_layout()\n",
    "plt.show()\n"
   ]
  },
  {
   "cell_type": "markdown",
   "metadata": {
    "id": "CgC16VRDLt8E"
   },
   "source": [
    "\n",
    "**Interpretation**: Germany has consistently excelled in team sports, with the medal count for team events always surpassing that of individual sports. There has always been a significant gap between the two, indicating that individual athletes have never outperformed the team in terms of total medals. This trend is clearly illustrated in the graph, where team sports (in red) consistently show a higher medal count compared to individual sports (in blue) across all years."
   ]
  },
  {
   "cell_type": "code",
   "execution_count": null,
   "metadata": {
    "colab": {
     "base_uri": "https://localhost:8080/",
     "height": 0
    },
    "id": "Ri63rhFFWrRZ",
    "outputId": "a0a6e1d4-a653-4ca6-e994-889506d26222"
   },
   "outputs": [],
   "source": [
    "import seaborn as sns\n",
    "import matplotlib.pyplot as plt\n",
    "\n",
    "colours = {True: 'red', False: 'blue'}\n",
    "\n",
    "plt.figure(figsize=(14, 8))\n",
    "sns.lineplot(\n",
    "    data=medals_yearwise_data_ita,\n",
    "    x='year',\n",
    "    y='medal_count',\n",
    "    hue='isTeamSport',\n",
    "    palette=colours,\n",
    "    markers=True,\n",
    "    dashes=False\n",
    ")\n",
    "\n",
    "plt.title('Year-wise Team vs Individual Sport Medals: ITA', fontsize=16)\n",
    "plt.xlabel('Year', fontsize=14)\n",
    "plt.ylabel('Number of Medals', fontsize=14)\n",
    "plt.legend(title='Country (Team vs Individual)', loc='upper left', bbox_to_anchor=(1, 1))\n",
    "plt.xticks(rotation=45)\n",
    "\n",
    "plt.tight_layout()\n",
    "plt.show()\n"
   ]
  },
  {
   "cell_type": "code",
   "execution_count": null,
   "metadata": {
    "colab": {
     "base_uri": "https://localhost:8080/",
     "height": 0
    },
    "id": "rIaFMS1NWutL",
    "outputId": "4f47fef5-52db-485c-b8a8-f0a8f6f2d6f3"
   },
   "outputs": [],
   "source": [
    "import seaborn as sns\n",
    "import matplotlib.pyplot as plt\n",
    "\n",
    "colours = {True: 'red', False: 'blue'}\n",
    "\n",
    "plt.figure(figsize=(14, 8))\n",
    "sns.lineplot(\n",
    "    data=medals_yearwise_data_aus,\n",
    "    x='year',\n",
    "    y='medal_count',\n",
    "    hue='isTeamSport',\n",
    "    palette=colours,\n",
    "    markers=True,\n",
    "    dashes=False\n",
    ")\n",
    "\n",
    "plt.title('Year-wise Team vs Individual Sport Medals: AUS', fontsize=16)\n",
    "plt.xlabel('Year', fontsize=14)\n",
    "plt.ylabel('Number of Medals', fontsize=14)\n",
    "plt.legend(title='Country (Team vs Individual)', loc='upper left', bbox_to_anchor=(1, 1))\n",
    "plt.xticks(rotation=45)\n",
    "\n",
    "plt.tight_layout()\n",
    "plt.show()\n"
   ]
  },
  {
   "cell_type": "markdown",
   "metadata": {
    "id": "povMl73-MCH0"
   },
   "source": [
    "\n",
    "**Interpretation**: Except a few years Australia has also always been ahead in team sports. Given the potential, Australia can dedicate their energy towards also increasing the individual medal count"
   ]
  },
  {
   "cell_type": "code",
   "execution_count": null,
   "metadata": {
    "colab": {
     "base_uri": "https://localhost:8080/",
     "height": 0
    },
    "id": "_kae09KVXWsf",
    "outputId": "91bbc306-b4b5-49fe-9d96-d4550232f10a"
   },
   "outputs": [],
   "source": [
    "import seaborn as sns\n",
    "import matplotlib.pyplot as plt\n",
    "\n",
    "colours = {True: 'red', False: 'blue'}\n",
    "\n",
    "plt.figure(figsize=(14, 8))\n",
    "sns.lineplot(\n",
    "    data=medals_yearwise_data_ind,\n",
    "    x='year',\n",
    "    y='medal_count',\n",
    "    hue='isTeamSport',\n",
    "    palette=colours,\n",
    "    markers=True,\n",
    "    dashes=False\n",
    ")\n",
    "\n",
    "plt.title('Year-wise Team vs Individual Sport Medals: IND', fontsize=16)\n",
    "plt.xlabel('Year', fontsize=14)\n",
    "plt.ylabel('Number of Medals', fontsize=14)\n",
    "plt.legend(title='Country (Team vs Individual)', loc='upper left', bbox_to_anchor=(1, 1))\n",
    "plt.xticks(rotation=45)\n",
    "\n",
    "plt.tight_layout()\n",
    "plt.show()\n"
   ]
  },
  {
   "cell_type": "markdown",
   "metadata": {
    "id": "ZCWAcgISMUpA"
   },
   "source": [
    "\n",
    "**Interpretation**: For India there is a significant gap in the team sports and individual spots performance. This graph can motivate the country to reduce this gap and prepare for the forthecoming olympics."
   ]
  },
  {
   "cell_type": "markdown",
   "metadata": {
    "id": "392jhzlkPeLH"
   },
   "source": [
    "# Exploratory Data Analysis (Sataakshi 1)\n",
    "\n",
    "> Sport-wise Trend of Women’s Participation Over the Years"
   ]
  },
  {
   "cell_type": "markdown",
   "metadata": {
    "id": "RJN6ewhPMvE0"
   },
   "source": [
    "In this analysis, we examine the participation of women in various sports across different Olympic years using the Athlete_Events_Details dataset. The SQL query retrieves the count of female athletes participating in each sport for every Olympic year, focusing on events where women were represented.\n"
   ]
  },
  {
   "cell_type": "code",
   "execution_count": null,
   "metadata": {
    "colab": {
     "base_uri": "https://localhost:8080/"
    },
    "id": "SOIUil5aPd2B",
    "outputId": "b0746cd2-3af7-41a8-84bf-369ac2d33c5c"
   },
   "outputs": [],
   "source": [
    "query = \"\"\"\n",
    "    SELECT\n",
    "    sport,\n",
    "    year,\n",
    "    COUNT(athlete_id) AS women_participation_count\n",
    "FROM Athlete_Events_Details\n",
    "WHERE\n",
    "    women = 1\n",
    "    AND year IS NOT NULL\n",
    "GROUP BY sport, year\n",
    "ORDER BY year ASC, women_participation_count ;\n",
    "    \"\"\"\n",
    "\n",
    "women_participation = ps.sqldf(query, locals())\n",
    "\n",
    "print(women_participation)"
   ]
  },
  {
   "cell_type": "markdown",
   "metadata": {
    "id": "qImRfTgBMzKA"
   },
   "source": [
    "The data is filtered to include only instances where women participated, ensuring accurate counts for each sport. The results are grouped by sport and year, providing a clear overview of trends in women’s participation over time.\n",
    "\n",
    "For each selected sport, a line plot visualizes the year-wise participation count of female athletes, allowing for a comparison of trends and growth in women's representation across different sports. This analysis helps to highlight advancements in gender equality in sports and can identify specific sports where women’s participation has significantly increased or decreased over the years."
   ]
  },
  {
   "cell_type": "markdown",
   "metadata": {
    "id": "P50KzGDxM11N"
   },
   "source": [
    "The following visualization focuses on women's participation in wrestling, showcasing how participation has evolved through the years."
   ]
  },
  {
   "cell_type": "code",
   "execution_count": null,
   "metadata": {
    "colab": {
     "base_uri": "https://localhost:8080/",
     "height": 407
    },
    "id": "vd78Mu9CYI8i",
    "outputId": "5b6a01ce-7240-485c-c271-043938b78348"
   },
   "outputs": [],
   "source": [
    "selected_sport = 'wrestling'\n",
    "filtered_sport_data = women_participation[women_participation['sport'] == selected_sport]\n",
    "\n",
    "plt.figure(figsize=(5, 4))\n",
    "sns.lineplot(\n",
    "    data=filtered_sport_data,\n",
    "    x='year',\n",
    "    y='women_participation_count',\n",
    "    marker='o',\n",
    "    dashes=False\n",
    ")\n",
    "\n",
    "plt.title(f'Year-wise Women Participation in {selected_sport}', fontsize=16)\n",
    "plt.xlabel('Year', fontsize=14)\n",
    "plt.ylabel('Women Participation Count', fontsize=14)\n",
    "plt.xticks(rotation=45)\n",
    "\n",
    "plt.tight_layout()\n",
    "plt.show()\n"
   ]
  },
  {
   "cell_type": "markdown",
   "metadata": {
    "id": "VfYvrUc9M7j5"
   },
   "source": [
    "The following visualization focuses on women's participation in alpine skiing, showcasing how participation has evolved through the years."
   ]
  },
  {
   "cell_type": "code",
   "execution_count": null,
   "metadata": {
    "colab": {
     "base_uri": "https://localhost:8080/",
     "height": 607
    },
    "id": "Py358MVRYUGU",
    "outputId": "b78f6e19-efca-42ce-aa8a-020a6e4dc136"
   },
   "outputs": [],
   "source": [
    "selected_sport = 'alpine skiing'\n",
    "filtered_sport_data = women_participation[women_participation['sport'] == selected_sport]\n",
    "\n",
    "plt.figure(figsize=(10, 6))\n",
    "sns.lineplot(\n",
    "    data=filtered_sport_data,\n",
    "    x='year',\n",
    "    y='women_participation_count',\n",
    "    marker='o',\n",
    "    dashes=False\n",
    ")\n",
    "\n",
    "plt.title(f'Year-wise Women Participation in {selected_sport}', fontsize=16)\n",
    "plt.xlabel('Year', fontsize=14)\n",
    "plt.ylabel('Women Participation Count', fontsize=14)\n",
    "plt.xticks(rotation=45)\n",
    "\n",
    "plt.tight_layout()\n",
    "plt.show()\n"
   ]
  },
  {
   "cell_type": "markdown",
   "metadata": {
    "id": "3lPPCwFTM_oi"
   },
   "source": [
    "The following visualization focuses on women's participation in badminton, showcasing how participation has evolved through the years."
   ]
  },
  {
   "cell_type": "code",
   "execution_count": null,
   "metadata": {
    "colab": {
     "base_uri": "https://localhost:8080/",
     "height": 607
    },
    "id": "0kBlhcYeY2Gm",
    "outputId": "895ee209-1f75-480a-d10f-cdd234ef8755"
   },
   "outputs": [],
   "source": [
    "\n",
    "selected_sport = 'badminton'\n",
    "filtered_sport_data = women_participation[women_participation['sport'] == selected_sport]\n",
    "\n",
    "plt.figure(figsize=(10, 6))\n",
    "sns.lineplot(\n",
    "    data=filtered_sport_data,\n",
    "    x='year',\n",
    "    y='women_participation_count',\n",
    "    marker='o',\n",
    "    dashes=False\n",
    ")\n",
    "\n",
    "plt.title(f'Year-wise Women Participation in {selected_sport}', fontsize=16)\n",
    "plt.xlabel('Year', fontsize=14)\n",
    "plt.ylabel('Women Participation Count', fontsize=14)\n",
    "plt.xticks(rotation=45)\n",
    "\n",
    "plt.tight_layout()\n",
    "plt.show()\n"
   ]
  },
  {
   "cell_type": "markdown",
   "metadata": {
    "id": "9Jvo76HUNCsy"
   },
   "source": [
    "The following visualization focuses on women's participation in athletics, showcasing how participation has evolved through the years."
   ]
  },
  {
   "cell_type": "code",
   "execution_count": null,
   "metadata": {
    "colab": {
     "base_uri": "https://localhost:8080/",
     "height": 607
    },
    "id": "3Ph-8r5OYuVD",
    "outputId": "da6fefce-8ce8-444f-936f-f848c365da6b"
   },
   "outputs": [],
   "source": [
    "selected_sport = 'athletics'\n",
    "filtered_sport_data = women_participation[women_participation['sport'] == selected_sport]\n",
    "\n",
    "plt.figure(figsize=(10, 6))\n",
    "sns.lineplot(\n",
    "    data=filtered_sport_data,\n",
    "    x='year',\n",
    "    y='women_participation_count',\n",
    "    marker='o',\n",
    "    dashes=False\n",
    ")\n",
    "\n",
    "plt.title(f'Year-wise Women Participation in {selected_sport}', fontsize=16)\n",
    "plt.xlabel('Year', fontsize=14)\n",
    "plt.ylabel('Women Participation Count', fontsize=14)\n",
    "plt.xticks(rotation=45)\n",
    "\n",
    "plt.tight_layout()\n",
    "plt.show()\n"
   ]
  },
  {
   "cell_type": "markdown",
   "metadata": {
    "id": "7xY-g6KqU2JG"
   },
   "source": [
    "# Exploratory Data Analysis (Rudraksh 1)\n",
    "\n",
    "> Average Age Trend of Athletes over the Olympic years for World, India.\n",
    "> Difference in Average of Age between Male Female Athletes for World, India."
   ]
  },
  {
   "cell_type": "code",
   "execution_count": null,
   "metadata": {
    "colab": {
     "base_uri": "https://localhost:8080/"
    },
    "id": "OI9HEf_1U2JG",
    "outputId": "10798d49-7366-46de-aed9-c3ed3592dbe4"
   },
   "outputs": [],
   "source": [
    "Athletes_Age_Data = Athlete_Events_Details.copy()\n",
    "Athletes_Age_Data = Athletes_Age_Data[Athletes_Age_Data['olympic_type'] == 'summer']\n",
    "Athletes_Age_Data = pd.merge(Athletes_Age_Data, Athlete_Biography, on='athlete_id', how='left')\n",
    "Athletes_Age_Data['sex'] = Athletes_Age_Data.apply(lambda row: 'M' if row['men'] == 1 else 'F', axis=1)\n",
    "Athletes_Age_Data['birth_year'] = Athletes_Age_Data['born'].str.extract(r'(\\d{4})')\n",
    "Athletes_Age_Data['birth_year'] = pd.to_numeric(Athletes_Age_Data['birth_year'], errors='coerce')\n",
    "Athletes_Age_Data['year'] = pd.to_numeric(Athletes_Age_Data['year'], errors='coerce')\n",
    "Athletes_Age_Data['age'] = Athletes_Age_Data['year'] - Athletes_Age_Data['birth_year']\n",
    "Athletes_Age_Data = Athletes_Age_Data[['age', 'country', 'year', 'sex', 'sport', 'isTeamSport']]\n",
    "\n",
    "Athletes_Age_Data_India = Athletes_Age_Data[Athletes_Age_Data['country'] == 'india']\n",
    "\n",
    "latest_10_olympic_years = sorted(Athletes_Age_Data['year'].unique())[-10:]\n",
    "latest_20_olympic_years = sorted(Athletes_Age_Data['year'].unique())[-20:]\n",
    "\n",
    "print(Athletes_Age_Data.head())"
   ]
  },
  {
   "cell_type": "code",
   "execution_count": null,
   "metadata": {
    "colab": {
     "base_uri": "https://localhost:8080/",
     "height": 0
    },
    "id": "r2ByE5baU2JG",
    "outputId": "18ba4cd8-fb74-4b61-85c2-4a36e7cfe7e7"
   },
   "outputs": [],
   "source": [
    "import matplotlib.pyplot as plt\n",
    "\n",
    "age_stats_by_year = Athletes_Age_Data[Athletes_Age_Data['year'].isin(latest_20_olympic_years)].groupby('year')['age'].agg(['min', 'mean', 'max'])\n",
    "\n",
    "plt.figure(figsize=(12, 6))\n",
    "\n",
    "plt.plot(age_stats_by_year.index, age_stats_by_year['min'], label='Min Age', marker='o')\n",
    "plt.plot(age_stats_by_year.index, age_stats_by_year['mean'], label='Mean Age', marker='o')\n",
    "plt.plot(age_stats_by_year.index, age_stats_by_year['max'], label='Max Age', marker='o')\n",
    "\n",
    "plt.title('Age Statistics for Latest 20 Olympic Years')\n",
    "plt.xlabel('Year')\n",
    "plt.ylabel('Age')\n",
    "plt.legend()\n",
    "plt.grid(True)\n",
    "plt.show()"
   ]
  },
  {
   "cell_type": "code",
   "execution_count": null,
   "metadata": {
    "colab": {
     "base_uri": "https://localhost:8080/",
     "height": 0
    },
    "id": "Jeqm3yGiU2JG",
    "outputId": "fcf3eb8e-62c7-424b-d673-42d147a9b24f"
   },
   "outputs": [],
   "source": [
    "import matplotlib.pyplot as plt\n",
    "\n",
    "age_stats_by_year_india = Athletes_Age_Data_India[Athletes_Age_Data_India['year'].isin(latest_20_olympic_years)].groupby('year')['age'].agg(['min', 'mean', 'max'])\n",
    "\n",
    "plt.figure(figsize=(12, 6))\n",
    "plt.plot(age_stats_by_year_india.index, age_stats_by_year_india['min'], label='Min Age', marker='o')\n",
    "plt.plot(age_stats_by_year_india.index, age_stats_by_year_india['mean'], label='Avg Age', marker='o')\n",
    "plt.plot(age_stats_by_year_india.index, age_stats_by_year_india['max'], label='Max Age', marker='o')\n",
    "\n",
    "plt.title('Age Statistics for Latest 10 Olympic Years India')\n",
    "plt.xlabel('Year')\n",
    "plt.ylabel('Age')\n",
    "plt.legend()\n",
    "plt.grid(True)\n",
    "plt.show()"
   ]
  },
  {
   "cell_type": "code",
   "execution_count": null,
   "metadata": {
    "colab": {
     "base_uri": "https://localhost:8080/",
     "height": 0
    },
    "id": "J92GV2kxU2JG",
    "outputId": "269d12df-e51b-4c63-c240-b1b06ab56fc1"
   },
   "outputs": [],
   "source": [
    "age_stats_by_year_sex = Athletes_Age_Data[Athletes_Age_Data['year'].isin(latest_20_olympic_years)].groupby(['year', 'sex'])['age'].agg(['mean']).reset_index()\n",
    "\n",
    "plt.figure(figsize=(12, 6))\n",
    "sns.lineplot(data=age_stats_by_year_sex, x='year', y='mean', hue='sex', marker='o')\n",
    "plt.title('Average Age of Athletes (Last 20 Olympic Years)')\n",
    "plt.xlabel('Year')\n",
    "plt.ylabel('Average Age')\n",
    "plt.grid(True)\n",
    "plt.legend(title='Sex')\n",
    "plt.show()"
   ]
  },
  {
   "cell_type": "code",
   "execution_count": null,
   "metadata": {
    "colab": {
     "base_uri": "https://localhost:8080/",
     "height": 0
    },
    "id": "5n1ILGgdU2JG",
    "outputId": "c8daf0ea-3cd6-4cac-c987-fc3fd917d2dc"
   },
   "outputs": [],
   "source": [
    "age_stats_by_year_sex_india = Athletes_Age_Data_India[Athletes_Age_Data_India['year'].isin(latest_20_olympic_years)].groupby(['year', 'sex'])['age'].agg(['mean']).reset_index()\n",
    "\n",
    "plt.figure(figsize=(12, 6))\n",
    "sns.lineplot(data=age_stats_by_year_sex_india, x='year', y='mean', hue='sex', marker='o')\n",
    "plt.title('Average Age of Athletes (Last 20 Olympic Years) India')\n",
    "plt.xlabel('Year')\n",
    "plt.ylabel('Average Age')\n",
    "plt.grid(True)\n",
    "plt.legend(title='Sex')\n",
    "plt.show()"
   ]
  },
  {
   "cell_type": "markdown",
   "metadata": {
    "id": "nQ42B1HfU2JG"
   },
   "source": [
    "# Exploratory Data Analysis (Rudraksh 2)\n",
    "\n",
    "> Find Top 5 Sports have maximum age gap for last 5 Olympic years.\n",
    "> Find Top 5 Sports have minimum age gap for last 5 Olympic years."
   ]
  },
  {
   "cell_type": "markdown",
   "metadata": {
    "id": "_PgtHtYjU2JG"
   },
   "source": []
  },
  {
   "cell_type": "code",
   "execution_count": null,
   "metadata": {
    "id": "tfbEfBBSU2JG"
   },
   "outputs": [],
   "source": [
    "import matplotlib.pyplot as plt\n",
    "last_5_olympic_years = sorted(Athletes_Age_Data['year'].unique())[-5:]\n",
    "sports_age_gap = Athletes_Age_Data[Athletes_Age_Data['year'].isin(last_5_olympic_years)].groupby(['year', 'sport'])['age'].agg(['min', 'max'])\n",
    "sports_age_gap['age_gap'] = sports_age_gap['max'] - sports_age_gap['min']\n",
    "sports_age_gap = sports_age_gap.reset_index()\n",
    "sports_age_gap = sports_age_gap.sort_values(['year', 'age_gap'], ascending=[True, False]).groupby('year')"
   ]
  },
  {
   "cell_type": "code",
   "execution_count": null,
   "metadata": {
    "colab": {
     "base_uri": "https://localhost:8080/",
     "height": 0
    },
    "id": "0sKx2aoMU2JG",
    "outputId": "f6c98e3d-a1b6-4dd1-adb1-d90e71008d4b"
   },
   "outputs": [],
   "source": [
    "top_5_sports_age_gap = sports_age_gap.head(5)\n",
    "\n",
    "plt.figure(figsize=(15, 10))\n",
    "\n",
    "for year in last_5_olympic_years:\n",
    "  plt.subplot(2, 3, last_5_olympic_years.index(year) + 1)\n",
    "  current_year_data = top_5_sports_age_gap[top_5_sports_age_gap['year'] == year]\n",
    "  plt.bar(current_year_data['sport'], current_year_data['age_gap'])\n",
    "  plt.title(f\"Top 5 Sports with Maximum Age Gap in {year}\")\n",
    "  plt.xlabel(\"Sport\")\n",
    "  plt.ylabel(\"Age Gap\")\n",
    "  plt.xticks(rotation=90)\n",
    "plt.tight_layout()\n",
    "plt.show()"
   ]
  },
  {
   "cell_type": "code",
   "execution_count": null,
   "metadata": {
    "colab": {
     "base_uri": "https://localhost:8080/",
     "height": 0
    },
    "id": "qHQQqWuvU2JG",
    "outputId": "07612f63-18f3-421e-c98c-f715497f3a5f"
   },
   "outputs": [],
   "source": [
    "bottom_5_sports_age_gap = sports_age_gap.tail(5)\n",
    "\n",
    "plt.figure(figsize=(15, 10))\n",
    "\n",
    "for year in last_5_olympic_years:\n",
    "  plt.subplot(2, 3, last_5_olympic_years.index(year) + 1)\n",
    "  current_year_data = bottom_5_sports_age_gap[bottom_5_sports_age_gap['year'] == year]\n",
    "  plt.bar(current_year_data['sport'], current_year_data['age_gap'])\n",
    "  plt.title(f\"Top 5 Sports with Minimum Age Gap in {year}\")\n",
    "  plt.xlabel(\"Sport\")\n",
    "  plt.ylabel(\"Age Gap\")\n",
    "  plt.xticks(rotation=90)\n",
    "plt.tight_layout()\n",
    "plt.show()"
   ]
  }
 ],
 "metadata": {
  "colab": {
   "collapsed_sections": [
    "fwnrhSRM211S",
    "IlEXETzLVAc_",
    "risHmFC58SZE",
    "N17nxuTX6BNB",
    "wlypwUaxD2QE",
    "KlAAlFQ88VsB",
    "-L8xfK1yD_4l",
    "LtuwrryjZuF-",
    "nSUhMxCVKkhY",
    "392jhzlkPeLH"
   ],
   "provenance": []
  },
  "kernelspec": {
   "display_name": "Python 3",
   "name": "python3"
  },
  "language_info": {
   "name": "python",
   "version": "3.11.8"
  }
 },
 "nbformat": 4,
 "nbformat_minor": 0
}
